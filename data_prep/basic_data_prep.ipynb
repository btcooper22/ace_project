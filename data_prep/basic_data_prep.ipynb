{
 "cells": [
  {
   "cell_type": "code",
   "execution_count": 1,
   "metadata": {
    "collapsed": true
   },
   "outputs": [],
   "source": [
    "import pandas as pd\n",
    "import numpy as np"
   ]
  },
  {
   "cell_type": "code",
   "execution_count": 2,
   "outputs": [],
   "source": [
    "ace_data = pd.read_csv(\"../data/ace_data_orig.csv\")\n",
    "\n",
    "# replace \"None\" values with nan\n",
    "ace_data.replace(\"None\", np.nan, inplace=True)"
   ],
   "metadata": {
    "collapsed": false,
    "pycharm": {
     "name": "#%%\n"
    }
   }
  },
  {
   "cell_type": "code",
   "execution_count": 3,
   "outputs": [
    {
     "name": "stdout",
     "output_type": "stream",
     "text": [
      "<class 'pandas.core.frame.DataFrame'>\n",
      "RangeIndex: 499 entries, 0 to 498\n",
      "Data columns (total 18 columns):\n",
      " #   Column            Non-Null Count  Dtype \n",
      "---  ------            --------------  ----- \n",
      " 0   hospital_reqd     499 non-null    object\n",
      " 1   referral_from     498 non-null    object\n",
      " 2   age               499 non-null    int64 \n",
      " 3   address           499 non-null    object\n",
      " 4   ethnicity         497 non-null    object\n",
      " 5   gender            499 non-null    object\n",
      " 6   allergies         499 non-null    object\n",
      " 7   referral_date     499 non-null    object\n",
      " 8   referral_time     499 non-null    object\n",
      " 9   illness_severity  497 non-null    object\n",
      " 10  activity_level    496 non-null    object\n",
      " 11  gut_feeling       494 non-null    object\n",
      " 12  ox_sat            489 non-null    object\n",
      " 13  resp_rate         488 non-null    object\n",
      " 14  heart_rate        490 non-null    object\n",
      " 15  temp              438 non-null    object\n",
      " 16  sepsis            499 non-null    object\n",
      " 17  safeguarding      499 non-null    object\n",
      "dtypes: int64(1), object(17)\n",
      "memory usage: 70.3+ KB\n"
     ]
    }
   ],
   "source": [
    "ace_data.info()"
   ],
   "metadata": {
    "collapsed": false,
    "pycharm": {
     "name": "#%%\n"
    }
   }
  },
  {
   "cell_type": "code",
   "execution_count": 4,
   "outputs": [
    {
     "data": {
      "text/plain": "  hospital_reqd referral_from  age address  ethnicity gender allergies  \\\n0             N          CCDA    8   BD07      Indian      F       NKA   \n1             N           A&E   11   BD03   Pakistani      F       NKA   \n2             N          CCDA    3   BD04      Slovak      F      NKDA   \n3             N            GP    3   BD06     British      M      NKDA   \n4             N            GP    3   BD09   Pakistani      M       NKA   \n\n  referral_date referral_time illness_severity activity_level  gut_feeling  \\\n0        Winter       Morning         Moderate          usual  low concern   \n1        Winter       Morning             Mild          lower  low concern   \n2        Winter     Afternoon             Mild          usual         well   \n3        Winter     Afternoon             Mild          usual  low concern   \n4        Winter     Afternoon             Mild          usual         well   \n\n  ox_sat resp_rate heart_rate  temp      sepsis safeguarding  \n0     97        20        118  36.5  None noted            N  \n1     96        20        109    37  None noted            N  \n2     96        28        140    37  None noted            N  \n3     98        28        104  36.8  None noted            N  \n4     97       NaN        NaN   NaN  None noted            N  ",
      "text/html": "<div>\n<style scoped>\n    .dataframe tbody tr th:only-of-type {\n        vertical-align: middle;\n    }\n\n    .dataframe tbody tr th {\n        vertical-align: top;\n    }\n\n    .dataframe thead th {\n        text-align: right;\n    }\n</style>\n<table border=\"1\" class=\"dataframe\">\n  <thead>\n    <tr style=\"text-align: right;\">\n      <th></th>\n      <th>hospital_reqd</th>\n      <th>referral_from</th>\n      <th>age</th>\n      <th>address</th>\n      <th>ethnicity</th>\n      <th>gender</th>\n      <th>allergies</th>\n      <th>referral_date</th>\n      <th>referral_time</th>\n      <th>illness_severity</th>\n      <th>activity_level</th>\n      <th>gut_feeling</th>\n      <th>ox_sat</th>\n      <th>resp_rate</th>\n      <th>heart_rate</th>\n      <th>temp</th>\n      <th>sepsis</th>\n      <th>safeguarding</th>\n    </tr>\n  </thead>\n  <tbody>\n    <tr>\n      <th>0</th>\n      <td>N</td>\n      <td>CCDA</td>\n      <td>8</td>\n      <td>BD07</td>\n      <td>Indian</td>\n      <td>F</td>\n      <td>NKA</td>\n      <td>Winter</td>\n      <td>Morning</td>\n      <td>Moderate</td>\n      <td>usual</td>\n      <td>low concern</td>\n      <td>97</td>\n      <td>20</td>\n      <td>118</td>\n      <td>36.5</td>\n      <td>None noted</td>\n      <td>N</td>\n    </tr>\n    <tr>\n      <th>1</th>\n      <td>N</td>\n      <td>A&amp;E</td>\n      <td>11</td>\n      <td>BD03</td>\n      <td>Pakistani</td>\n      <td>F</td>\n      <td>NKA</td>\n      <td>Winter</td>\n      <td>Morning</td>\n      <td>Mild</td>\n      <td>lower</td>\n      <td>low concern</td>\n      <td>96</td>\n      <td>20</td>\n      <td>109</td>\n      <td>37</td>\n      <td>None noted</td>\n      <td>N</td>\n    </tr>\n    <tr>\n      <th>2</th>\n      <td>N</td>\n      <td>CCDA</td>\n      <td>3</td>\n      <td>BD04</td>\n      <td>Slovak</td>\n      <td>F</td>\n      <td>NKDA</td>\n      <td>Winter</td>\n      <td>Afternoon</td>\n      <td>Mild</td>\n      <td>usual</td>\n      <td>well</td>\n      <td>96</td>\n      <td>28</td>\n      <td>140</td>\n      <td>37</td>\n      <td>None noted</td>\n      <td>N</td>\n    </tr>\n    <tr>\n      <th>3</th>\n      <td>N</td>\n      <td>GP</td>\n      <td>3</td>\n      <td>BD06</td>\n      <td>British</td>\n      <td>M</td>\n      <td>NKDA</td>\n      <td>Winter</td>\n      <td>Afternoon</td>\n      <td>Mild</td>\n      <td>usual</td>\n      <td>low concern</td>\n      <td>98</td>\n      <td>28</td>\n      <td>104</td>\n      <td>36.8</td>\n      <td>None noted</td>\n      <td>N</td>\n    </tr>\n    <tr>\n      <th>4</th>\n      <td>N</td>\n      <td>GP</td>\n      <td>3</td>\n      <td>BD09</td>\n      <td>Pakistani</td>\n      <td>M</td>\n      <td>NKA</td>\n      <td>Winter</td>\n      <td>Afternoon</td>\n      <td>Mild</td>\n      <td>usual</td>\n      <td>well</td>\n      <td>97</td>\n      <td>NaN</td>\n      <td>NaN</td>\n      <td>NaN</td>\n      <td>None noted</td>\n      <td>N</td>\n    </tr>\n  </tbody>\n</table>\n</div>"
     },
     "execution_count": 4,
     "metadata": {},
     "output_type": "execute_result"
    }
   ],
   "source": [
    "pd.set_option(\"display.max_columns\", None)\n",
    "ace_data.head()"
   ],
   "metadata": {
    "collapsed": false,
    "pycharm": {
     "name": "#%%\n"
    }
   }
  },
  {
   "cell_type": "code",
   "execution_count": 5,
   "outputs": [],
   "source": [
    "# clean and convert cat features to categorical datatype\n",
    "# (other than allergies - treated separately)\n",
    "\n",
    "cat_features = ['referral_from', 'address', 'ethnicity', 'gender',\n",
    "                'referral_date', 'referral_time', 'illness_severity',\n",
    "                'activity_level', 'gut_feeling', 'sepsis', 'safeguarding']\n",
    "\n",
    "for feature in cat_features:\n",
    "    ace_data[feature] = (ace_data[feature].str.strip()\n",
    "                                          .astype(\"category\"))"
   ],
   "metadata": {
    "collapsed": false,
    "pycharm": {
     "name": "#%%\n"
    }
   }
  },
  {
   "cell_type": "code",
   "execution_count": 6,
   "outputs": [],
   "source": [
    "# refactor allergy feature\n",
    "\n",
    "for allergy in [\"Food\", \"Drug\", \"Other\"]:\n",
    "    allergy_name = allergy.lower() + \"_allergy\"\n",
    "    ace_data[allergy_name] = ace_data.allergies.apply(\n",
    "        lambda x: 'Y' if allergy in x else 'N'\n",
    "    ).astype(\"category\")\n",
    "\n",
    "# drop original allergy feature as no longer required\n",
    "ace_data.drop(\"allergies\", axis=1, inplace=True)"
   ],
   "metadata": {
    "collapsed": false,
    "pycharm": {
     "name": "#%%\n"
    }
   }
  },
  {
   "cell_type": "code",
   "execution_count": 7,
   "outputs": [],
   "source": [
    "# convert numerical features from object to float (did contain \"none\" values)\n",
    "\n",
    "float_features = [\"ox_sat\", \"resp_rate\", \"heart_rate\", \"temp\"]\n",
    "for feature in float_features:\n",
    "    ace_data[feature] = ace_data[feature].astype(\"float\")"
   ],
   "metadata": {
    "collapsed": false,
    "pycharm": {
     "name": "#%%\n"
    }
   }
  },
  {
   "cell_type": "code",
   "execution_count": 8,
   "outputs": [],
   "source": [
    "# set hospital_reqd to 1/0 for data analysis\n",
    "\n",
    "ace_data[\"hospital_reqd\"] = (ace_data.hospital_reqd == \"Y\").astype(\"int\")"
   ],
   "metadata": {
    "collapsed": false,
    "pycharm": {
     "name": "#%%\n"
    }
   }
  },
  {
   "cell_type": "code",
   "execution_count": 9,
   "outputs": [],
   "source": [
    "# new ethnicity features\n",
    "\n",
    "# set reported ethnicity to other if not British / Pakistani\n",
    "ace_data[\"simple_ethnicity\"] = ace_data.ethnicity.apply(\n",
    "    lambda x: x if x in [\"Pakistani\", \"British\"] else \"other\"\n",
    ").replace(np.nan, \"other\")\n",
    "\n",
    "ace_data[\"simple_ethnicity\"] = ace_data.simple_ethnicity.astype(\"category\")\n",
    "\n",
    "# Group ethnicities into European / Asian / Other\n",
    "asian = [\"Indian\", \"Mixed Asian\", \"Pakistani\", \"white Asain\", \"British Asian\",\n",
    "         \"Asian\", \"Sri Lankan\", \"Other Asian background\", \"Bangladeshi\"]\n",
    "\n",
    "european = [\"Slovak\", \"British\", \"Other white background\", \"Czech Republic\",\n",
    "            \"White Europeon\", \"White British\", \"CommonWealth Russian\",\n",
    "            \"Other European\", \"Mixed White\"]\n",
    "\n",
    "ace_data[\"group_ethnicity\"] = \"other\"\n",
    "ace_data.loc[ace_data.ethnicity.isin(european), \"group_ethnicity\"] = \"european\"\n",
    "ace_data.loc[ace_data.ethnicity.isin(asian), \"group_ethnicity\"] = \"asian\"\n",
    "\n",
    "ace_data[\"group_ethnicity\"] = ace_data.group_ethnicity.astype(\"category\")\n",
    "\n",
    "ace_data.drop(\"ethnicity\", axis=1, inplace=True)"
   ],
   "metadata": {
    "collapsed": false,
    "pycharm": {
     "name": "#%%\n"
    }
   }
  },
  {
   "cell_type": "code",
   "execution_count": 10,
   "outputs": [
    {
     "name": "stdout",
     "output_type": "stream",
     "text": [
      "<class 'pandas.core.frame.DataFrame'>\n",
      "RangeIndex: 499 entries, 0 to 498\n",
      "Data columns (total 21 columns):\n",
      " #   Column            Non-Null Count  Dtype   \n",
      "---  ------            --------------  -----   \n",
      " 0   hospital_reqd     499 non-null    int64   \n",
      " 1   referral_from     498 non-null    category\n",
      " 2   age               499 non-null    int64   \n",
      " 3   address           499 non-null    category\n",
      " 4   gender            499 non-null    category\n",
      " 5   referral_date     499 non-null    category\n",
      " 6   referral_time     499 non-null    category\n",
      " 7   illness_severity  497 non-null    category\n",
      " 8   activity_level    496 non-null    category\n",
      " 9   gut_feeling       494 non-null    category\n",
      " 10  ox_sat            489 non-null    float64 \n",
      " 11  resp_rate         488 non-null    float64 \n",
      " 12  heart_rate        490 non-null    float64 \n",
      " 13  temp              438 non-null    float64 \n",
      " 14  sepsis            499 non-null    category\n",
      " 15  safeguarding      499 non-null    category\n",
      " 16  food_allergy      499 non-null    category\n",
      " 17  drug_allergy      499 non-null    category\n",
      " 18  other_allergy     499 non-null    category\n",
      " 19  simple_ethnicity  499 non-null    category\n",
      " 20  group_ethnicity   499 non-null    category\n",
      "dtypes: category(15), float64(4), int64(2)\n",
      "memory usage: 33.1 KB\n"
     ]
    }
   ],
   "source": [
    "ace_data.info()"
   ],
   "metadata": {
    "collapsed": false,
    "pycharm": {
     "name": "#%%\n"
    }
   }
  },
  {
   "cell_type": "code",
   "execution_count": 11,
   "outputs": [],
   "source": [
    "# ox_sat_low feature: < 94 = low\n",
    "ace_data[\"ox_sat_low\"] = ace_data.ox_sat.apply(\n",
    "    lambda x: \"Y\" if x < 94 else \"N\"\n",
    ").astype(\"category\")"
   ],
   "metadata": {
    "collapsed": false,
    "pycharm": {
     "name": "#%%\n"
    }
   }
  },
  {
   "cell_type": "code",
   "execution_count": 12,
   "outputs": [],
   "source": [
    "# age_range feature: \"pre_school\" = (2-5), \"primary\" = (5-12), \"secondary\" (12+)\n",
    "\n",
    "ace_data[\"age_range\"] = \"pre_school\"\n",
    "\n",
    "primary = (ace_data.age >= 5) & (ace_data.age < 12)\n",
    "ace_data.loc[primary, \"age_range\"] = \"primary\"\n",
    "\n",
    "secondary = ace_data.age >= 12\n",
    "ace_data.loc[secondary, \"age_range\"] = \"secondary\"\n",
    "\n",
    "ace_data[\"age_range\"] = ace_data.age_range.astype(\"category\")"
   ],
   "metadata": {
    "collapsed": false,
    "pycharm": {
     "name": "#%%\n"
    }
   }
  },
  {
   "cell_type": "code",
   "execution_count": 13,
   "outputs": [],
   "source": [
    "def set_low_norm_high(feature, feature_range, age_range, new_feature_name):\n",
    "\n",
    "    if new_feature_name not in ace_data.columns:\n",
    "        ace_data[new_feature_name] = \"normal\"\n",
    "\n",
    "    age_mask = ((ace_data.age >= age_range[0]) &\n",
    "                (ace_data.age < age_range[1]))\n",
    "    low_mask = age_mask & (ace_data[feature] < feature_range[0])\n",
    "    high_mask = age_mask & (ace_data[feature] > feature_range[1])\n",
    "\n",
    "    ace_data.loc[low_mask, new_feature_name] = \"low\"\n",
    "    ace_data.loc[high_mask, new_feature_name] = \"high\""
   ],
   "metadata": {
    "collapsed": false,
    "pycharm": {
     "name": "#%%\n"
    }
   }
  },
  {
   "cell_type": "code",
   "execution_count": 14,
   "outputs": [],
   "source": [
    "# low / high / normal features according to ace and apls criteria\n",
    "\n",
    "ace_resp_rate_feature = {\n",
    "    \"feature\": \"resp_rate\",\n",
    "    \"age_ranges\": [(0,5),(5,12),(12,18)],\n",
    "    \"feature_ranges\": [(25,30),(20,25),(15,20)],\n",
    "    \"new_feature_name\":\"ace_resp_rate_cat\"\n",
    "}\n",
    "\n",
    "ace_heart_rate_feature = {\n",
    "    \"feature\": \"heart_rate\",\n",
    "    \"age_ranges\": [(0,5),(5,12),(12,18)],\n",
    "    \"feature_ranges\": [(95,140),(80,120),(60,100)],\n",
    "    \"new_feature_name\":\"ace_heart_rate_cat\"\n",
    "}\n",
    "\n",
    "apls_resp_rate_feature = {\n",
    "    \"feature\": \"resp_rate\",\n",
    "    \"age_ranges\": [(0,2), (2,8), (8,12), (12,18)],\n",
    "    \"feature_ranges\": [(20,40), (20,30), (15,25), (12,24)],\n",
    "    \"new_feature_name\": \"apls_resp_rate_cat\"\n",
    "}\n",
    "\n",
    "apls_heart_rate_feature = {\n",
    "    \"feature\": \"heart_rate\",\n",
    "    \"age_ranges\": [(0,2), (2,3), (3,4), (4,6), (6,8),\n",
    "                  (8,12), (12,14), (14,18)],\n",
    "    \"feature_ranges\": [(100,160), (100,150), (90,140), (80,135), (80,130),\n",
    "                      (70,120),(65,115),(60,110)],\n",
    "    \"new_feature_name\": \"apls_heart_rate_cat\"\n",
    "}\n",
    "\n",
    "high_low_features = [\n",
    "    ace_resp_rate_feature,\n",
    "    ace_heart_rate_feature,\n",
    "    apls_resp_rate_feature,\n",
    "    apls_heart_rate_feature\n",
    "]\n",
    "\n",
    "for hl_feature in high_low_features:\n",
    "\n",
    "    feature = hl_feature[\"feature\"]\n",
    "    age_ranges = hl_feature[\"age_ranges\"]\n",
    "    feature_ranges = hl_feature[\"feature_ranges\"]\n",
    "    new_feature_name = hl_feature[\"new_feature_name\"]\n",
    "\n",
    "    for age_range, feature_range in zip(age_ranges, feature_ranges):\n",
    "        set_low_norm_high(feature=feature,\n",
    "                          feature_range=feature_range,\n",
    "                          age_range=age_range,\n",
    "                          new_feature_name=new_feature_name)\n",
    "\n",
    "    ace_data[new_feature_name] = ace_data[new_feature_name].astype(\"category\")"
   ],
   "metadata": {
    "collapsed": false,
    "pycharm": {
     "name": "#%%\n"
    }
   }
  },
  {
   "cell_type": "code",
   "execution_count": 15,
   "outputs": [],
   "source": [
    "ace_data[\"meets_ace_criteria\"] = \"N\"\n",
    "\n",
    "meets_ace_criteria = ((ace_data.ox_sat_low == \"N\") &\n",
    "                      (ace_data.ace_heart_rate_cat == \"normal\") &\n",
    "                      (ace_data.ace_resp_rate_cat == \"normal\") &\n",
    "                      (ace_data.gut_feeling != \"unwell\") &\n",
    "                      (ace_data.illness_severity != \"Moderate\"))\n",
    "\n",
    "ace_data.loc[meets_ace_criteria, \"meets_ace_criteria\"] = \"Y\"\n",
    "ace_data[\"meets_ace_criteria\"] = ace_data.meets_ace_criteria.astype(\"category\")"
   ],
   "metadata": {
    "collapsed": false,
    "pycharm": {
     "name": "#%%\n"
    }
   }
  },
  {
   "cell_type": "code",
   "execution_count": 16,
   "outputs": [],
   "source": [
    "# pickle data\n",
    "ace_data.to_pickle(\"../data/ace_data_extra_feats.pkl\")\n",
    "ace_data.to_csv(\"../data/ace_data_extra_feats.csv\")"
   ],
   "metadata": {
    "collapsed": false,
    "pycharm": {
     "name": "#%%\n"
    }
   }
  },
  {
   "cell_type": "code",
   "execution_count": 17,
   "outputs": [
    {
     "name": "stdout",
     "output_type": "stream",
     "text": [
      "<class 'pandas.core.frame.DataFrame'>\n",
      "RangeIndex: 499 entries, 0 to 498\n",
      "Data columns (total 28 columns):\n",
      " #   Column               Non-Null Count  Dtype   \n",
      "---  ------               --------------  -----   \n",
      " 0   hospital_reqd        499 non-null    int64   \n",
      " 1   referral_from        498 non-null    category\n",
      " 2   age                  499 non-null    int64   \n",
      " 3   address              499 non-null    category\n",
      " 4   gender               499 non-null    category\n",
      " 5   referral_date        499 non-null    category\n",
      " 6   referral_time        499 non-null    category\n",
      " 7   illness_severity     497 non-null    category\n",
      " 8   activity_level       496 non-null    category\n",
      " 9   gut_feeling          494 non-null    category\n",
      " 10  ox_sat               489 non-null    float64 \n",
      " 11  resp_rate            488 non-null    float64 \n",
      " 12  heart_rate           490 non-null    float64 \n",
      " 13  temp                 438 non-null    float64 \n",
      " 14  sepsis               499 non-null    category\n",
      " 15  safeguarding         499 non-null    category\n",
      " 16  food_allergy         499 non-null    category\n",
      " 17  drug_allergy         499 non-null    category\n",
      " 18  other_allergy        499 non-null    category\n",
      " 19  simple_ethnicity     499 non-null    category\n",
      " 20  group_ethnicity      499 non-null    category\n",
      " 21  ox_sat_low           499 non-null    category\n",
      " 22  age_range            499 non-null    category\n",
      " 23  ace_resp_rate_cat    499 non-null    category\n",
      " 24  ace_heart_rate_cat   499 non-null    category\n",
      " 25  apls_resp_rate_cat   499 non-null    category\n",
      " 26  apls_heart_rate_cat  499 non-null    category\n",
      " 27  meets_ace_criteria   499 non-null    category\n",
      "dtypes: category(22), float64(4), int64(2)\n",
      "memory usage: 37.3 KB\n"
     ]
    }
   ],
   "source": [
    "ace_data.info()"
   ],
   "metadata": {
    "collapsed": false,
    "pycharm": {
     "name": "#%%\n"
    }
   }
  },
  {
   "cell_type": "code",
   "execution_count": 18,
   "outputs": [
    {
     "data": {
      "text/plain": "     hospital_reqd referral_from  age address gender referral_date  \\\n329              0           A&E    6    BD18      M        Summer   \n385              1            GP    4    BD17      F        Autumn   \n334              0            ED    7    BD03      F        Summer   \n102              0           A&E    5    BD05      M        Spring   \n291              0          CCDA    3    BD09      M        Winter   \n151              1           A&E    3    BD13      M        Summer   \n321              0           A&E    2    BD06      M        Spring   \n435              0            GP    5    BD09      F        Autumn   \n389              0            GP    5    BD09      M        Autumn   \n97               0            GP   12    BD07      F        Spring   \n\n    referral_time illness_severity activity_level  gut_feeling  ox_sat  \\\n329       Morning             Mild          usual         well    96.0   \n385     Afternoon             Mild          usual         well    95.0   \n334       Morning             Mild          usual         well    95.0   \n102       Morning             Mild          usual         well    96.0   \n291     Afternoon             Mild          usual         well    94.0   \n151       Evening             Mild          usual          NaN    97.0   \n321       Morning             Mild          usual         well    95.0   \n435       Morning             Mild          lower  low concern    97.0   \n389     Afternoon             Mild          usual         well    96.0   \n97        Morning             Mild          lower         well    98.0   \n\n     resp_rate  heart_rate  temp      sepsis safeguarding food_allergy  \\\n329       26.0       112.0  36.6  None noted            N            N   \n385       36.0       132.0  36.0  None noted            N            N   \n334       24.0       125.0  38.3  None noted            N            N   \n102       35.0       142.0  36.8  None noted            N            N   \n291       31.0       112.0  36.3  None noted            N            N   \n151       24.0       106.0  36.9  None noted            N            Y   \n321       31.0       142.0   NaN  None noted            N            N   \n435       28.0       132.0  36.7  None noted            Y            Y   \n389       24.0       120.0  36.0  None noted            N            N   \n97        20.0        90.0  36.7  None noted            N            N   \n\n    drug_allergy other_allergy simple_ethnicity group_ethnicity ox_sat_low  \\\n329            N             N        Pakistani           asian          N   \n385            N             N          British        european          N   \n334            N             N            other        european          N   \n102            N             N          British        european          N   \n291            Y             N        Pakistani           asian          N   \n151            N             N            other        european          N   \n321            N             N          British        european          N   \n435            N             N        Pakistani           asian          N   \n389            N             N        Pakistani           asian          N   \n97             N             N        Pakistani           asian          N   \n\n      age_range ace_resp_rate_cat ace_heart_rate_cat apls_resp_rate_cat  \\\n329     primary              high             normal             normal   \n385  pre_school              high             normal               high   \n334     primary            normal               high             normal   \n102     primary              high               high               high   \n291  pre_school              high             normal               high   \n151  pre_school               low             normal             normal   \n321  pre_school              high               high               high   \n435     primary              high               high             normal   \n389     primary            normal             normal             normal   \n97    secondary            normal             normal             normal   \n\n    apls_heart_rate_cat meets_ace_criteria  \n329              normal                  N  \n385              normal                  N  \n334              normal                  N  \n102                high                  N  \n291              normal                  N  \n151              normal                  N  \n321              normal                  N  \n435              normal                  N  \n389              normal                  Y  \n97               normal                  Y  ",
      "text/html": "<div>\n<style scoped>\n    .dataframe tbody tr th:only-of-type {\n        vertical-align: middle;\n    }\n\n    .dataframe tbody tr th {\n        vertical-align: top;\n    }\n\n    .dataframe thead th {\n        text-align: right;\n    }\n</style>\n<table border=\"1\" class=\"dataframe\">\n  <thead>\n    <tr style=\"text-align: right;\">\n      <th></th>\n      <th>hospital_reqd</th>\n      <th>referral_from</th>\n      <th>age</th>\n      <th>address</th>\n      <th>gender</th>\n      <th>referral_date</th>\n      <th>referral_time</th>\n      <th>illness_severity</th>\n      <th>activity_level</th>\n      <th>gut_feeling</th>\n      <th>ox_sat</th>\n      <th>resp_rate</th>\n      <th>heart_rate</th>\n      <th>temp</th>\n      <th>sepsis</th>\n      <th>safeguarding</th>\n      <th>food_allergy</th>\n      <th>drug_allergy</th>\n      <th>other_allergy</th>\n      <th>simple_ethnicity</th>\n      <th>group_ethnicity</th>\n      <th>ox_sat_low</th>\n      <th>age_range</th>\n      <th>ace_resp_rate_cat</th>\n      <th>ace_heart_rate_cat</th>\n      <th>apls_resp_rate_cat</th>\n      <th>apls_heart_rate_cat</th>\n      <th>meets_ace_criteria</th>\n    </tr>\n  </thead>\n  <tbody>\n    <tr>\n      <th>329</th>\n      <td>0</td>\n      <td>A&amp;E</td>\n      <td>6</td>\n      <td>BD18</td>\n      <td>M</td>\n      <td>Summer</td>\n      <td>Morning</td>\n      <td>Mild</td>\n      <td>usual</td>\n      <td>well</td>\n      <td>96.0</td>\n      <td>26.0</td>\n      <td>112.0</td>\n      <td>36.6</td>\n      <td>None noted</td>\n      <td>N</td>\n      <td>N</td>\n      <td>N</td>\n      <td>N</td>\n      <td>Pakistani</td>\n      <td>asian</td>\n      <td>N</td>\n      <td>primary</td>\n      <td>high</td>\n      <td>normal</td>\n      <td>normal</td>\n      <td>normal</td>\n      <td>N</td>\n    </tr>\n    <tr>\n      <th>385</th>\n      <td>1</td>\n      <td>GP</td>\n      <td>4</td>\n      <td>BD17</td>\n      <td>F</td>\n      <td>Autumn</td>\n      <td>Afternoon</td>\n      <td>Mild</td>\n      <td>usual</td>\n      <td>well</td>\n      <td>95.0</td>\n      <td>36.0</td>\n      <td>132.0</td>\n      <td>36.0</td>\n      <td>None noted</td>\n      <td>N</td>\n      <td>N</td>\n      <td>N</td>\n      <td>N</td>\n      <td>British</td>\n      <td>european</td>\n      <td>N</td>\n      <td>pre_school</td>\n      <td>high</td>\n      <td>normal</td>\n      <td>high</td>\n      <td>normal</td>\n      <td>N</td>\n    </tr>\n    <tr>\n      <th>334</th>\n      <td>0</td>\n      <td>ED</td>\n      <td>7</td>\n      <td>BD03</td>\n      <td>F</td>\n      <td>Summer</td>\n      <td>Morning</td>\n      <td>Mild</td>\n      <td>usual</td>\n      <td>well</td>\n      <td>95.0</td>\n      <td>24.0</td>\n      <td>125.0</td>\n      <td>38.3</td>\n      <td>None noted</td>\n      <td>N</td>\n      <td>N</td>\n      <td>N</td>\n      <td>N</td>\n      <td>other</td>\n      <td>european</td>\n      <td>N</td>\n      <td>primary</td>\n      <td>normal</td>\n      <td>high</td>\n      <td>normal</td>\n      <td>normal</td>\n      <td>N</td>\n    </tr>\n    <tr>\n      <th>102</th>\n      <td>0</td>\n      <td>A&amp;E</td>\n      <td>5</td>\n      <td>BD05</td>\n      <td>M</td>\n      <td>Spring</td>\n      <td>Morning</td>\n      <td>Mild</td>\n      <td>usual</td>\n      <td>well</td>\n      <td>96.0</td>\n      <td>35.0</td>\n      <td>142.0</td>\n      <td>36.8</td>\n      <td>None noted</td>\n      <td>N</td>\n      <td>N</td>\n      <td>N</td>\n      <td>N</td>\n      <td>British</td>\n      <td>european</td>\n      <td>N</td>\n      <td>primary</td>\n      <td>high</td>\n      <td>high</td>\n      <td>high</td>\n      <td>high</td>\n      <td>N</td>\n    </tr>\n    <tr>\n      <th>291</th>\n      <td>0</td>\n      <td>CCDA</td>\n      <td>3</td>\n      <td>BD09</td>\n      <td>M</td>\n      <td>Winter</td>\n      <td>Afternoon</td>\n      <td>Mild</td>\n      <td>usual</td>\n      <td>well</td>\n      <td>94.0</td>\n      <td>31.0</td>\n      <td>112.0</td>\n      <td>36.3</td>\n      <td>None noted</td>\n      <td>N</td>\n      <td>N</td>\n      <td>Y</td>\n      <td>N</td>\n      <td>Pakistani</td>\n      <td>asian</td>\n      <td>N</td>\n      <td>pre_school</td>\n      <td>high</td>\n      <td>normal</td>\n      <td>high</td>\n      <td>normal</td>\n      <td>N</td>\n    </tr>\n    <tr>\n      <th>151</th>\n      <td>1</td>\n      <td>A&amp;E</td>\n      <td>3</td>\n      <td>BD13</td>\n      <td>M</td>\n      <td>Summer</td>\n      <td>Evening</td>\n      <td>Mild</td>\n      <td>usual</td>\n      <td>NaN</td>\n      <td>97.0</td>\n      <td>24.0</td>\n      <td>106.0</td>\n      <td>36.9</td>\n      <td>None noted</td>\n      <td>N</td>\n      <td>Y</td>\n      <td>N</td>\n      <td>N</td>\n      <td>other</td>\n      <td>european</td>\n      <td>N</td>\n      <td>pre_school</td>\n      <td>low</td>\n      <td>normal</td>\n      <td>normal</td>\n      <td>normal</td>\n      <td>N</td>\n    </tr>\n    <tr>\n      <th>321</th>\n      <td>0</td>\n      <td>A&amp;E</td>\n      <td>2</td>\n      <td>BD06</td>\n      <td>M</td>\n      <td>Spring</td>\n      <td>Morning</td>\n      <td>Mild</td>\n      <td>usual</td>\n      <td>well</td>\n      <td>95.0</td>\n      <td>31.0</td>\n      <td>142.0</td>\n      <td>NaN</td>\n      <td>None noted</td>\n      <td>N</td>\n      <td>N</td>\n      <td>N</td>\n      <td>N</td>\n      <td>British</td>\n      <td>european</td>\n      <td>N</td>\n      <td>pre_school</td>\n      <td>high</td>\n      <td>high</td>\n      <td>high</td>\n      <td>normal</td>\n      <td>N</td>\n    </tr>\n    <tr>\n      <th>435</th>\n      <td>0</td>\n      <td>GP</td>\n      <td>5</td>\n      <td>BD09</td>\n      <td>F</td>\n      <td>Autumn</td>\n      <td>Morning</td>\n      <td>Mild</td>\n      <td>lower</td>\n      <td>low concern</td>\n      <td>97.0</td>\n      <td>28.0</td>\n      <td>132.0</td>\n      <td>36.7</td>\n      <td>None noted</td>\n      <td>Y</td>\n      <td>Y</td>\n      <td>N</td>\n      <td>N</td>\n      <td>Pakistani</td>\n      <td>asian</td>\n      <td>N</td>\n      <td>primary</td>\n      <td>high</td>\n      <td>high</td>\n      <td>normal</td>\n      <td>normal</td>\n      <td>N</td>\n    </tr>\n    <tr>\n      <th>389</th>\n      <td>0</td>\n      <td>GP</td>\n      <td>5</td>\n      <td>BD09</td>\n      <td>M</td>\n      <td>Autumn</td>\n      <td>Afternoon</td>\n      <td>Mild</td>\n      <td>usual</td>\n      <td>well</td>\n      <td>96.0</td>\n      <td>24.0</td>\n      <td>120.0</td>\n      <td>36.0</td>\n      <td>None noted</td>\n      <td>N</td>\n      <td>N</td>\n      <td>N</td>\n      <td>N</td>\n      <td>Pakistani</td>\n      <td>asian</td>\n      <td>N</td>\n      <td>primary</td>\n      <td>normal</td>\n      <td>normal</td>\n      <td>normal</td>\n      <td>normal</td>\n      <td>Y</td>\n    </tr>\n    <tr>\n      <th>97</th>\n      <td>0</td>\n      <td>GP</td>\n      <td>12</td>\n      <td>BD07</td>\n      <td>F</td>\n      <td>Spring</td>\n      <td>Morning</td>\n      <td>Mild</td>\n      <td>lower</td>\n      <td>well</td>\n      <td>98.0</td>\n      <td>20.0</td>\n      <td>90.0</td>\n      <td>36.7</td>\n      <td>None noted</td>\n      <td>N</td>\n      <td>N</td>\n      <td>N</td>\n      <td>N</td>\n      <td>Pakistani</td>\n      <td>asian</td>\n      <td>N</td>\n      <td>secondary</td>\n      <td>normal</td>\n      <td>normal</td>\n      <td>normal</td>\n      <td>normal</td>\n      <td>Y</td>\n    </tr>\n  </tbody>\n</table>\n</div>"
     },
     "execution_count": 18,
     "metadata": {},
     "output_type": "execute_result"
    }
   ],
   "source": [
    "ace_data.sample(10)"
   ],
   "metadata": {
    "collapsed": false,
    "pycharm": {
     "name": "#%%\n"
    }
   }
  },
  {
   "cell_type": "code",
   "execution_count": 19,
   "outputs": [],
   "source": [],
   "metadata": {
    "collapsed": false,
    "pycharm": {
     "name": "#%%\n"
    }
   }
  }
 ],
 "metadata": {
  "kernelspec": {
   "display_name": "Python 3",
   "language": "python",
   "name": "python3"
  },
  "language_info": {
   "codemirror_mode": {
    "name": "ipython",
    "version": 2
   },
   "file_extension": ".py",
   "mimetype": "text/x-python",
   "name": "python",
   "nbconvert_exporter": "python",
   "pygments_lexer": "ipython2",
   "version": "2.7.6"
  }
 },
 "nbformat": 4,
 "nbformat_minor": 0
}