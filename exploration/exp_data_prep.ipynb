{
 "cells": [
  {
   "cell_type": "code",
   "execution_count": 2,
   "metadata": {
    "collapsed": true
   },
   "outputs": [],
   "source": [
    "import pandas as pd\n",
    "import numpy as np"
   ]
  },
  {
   "cell_type": "code",
   "execution_count": 3,
   "outputs": [],
   "source": [
    "ace_data = pd.read_csv(\"../data/ace_referral_data.csv\")\n",
    "\n",
    "# replace \"None\" values with nan\n",
    "ace_data.replace(\"None\", np.nan, inplace=True)"
   ],
   "metadata": {
    "collapsed": false,
    "pycharm": {
     "name": "#%%\n"
    }
   }
  },
  {
   "cell_type": "code",
   "execution_count": 4,
   "outputs": [
    {
     "name": "stdout",
     "output_type": "stream",
     "text": [
      "<class 'pandas.core.frame.DataFrame'>\n",
      "RangeIndex: 499 entries, 0 to 498\n",
      "Data columns (total 19 columns):\n",
      " #   Column            Non-Null Count  Dtype \n",
      "---  ------            --------------  ----- \n",
      " 0   id                499 non-null    int64 \n",
      " 1   hospital_reqd     499 non-null    object\n",
      " 2   referral_from     498 non-null    object\n",
      " 3   age               499 non-null    int64 \n",
      " 4   address           499 non-null    object\n",
      " 5   ethnicity         497 non-null    object\n",
      " 6   gender            499 non-null    object\n",
      " 7   allergies         499 non-null    object\n",
      " 8   referral_date     499 non-null    object\n",
      " 9   referral_time     499 non-null    object\n",
      " 10  illness_severity  497 non-null    object\n",
      " 11  activity_level    496 non-null    object\n",
      " 12  gut_feeling       494 non-null    object\n",
      " 13  ox_sat            489 non-null    object\n",
      " 14  resp_rate         488 non-null    object\n",
      " 15  heart_rate        490 non-null    object\n",
      " 16  temp              438 non-null    object\n",
      " 17  sepsis            499 non-null    object\n",
      " 18  safeguarding      499 non-null    object\n",
      "dtypes: int64(2), object(17)\n",
      "memory usage: 74.2+ KB\n"
     ]
    }
   ],
   "source": [
    "ace_data.info()"
   ],
   "metadata": {
    "collapsed": false,
    "pycharm": {
     "name": "#%%\n"
    }
   }
  },
  {
   "cell_type": "code",
   "execution_count": 5,
   "outputs": [
    {
     "data": {
      "text/plain": "   id hospital_reqd referral_from  age address  ethnicity gender allergies  \\\n0   1             N          CCDA    8   BD07      Indian      F       NKA   \n1   2             N           A&E   11   BD03   Pakistani      F       NKA   \n2   3             N          CCDA    3   BD04      Slovak      F      NKDA   \n3   4             N            GP    3   BD06     British      M      NKDA   \n4   5             N            GP    3   BD09   Pakistani      M       NKA   \n\n  referral_date referral_time illness_severity activity_level  gut_feeling  \\\n0        Winter       Morning         Moderate          usual  low concern   \n1        Winter       Morning             Mild          lower  low concern   \n2        Winter     Afternoon             Mild          usual         well   \n3        Winter     Afternoon             Mild          usual  low concern   \n4        Winter     Afternoon             Mild          usual         well   \n\n  ox_sat resp_rate heart_rate  temp      sepsis safeguarding  \n0     97        20        118  36.5  None noted            N  \n1     96        20        109    37  None noted            N  \n2     96        28        140    37  None noted            N  \n3     98        28        104  36.8  None noted            N  \n4     97       NaN        NaN   NaN  None noted            N  ",
      "text/html": "<div>\n<style scoped>\n    .dataframe tbody tr th:only-of-type {\n        vertical-align: middle;\n    }\n\n    .dataframe tbody tr th {\n        vertical-align: top;\n    }\n\n    .dataframe thead th {\n        text-align: right;\n    }\n</style>\n<table border=\"1\" class=\"dataframe\">\n  <thead>\n    <tr style=\"text-align: right;\">\n      <th></th>\n      <th>id</th>\n      <th>hospital_reqd</th>\n      <th>referral_from</th>\n      <th>age</th>\n      <th>address</th>\n      <th>ethnicity</th>\n      <th>gender</th>\n      <th>allergies</th>\n      <th>referral_date</th>\n      <th>referral_time</th>\n      <th>illness_severity</th>\n      <th>activity_level</th>\n      <th>gut_feeling</th>\n      <th>ox_sat</th>\n      <th>resp_rate</th>\n      <th>heart_rate</th>\n      <th>temp</th>\n      <th>sepsis</th>\n      <th>safeguarding</th>\n    </tr>\n  </thead>\n  <tbody>\n    <tr>\n      <th>0</th>\n      <td>1</td>\n      <td>N</td>\n      <td>CCDA</td>\n      <td>8</td>\n      <td>BD07</td>\n      <td>Indian</td>\n      <td>F</td>\n      <td>NKA</td>\n      <td>Winter</td>\n      <td>Morning</td>\n      <td>Moderate</td>\n      <td>usual</td>\n      <td>low concern</td>\n      <td>97</td>\n      <td>20</td>\n      <td>118</td>\n      <td>36.5</td>\n      <td>None noted</td>\n      <td>N</td>\n    </tr>\n    <tr>\n      <th>1</th>\n      <td>2</td>\n      <td>N</td>\n      <td>A&amp;E</td>\n      <td>11</td>\n      <td>BD03</td>\n      <td>Pakistani</td>\n      <td>F</td>\n      <td>NKA</td>\n      <td>Winter</td>\n      <td>Morning</td>\n      <td>Mild</td>\n      <td>lower</td>\n      <td>low concern</td>\n      <td>96</td>\n      <td>20</td>\n      <td>109</td>\n      <td>37</td>\n      <td>None noted</td>\n      <td>N</td>\n    </tr>\n    <tr>\n      <th>2</th>\n      <td>3</td>\n      <td>N</td>\n      <td>CCDA</td>\n      <td>3</td>\n      <td>BD04</td>\n      <td>Slovak</td>\n      <td>F</td>\n      <td>NKDA</td>\n      <td>Winter</td>\n      <td>Afternoon</td>\n      <td>Mild</td>\n      <td>usual</td>\n      <td>well</td>\n      <td>96</td>\n      <td>28</td>\n      <td>140</td>\n      <td>37</td>\n      <td>None noted</td>\n      <td>N</td>\n    </tr>\n    <tr>\n      <th>3</th>\n      <td>4</td>\n      <td>N</td>\n      <td>GP</td>\n      <td>3</td>\n      <td>BD06</td>\n      <td>British</td>\n      <td>M</td>\n      <td>NKDA</td>\n      <td>Winter</td>\n      <td>Afternoon</td>\n      <td>Mild</td>\n      <td>usual</td>\n      <td>low concern</td>\n      <td>98</td>\n      <td>28</td>\n      <td>104</td>\n      <td>36.8</td>\n      <td>None noted</td>\n      <td>N</td>\n    </tr>\n    <tr>\n      <th>4</th>\n      <td>5</td>\n      <td>N</td>\n      <td>GP</td>\n      <td>3</td>\n      <td>BD09</td>\n      <td>Pakistani</td>\n      <td>M</td>\n      <td>NKA</td>\n      <td>Winter</td>\n      <td>Afternoon</td>\n      <td>Mild</td>\n      <td>usual</td>\n      <td>well</td>\n      <td>97</td>\n      <td>NaN</td>\n      <td>NaN</td>\n      <td>NaN</td>\n      <td>None noted</td>\n      <td>N</td>\n    </tr>\n  </tbody>\n</table>\n</div>"
     },
     "execution_count": 5,
     "metadata": {},
     "output_type": "execute_result"
    }
   ],
   "source": [
    "ace_data.head()"
   ],
   "metadata": {
    "collapsed": false,
    "pycharm": {
     "name": "#%%\n"
    }
   }
  },
  {
   "cell_type": "code",
   "execution_count": 6,
   "outputs": [],
   "source": [
    "# clean and convert cat features to categorical datatype\n",
    "# (other than allergies - treated separately)\n",
    "\n",
    "cat_features = ['referral_from', 'address', 'ethnicity', 'gender',\n",
    "                'referral_date', 'referral_time', 'illness_severity',\n",
    "                'activity_level', 'gut_feeling', 'sepsis', 'safeguarding']\n",
    "\n",
    "for feature in cat_features:\n",
    "    ace_data[feature] = (ace_data[feature].str.strip()\n",
    "                                          .astype(\"category\"))"
   ],
   "metadata": {
    "collapsed": false,
    "pycharm": {
     "name": "#%%\n"
    }
   }
  },
  {
   "cell_type": "code",
   "execution_count": 7,
   "outputs": [],
   "source": [
    "# refactor allergy feature\n",
    "\n",
    "for allergy in [\"Food\", \"Drug\", \"Other\"]:\n",
    "    allergy_name = allergy.lower() + \"_allergy\"\n",
    "    ace_data[allergy_name] = ace_data.allergies.apply(\n",
    "        lambda x: 'Y' if allergy in x else 'N'\n",
    "    ).astype(\"category\")\n",
    "\n",
    "# drop original allergy feature as no longer required\n",
    "ace_data.drop(\"allergies\", axis=1, inplace=True)"
   ],
   "metadata": {
    "collapsed": false,
    "pycharm": {
     "name": "#%%\n"
    }
   }
  },
  {
   "cell_type": "code",
   "execution_count": 8,
   "outputs": [],
   "source": [
    "# fix numerical features with 'None'\n",
    "\n",
    "float_features = [\"ox_sat\", \"resp_rate\", \"heart_rate\", \"temp\"]\n",
    "for feature in float_features:\n",
    "    ace_data[feature] = ace_data[feature].astype(\"float\")"
   ],
   "metadata": {
    "collapsed": false,
    "pycharm": {
     "name": "#%%\n"
    }
   }
  },
  {
   "cell_type": "code",
   "execution_count": 9,
   "outputs": [],
   "source": [
    "# set hospital_reqd to 1/0 for data analysis\n",
    "\n",
    "ace_data[\"hospital_reqd\"] = (ace_data.hospital_reqd == \"Y\").astype(\"int\")"
   ],
   "metadata": {
    "collapsed": false,
    "pycharm": {
     "name": "#%%\n"
    }
   }
  },
  {
   "cell_type": "code",
   "execution_count": 10,
   "outputs": [],
   "source": [
    "# new ethnicity features\n",
    "\n",
    "# set reported ethnicity to other if not British / Pakistani\n",
    "ace_data[\"simple_ethnicity\"] = ace_data.ethnicity.apply(\n",
    "    lambda x: x if x in [\"Pakistani\", \"British\"] else \"other\"\n",
    ").replace(np.nan, \"other\")\n",
    "\n",
    "ace_data[\"simple_ethnicity\"] = ace_data.simple_ethnicity.astype(\"category\")\n",
    "\n",
    "# Group ethnicities into European / Asian / Other\n",
    "asian = [\"Indian\", \"Mixed Asian\", \"Pakistani\", \"white Asain\", \"British Asian\",\n",
    "         \"Asian\", \"Sri Lankan\", \"Other Asian background\", \"Bangladeshi\"]\n",
    "\n",
    "european = [\"Slovak\", \"British\", \"Other white background\", \"Czech Republic\",\n",
    "            \"White Europeon\", \"White British\", \"CommonWealth Russian\",\n",
    "            \"Other European\", \"Mixed White\"]\n",
    "\n",
    "ace_data[\"group_ethnicity\"] = \"other\"\n",
    "ace_data.loc[ace_data.ethnicity.isin(european), \"group_ethnicity\"] = \"european\"\n",
    "ace_data.loc[ace_data.ethnicity.isin(asian), \"group_ethnicity\"] = \"asian\"\n",
    "\n",
    "ace_data[\"group_ethnicity\"] = ace_data.group_ethnicity.astype(\"category\")"
   ],
   "metadata": {
    "collapsed": false,
    "pycharm": {
     "name": "#%%\n"
    }
   }
  },
  {
   "cell_type": "code",
   "execution_count": 11,
   "outputs": [
    {
     "name": "stdout",
     "output_type": "stream",
     "text": [
      "<class 'pandas.core.frame.DataFrame'>\n",
      "RangeIndex: 499 entries, 0 to 498\n",
      "Data columns (total 23 columns):\n",
      " #   Column            Non-Null Count  Dtype   \n",
      "---  ------            --------------  -----   \n",
      " 0   id                499 non-null    int64   \n",
      " 1   hospital_reqd     499 non-null    int64   \n",
      " 2   referral_from     498 non-null    category\n",
      " 3   age               499 non-null    int64   \n",
      " 4   address           499 non-null    category\n",
      " 5   ethnicity         497 non-null    category\n",
      " 6   gender            499 non-null    category\n",
      " 7   referral_date     499 non-null    category\n",
      " 8   referral_time     499 non-null    category\n",
      " 9   illness_severity  497 non-null    category\n",
      " 10  activity_level    496 non-null    category\n",
      " 11  gut_feeling       494 non-null    category\n",
      " 12  ox_sat            489 non-null    float64 \n",
      " 13  resp_rate         488 non-null    float64 \n",
      " 14  heart_rate        490 non-null    float64 \n",
      " 15  temp              438 non-null    float64 \n",
      " 16  sepsis            499 non-null    category\n",
      " 17  safeguarding      499 non-null    category\n",
      " 18  food_allergy      499 non-null    category\n",
      " 19  drug_allergy      499 non-null    category\n",
      " 20  other_allergy     499 non-null    category\n",
      " 21  simple_ethnicity  499 non-null    category\n",
      " 22  group_ethnicity   499 non-null    category\n",
      "dtypes: category(16), float64(4), int64(3)\n",
      "memory usage: 39.0 KB\n"
     ]
    }
   ],
   "source": [
    "ace_data.info()"
   ],
   "metadata": {
    "collapsed": false,
    "pycharm": {
     "name": "#%%\n"
    }
   }
  },
  {
   "cell_type": "markdown",
   "source": [
    "Add features from ace referral sheets:\n",
    "\n",
    "Criteria (relevant to dataset) are:\n",
    "* ox_sat > 94\n",
    "* heart_rate:\n",
    "    * 2-5 yrs 95-140\n",
    "    * 5-12 yrs 80-120\n",
    "    * \\> 12 yrs 60-100\n",
    "* resp_rate:\n",
    "    * 2-5 yrs 25-30\n",
    "    * 5-12 yrs 20-25\n",
    "    * \\> 12 yrs 15-20\n",
    "\n",
    "Other qualitative criteria (possibly relevant later):\n",
    "    * auscultation - good air entry with some wheeze\n",
    "    * speech - able to complete sentences\n",
    "    * work of breathing - minimal / no recessions\n",
    "    * conscious level - normal\n",
    "\n",
    "*could illness_severity / gut_feeling be proxies for the above?*"
   ],
   "metadata": {
    "collapsed": false,
    "pycharm": {
     "name": "#%% md\n"
    }
   }
  },
  {
   "cell_type": "code",
   "execution_count": 12,
   "outputs": [],
   "source": [
    "# ox_sat_low feature: < 94 = low\n",
    "ace_data[\"ox_sat_low\"] = ace_data.ox_sat.apply(\n",
    "    lambda x: \"Y\" if x < 94 else \"N\"\n",
    ").astype(\"category\")"
   ],
   "metadata": {
    "collapsed": false,
    "pycharm": {
     "name": "#%%\n"
    }
   }
  },
  {
   "cell_type": "code",
   "execution_count": 13,
   "outputs": [],
   "source": [
    "# age_range feature: \"pre_school\" = (2-5), \"primary\" = (5-12), \"secondary\" (12+)\n",
    "\n",
    "ace_data[\"age_range\"] = \"pre_school\"\n",
    "\n",
    "primary = (ace_data.age >= 5) & (ace_data.age < 12)\n",
    "ace_data.loc[primary, \"age_range\"] = \"primary\"\n",
    "\n",
    "secondary = ace_data.age >= 12\n",
    "ace_data.loc[secondary, \"age_range\"] = \"secondary\"\n",
    "\n",
    "ace_data[\"age_range\"] = ace_data.age_range.astype(\"category\")"
   ],
   "metadata": {
    "collapsed": false,
    "pycharm": {
     "name": "#%%\n"
    }
   }
  },
  {
   "cell_type": "code",
   "execution_count": 14,
   "outputs": [],
   "source": [
    "# ace_heart_rate_cat feature: as per ace referral sheets\n",
    "\n",
    "ace_data[\"ace_heart_rate_cat\"] = \"normal\"\n",
    "\n",
    "pre_school = ace_data.age_range == \"pre_school\"\n",
    "pre_school_high = pre_school & (ace_data.heart_rate > 140)\n",
    "ace_data.loc[pre_school_high, \"ace_heart_rate_cat\"] = \"high\"\n",
    "pre_school_low = pre_school & (ace_data.heart_rate < 95)\n",
    "ace_data.loc[pre_school_low, \"ace_heart_rate_cat\"] = \"low\"\n",
    "\n",
    "primary_high = primary & (ace_data.heart_rate > 120)\n",
    "ace_data.loc[primary_high, \"ace_heart_rate_cat\"] = \"high\"\n",
    "primary_low = primary & (ace_data.heart_rate < 80)\n",
    "ace_data.loc[primary_low, \"ace_heart_rate_cat\"] = \"low\"\n",
    "\n",
    "secondary_high = secondary & (ace_data.heart_rate > 100)\n",
    "ace_data.loc[secondary_high, \"ace_heart_rate_cat\"] = \"high\"\n",
    "secondary_low = secondary & (ace_data.heart_rate < 60)\n",
    "ace_data.loc[secondary_low, \"ace_heart_rate_cat\"] = \"low\"\n",
    "\n",
    "ace_data[\"ace_heart_rate_cat\"] = ace_data.ace_heart_rate_cat.astype(\"category\")"
   ],
   "metadata": {
    "collapsed": false,
    "pycharm": {
     "name": "#%%\n"
    }
   }
  },
  {
   "cell_type": "code",
   "execution_count": 15,
   "outputs": [],
   "source": [
    "# ace_resp_rate_cat feature: as per ace referral sheets\n",
    "\n",
    "ace_data[\"ace_resp_rate_cat\"] = \"normal\"\n",
    "\n",
    "pre_school_high = pre_school & (ace_data.resp_rate > 30)\n",
    "ace_data.loc[pre_school_high, \"ace_resp_rate_cat\"] = \"high\"\n",
    "pre_school_low = pre_school & (ace_data.resp_rate < 25)\n",
    "ace_data.loc[pre_school_low, \"ace_resp_rate_cat\"] = \"low\"\n",
    "\n",
    "primary_high = primary & (ace_data.resp_rate > 25)\n",
    "ace_data.loc[primary_high, \"ace_resp_rate_cat\"] = \"high\"\n",
    "primary_low = primary & (ace_data.resp_rate < 20)\n",
    "ace_data.loc[primary_low, \"ace_resp_rate_cat\"] = \"low\"\n",
    "\n",
    "secondary_high = secondary & (ace_data.resp_rate > 20)\n",
    "ace_data.loc[secondary_high, \"ace_resp_rate_cat\"] = \"high\"\n",
    "secondary_low = secondary & (ace_data.resp_rate < 15)\n",
    "ace_data.loc[secondary_low, \"ace_resp_rate_cat\"] = \"low\"\n",
    "\n",
    "ace_data[\"ace_resp_rate_cat\"] = ace_data.ace_resp_rate_cat.astype(\"category\")\n"
   ],
   "metadata": {
    "collapsed": false,
    "pycharm": {
     "name": "#%%\n"
    }
   }
  },
  {
   "cell_type": "code",
   "execution_count": 16,
   "outputs": [],
   "source": [
    "# meets_ace_criteria feature: as per referral sheets\n",
    "\n",
    "ace_data[\"meets_ace_criteria\"] = \"N\"\n",
    "\n",
    "meets_ace_criteria = ((ace_data.ox_sat_low == \"N\") &\n",
    "                      (ace_data.ace_heart_rate_cat == \"normal\") &\n",
    "                      (ace_data.ace_resp_rate_cat == \"normal\") &\n",
    "                      (ace_data.gut_feeling != \"unwell\") &\n",
    "                      (ace_data.illness_severity != \"Moderate\"))\n",
    "\n",
    "ace_data.loc[meets_ace_criteria, \"meets_ace_criteria\"] = \"Y\"\n",
    "ace_data[\"meets_ace_criteria\"] = ace_data.meets_ace_criteria.astype(\"category\")"
   ],
   "metadata": {
    "collapsed": false,
    "pycharm": {
     "name": "#%%\n"
    }
   }
  },
  {
   "cell_type": "code",
   "execution_count": 17,
   "outputs": [],
   "source": [
    "# apls_heart_rate_cat feature: as per physiological parameters guide\n",
    "\n",
    "ace_data[\"apls_heart_rate_cat\"] = \"normal\"\n",
    "\n",
    "def set_apls_heart_rate(age_range, hr_range):\n",
    "    age_mask = ((ace_data.age >= age_range[0]) &\n",
    "                (ace_data.age < age_range[1]))\n",
    "    low_mask = age_mask & (ace_data.heart_rate < hr_range[0])\n",
    "    high_mask = age_mask & (ace_data.heart_rate > hr_range[1])\n",
    "    ace_data.loc[low_mask, \"apls_heart_rate_cat\"] = \"low\"\n",
    "    ace_data.loc[high_mask, \"apls_heart_rate_cat\"] = \"high\"\n",
    "\n",
    "set_apls_heart_rate(age_range=(0,2), hr_range=(100, 160))\n",
    "set_apls_heart_rate(age_range=(2,3), hr_range=(100, 150))\n",
    "set_apls_heart_rate(age_range=(3,4), hr_range=(90, 140))\n",
    "set_apls_heart_rate(age_range=(4,6), hr_range=(80, 135))\n",
    "set_apls_heart_rate(age_range=(6,8), hr_range=(80, 130))\n",
    "set_apls_heart_rate(age_range=(8,12), hr_range=(70, 120))\n",
    "set_apls_heart_rate(age_range=(12,14), hr_range=(65, 115))\n",
    "set_apls_heart_rate(age_range=(14,18), hr_range=(60, 110))\n",
    "\n",
    "ace_data[\"apls_heart_rate_cat\"] = ace_data.apls_heart_rate_cat.astype(\"category\")"
   ],
   "metadata": {
    "collapsed": false,
    "pycharm": {
     "name": "#%%\n"
    }
   }
  },
  {
   "cell_type": "code",
   "execution_count": 18,
   "outputs": [],
   "source": [
    "# apls_resp_rate_cat feature: as per physiological parameters guide\n",
    "\n",
    "ace_data[\"apls_resp_rate_cat\"] = \"normal\"\n",
    "\n",
    "def set_apls_resp_rate(age_range, rr_range):\n",
    "    age_mask = ((ace_data.age >= age_range[0]) &\n",
    "                (ace_data.age < age_range[1]))\n",
    "    low_mask = age_mask & (ace_data.resp_rate < rr_range[0])\n",
    "    high_mask = age_mask & (ace_data.resp_rate > rr_range[1])\n",
    "    ace_data.loc[low_mask, \"apls_resp_rate_cat\"] = \"low\"\n",
    "    ace_data.loc[high_mask, \"apls_resp_rate_cat\"] = \"high\"\n",
    "\n",
    "set_apls_resp_rate(age_range=(0,2), rr_range=(20, 40))\n",
    "set_apls_resp_rate(age_range=(2,8), rr_range=(20, 30))\n",
    "set_apls_resp_rate(age_range=(8,12), rr_range=(15, 25))\n",
    "set_apls_resp_rate(age_range=(12,18), rr_range=(12, 24))\n",
    "\n",
    "ace_data[\"apls_resp_rate_cat\"] = ace_data.apls_resp_rate_cat.astype(\"category\")"
   ],
   "metadata": {
    "collapsed": false,
    "pycharm": {
     "name": "#%%\n"
    }
   }
  },
  {
   "cell_type": "code",
   "execution_count": 19,
   "outputs": [],
   "source": [
    "# pickle data\n",
    "ace_data.to_pickle(\"../data/ace_data_prepped.pkl\")\n",
    "ace_data.to_csv(\"../data/ace_data_prepped.csv\")"
   ],
   "metadata": {
    "collapsed": false,
    "pycharm": {
     "name": "#%%\n"
    }
   }
  },
  {
   "cell_type": "code",
   "execution_count": 20,
   "outputs": [
    {
     "name": "stdout",
     "output_type": "stream",
     "text": [
      "<class 'pandas.core.frame.DataFrame'>\n",
      "RangeIndex: 499 entries, 0 to 498\n",
      "Data columns (total 30 columns):\n",
      " #   Column               Non-Null Count  Dtype   \n",
      "---  ------               --------------  -----   \n",
      " 0   id                   499 non-null    int64   \n",
      " 1   hospital_reqd        499 non-null    int64   \n",
      " 2   referral_from        498 non-null    category\n",
      " 3   age                  499 non-null    int64   \n",
      " 4   address              499 non-null    category\n",
      " 5   ethnicity            497 non-null    category\n",
      " 6   gender               499 non-null    category\n",
      " 7   referral_date        499 non-null    category\n",
      " 8   referral_time        499 non-null    category\n",
      " 9   illness_severity     497 non-null    category\n",
      " 10  activity_level       496 non-null    category\n",
      " 11  gut_feeling          494 non-null    category\n",
      " 12  ox_sat               489 non-null    float64 \n",
      " 13  resp_rate            488 non-null    float64 \n",
      " 14  heart_rate           490 non-null    float64 \n",
      " 15  temp                 438 non-null    float64 \n",
      " 16  sepsis               499 non-null    category\n",
      " 17  safeguarding         499 non-null    category\n",
      " 18  food_allergy         499 non-null    category\n",
      " 19  drug_allergy         499 non-null    category\n",
      " 20  other_allergy        499 non-null    category\n",
      " 21  simple_ethnicity     499 non-null    category\n",
      " 22  group_ethnicity      499 non-null    category\n",
      " 23  ox_sat_low           499 non-null    category\n",
      " 24  age_range            499 non-null    category\n",
      " 25  ace_heart_rate_cat   499 non-null    category\n",
      " 26  ace_resp_rate_cat    499 non-null    category\n",
      " 27  meets_ace_criteria   499 non-null    category\n",
      " 28  apls_heart_rate_cat  499 non-null    category\n",
      " 29  apls_resp_rate_cat   499 non-null    category\n",
      "dtypes: category(23), float64(4), int64(3)\n",
      "memory usage: 43.1 KB\n"
     ]
    }
   ],
   "source": [
    "ace_data.info()"
   ],
   "metadata": {
    "collapsed": false,
    "pycharm": {
     "name": "#%%\n"
    }
   }
  },
  {
   "cell_type": "code",
   "execution_count": 19,
   "outputs": [],
   "source": [],
   "metadata": {
    "collapsed": false,
    "pycharm": {
     "name": "#%%\n"
    }
   }
  },
  {
   "cell_type": "code",
   "execution_count": null,
   "outputs": [],
   "source": [],
   "metadata": {
    "collapsed": false,
    "pycharm": {
     "name": "#%%\n"
    }
   }
  }
 ],
 "metadata": {
  "kernelspec": {
   "display_name": "Python 3",
   "language": "python",
   "name": "python3"
  },
  "language_info": {
   "codemirror_mode": {
    "name": "ipython",
    "version": 2
   },
   "file_extension": ".py",
   "mimetype": "text/x-python",
   "name": "python",
   "nbconvert_exporter": "python",
   "pygments_lexer": "ipython2",
   "version": "2.7.6"
  }
 },
 "nbformat": 4,
 "nbformat_minor": 0
}