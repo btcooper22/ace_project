{
 "cells": [
  {
   "cell_type": "code",
   "execution_count": 118,
   "metadata": {
    "collapsed": true
   },
   "outputs": [],
   "source": [
    "import pandas as pd\n",
    "import numpy as np\n",
    "import matplotlib as mpl\n",
    "import seaborn as sns\n",
    "import re"
   ]
  },
  {
   "cell_type": "code",
   "execution_count": 119,
   "outputs": [],
   "source": [
    "path = \"../data/nhs_data.xlsx\"\n",
    "full_ace_data = pd.read_excel(path,\n",
    "                              sheet_name=\"Analysis\",\n",
    "                              header=[0,1],\n",
    "                              index_col=0)\n",
    "full_ace_data = full_ace_data.iloc[1:,:].reset_index(drop=True)"
   ],
   "metadata": {
    "collapsed": false,
    "pycharm": {
     "name": "#%%\n"
    }
   }
  },
  {
   "cell_type": "code",
   "execution_count": 120,
   "outputs": [
    {
     "name": "stdout",
     "output_type": "stream",
     "text": [
      "<class 'pandas.core.frame.DataFrame'>\n",
      "RangeIndex: 499 entries, 0 to 498\n",
      "Data columns (total 61 columns):\n",
      " #   Column                                                                                                    Non-Null Count  Dtype  \n",
      "---  ------                                                                                                    --------------  -----  \n",
      " 0   (Output,  Hospital Required?)                                                                             499 non-null    object \n",
      " 1   (Output, Total number of telephone call to parents)                                                       499 non-null    object \n",
      " 2   (Output, Planned/Unplanned huddles with consultants)                                                      499 non-null    object \n",
      " 3   (Output, No of days bed saved)                                                                            499 non-null    object \n",
      " 4   (Output, GP Surgery)                                                                                      499 non-null    object \n",
      " 5   (Input after referral + triage (Form 1 + 2), Referral from)                                               499 non-null    object \n",
      " 6   (Input after referral + triage (Form 1 + 2), Age)                                                         499 non-null    object \n",
      " 7   (Input after referral + triage (Form 1 + 2), Address)                                                     499 non-null    object \n",
      " 8   (Input after referral + triage (Form 1 + 2), Ethnicity)                                                   499 non-null    object \n",
      " 9   (Input after referral + triage (Form 1 + 2), Gender)                                                      499 non-null    object \n",
      " 10  (Input after referral + triage (Form 1 + 2), Allergy)                                                     499 non-null    object \n",
      " 11  (Input after referral + triage (Form 1 + 2), Date of referral)                                            499 non-null    object \n",
      " 12  (Input after referral + triage (Form 1 + 2), Time of referral)                                            499 non-null    object \n",
      " 13  (Input after referral + triage (Form 1 + 2), Pathway Name)                                                499 non-null    object \n",
      " 14  (Input after referral + triage (Form 1 + 2), Severity of Illness)                                         499 non-null    object \n",
      " 15  (Input after referral + triage (Form 1 + 2), Activity Level of Child)                                     499 non-null    object \n",
      " 16  (Input after referral + triage (Form 1 + 2), \"Gut Feeling\" of Referrer)                                   499 non-null    object \n",
      " 17  (Input after referral + triage (Form 1 + 2), Oxygen saturations)                                          499 non-null    object \n",
      " 18  (Input after referral + triage (Form 1 + 2), Respiratory rate)                                            499 non-null    object \n",
      " 19  (Input after referral + triage (Form 1 + 2), Heart rate)                                                  499 non-null    object \n",
      " 20  (Input after referral + triage (Form 1 + 2), Temperature)                                                 499 non-null    object \n",
      " 21  (Input after referral + triage (Form 1 + 2), Sepsis red flags (refer to sepsis tool))                     499 non-null    object \n",
      " 22  (Input after referral + triage (Form 1 + 2), Safeguarding issues)                                         499 non-null    object \n",
      " 23  (Input after face to face (Form 3), Comments (e.g. language barriers))                                    499 non-null    object \n",
      " 24  (Input after face to face (Form 3), Sepsis red flags)                                                     499 non-null    object \n",
      " 25  (Input after face to face (Form 3), HR)                                                                   499 non-null    object \n",
      " 26  (Input after face to face (Form 3), RR)                                                                   499 non-null    object \n",
      " 27  (Input after face to face (Form 3), Oxygen Saturations)                                                   499 non-null    object \n",
      " 28  (Input after face to face (Form 3), Temperature)                                                          499 non-null    object \n",
      " 29  (Input after face to face (Form 3), AVPU)                                                                 499 non-null    object \n",
      " 30  (Input after face to face (Form 3), CRT)                                                                  499 non-null    object \n",
      " 31  (Input after face to face (Form 3), Total Mini PAWS Score)                                                499 non-null    object \n",
      " 32  (Input after face to face (Form 3), Did you feel safe during the home visit?)                             499 non-null    object \n",
      " 33  (Input after additional face to face (Form 5), Was there a clinical need for this face to face visit?)    121 non-null    object \n",
      " 34  (Input after additional face to face (Form 5), Was this face to face visit at the family's request?)      119 non-null    object \n",
      " 35  (Input after additional face to face (Form 5), RR)                                                        119 non-null    object \n",
      " 36  (Input after additional face to face (Form 5), HR)                                                        119 non-null    object \n",
      " 37  (Input after additional face to face (Form 5), Oxygen Saturations)                                        119 non-null    object \n",
      " 38  (Input after additional face to face (Form 5), Temperature)                                               118 non-null    object \n",
      " 39  (Input after additional face to face (Form 5), AVPU)                                                      119 non-null    object \n",
      " 40  (Input after additional face to face (Form 5), CRT)                                                       119 non-null    object \n",
      " 41  (Input after additional face to face (Form 5), Total Mini PAWS Score)                                     118 non-null    object \n",
      " 42  (Input after additional face to face (Form 5), Was there a clinical need for this face to face visit?.1)  28 non-null     object \n",
      " 43  (Input after additional face to face (Form 5), Was this face to face visit at the family's request?.1)    28 non-null     object \n",
      " 44  (Input after additional face to face (Form 5), RR.1)                                                      28 non-null     object \n",
      " 45  (Input after additional face to face (Form 5), HR.1)                                                      28 non-null     object \n",
      " 46  (Input after additional face to face (Form 5), Oxygen Saturations.1)                                      28 non-null     object \n",
      " 47  (Input after additional face to face (Form 5), Tempreature)                                               28 non-null     object \n",
      " 48  (Input after additional face to face (Form 5), AVPU.1)                                                    28 non-null     object \n",
      " 49  (Input after additional face to face (Form 5), CRT.1)                                                     28 non-null     object \n",
      " 50  (Input after additional face to face (Form 5), Total Mini PAWS Score.1)                                   28 non-null     object \n",
      " 51  (Input after additional face to face (Form 5), Was there a clinical need for this face to face visit?.2)  3 non-null      object \n",
      " 52  (Input after additional face to face (Form 5), Was this face to face visit at the family's request?.2)    3 non-null      object \n",
      " 53  (Input after additional face to face (Form 5), RR.2)                                                      3 non-null      float64\n",
      " 54  (Input after additional face to face (Form 5), HR.2)                                                      3 non-null      float64\n",
      " 55  (Input after additional face to face (Form 5), Oxygen Saturations.2)                                      3 non-null      float64\n",
      " 56  (Input after additional face to face (Form 5), Tempreature.1)                                             3 non-null      float64\n",
      " 57  (Input after additional face to face (Form 5), AVPU.2)                                                    3 non-null      object \n",
      " 58  (Input after additional face to face (Form 5), CRT.2)                                                     3 non-null      object \n",
      " 59  (Input after additional face to face (Form 5), Total Mini PAWS Score.2)                                   3 non-null      object \n",
      " 60  (Input after additional face to face (Form 5), Total Mini PAWS Score.3)                                   0 non-null      float64\n",
      "dtypes: float64(5), object(56)\n",
      "memory usage: 237.9+ KB\n"
     ]
    }
   ],
   "source": [
    "full_ace_data.info()"
   ],
   "metadata": {
    "collapsed": false,
    "pycharm": {
     "name": "#%%\n"
    }
   }
  },
  {
   "cell_type": "code",
   "execution_count": 121,
   "outputs": [
    {
     "data": {
      "text/plain": "                     Output                                            \\\nPatient  Hospital Required? Total number of telephone call to parents   \n0                         N                                         2   \n1                         N                                         2   \n2                         N                                         2   \n3                         N                                         3   \n4                         N                                         4   \n..                      ...                                       ...   \n494                       Y                                         2   \n495                       Y                                         1   \n496                       N                                         3   \n497                       N                                         2   \n498                       N                                         3   \n\n                                                                         \\\nPatient Planned/Unplanned huddles with consultants No of days bed saved   \n0                                                1                    1   \n1                                                3                    0   \n2                                                2                    1   \n3                                                2                    2   \n4                                                2                    1   \n..                                             ...                  ...   \n494                                              2                    0   \n495                                              3                    0   \n496                                              4                    1   \n497                                              5                    1   \n498                                              3                    1   \n\n                                                            \\\nPatient                                         GP Surgery   \n0                               Park Grange Medical Centre   \n1                            The Avicenna Medical Practice   \n2                                     Horton Bank Practice   \n3        The Ridge Medical Practice - Great Horton Surgery   \n4                                Leylands Medical Practice   \n..                                                     ...   \n494                          Windhill Green Medical Centre   \n495                                 Kensington Partnership   \n496      The Ridge Medical Practice - Great Horton Surgery   \n497                              Haigh Hall Medical Centre   \n498                               Thornbury Medical Centre   \n\n        Input after referral + triage (Form 1 + 2)              \\\nPatient                              Referral from Age Address   \n0                                             CCDA   8   BD07    \n1                                              A&E  11   BD03    \n2                                             CCDA   3   BD04    \n3                                               GP   3   BD06    \n4                                               GP   3   BD09    \n..                                             ...  ..     ...   \n494                                             GP   2   BD18    \n495                                             GP   2    BD05   \n496                                             GP   5    BD07   \n497                                             GP   5   BD10    \n498                                             GP   2    BD03   \n\n                                        ...  \\\nPatient               Ethnicity Gender  ...   \n0                        Indian      F  ...   \n1                     Pakistani      F  ...   \n2                        Slovak      F  ...   \n3                       British      M  ...   \n4                     Pakistani      M  ...   \n..                          ...    ...  ...   \n494      Other white background      M  ...   \n495                   Pakistani      F  ...   \n496                      Indian      M  ...   \n497                     British      F  ...   \n498              Other European      F  ...   \n\n                    Input after additional face to face (Form 5)  \\\nPatient Was there a clinical need for this face to face visit?.2   \n0                                                      NaN         \n1                                                      NaN         \n2                                                      NaN         \n3                                                      NaN         \n4                                                      NaN         \n..                                                     ...         \n494                                                    NaN         \n495                                                    NaN         \n496                                                    NaN         \n497                                                    NaN         \n498                                                    NaN         \n\n                                                                          \\\nPatient Was this face to face visit at the family's request?.2 RR.2 HR.2   \n0                                                      NaN      NaN  NaN   \n1                                                      NaN      NaN  NaN   \n2                                                      NaN      NaN  NaN   \n3                                                      NaN      NaN  NaN   \n4                                                      NaN      NaN  NaN   \n..                                                     ...      ...  ...   \n494                                                    NaN      NaN  NaN   \n495                                                    NaN      NaN  NaN   \n496                                                    NaN      NaN  NaN   \n497                                                    NaN      NaN  NaN   \n498                                                    NaN      NaN  NaN   \n\n                                                         \\\nPatient Oxygen Saturations.2 Tempreature.1 AVPU.2 CRT.2   \n0                        NaN           NaN    NaN   NaN   \n1                        NaN           NaN    NaN   NaN   \n2                        NaN           NaN    NaN   NaN   \n3                        NaN           NaN    NaN   NaN   \n4                        NaN           NaN    NaN   NaN   \n..                       ...           ...    ...   ...   \n494                      NaN           NaN    NaN   NaN   \n495                      NaN           NaN    NaN   NaN   \n496                      NaN           NaN    NaN   NaN   \n497                      NaN           NaN    NaN   NaN   \n498                      NaN           NaN    NaN   NaN   \n\n                                                         \nPatient Total Mini PAWS Score.2 Total Mini PAWS Score.3  \n0                           NaN                     NaN  \n1                           NaN                     NaN  \n2                           NaN                     NaN  \n3                           NaN                     NaN  \n4                           NaN                     NaN  \n..                          ...                     ...  \n494                         NaN                     NaN  \n495                         NaN                     NaN  \n496                         NaN                     NaN  \n497                         NaN                     NaN  \n498                         NaN                     NaN  \n\n[499 rows x 61 columns]",
      "text/html": "<div>\n<style scoped>\n    .dataframe tbody tr th:only-of-type {\n        vertical-align: middle;\n    }\n\n    .dataframe tbody tr th {\n        vertical-align: top;\n    }\n\n    .dataframe thead tr th {\n        text-align: left;\n    }\n</style>\n<table border=\"1\" class=\"dataframe\">\n  <thead>\n    <tr>\n      <th></th>\n      <th colspan=\"5\" halign=\"left\">Output</th>\n      <th colspan=\"5\" halign=\"left\">Input after referral + triage (Form 1 + 2)</th>\n      <th>...</th>\n      <th colspan=\"10\" halign=\"left\">Input after additional face to face (Form 5)</th>\n    </tr>\n    <tr>\n      <th>Patient</th>\n      <th>Hospital Required?</th>\n      <th>Total number of telephone call to parents</th>\n      <th>Planned/Unplanned huddles with consultants</th>\n      <th>No of days bed saved</th>\n      <th>GP Surgery</th>\n      <th>Referral from</th>\n      <th>Age</th>\n      <th>Address</th>\n      <th>Ethnicity</th>\n      <th>Gender</th>\n      <th>...</th>\n      <th>Was there a clinical need for this face to face visit?.2</th>\n      <th>Was this face to face visit at the family's request?.2</th>\n      <th>RR.2</th>\n      <th>HR.2</th>\n      <th>Oxygen Saturations.2</th>\n      <th>Tempreature.1</th>\n      <th>AVPU.2</th>\n      <th>CRT.2</th>\n      <th>Total Mini PAWS Score.2</th>\n      <th>Total Mini PAWS Score.3</th>\n    </tr>\n  </thead>\n  <tbody>\n    <tr>\n      <th>0</th>\n      <td>N</td>\n      <td>2</td>\n      <td>1</td>\n      <td>1</td>\n      <td>Park Grange Medical Centre</td>\n      <td>CCDA</td>\n      <td>8</td>\n      <td>BD07</td>\n      <td>Indian</td>\n      <td>F</td>\n      <td>...</td>\n      <td>NaN</td>\n      <td>NaN</td>\n      <td>NaN</td>\n      <td>NaN</td>\n      <td>NaN</td>\n      <td>NaN</td>\n      <td>NaN</td>\n      <td>NaN</td>\n      <td>NaN</td>\n      <td>NaN</td>\n    </tr>\n    <tr>\n      <th>1</th>\n      <td>N</td>\n      <td>2</td>\n      <td>3</td>\n      <td>0</td>\n      <td>The Avicenna Medical Practice</td>\n      <td>A&amp;E</td>\n      <td>11</td>\n      <td>BD03</td>\n      <td>Pakistani</td>\n      <td>F</td>\n      <td>...</td>\n      <td>NaN</td>\n      <td>NaN</td>\n      <td>NaN</td>\n      <td>NaN</td>\n      <td>NaN</td>\n      <td>NaN</td>\n      <td>NaN</td>\n      <td>NaN</td>\n      <td>NaN</td>\n      <td>NaN</td>\n    </tr>\n    <tr>\n      <th>2</th>\n      <td>N</td>\n      <td>2</td>\n      <td>2</td>\n      <td>1</td>\n      <td>Horton Bank Practice</td>\n      <td>CCDA</td>\n      <td>3</td>\n      <td>BD04</td>\n      <td>Slovak</td>\n      <td>F</td>\n      <td>...</td>\n      <td>NaN</td>\n      <td>NaN</td>\n      <td>NaN</td>\n      <td>NaN</td>\n      <td>NaN</td>\n      <td>NaN</td>\n      <td>NaN</td>\n      <td>NaN</td>\n      <td>NaN</td>\n      <td>NaN</td>\n    </tr>\n    <tr>\n      <th>3</th>\n      <td>N</td>\n      <td>3</td>\n      <td>2</td>\n      <td>2</td>\n      <td>The Ridge Medical Practice - Great Horton Surgery</td>\n      <td>GP</td>\n      <td>3</td>\n      <td>BD06</td>\n      <td>British</td>\n      <td>M</td>\n      <td>...</td>\n      <td>NaN</td>\n      <td>NaN</td>\n      <td>NaN</td>\n      <td>NaN</td>\n      <td>NaN</td>\n      <td>NaN</td>\n      <td>NaN</td>\n      <td>NaN</td>\n      <td>NaN</td>\n      <td>NaN</td>\n    </tr>\n    <tr>\n      <th>4</th>\n      <td>N</td>\n      <td>4</td>\n      <td>2</td>\n      <td>1</td>\n      <td>Leylands Medical Practice</td>\n      <td>GP</td>\n      <td>3</td>\n      <td>BD09</td>\n      <td>Pakistani</td>\n      <td>M</td>\n      <td>...</td>\n      <td>NaN</td>\n      <td>NaN</td>\n      <td>NaN</td>\n      <td>NaN</td>\n      <td>NaN</td>\n      <td>NaN</td>\n      <td>NaN</td>\n      <td>NaN</td>\n      <td>NaN</td>\n      <td>NaN</td>\n    </tr>\n    <tr>\n      <th>...</th>\n      <td>...</td>\n      <td>...</td>\n      <td>...</td>\n      <td>...</td>\n      <td>...</td>\n      <td>...</td>\n      <td>...</td>\n      <td>...</td>\n      <td>...</td>\n      <td>...</td>\n      <td>...</td>\n      <td>...</td>\n      <td>...</td>\n      <td>...</td>\n      <td>...</td>\n      <td>...</td>\n      <td>...</td>\n      <td>...</td>\n      <td>...</td>\n      <td>...</td>\n      <td>...</td>\n    </tr>\n    <tr>\n      <th>494</th>\n      <td>Y</td>\n      <td>2</td>\n      <td>2</td>\n      <td>0</td>\n      <td>Windhill Green Medical Centre</td>\n      <td>GP</td>\n      <td>2</td>\n      <td>BD18</td>\n      <td>Other white background</td>\n      <td>M</td>\n      <td>...</td>\n      <td>NaN</td>\n      <td>NaN</td>\n      <td>NaN</td>\n      <td>NaN</td>\n      <td>NaN</td>\n      <td>NaN</td>\n      <td>NaN</td>\n      <td>NaN</td>\n      <td>NaN</td>\n      <td>NaN</td>\n    </tr>\n    <tr>\n      <th>495</th>\n      <td>Y</td>\n      <td>1</td>\n      <td>3</td>\n      <td>0</td>\n      <td>Kensington Partnership</td>\n      <td>GP</td>\n      <td>2</td>\n      <td>BD05</td>\n      <td>Pakistani</td>\n      <td>F</td>\n      <td>...</td>\n      <td>NaN</td>\n      <td>NaN</td>\n      <td>NaN</td>\n      <td>NaN</td>\n      <td>NaN</td>\n      <td>NaN</td>\n      <td>NaN</td>\n      <td>NaN</td>\n      <td>NaN</td>\n      <td>NaN</td>\n    </tr>\n    <tr>\n      <th>496</th>\n      <td>N</td>\n      <td>3</td>\n      <td>4</td>\n      <td>1</td>\n      <td>The Ridge Medical Practice - Great Horton Surgery</td>\n      <td>GP</td>\n      <td>5</td>\n      <td>BD07</td>\n      <td>Indian</td>\n      <td>M</td>\n      <td>...</td>\n      <td>NaN</td>\n      <td>NaN</td>\n      <td>NaN</td>\n      <td>NaN</td>\n      <td>NaN</td>\n      <td>NaN</td>\n      <td>NaN</td>\n      <td>NaN</td>\n      <td>NaN</td>\n      <td>NaN</td>\n    </tr>\n    <tr>\n      <th>497</th>\n      <td>N</td>\n      <td>2</td>\n      <td>5</td>\n      <td>1</td>\n      <td>Haigh Hall Medical Centre</td>\n      <td>GP</td>\n      <td>5</td>\n      <td>BD10</td>\n      <td>British</td>\n      <td>F</td>\n      <td>...</td>\n      <td>NaN</td>\n      <td>NaN</td>\n      <td>NaN</td>\n      <td>NaN</td>\n      <td>NaN</td>\n      <td>NaN</td>\n      <td>NaN</td>\n      <td>NaN</td>\n      <td>NaN</td>\n      <td>NaN</td>\n    </tr>\n    <tr>\n      <th>498</th>\n      <td>N</td>\n      <td>3</td>\n      <td>3</td>\n      <td>1</td>\n      <td>Thornbury Medical Centre</td>\n      <td>GP</td>\n      <td>2</td>\n      <td>BD03</td>\n      <td>Other European</td>\n      <td>F</td>\n      <td>...</td>\n      <td>NaN</td>\n      <td>NaN</td>\n      <td>NaN</td>\n      <td>NaN</td>\n      <td>NaN</td>\n      <td>NaN</td>\n      <td>NaN</td>\n      <td>NaN</td>\n      <td>NaN</td>\n      <td>NaN</td>\n    </tr>\n  </tbody>\n</table>\n<p>499 rows × 61 columns</p>\n</div>"
     },
     "execution_count": 121,
     "metadata": {},
     "output_type": "execute_result"
    }
   ],
   "source": [
    "full_ace_data"
   ],
   "metadata": {
    "collapsed": false,
    "pycharm": {
     "name": "#%%\n"
    }
   }
  },
  {
   "cell_type": "code",
   "execution_count": 122,
   "outputs": [],
   "source": [
    "form_names = {\n",
    "    \"Output\": \"output\",\n",
    "    \"Form 1\": \"form_1_2\",\n",
    "    \"Form 3\": \"form_3\",\n",
    "    \"Form 5\": \"form_5\",\n",
    "}\n",
    "\n",
    "def replace_junk_chars(colname):\n",
    "    colname = colname.lower().strip().replace(\" \", \"_\")\n",
    "    return re.sub(r\"\\W\", \"\", colname)\n",
    "\n",
    "new_colnames = [(form_names[form], replace_junk_chars(colname[1]))\n",
    "                for form in form_names.keys()\n",
    "                for colname in full_ace_data.columns\n",
    "                if form in colname[0]]\n",
    "\n",
    "new_colnames_idx = pd.MultiIndex.from_tuples(new_colnames, names=[\"form\", \"feature\"])\n",
    "full_ace_data.columns = new_colnames_idx"
   ],
   "metadata": {
    "collapsed": false,
    "pycharm": {
     "name": "#%%\n"
    }
   }
  },
  {
   "cell_type": "code",
   "execution_count": 131,
   "outputs": [
    {
     "data": {
      "text/plain": "feature comments_eg_language_barriers sepsis_red_flags              hr  \\\n46                                  N   Not applicable  Not applicable   \n49                                  N   Not applicable  Not applicable   \n55                                  N   Not applicable  Not applicable   \n117                                 N   Not applicable  Not applicable   \n122                                 N   Not applicable  Not applicable   \n128                                 N   Not applicable  Not applicable   \n169                                 N   Not applicable  Not applicable   \n195                                 N   Not applicable  Not applicable   \n254                                 N   Not applicable  Not applicable   \n274                                 N   Not applicable  Not applicable   \n290                                 N   Not applicable  Not applicable   \n293                                 N   Not applicable  Not applicable   \n307                                 N   Not applicable  Not applicable   \n382                                 N       None noted  Not applicable   \n402                                 Y       None noted  Not applicable   \n431                                 N       None noted  Not applicable   \n491                                 N       None noted  Not applicable   \n\nfeature              rr oxygen_saturations     temperature            avpu  \\\n46       Not applicable     Not applicable  Not applicable  Not applicable   \n49       Not applicable     Not applicable  Not applicable  Not applicable   \n55       Not applicable     Not applicable  Not applicable  Not applicable   \n117      Not applicable     Not applicable  Not applicable  Not applicable   \n122      Not applicable     Not applicable  Not applicable  Not applicable   \n128      Not applicable     Not applicable  Not applicable  Not applicable   \n169      Not applicable     Not applicable  Not applicable  Not applicable   \n195      Not applicable     Not applicable  Not applicable  Not applicable   \n254      Not applicable     Not applicable  Not applicable  Not applicable   \n274      Not applicable     Not applicable  Not applicable  Not applicable   \n290      Not applicable     Not applicable  Not applicable  Not applicable   \n293      Not applicable     Not applicable  Not applicable  Not applicable   \n307      Not applicable     Not applicable  Not applicable  Not applicable   \n382      Not applicable     Not applicable  Not applicable  Not applicable   \n402      Not applicable     Not applicable  Not applicable  Not applicable   \n431      Not applicable     Not applicable  Not applicable  Not applicable   \n491      Not applicable     Not applicable  Not applicable  Not applicable   \n\nfeature             crt total_mini_paws_score  \\\n46       Not applicable        Not applicable   \n49       Not applicable        Not applicable   \n55       Not applicable        Not applicable   \n117      Not applicable        Not applicable   \n122      Not applicable        Not applicable   \n128      Not applicable        Not applicable   \n169      Not applicable        Not applicable   \n195      Not applicable        Not applicable   \n254      Not applicable        Not applicable   \n274      Not applicable        Not applicable   \n290      Not applicable        Not applicable   \n293      Not applicable        Not applicable   \n307      Not applicable        Not applicable   \n382      Not applicable        Not applicable   \n402      Not applicable        Not applicable   \n431      Not applicable        Not applicable   \n491      Not applicable        Not applicable   \n\nfeature did_you_feel_safe_during_the_home_visit  \n46                               Not applicable  \n49                               Not applicable  \n55                               Not applicable  \n117                              Not applicable  \n122                              Not applicable  \n128                              Not applicable  \n169                              Not applicable  \n195                              Not applicable  \n254                              Not applicable  \n274                              Not applicable  \n290                              Not applicable  \n293                              Not applicable  \n307                              Not applicable  \n382                              Not applicable  \n402                              Not applicable  \n431                              Not applicable  \n491                              Not applicable  ",
      "text/html": "<div>\n<style scoped>\n    .dataframe tbody tr th:only-of-type {\n        vertical-align: middle;\n    }\n\n    .dataframe tbody tr th {\n        vertical-align: top;\n    }\n\n    .dataframe thead th {\n        text-align: right;\n    }\n</style>\n<table border=\"1\" class=\"dataframe\">\n  <thead>\n    <tr style=\"text-align: right;\">\n      <th>feature</th>\n      <th>comments_eg_language_barriers</th>\n      <th>sepsis_red_flags</th>\n      <th>hr</th>\n      <th>rr</th>\n      <th>oxygen_saturations</th>\n      <th>temperature</th>\n      <th>avpu</th>\n      <th>crt</th>\n      <th>total_mini_paws_score</th>\n      <th>did_you_feel_safe_during_the_home_visit</th>\n    </tr>\n  </thead>\n  <tbody>\n    <tr>\n      <th>46</th>\n      <td>N</td>\n      <td>Not applicable</td>\n      <td>Not applicable</td>\n      <td>Not applicable</td>\n      <td>Not applicable</td>\n      <td>Not applicable</td>\n      <td>Not applicable</td>\n      <td>Not applicable</td>\n      <td>Not applicable</td>\n      <td>Not applicable</td>\n    </tr>\n    <tr>\n      <th>49</th>\n      <td>N</td>\n      <td>Not applicable</td>\n      <td>Not applicable</td>\n      <td>Not applicable</td>\n      <td>Not applicable</td>\n      <td>Not applicable</td>\n      <td>Not applicable</td>\n      <td>Not applicable</td>\n      <td>Not applicable</td>\n      <td>Not applicable</td>\n    </tr>\n    <tr>\n      <th>55</th>\n      <td>N</td>\n      <td>Not applicable</td>\n      <td>Not applicable</td>\n      <td>Not applicable</td>\n      <td>Not applicable</td>\n      <td>Not applicable</td>\n      <td>Not applicable</td>\n      <td>Not applicable</td>\n      <td>Not applicable</td>\n      <td>Not applicable</td>\n    </tr>\n    <tr>\n      <th>117</th>\n      <td>N</td>\n      <td>Not applicable</td>\n      <td>Not applicable</td>\n      <td>Not applicable</td>\n      <td>Not applicable</td>\n      <td>Not applicable</td>\n      <td>Not applicable</td>\n      <td>Not applicable</td>\n      <td>Not applicable</td>\n      <td>Not applicable</td>\n    </tr>\n    <tr>\n      <th>122</th>\n      <td>N</td>\n      <td>Not applicable</td>\n      <td>Not applicable</td>\n      <td>Not applicable</td>\n      <td>Not applicable</td>\n      <td>Not applicable</td>\n      <td>Not applicable</td>\n      <td>Not applicable</td>\n      <td>Not applicable</td>\n      <td>Not applicable</td>\n    </tr>\n    <tr>\n      <th>128</th>\n      <td>N</td>\n      <td>Not applicable</td>\n      <td>Not applicable</td>\n      <td>Not applicable</td>\n      <td>Not applicable</td>\n      <td>Not applicable</td>\n      <td>Not applicable</td>\n      <td>Not applicable</td>\n      <td>Not applicable</td>\n      <td>Not applicable</td>\n    </tr>\n    <tr>\n      <th>169</th>\n      <td>N</td>\n      <td>Not applicable</td>\n      <td>Not applicable</td>\n      <td>Not applicable</td>\n      <td>Not applicable</td>\n      <td>Not applicable</td>\n      <td>Not applicable</td>\n      <td>Not applicable</td>\n      <td>Not applicable</td>\n      <td>Not applicable</td>\n    </tr>\n    <tr>\n      <th>195</th>\n      <td>N</td>\n      <td>Not applicable</td>\n      <td>Not applicable</td>\n      <td>Not applicable</td>\n      <td>Not applicable</td>\n      <td>Not applicable</td>\n      <td>Not applicable</td>\n      <td>Not applicable</td>\n      <td>Not applicable</td>\n      <td>Not applicable</td>\n    </tr>\n    <tr>\n      <th>254</th>\n      <td>N</td>\n      <td>Not applicable</td>\n      <td>Not applicable</td>\n      <td>Not applicable</td>\n      <td>Not applicable</td>\n      <td>Not applicable</td>\n      <td>Not applicable</td>\n      <td>Not applicable</td>\n      <td>Not applicable</td>\n      <td>Not applicable</td>\n    </tr>\n    <tr>\n      <th>274</th>\n      <td>N</td>\n      <td>Not applicable</td>\n      <td>Not applicable</td>\n      <td>Not applicable</td>\n      <td>Not applicable</td>\n      <td>Not applicable</td>\n      <td>Not applicable</td>\n      <td>Not applicable</td>\n      <td>Not applicable</td>\n      <td>Not applicable</td>\n    </tr>\n    <tr>\n      <th>290</th>\n      <td>N</td>\n      <td>Not applicable</td>\n      <td>Not applicable</td>\n      <td>Not applicable</td>\n      <td>Not applicable</td>\n      <td>Not applicable</td>\n      <td>Not applicable</td>\n      <td>Not applicable</td>\n      <td>Not applicable</td>\n      <td>Not applicable</td>\n    </tr>\n    <tr>\n      <th>293</th>\n      <td>N</td>\n      <td>Not applicable</td>\n      <td>Not applicable</td>\n      <td>Not applicable</td>\n      <td>Not applicable</td>\n      <td>Not applicable</td>\n      <td>Not applicable</td>\n      <td>Not applicable</td>\n      <td>Not applicable</td>\n      <td>Not applicable</td>\n    </tr>\n    <tr>\n      <th>307</th>\n      <td>N</td>\n      <td>Not applicable</td>\n      <td>Not applicable</td>\n      <td>Not applicable</td>\n      <td>Not applicable</td>\n      <td>Not applicable</td>\n      <td>Not applicable</td>\n      <td>Not applicable</td>\n      <td>Not applicable</td>\n      <td>Not applicable</td>\n    </tr>\n    <tr>\n      <th>382</th>\n      <td>N</td>\n      <td>None noted</td>\n      <td>Not applicable</td>\n      <td>Not applicable</td>\n      <td>Not applicable</td>\n      <td>Not applicable</td>\n      <td>Not applicable</td>\n      <td>Not applicable</td>\n      <td>Not applicable</td>\n      <td>Not applicable</td>\n    </tr>\n    <tr>\n      <th>402</th>\n      <td>Y</td>\n      <td>None noted</td>\n      <td>Not applicable</td>\n      <td>Not applicable</td>\n      <td>Not applicable</td>\n      <td>Not applicable</td>\n      <td>Not applicable</td>\n      <td>Not applicable</td>\n      <td>Not applicable</td>\n      <td>Not applicable</td>\n    </tr>\n    <tr>\n      <th>431</th>\n      <td>N</td>\n      <td>None noted</td>\n      <td>Not applicable</td>\n      <td>Not applicable</td>\n      <td>Not applicable</td>\n      <td>Not applicable</td>\n      <td>Not applicable</td>\n      <td>Not applicable</td>\n      <td>Not applicable</td>\n      <td>Not applicable</td>\n    </tr>\n    <tr>\n      <th>491</th>\n      <td>N</td>\n      <td>None noted</td>\n      <td>Not applicable</td>\n      <td>Not applicable</td>\n      <td>Not applicable</td>\n      <td>Not applicable</td>\n      <td>Not applicable</td>\n      <td>Not applicable</td>\n      <td>Not applicable</td>\n      <td>Not applicable</td>\n    </tr>\n  </tbody>\n</table>\n</div>"
     },
     "execution_count": 131,
     "metadata": {},
     "output_type": "execute_result"
    }
   ],
   "source": [
    "contains_na_counts = (full_ace_data[\"form_3\"] == \"Not applicable\").sum(axis=1)\n",
    "more_than_1_na = contains_na_counts > 1\n",
    "form_3_nas = full_ace_data[\"form_3\"][more_than_1_na]\n",
    "form_3_nas"
   ],
   "metadata": {
    "collapsed": false,
    "pycharm": {
     "name": "#%%\n"
    }
   }
  },
  {
   "cell_type": "code",
   "execution_count": 132,
   "outputs": [
    {
     "data": {
      "text/plain": "17"
     },
     "execution_count": 132,
     "metadata": {},
     "output_type": "execute_result"
    }
   ],
   "source": [
    "len(form_3_nas)"
   ],
   "metadata": {
    "collapsed": false,
    "pycharm": {
     "name": "#%%\n"
    }
   }
  },
  {
   "cell_type": "code",
   "execution_count": 147,
   "outputs": [
    {
     "data": {
      "text/plain": "form    feature          \noutput  hospital_required    6\ndtype: int64"
     },
     "execution_count": 147,
     "metadata": {},
     "output_type": "execute_result"
    }
   ],
   "source": [
    "pd.set_option(\"display.max_columns\", 10000)\n",
    "(full_ace_data.loc[more_than_1_na, [(\"output\", \"hospital_required\")]] == \"N\").sum()"
   ],
   "metadata": {
    "collapsed": false,
    "pycharm": {
     "name": "#%%\n"
    }
   }
  },
  {
   "cell_type": "code",
   "execution_count": null,
   "outputs": [],
   "source": [],
   "metadata": {
    "collapsed": false,
    "pycharm": {
     "name": "#%%\n"
    }
   }
  }
 ],
 "metadata": {
  "kernelspec": {
   "display_name": "Python 3",
   "language": "python",
   "name": "python3"
  },
  "language_info": {
   "codemirror_mode": {
    "name": "ipython",
    "version": 2
   },
   "file_extension": ".py",
   "mimetype": "text/x-python",
   "name": "python",
   "nbconvert_exporter": "python",
   "pygments_lexer": "ipython2",
   "version": "2.7.6"
  }
 },
 "nbformat": 4,
 "nbformat_minor": 0
}