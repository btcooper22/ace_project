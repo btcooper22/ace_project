{
 "cells": [
  {
   "cell_type": "code",
   "execution_count": 1,
   "metadata": {
    "collapsed": true
   },
   "outputs": [],
   "source": [
    "import sys\n",
    "sys.path.append('/Users/samrelins/Documents/LIDA/ace_project/')\n",
    "from src.data_prep import *\n",
    "from src.train_test import *\n",
    "\n",
    "# load in ace dataset with text\n",
    "extra_filepath = '/Users/samrelins/Documents/LIDA/ace_project/data' \\\n",
    "              '/ace_data_extra.csv'\n",
    "ace_dat_extra = pd.read_csv(extra_filepath)\n",
    "ace_dat_extra = (ace_dat_extra\n",
    "                 .pipe(start_pipeline)\n",
    "                 .pipe(clean_data)\n",
    "                 .pipe(fill_nas)\n",
    "                 .pipe(add_features))\n",
    "\n",
    "orig_filepath = '/Users/samrelins/Documents/LIDA/ace_project/data' \\\n",
    "              '/ace_data_orig.csv'\n",
    "ace_dat_orig = pd.read_csv(orig_filepath)\n",
    "ace_dat_orig = (ace_dat_orig\n",
    "                 .pipe(start_pipeline)\n",
    "                 .pipe(clean_data)\n",
    "                 .pipe(fill_nas)\n",
    "                 .pipe(add_features))"
   ]
  },
  {
   "cell_type": "code",
   "execution_count": 2,
   "outputs": [
    {
     "data": {
      "text/plain": "486"
     },
     "execution_count": 2,
     "metadata": {},
     "output_type": "execute_result"
    }
   ],
   "source": [
    "len(ace_dat_orig)"
   ],
   "metadata": {
    "collapsed": false,
    "pycharm": {
     "name": "#%%\n"
    }
   }
  },
  {
   "cell_type": "code",
   "execution_count": 3,
   "outputs": [
    {
     "data": {
      "text/plain": "488"
     },
     "execution_count": 3,
     "metadata": {},
     "output_type": "execute_result"
    }
   ],
   "source": [
    "len(ace_dat_extra)"
   ],
   "metadata": {
    "collapsed": false,
    "pycharm": {
     "name": "#%%\n"
    }
   }
  },
  {
   "cell_type": "code",
   "execution_count": 7,
   "outputs": [
    {
     "name": "stdout",
     "output_type": "stream",
     "text": [
      "46 has no similar examples\n",
      "252 -> [250] : Index(['heart_rate'], dtype='object') 111.0 -> [110.]\n",
      "426 has no similar examples\n",
      "170 -> [169] : Index(['heart_rate'], dtype='object') 119.28971962616822 -> [119.36533958]\n",
      "234 has no similar examples\n",
      "470 has no similar examples\n"
     ]
    }
   ],
   "source": [
    "orig_columns = ace_dat_orig.drop(\"referral_from\", axis=1).columns\n",
    "\n",
    "def find_similar_rows(extra_idx):\n",
    "    similar_rows = []\n",
    "    different_entries = []\n",
    "    for orig_idx in range(len(ace_dat_orig)):\n",
    "        extra_row = ace_dat_extra[orig_columns].iloc[extra_idx,:]\n",
    "        orig_row = ace_dat_orig[orig_columns].iloc[orig_idx,:]\n",
    "        same_entries = extra_row == orig_row\n",
    "        if sum(same_entries) > len(orig_columns) - 2:\n",
    "            row_name = ace_dat_orig.iloc[orig_idx,:].name\n",
    "            similar_rows.append(row_name)\n",
    "            different_entries.append(orig_columns[~same_entries])\n",
    "    return similar_rows, different_entries\n",
    "\n",
    "def find_similar_rows_new(row_iloc, df_from, df_to_check):\n",
    "    common_columns = pd.Index([col for col in df_from.columns\n",
    "                      if col in df_to_check.columns])\n",
    "\n",
    "    similar_row_locs = []\n",
    "    different_entries = []\n",
    "\n",
    "    row_from = df_from[common_columns].iloc[row_iloc,:]\n",
    "    for loop_idx in range(len(df_to_check)):\n",
    "        row_to_check = df_to_check[common_columns].iloc[loop_idx,:]\n",
    "        same_entries = row_from == row_to_check\n",
    "        if sum(same_entries) > len(common_columns) - 2:\n",
    "            similar_row_loc = row_to_check.name\n",
    "            similar_row_locs.append(similar_row_loc)\n",
    "            different_entries.append(common_columns[~same_entries])\n",
    "    return similar_row_locs, different_entries\n",
    "\n",
    "for i in range(len(ace_dat_extra)):\n",
    "    row_i = ace_dat_extra[orig_columns].iloc[i,:]\n",
    "    i_name = row_i.name\n",
    "    same_rows = (ace_dat_orig[orig_columns] == row_i).all(axis=1)\n",
    "    if not sum(same_rows):\n",
    "        similar_rows, different_entries = find_similar_rows(i)\n",
    "        if len(similar_rows):\n",
    "            if different_entries[0] in [\"temp\", \"heart_rate\", \"ox_sat\",\n",
    "                                        \"resp_rate\"]:\n",
    "                num_feature = different_entries[0]\n",
    "                extra_fig = ace_dat_extra.iloc[i,:][num_feature].values[0]\n",
    "                orig_fig = ace_dat_orig.loc[similar_rows,\n",
    "                           :][num_feature].values[0]\n",
    "                if abs(extra_fig - orig_fig) > 0.01:\n",
    "                    print(f\"{i_name} -> {similar_rows} : {num_feature}\"\n",
    "                          + f\" {extra_fig} -> {orig_fig}\")\n",
    "            else:\n",
    "                print(f\"{i_name} -> {similar_rows} : {different_entries}\")\n",
    "        else:\n",
    "            print(f\"{i_name} has no similar examples\")\n",
    "    if sum(same_rows) > 1:\n",
    "        other_rows_iloc = same_rows[same_rows].index\n",
    "        other_rows_name = []\n",
    "        for iloc in other_rows_iloc:\n",
    "            other_rows_name.append(ace_dat_orig.iloc[iloc,:].name)\n",
    "        print(f\"{i_name} = {other_rows_name}\")"
   ],
   "metadata": {
    "collapsed": false,
    "pycharm": {
     "name": "#%%\n"
    }
   }
  },
  {
   "cell_type": "code",
   "execution_count": 38,
   "outputs": [
    {
     "name": "stdout",
     "output_type": "stream",
     "text": [
      "0\n",
      "0\n",
      "0\n",
      "0\n",
      "0\n",
      "0\n",
      "0\n",
      "1\n",
      "23 -> [192] : Index(['temp'], dtype='object') 37 -> 36\n",
      "1\n",
      "30 -> [192] : Index(['temp'], dtype='object') 37 -> 36\n",
      "0\n",
      "0\n",
      "1\n",
      "52 -> [192] : Index(['temp'], dtype='object') 37 -> 36\n",
      "1\n",
      "53 -> [192] : Index(['temp'], dtype='object') 37 -> 36\n",
      "0\n",
      "0\n",
      "0\n",
      "1\n",
      "80 -> [192] : Index(['temp'], dtype='object') 37 -> 36\n",
      "0\n",
      "0\n",
      "0\n",
      "1\n",
      "86 -> [192] : Index(['temp'], dtype='object') 37 -> 36\n",
      "0\n",
      "1\n",
      "90 -> [192] : Index(['temp'], dtype='object') 37 -> 36\n",
      "1\n",
      "91 -> [192] : Index(['temp'], dtype='object') 37 -> 36\n",
      "1\n",
      "94 -> [192] : Index(['temp'], dtype='object') 37 -> 36\n",
      "0\n",
      "2\n",
      "98 -> [192] : Index(['temp'], dtype='object') 38 -> 36\n",
      "1\n",
      "99 -> [192] : Index(['temp'], dtype='object') 37 -> 36\n",
      "1\n",
      "101 -> [192] : Index(['temp'], dtype='object') 37 -> 36\n",
      "1\n",
      "108 -> [192] : Index(['temp'], dtype='object') 37 -> 36\n",
      "1\n",
      "110 -> [192] : Index(['temp'], dtype='object') 37 -> 36\n",
      "0\n",
      "0\n",
      "2\n",
      "115 -> [192] : Index(['temp'], dtype='object') 38 -> 36\n",
      "0\n",
      "0\n",
      "0\n",
      "1\n",
      "130 -> [192] : Index(['temp'], dtype='object') 37 -> 36\n",
      "0\n",
      "1\n",
      "146 -> [192] : Index(['temp'], dtype='object') 37 -> 36\n",
      "1\n",
      "149 -> [192] : Index(['temp'], dtype='object') 37 -> 36\n",
      "0\n",
      "1\n",
      "153 -> [192] : Index(['temp'], dtype='object') 37 -> 36\n",
      "1\n",
      "157 -> [192] : Index(['temp'], dtype='object') 37 -> 36\n",
      "0\n",
      "1\n",
      "164 -> [192] : Index(['temp'], dtype='object') 37 -> 36\n",
      "0\n",
      "0\n",
      "0\n"
     ]
    },
    {
     "ename": "KeyboardInterrupt",
     "evalue": "",
     "output_type": "error",
     "traceback": [
      "\u001B[0;31m---------------------------------------------------------------------------\u001B[0m",
      "\u001B[0;31mKeyboardInterrupt\u001B[0m                         Traceback (most recent call last)",
      "\u001B[0;32m<ipython-input-38-92b3e7afcd39>\u001B[0m in \u001B[0;36m<module>\u001B[0;34m\u001B[0m\n\u001B[1;32m     36\u001B[0m             \u001B[0mprint\u001B[0m\u001B[0;34m(\u001B[0m\u001B[0;34mf\"{i_name} = {other_rows_name}\"\u001B[0m\u001B[0;34m)\u001B[0m\u001B[0;34m\u001B[0m\u001B[0;34m\u001B[0m\u001B[0m\n\u001B[1;32m     37\u001B[0m \u001B[0;34m\u001B[0m\u001B[0m\n\u001B[0;32m---> 38\u001B[0;31m \u001B[0mcheck_for_differences\u001B[0m\u001B[0;34m(\u001B[0m\u001B[0mace_dat_extra\u001B[0m\u001B[0;34m,\u001B[0m \u001B[0mace_dat_orig\u001B[0m\u001B[0;34m)\u001B[0m\u001B[0;34m\u001B[0m\u001B[0;34m\u001B[0m\u001B[0m\n\u001B[0m\u001B[1;32m     39\u001B[0m \u001B[0;34m\u001B[0m\u001B[0m\n",
      "\u001B[0;32m<ipython-input-38-92b3e7afcd39>\u001B[0m in \u001B[0;36mcheck_for_differences\u001B[0;34m(df_from, df_to_check)\u001B[0m\n\u001B[1;32m      7\u001B[0m         \u001B[0msame_rows\u001B[0m \u001B[0;34m=\u001B[0m \u001B[0;34m(\u001B[0m\u001B[0mdf_to_check\u001B[0m\u001B[0;34m[\u001B[0m\u001B[0mcommon_columns\u001B[0m\u001B[0;34m]\u001B[0m \u001B[0;34m==\u001B[0m \u001B[0mrow_i\u001B[0m\u001B[0;34m)\u001B[0m\u001B[0;34m.\u001B[0m\u001B[0mall\u001B[0m\u001B[0;34m(\u001B[0m\u001B[0maxis\u001B[0m\u001B[0;34m=\u001B[0m\u001B[0;36m1\u001B[0m\u001B[0;34m)\u001B[0m\u001B[0;34m\u001B[0m\u001B[0;34m\u001B[0m\u001B[0m\n\u001B[1;32m      8\u001B[0m         \u001B[0;32mif\u001B[0m \u001B[0;32mnot\u001B[0m \u001B[0msum\u001B[0m\u001B[0;34m(\u001B[0m\u001B[0msame_rows\u001B[0m\u001B[0;34m)\u001B[0m\u001B[0;34m:\u001B[0m\u001B[0;34m\u001B[0m\u001B[0;34m\u001B[0m\u001B[0m\n\u001B[0;32m----> 9\u001B[0;31m             similar_rows, different_entries = find_similar_rows_new(i,\n\u001B[0m\u001B[1;32m     10\u001B[0m                                                                     \u001B[0mdf_from\u001B[0m\u001B[0;34m,\u001B[0m\u001B[0;34m\u001B[0m\u001B[0;34m\u001B[0m\u001B[0m\n\u001B[1;32m     11\u001B[0m                                                                     df_to_check)\n",
      "\u001B[0;32m<ipython-input-21-97f438a0dbc3>\u001B[0m in \u001B[0;36mfind_similar_rows_new\u001B[0;34m(row_iloc, df_from, df_to_check)\u001B[0m\n\u001B[1;32m     23\u001B[0m     \u001B[0mrow_from\u001B[0m \u001B[0;34m=\u001B[0m \u001B[0mdf_from\u001B[0m\u001B[0;34m[\u001B[0m\u001B[0mcommon_columns\u001B[0m\u001B[0;34m]\u001B[0m\u001B[0;34m.\u001B[0m\u001B[0miloc\u001B[0m\u001B[0;34m[\u001B[0m\u001B[0mrow_iloc\u001B[0m\u001B[0;34m,\u001B[0m\u001B[0;34m:\u001B[0m\u001B[0;34m]\u001B[0m\u001B[0;34m\u001B[0m\u001B[0;34m\u001B[0m\u001B[0m\n\u001B[1;32m     24\u001B[0m     \u001B[0;32mfor\u001B[0m \u001B[0mloop_idx\u001B[0m \u001B[0;32min\u001B[0m \u001B[0mrange\u001B[0m\u001B[0;34m(\u001B[0m\u001B[0mlen\u001B[0m\u001B[0;34m(\u001B[0m\u001B[0mdf_to_check\u001B[0m\u001B[0;34m)\u001B[0m\u001B[0;34m)\u001B[0m\u001B[0;34m:\u001B[0m\u001B[0;34m\u001B[0m\u001B[0;34m\u001B[0m\u001B[0m\n\u001B[0;32m---> 25\u001B[0;31m         \u001B[0mrow_to_check\u001B[0m \u001B[0;34m=\u001B[0m \u001B[0mdf_to_check\u001B[0m\u001B[0;34m[\u001B[0m\u001B[0mcommon_columns\u001B[0m\u001B[0;34m]\u001B[0m\u001B[0;34m.\u001B[0m\u001B[0miloc\u001B[0m\u001B[0;34m[\u001B[0m\u001B[0mloop_idx\u001B[0m\u001B[0;34m,\u001B[0m\u001B[0;34m:\u001B[0m\u001B[0;34m]\u001B[0m\u001B[0;34m\u001B[0m\u001B[0;34m\u001B[0m\u001B[0m\n\u001B[0m\u001B[1;32m     26\u001B[0m         \u001B[0msame_entries\u001B[0m \u001B[0;34m=\u001B[0m \u001B[0mrow_from\u001B[0m \u001B[0;34m==\u001B[0m \u001B[0mrow_to_check\u001B[0m\u001B[0;34m\u001B[0m\u001B[0;34m\u001B[0m\u001B[0m\n\u001B[1;32m     27\u001B[0m         \u001B[0;32mif\u001B[0m \u001B[0msum\u001B[0m\u001B[0;34m(\u001B[0m\u001B[0msame_entries\u001B[0m\u001B[0;34m)\u001B[0m \u001B[0;34m>\u001B[0m \u001B[0mlen\u001B[0m\u001B[0;34m(\u001B[0m\u001B[0mcommon_columns\u001B[0m\u001B[0;34m)\u001B[0m \u001B[0;34m-\u001B[0m \u001B[0;36m2\u001B[0m\u001B[0;34m:\u001B[0m\u001B[0;34m\u001B[0m\u001B[0;34m\u001B[0m\u001B[0m\n",
      "\u001B[0;32m/opt/anaconda3/envs/ACEenv/lib/python3.9/site-packages/pandas/core/indexing.py\u001B[0m in \u001B[0;36m__getitem__\u001B[0;34m(self, key)\u001B[0m\n\u001B[1;32m    886\u001B[0m                     \u001B[0;31m# AttributeError for IntervalTree get_value\u001B[0m\u001B[0;34m\u001B[0m\u001B[0;34m\u001B[0m\u001B[0;34m\u001B[0m\u001B[0m\n\u001B[1;32m    887\u001B[0m                     \u001B[0;32mreturn\u001B[0m \u001B[0mself\u001B[0m\u001B[0;34m.\u001B[0m\u001B[0mobj\u001B[0m\u001B[0;34m.\u001B[0m\u001B[0m_get_value\u001B[0m\u001B[0;34m(\u001B[0m\u001B[0;34m*\u001B[0m\u001B[0mkey\u001B[0m\u001B[0;34m,\u001B[0m \u001B[0mtakeable\u001B[0m\u001B[0;34m=\u001B[0m\u001B[0mself\u001B[0m\u001B[0;34m.\u001B[0m\u001B[0m_takeable\u001B[0m\u001B[0;34m)\u001B[0m\u001B[0;34m\u001B[0m\u001B[0;34m\u001B[0m\u001B[0m\n\u001B[0;32m--> 888\u001B[0;31m             \u001B[0;32mreturn\u001B[0m \u001B[0mself\u001B[0m\u001B[0;34m.\u001B[0m\u001B[0m_getitem_tuple\u001B[0m\u001B[0;34m(\u001B[0m\u001B[0mkey\u001B[0m\u001B[0;34m)\u001B[0m\u001B[0;34m\u001B[0m\u001B[0;34m\u001B[0m\u001B[0m\n\u001B[0m\u001B[1;32m    889\u001B[0m         \u001B[0;32melse\u001B[0m\u001B[0;34m:\u001B[0m\u001B[0;34m\u001B[0m\u001B[0;34m\u001B[0m\u001B[0m\n\u001B[1;32m    890\u001B[0m             \u001B[0;31m# we by definition only have the 0th axis\u001B[0m\u001B[0;34m\u001B[0m\u001B[0;34m\u001B[0m\u001B[0;34m\u001B[0m\u001B[0m\n",
      "\u001B[0;32m/opt/anaconda3/envs/ACEenv/lib/python3.9/site-packages/pandas/core/indexing.py\u001B[0m in \u001B[0;36m_getitem_tuple\u001B[0;34m(self, tup)\u001B[0m\n\u001B[1;32m   1449\u001B[0m         \u001B[0mself\u001B[0m\u001B[0;34m.\u001B[0m\u001B[0m_has_valid_tuple\u001B[0m\u001B[0;34m(\u001B[0m\u001B[0mtup\u001B[0m\u001B[0;34m)\u001B[0m\u001B[0;34m\u001B[0m\u001B[0;34m\u001B[0m\u001B[0m\n\u001B[1;32m   1450\u001B[0m         \u001B[0;32mwith\u001B[0m \u001B[0msuppress\u001B[0m\u001B[0;34m(\u001B[0m\u001B[0mIndexingError\u001B[0m\u001B[0;34m)\u001B[0m\u001B[0;34m:\u001B[0m\u001B[0;34m\u001B[0m\u001B[0;34m\u001B[0m\u001B[0m\n\u001B[0;32m-> 1451\u001B[0;31m             \u001B[0;32mreturn\u001B[0m \u001B[0mself\u001B[0m\u001B[0;34m.\u001B[0m\u001B[0m_getitem_lowerdim\u001B[0m\u001B[0;34m(\u001B[0m\u001B[0mtup\u001B[0m\u001B[0;34m)\u001B[0m\u001B[0;34m\u001B[0m\u001B[0;34m\u001B[0m\u001B[0m\n\u001B[0m\u001B[1;32m   1452\u001B[0m \u001B[0;34m\u001B[0m\u001B[0m\n\u001B[1;32m   1453\u001B[0m         \u001B[0;32mreturn\u001B[0m \u001B[0mself\u001B[0m\u001B[0;34m.\u001B[0m\u001B[0m_getitem_tuple_same_dim\u001B[0m\u001B[0;34m(\u001B[0m\u001B[0mtup\u001B[0m\u001B[0;34m)\u001B[0m\u001B[0;34m\u001B[0m\u001B[0;34m\u001B[0m\u001B[0m\n",
      "\u001B[0;32m/opt/anaconda3/envs/ACEenv/lib/python3.9/site-packages/pandas/core/indexing.py\u001B[0m in \u001B[0;36m_getitem_lowerdim\u001B[0;34m(self, tup)\u001B[0m\n\u001B[1;32m    804\u001B[0m                 \u001B[0;31m# We don't need to check for tuples here because those are\u001B[0m\u001B[0;34m\u001B[0m\u001B[0;34m\u001B[0m\u001B[0;34m\u001B[0m\u001B[0m\n\u001B[1;32m    805\u001B[0m                 \u001B[0;31m#  caught by the _is_nested_tuple_indexer check above.\u001B[0m\u001B[0;34m\u001B[0m\u001B[0;34m\u001B[0m\u001B[0;34m\u001B[0m\u001B[0m\n\u001B[0;32m--> 806\u001B[0;31m                 \u001B[0msection\u001B[0m \u001B[0;34m=\u001B[0m \u001B[0mself\u001B[0m\u001B[0;34m.\u001B[0m\u001B[0m_getitem_axis\u001B[0m\u001B[0;34m(\u001B[0m\u001B[0mkey\u001B[0m\u001B[0;34m,\u001B[0m \u001B[0maxis\u001B[0m\u001B[0;34m=\u001B[0m\u001B[0mi\u001B[0m\u001B[0;34m)\u001B[0m\u001B[0;34m\u001B[0m\u001B[0;34m\u001B[0m\u001B[0m\n\u001B[0m\u001B[1;32m    807\u001B[0m \u001B[0;34m\u001B[0m\u001B[0m\n\u001B[1;32m    808\u001B[0m                 \u001B[0;31m# We should never have a scalar section here, because\u001B[0m\u001B[0;34m\u001B[0m\u001B[0;34m\u001B[0m\u001B[0;34m\u001B[0m\u001B[0m\n",
      "\u001B[0;32m/opt/anaconda3/envs/ACEenv/lib/python3.9/site-packages/pandas/core/indexing.py\u001B[0m in \u001B[0;36m_getitem_axis\u001B[0;34m(self, key, axis)\u001B[0m\n\u001B[1;32m   1500\u001B[0m             \u001B[0mself\u001B[0m\u001B[0;34m.\u001B[0m\u001B[0m_validate_integer\u001B[0m\u001B[0;34m(\u001B[0m\u001B[0mkey\u001B[0m\u001B[0;34m,\u001B[0m \u001B[0maxis\u001B[0m\u001B[0;34m)\u001B[0m\u001B[0;34m\u001B[0m\u001B[0;34m\u001B[0m\u001B[0m\n\u001B[1;32m   1501\u001B[0m \u001B[0;34m\u001B[0m\u001B[0m\n\u001B[0;32m-> 1502\u001B[0;31m             \u001B[0;32mreturn\u001B[0m \u001B[0mself\u001B[0m\u001B[0;34m.\u001B[0m\u001B[0mobj\u001B[0m\u001B[0;34m.\u001B[0m\u001B[0m_ixs\u001B[0m\u001B[0;34m(\u001B[0m\u001B[0mkey\u001B[0m\u001B[0;34m,\u001B[0m \u001B[0maxis\u001B[0m\u001B[0;34m=\u001B[0m\u001B[0maxis\u001B[0m\u001B[0;34m)\u001B[0m\u001B[0;34m\u001B[0m\u001B[0;34m\u001B[0m\u001B[0m\n\u001B[0m\u001B[1;32m   1503\u001B[0m \u001B[0;34m\u001B[0m\u001B[0m\n\u001B[1;32m   1504\u001B[0m     \u001B[0;32mdef\u001B[0m \u001B[0m_get_slice_axis\u001B[0m\u001B[0;34m(\u001B[0m\u001B[0mself\u001B[0m\u001B[0;34m,\u001B[0m \u001B[0mslice_obj\u001B[0m\u001B[0;34m:\u001B[0m \u001B[0mslice\u001B[0m\u001B[0;34m,\u001B[0m \u001B[0maxis\u001B[0m\u001B[0;34m:\u001B[0m \u001B[0mint\u001B[0m\u001B[0;34m)\u001B[0m\u001B[0;34m:\u001B[0m\u001B[0;34m\u001B[0m\u001B[0;34m\u001B[0m\u001B[0m\n",
      "\u001B[0;32m/opt/anaconda3/envs/ACEenv/lib/python3.9/site-packages/pandas/core/frame.py\u001B[0m in \u001B[0;36m_ixs\u001B[0;34m(self, i, axis)\u001B[0m\n\u001B[1;32m   2945\u001B[0m         \u001B[0;31m# irow\u001B[0m\u001B[0;34m\u001B[0m\u001B[0;34m\u001B[0m\u001B[0;34m\u001B[0m\u001B[0m\n\u001B[1;32m   2946\u001B[0m         \u001B[0;32mif\u001B[0m \u001B[0maxis\u001B[0m \u001B[0;34m==\u001B[0m \u001B[0;36m0\u001B[0m\u001B[0;34m:\u001B[0m\u001B[0;34m\u001B[0m\u001B[0;34m\u001B[0m\u001B[0m\n\u001B[0;32m-> 2947\u001B[0;31m             \u001B[0mnew_values\u001B[0m \u001B[0;34m=\u001B[0m \u001B[0mself\u001B[0m\u001B[0;34m.\u001B[0m\u001B[0m_mgr\u001B[0m\u001B[0;34m.\u001B[0m\u001B[0mfast_xs\u001B[0m\u001B[0;34m(\u001B[0m\u001B[0mi\u001B[0m\u001B[0;34m)\u001B[0m\u001B[0;34m\u001B[0m\u001B[0;34m\u001B[0m\u001B[0m\n\u001B[0m\u001B[1;32m   2948\u001B[0m \u001B[0;34m\u001B[0m\u001B[0m\n\u001B[1;32m   2949\u001B[0m             \u001B[0;31m# if we are a copy, mark as such\u001B[0m\u001B[0;34m\u001B[0m\u001B[0;34m\u001B[0m\u001B[0;34m\u001B[0m\u001B[0m\n",
      "\u001B[0;32m/opt/anaconda3/envs/ACEenv/lib/python3.9/site-packages/pandas/core/internals/managers.py\u001B[0m in \u001B[0;36mfast_xs\u001B[0;34m(self, loc)\u001B[0m\n\u001B[1;32m    953\u001B[0m             \u001B[0;32mreturn\u001B[0m \u001B[0mself\u001B[0m\u001B[0;34m.\u001B[0m\u001B[0mblocks\u001B[0m\u001B[0;34m[\u001B[0m\u001B[0;36m0\u001B[0m\u001B[0;34m]\u001B[0m\u001B[0;34m.\u001B[0m\u001B[0miget\u001B[0m\u001B[0;34m(\u001B[0m\u001B[0;34m(\u001B[0m\u001B[0mslice\u001B[0m\u001B[0;34m(\u001B[0m\u001B[0;32mNone\u001B[0m\u001B[0;34m)\u001B[0m\u001B[0;34m,\u001B[0m \u001B[0mloc\u001B[0m\u001B[0;34m)\u001B[0m\u001B[0;34m)\u001B[0m\u001B[0;34m\u001B[0m\u001B[0;34m\u001B[0m\u001B[0m\n\u001B[1;32m    954\u001B[0m \u001B[0;34m\u001B[0m\u001B[0m\n\u001B[0;32m--> 955\u001B[0;31m         \u001B[0mdtype\u001B[0m \u001B[0;34m=\u001B[0m \u001B[0m_interleaved_dtype\u001B[0m\u001B[0;34m(\u001B[0m\u001B[0mself\u001B[0m\u001B[0;34m.\u001B[0m\u001B[0mblocks\u001B[0m\u001B[0;34m)\u001B[0m\u001B[0;34m\u001B[0m\u001B[0;34m\u001B[0m\u001B[0m\n\u001B[0m\u001B[1;32m    956\u001B[0m \u001B[0;34m\u001B[0m\u001B[0m\n\u001B[1;32m    957\u001B[0m         \u001B[0mn\u001B[0m \u001B[0;34m=\u001B[0m \u001B[0mlen\u001B[0m\u001B[0;34m(\u001B[0m\u001B[0mself\u001B[0m\u001B[0;34m)\u001B[0m\u001B[0;34m\u001B[0m\u001B[0;34m\u001B[0m\u001B[0m\n",
      "\u001B[0;32m/opt/anaconda3/envs/ACEenv/lib/python3.9/site-packages/pandas/core/internals/managers.py\u001B[0m in \u001B[0;36m_interleaved_dtype\u001B[0;34m(blocks)\u001B[0m\n\u001B[1;32m   1901\u001B[0m         \u001B[0;32mreturn\u001B[0m \u001B[0;32mNone\u001B[0m\u001B[0;34m\u001B[0m\u001B[0;34m\u001B[0m\u001B[0m\n\u001B[1;32m   1902\u001B[0m \u001B[0;34m\u001B[0m\u001B[0m\n\u001B[0;32m-> 1903\u001B[0;31m     \u001B[0;32mreturn\u001B[0m \u001B[0mfind_common_type\u001B[0m\u001B[0;34m(\u001B[0m\u001B[0;34m[\u001B[0m\u001B[0mb\u001B[0m\u001B[0;34m.\u001B[0m\u001B[0mdtype\u001B[0m \u001B[0;32mfor\u001B[0m \u001B[0mb\u001B[0m \u001B[0;32min\u001B[0m \u001B[0mblocks\u001B[0m\u001B[0;34m]\u001B[0m\u001B[0;34m)\u001B[0m\u001B[0;34m\u001B[0m\u001B[0;34m\u001B[0m\u001B[0m\n\u001B[0m\u001B[1;32m   1904\u001B[0m \u001B[0;34m\u001B[0m\u001B[0m\n\u001B[1;32m   1905\u001B[0m \u001B[0;34m\u001B[0m\u001B[0m\n",
      "\u001B[0;32m/opt/anaconda3/envs/ACEenv/lib/python3.9/site-packages/pandas/core/dtypes/cast.py\u001B[0m in \u001B[0;36mfind_common_type\u001B[0;34m(types)\u001B[0m\n\u001B[1;32m   1543\u001B[0m \u001B[0;34m\u001B[0m\u001B[0m\n\u001B[1;32m   1544\u001B[0m     \u001B[0;31m# get unique types (dict.fromkeys is used as order-preserving set())\u001B[0m\u001B[0;34m\u001B[0m\u001B[0;34m\u001B[0m\u001B[0;34m\u001B[0m\u001B[0m\n\u001B[0;32m-> 1545\u001B[0;31m     \u001B[0mtypes\u001B[0m \u001B[0;34m=\u001B[0m \u001B[0mlist\u001B[0m\u001B[0;34m(\u001B[0m\u001B[0mdict\u001B[0m\u001B[0;34m.\u001B[0m\u001B[0mfromkeys\u001B[0m\u001B[0;34m(\u001B[0m\u001B[0mtypes\u001B[0m\u001B[0;34m)\u001B[0m\u001B[0;34m.\u001B[0m\u001B[0mkeys\u001B[0m\u001B[0;34m(\u001B[0m\u001B[0;34m)\u001B[0m\u001B[0;34m)\u001B[0m\u001B[0;34m\u001B[0m\u001B[0;34m\u001B[0m\u001B[0m\n\u001B[0m\u001B[1;32m   1546\u001B[0m \u001B[0;34m\u001B[0m\u001B[0m\n\u001B[1;32m   1547\u001B[0m     \u001B[0;32mif\u001B[0m \u001B[0many\u001B[0m\u001B[0;34m(\u001B[0m\u001B[0misinstance\u001B[0m\u001B[0;34m(\u001B[0m\u001B[0mt\u001B[0m\u001B[0;34m,\u001B[0m \u001B[0mExtensionDtype\u001B[0m\u001B[0;34m)\u001B[0m \u001B[0;32mfor\u001B[0m \u001B[0mt\u001B[0m \u001B[0;32min\u001B[0m \u001B[0mtypes\u001B[0m\u001B[0;34m)\u001B[0m\u001B[0;34m:\u001B[0m\u001B[0;34m\u001B[0m\u001B[0;34m\u001B[0m\u001B[0m\n",
      "\u001B[0;32m/opt/anaconda3/envs/ACEenv/lib/python3.9/site-packages/pandas/core/dtypes/dtypes.py\u001B[0m in \u001B[0;36m__hash__\u001B[0;34m(self)\u001B[0m\n\u001B[1;32m    333\u001B[0m                 \u001B[0;32mreturn\u001B[0m \u001B[0;34m-\u001B[0m\u001B[0;36m2\u001B[0m\u001B[0;34m\u001B[0m\u001B[0;34m\u001B[0m\u001B[0m\n\u001B[1;32m    334\u001B[0m         \u001B[0;31m# We *do* want to include the real self.ordered here\u001B[0m\u001B[0;34m\u001B[0m\u001B[0;34m\u001B[0m\u001B[0;34m\u001B[0m\u001B[0m\n\u001B[0;32m--> 335\u001B[0;31m         \u001B[0;32mreturn\u001B[0m \u001B[0mint\u001B[0m\u001B[0;34m(\u001B[0m\u001B[0mself\u001B[0m\u001B[0;34m.\u001B[0m\u001B[0m_hash_categories\u001B[0m\u001B[0;34m(\u001B[0m\u001B[0mself\u001B[0m\u001B[0;34m.\u001B[0m\u001B[0mcategories\u001B[0m\u001B[0;34m,\u001B[0m \u001B[0mself\u001B[0m\u001B[0;34m.\u001B[0m\u001B[0mordered\u001B[0m\u001B[0;34m)\u001B[0m\u001B[0;34m)\u001B[0m\u001B[0;34m\u001B[0m\u001B[0;34m\u001B[0m\u001B[0m\n\u001B[0m\u001B[1;32m    336\u001B[0m \u001B[0;34m\u001B[0m\u001B[0m\n\u001B[1;32m    337\u001B[0m     \u001B[0;32mdef\u001B[0m \u001B[0m__eq__\u001B[0m\u001B[0;34m(\u001B[0m\u001B[0mself\u001B[0m\u001B[0;34m,\u001B[0m \u001B[0mother\u001B[0m\u001B[0;34m:\u001B[0m \u001B[0mAny\u001B[0m\u001B[0;34m)\u001B[0m \u001B[0;34m->\u001B[0m \u001B[0mbool\u001B[0m\u001B[0;34m:\u001B[0m\u001B[0;34m\u001B[0m\u001B[0;34m\u001B[0m\u001B[0m\n",
      "\u001B[0;32m/opt/anaconda3/envs/ACEenv/lib/python3.9/site-packages/pandas/core/dtypes/dtypes.py\u001B[0m in \u001B[0;36m_hash_categories\u001B[0;34m(categories, ordered)\u001B[0m\n\u001B[1;32m    444\u001B[0m         \u001B[0;32melse\u001B[0m\u001B[0;34m:\u001B[0m\u001B[0;34m\u001B[0m\u001B[0;34m\u001B[0m\u001B[0m\n\u001B[1;32m    445\u001B[0m             \u001B[0mcat_array\u001B[0m \u001B[0;34m=\u001B[0m \u001B[0;34m[\u001B[0m\u001B[0mcat_array\u001B[0m\u001B[0;34m]\u001B[0m\u001B[0;34m\u001B[0m\u001B[0;34m\u001B[0m\u001B[0m\n\u001B[0;32m--> 446\u001B[0;31m         \u001B[0mhashed\u001B[0m \u001B[0;34m=\u001B[0m \u001B[0mcombine_hash_arrays\u001B[0m\u001B[0;34m(\u001B[0m\u001B[0miter\u001B[0m\u001B[0;34m(\u001B[0m\u001B[0mcat_array\u001B[0m\u001B[0;34m)\u001B[0m\u001B[0;34m,\u001B[0m \u001B[0mnum_items\u001B[0m\u001B[0;34m=\u001B[0m\u001B[0mlen\u001B[0m\u001B[0;34m(\u001B[0m\u001B[0mcat_array\u001B[0m\u001B[0;34m)\u001B[0m\u001B[0;34m)\u001B[0m\u001B[0;34m\u001B[0m\u001B[0;34m\u001B[0m\u001B[0m\n\u001B[0m\u001B[1;32m    447\u001B[0m         \u001B[0;32mreturn\u001B[0m \u001B[0mnp\u001B[0m\u001B[0;34m.\u001B[0m\u001B[0mbitwise_xor\u001B[0m\u001B[0;34m.\u001B[0m\u001B[0mreduce\u001B[0m\u001B[0;34m(\u001B[0m\u001B[0mhashed\u001B[0m\u001B[0;34m)\u001B[0m\u001B[0;34m\u001B[0m\u001B[0;34m\u001B[0m\u001B[0m\n\u001B[1;32m    448\u001B[0m \u001B[0;34m\u001B[0m\u001B[0m\n",
      "\u001B[0;32m/opt/anaconda3/envs/ACEenv/lib/python3.9/site-packages/pandas/core/util/hashing.py\u001B[0m in \u001B[0;36mcombine_hash_arrays\u001B[0;34m(arrays, num_items)\u001B[0m\n\u001B[1;32m     42\u001B[0m \u001B[0;34m\u001B[0m\u001B[0m\n\u001B[1;32m     43\u001B[0m     \u001B[0mmult\u001B[0m \u001B[0;34m=\u001B[0m \u001B[0mnp\u001B[0m\u001B[0;34m.\u001B[0m\u001B[0muint64\u001B[0m\u001B[0;34m(\u001B[0m\u001B[0;36m1000003\u001B[0m\u001B[0;34m)\u001B[0m\u001B[0;34m\u001B[0m\u001B[0;34m\u001B[0m\u001B[0m\n\u001B[0;32m---> 44\u001B[0;31m     \u001B[0mout\u001B[0m \u001B[0;34m=\u001B[0m \u001B[0mnp\u001B[0m\u001B[0;34m.\u001B[0m\u001B[0mzeros_like\u001B[0m\u001B[0;34m(\u001B[0m\u001B[0mfirst\u001B[0m\u001B[0;34m)\u001B[0m \u001B[0;34m+\u001B[0m \u001B[0mnp\u001B[0m\u001B[0;34m.\u001B[0m\u001B[0muint64\u001B[0m\u001B[0;34m(\u001B[0m\u001B[0;36m0x345678\u001B[0m\u001B[0;34m)\u001B[0m\u001B[0;34m\u001B[0m\u001B[0;34m\u001B[0m\u001B[0m\n\u001B[0m\u001B[1;32m     45\u001B[0m     \u001B[0;32mfor\u001B[0m \u001B[0mi\u001B[0m\u001B[0;34m,\u001B[0m \u001B[0ma\u001B[0m \u001B[0;32min\u001B[0m \u001B[0menumerate\u001B[0m\u001B[0;34m(\u001B[0m\u001B[0marrays\u001B[0m\u001B[0;34m)\u001B[0m\u001B[0;34m:\u001B[0m\u001B[0;34m\u001B[0m\u001B[0;34m\u001B[0m\u001B[0m\n\u001B[1;32m     46\u001B[0m         \u001B[0minverse_i\u001B[0m \u001B[0;34m=\u001B[0m \u001B[0mnum_items\u001B[0m \u001B[0;34m-\u001B[0m \u001B[0mi\u001B[0m\u001B[0;34m\u001B[0m\u001B[0;34m\u001B[0m\u001B[0m\n",
      "\u001B[0;32m<__array_function__ internals>\u001B[0m in \u001B[0;36mzeros_like\u001B[0;34m(*args, **kwargs)\u001B[0m\n",
      "\u001B[0;31mKeyboardInterrupt\u001B[0m: "
     ]
    }
   ],
   "source": [
    "def check_for_differences(df_from, df_to_check):\n",
    "    common_columns = pd.Index([col for col in df_from.columns\n",
    "                      if col in df_to_check.columns])\n",
    "    for loop_iloc in range(len(df_from)):\n",
    "        row_i = df_from[common_columns].iloc[loop_iloc,:]\n",
    "        row_loc = row_i.name\n",
    "        same_rows = (df_to_check[common_columns] == row_i).all(axis=1)\n",
    "        if not sum(same_rows):\n",
    "            similar_rows, different_entries = find_similar_rows_new(i,\n",
    "                                                                    df_from,\n",
    "                                                                    df_to_check)\n",
    "            if len(similar_rows):\n",
    "                similar_row_is_numeric = np.issubdtype(\n",
    "                    df_from[different_entries[0][0]].dtype,\n",
    "                    np.number\n",
    "                )\n",
    "                if similar_row_is_numeric:\n",
    "                    num_feature = different_entries[0]\n",
    "                    df_from_fig = int(row_i[num_feature])\n",
    "                    df_to_check_fig = int(df_to_check\n",
    "                                       .loc[similar_rows,:][num_feature]\n",
    "                                       .values[0][0])\n",
    "                    print(df_from_fig - df_to_check_fig)\n",
    "                    if abs(df_from_fig - df_to_check_fig) > 0.01:\n",
    "                        print(f\"{row_loc} -> {similar_rows} : {num_feature}\"\n",
    "                              + f\" {df_from_fig} -> {df_to_check_fig}\")\n",
    "                else:\n",
    "                    print(f\"{row_loc} -> {similar_rows} : {different_entries}\")\n",
    "            else:\n",
    "                print(f\"{row_loc} has no similar examples\")\n",
    "        if sum(same_rows) > 1:\n",
    "            other_rows_iloc = same_rows[same_rows].index\n",
    "            other_rows_name = []\n",
    "            for iloc in other_rows_iloc:\n",
    "                other_rows_name.append(df_to_check.iloc[iloc,:].name)\n",
    "            print(f\"{i_name} = {other_rows_name}\")\n",
    "\n",
    "check_for_differences(ace_dat_extra, ace_dat_orig)"
   ],
   "metadata": {
    "collapsed": false,
    "pycharm": {
     "name": "#%%\n"
    }
   }
  },
  {
   "cell_type": "code",
   "execution_count": 23,
   "outputs": [
    {
     "ename": "AttributeError",
     "evalue": "'Series' object has no attribute 'isnum'",
     "output_type": "error",
     "traceback": [
      "\u001B[0;31m---------------------------------------------------------------------------\u001B[0m",
      "\u001B[0;31mAttributeError\u001B[0m                            Traceback (most recent call last)",
      "\u001B[0;32m<ipython-input-23-77777952ca24>\u001B[0m in \u001B[0;36m<module>\u001B[0;34m\u001B[0m\n\u001B[0;32m----> 1\u001B[0;31m \u001B[0mace_dat_orig\u001B[0m\u001B[0;34m[\u001B[0m\u001B[0;34m\"heart_rate\"\u001B[0m\u001B[0;34m]\u001B[0m\u001B[0;34m.\u001B[0m\u001B[0misnum\u001B[0m\u001B[0;34m\u001B[0m\u001B[0;34m\u001B[0m\u001B[0m\n\u001B[0m",
      "\u001B[0;32m/opt/anaconda3/envs/ACEenv/lib/python3.9/site-packages/pandas/core/generic.py\u001B[0m in \u001B[0;36m__getattr__\u001B[0;34m(self, name)\u001B[0m\n\u001B[1;32m   5458\u001B[0m             \u001B[0;32mif\u001B[0m \u001B[0mself\u001B[0m\u001B[0;34m.\u001B[0m\u001B[0m_info_axis\u001B[0m\u001B[0;34m.\u001B[0m\u001B[0m_can_hold_identifiers_and_holds_name\u001B[0m\u001B[0;34m(\u001B[0m\u001B[0mname\u001B[0m\u001B[0;34m)\u001B[0m\u001B[0;34m:\u001B[0m\u001B[0;34m\u001B[0m\u001B[0;34m\u001B[0m\u001B[0m\n\u001B[1;32m   5459\u001B[0m                 \u001B[0;32mreturn\u001B[0m \u001B[0mself\u001B[0m\u001B[0;34m[\u001B[0m\u001B[0mname\u001B[0m\u001B[0;34m]\u001B[0m\u001B[0;34m\u001B[0m\u001B[0;34m\u001B[0m\u001B[0m\n\u001B[0;32m-> 5460\u001B[0;31m             \u001B[0;32mreturn\u001B[0m \u001B[0mobject\u001B[0m\u001B[0;34m.\u001B[0m\u001B[0m__getattribute__\u001B[0m\u001B[0;34m(\u001B[0m\u001B[0mself\u001B[0m\u001B[0;34m,\u001B[0m \u001B[0mname\u001B[0m\u001B[0;34m)\u001B[0m\u001B[0;34m\u001B[0m\u001B[0;34m\u001B[0m\u001B[0m\n\u001B[0m\u001B[1;32m   5461\u001B[0m \u001B[0;34m\u001B[0m\u001B[0m\n\u001B[1;32m   5462\u001B[0m     \u001B[0;32mdef\u001B[0m \u001B[0m__setattr__\u001B[0m\u001B[0;34m(\u001B[0m\u001B[0mself\u001B[0m\u001B[0;34m,\u001B[0m \u001B[0mname\u001B[0m\u001B[0;34m:\u001B[0m \u001B[0mstr\u001B[0m\u001B[0;34m,\u001B[0m \u001B[0mvalue\u001B[0m\u001B[0;34m)\u001B[0m \u001B[0;34m->\u001B[0m \u001B[0;32mNone\u001B[0m\u001B[0;34m:\u001B[0m\u001B[0;34m\u001B[0m\u001B[0;34m\u001B[0m\u001B[0m\n",
      "\u001B[0;31mAttributeError\u001B[0m: 'Series' object has no attribute 'isnum'"
     ]
    }
   ],
   "source": [
    "ace_dat_orig[\"heart_rate\"].isnum"
   ],
   "metadata": {
    "collapsed": false,
    "pycharm": {
     "name": "#%%\n"
    }
   }
  },
  {
   "cell_type": "code",
   "execution_count": 27,
   "outputs": [
    {
     "data": {
      "text/plain": "True"
     },
     "execution_count": 27,
     "metadata": {},
     "output_type": "execute_result"
    }
   ],
   "source": [
    "np.issubdtype(ace_dat_orig[\"heart_rate\"].dtype, np.number)"
   ],
   "metadata": {
    "collapsed": false,
    "pycharm": {
     "name": "#%%\n"
    }
   }
  },
  {
   "cell_type": "code",
   "execution_count": null,
   "outputs": [],
   "source": [],
   "metadata": {
    "collapsed": false,
    "pycharm": {
     "name": "#%%\n"
    }
   }
  },
  {
   "cell_type": "code",
   "execution_count": null,
   "outputs": [],
   "source": [],
   "metadata": {
    "collapsed": false,
    "pycharm": {
     "name": "#%%\n"
    }
   }
  },
  {
   "cell_type": "code",
   "execution_count": 9,
   "outputs": [
    {
     "name": "stdout",
     "output_type": "stream",
     "text": [
      "==================================================\n",
      "Testing LogisticRegression(class_weight='balanced', max_iter=1000, n_jobs=-1,\n",
      "                   random_state=0, solver='saga') classifier with one_hot encoded features.\n",
      "==================================================\n"
     ]
    },
    {
     "name": "stderr",
     "output_type": "stream",
     "text": [
      "100%|██████████| 120/120 [00:49<00:00,  2.43it/s]\n"
     ]
    }
   ],
   "source": [
    "from sklearn.linear_model import LogisticRegression\n",
    "import sys\n",
    "sys.path.append('/Users/samrelins/Documents/LIDA/ace_project/')\n",
    "from src.train_test import *\n",
    "\n",
    "data_loc = \"/Users/samrelins/Documents/LIDA/ace_project/data/ace_data_orig.csv\"\n",
    "ace_data_orig = pd.read_csv(data_loc)\n",
    "\n",
    "X_train, y_train, X_test, y_test = return_train_test(ace_data_orig)\n",
    "\n",
    "best_scores, best_params = param_search_classifier(\n",
    "    X_train=X_train, y_train=y_train,\n",
    "    clf=LogisticRegression(random_state=0,\n",
    "                           max_iter=1000,\n",
    "                           solver=\"saga\",\n",
    "                           class_weight=\"balanced\",\n",
    "                           n_jobs=-1),\n",
    "    param_grid={\"penalty\": [\"none\", \"l1\", \"l2\"],\n",
    "                'C': np.logspace(-4, 4, 40)},\n",
    "    scaled=True,\n",
    ")\n"
   ],
   "metadata": {
    "collapsed": false,
    "pycharm": {
     "name": "#%%\n"
    }
   }
  },
  {
   "cell_type": "code",
   "execution_count": 10,
   "outputs": [
    {
     "data": {
      "text/plain": "{'f1': 0.29082998661311915,\n 'roc_auc': 0.5507733007733008,\n 'accuracy': 0.5476554536187564,\n 'recall': 0.5555555555555556,\n 'precision': 0.1988745553962945,\n 'true_pos': 10.0,\n 'true_neg': 49.333333333333336,\n 'false_pos': 41.0,\n 'false_neg': 8.0}"
     },
     "execution_count": 10,
     "metadata": {},
     "output_type": "execute_result"
    }
   ],
   "source": [
    "best_scores"
   ],
   "metadata": {
    "collapsed": false,
    "pycharm": {
     "name": "#%%\n"
    }
   }
  },
  {
   "cell_type": "code",
   "execution_count": 20,
   "outputs": [
    {
     "name": "stdout",
     "output_type": "stream",
     "text": [
      "==================================================\n",
      "Testing LogisticRegression(class_weight='balanced', max_iter=1000, n_jobs=-1,\n",
      "                   random_state=0, solver='saga') classifier with one_hot encoded features.\n",
      "==================================================\n"
     ]
    },
    {
     "name": "stderr",
     "output_type": "stream",
     "text": [
      "100%|██████████| 50/50 [00:10<00:00,  4.58it/s]\n"
     ]
    },
    {
     "data": {
      "text/plain": "{'f1': 0.24360587002096437,\n 'roc_auc': 0.5407000407000407,\n 'accuracy': 0.6299694189602446,\n 'recall': 0.40740740740740744,\n 'precision': 0.17777777777777778,\n 'true_pos': 7.333333333333333,\n 'true_neg': 61.333333333333336,\n 'false_pos': 29.666666666666668,\n 'false_neg': 10.666666666666666}"
     },
     "execution_count": 20,
     "metadata": {},
     "output_type": "execute_result"
    }
   ],
   "source": [
    "extra_data_loc = \"/Users/samrelins/Documents/LIDA/ace_project/data\" \\\n",
    "               \"/ace_data_extra\" \\\n",
    "             \".csv\"\n",
    "ace_data_extra = (pd.read_csv(extra_data_loc)\n",
    "                  .drop([\"medical_history\", \"examination_summary\",\n",
    "                         \"recommendation\"], axis=1))\n",
    "\n",
    "X_train_extra, y_train_extra, X_test_extra, y_test_extra = return_train_test\\\n",
    "    (ace_data_extra)\n",
    "\n",
    "best_extra_scores, best_extra_params = param_search_classifier(\n",
    "    X_train=X_train_extra, y_train=y_train_extra,\n",
    "    clf=LogisticRegression(random_state=0,\n",
    "                           max_iter=1000,\n",
    "                           solver=\"saga\",\n",
    "                           class_weight=\"balanced\",\n",
    "                           n_jobs=-1),\n",
    "    param_grid={\"penalty\": [\"l1\"],\n",
    "                'C': np.linspace(0.01, 1, 50)},\n",
    "    scaled=True,\n",
    ")\n",
    "\n",
    "best_extra_scores"
   ],
   "metadata": {
    "collapsed": false,
    "pycharm": {
     "name": "#%%\n"
    }
   }
  },
  {
   "cell_type": "code",
   "execution_count": 18,
   "outputs": [
    {
     "data": {
      "text/plain": "{'C': 0.19144819761699575, 'penalty': 'l1'}"
     },
     "execution_count": 18,
     "metadata": {},
     "output_type": "execute_result"
    }
   ],
   "source": [
    "best_params"
   ],
   "metadata": {
    "collapsed": false,
    "pycharm": {
     "name": "#%%\n"
    }
   }
  },
  {
   "cell_type": "code",
   "execution_count": 21,
   "outputs": [
    {
     "data": {
      "text/plain": "{'C': 0.8787755102040816, 'penalty': 'l1'}"
     },
     "execution_count": 21,
     "metadata": {},
     "output_type": "execute_result"
    }
   ],
   "source": [
    "best_extra_params"
   ],
   "metadata": {
    "collapsed": false,
    "pycharm": {
     "name": "#%%\n"
    }
   }
  },
  {
   "cell_type": "code",
   "execution_count": 40,
   "outputs": [
    {
     "data": {
      "text/plain": "{'f1': 0.3804347826086957,\n 'roc_auc': 0.6500814000814001,\n 'accuracy': 0.6513761467889908,\n 'recall': 0.6481481481481481,\n 'precision': 0.2692307692307692,\n 'true_pos': 35,\n 'true_neg': 178,\n 'false_pos': 95,\n 'false_neg': 19}"
     },
     "execution_count": 40,
     "metadata": {},
     "output_type": "execute_result"
    }
   ],
   "source": [
    "X_train_prepped, X_test_prepped = encode_and_scale(\n",
    "    X_train=X_train_extra,\n",
    "    y_train=y_train_extra,\n",
    "    X_test=X_test_extra,\n",
    "    cat_encoder=\"one_hot\",\n",
    "    scaled=True\n",
    ")\n",
    "\n",
    "log_reg_clf = LogisticRegression(\n",
    "    random_state=0,\n",
    "    max_iter=1000,\n",
    "    solver=\"saga\",\n",
    "    class_weight=\"balanced\",\n",
    "    n_jobs=-1,\n",
    "    C=0.2,\n",
    "    penalty=\"l1\"\n",
    ")\n",
    "\n",
    "log_reg_clf.fit(X_train_prepped, y_train_extra)\n",
    "\n",
    "score_classifier(log_reg_clf, X_train_prepped, y_train_extra)"
   ],
   "metadata": {
    "collapsed": false,
    "pycharm": {
     "name": "#%%\n"
    }
   }
  },
  {
   "cell_type": "code",
   "execution_count": 44,
   "outputs": [
    {
     "data": {
      "text/plain": "                      feature     value\n6     apls_resp_rate_cat_high  0.334990\n0  referral_profession_doctor  0.324761\n2        referral_date_winter  0.154355\n1                address_bd03  0.148631\n4        activity_level_lower  0.069948\n3   illness_severity_moderate  0.067535\n5              food_allergy_Y  0.034319\n7    apls_heart_rate_cat_high  0.010547",
      "text/html": "<div>\n<style scoped>\n    .dataframe tbody tr th:only-of-type {\n        vertical-align: middle;\n    }\n\n    .dataframe tbody tr th {\n        vertical-align: top;\n    }\n\n    .dataframe thead th {\n        text-align: right;\n    }\n</style>\n<table border=\"1\" class=\"dataframe\">\n  <thead>\n    <tr style=\"text-align: right;\">\n      <th></th>\n      <th>feature</th>\n      <th>value</th>\n    </tr>\n  </thead>\n  <tbody>\n    <tr>\n      <th>6</th>\n      <td>apls_resp_rate_cat_high</td>\n      <td>0.334990</td>\n    </tr>\n    <tr>\n      <th>0</th>\n      <td>referral_profession_doctor</td>\n      <td>0.324761</td>\n    </tr>\n    <tr>\n      <th>2</th>\n      <td>referral_date_winter</td>\n      <td>0.154355</td>\n    </tr>\n    <tr>\n      <th>1</th>\n      <td>address_bd03</td>\n      <td>0.148631</td>\n    </tr>\n    <tr>\n      <th>4</th>\n      <td>activity_level_lower</td>\n      <td>0.069948</td>\n    </tr>\n    <tr>\n      <th>3</th>\n      <td>illness_severity_moderate</td>\n      <td>0.067535</td>\n    </tr>\n    <tr>\n      <th>5</th>\n      <td>food_allergy_Y</td>\n      <td>0.034319</td>\n    </tr>\n    <tr>\n      <th>7</th>\n      <td>apls_heart_rate_cat_high</td>\n      <td>0.010547</td>\n    </tr>\n  </tbody>\n</table>\n</div>"
     },
     "execution_count": 44,
     "metadata": {},
     "output_type": "execute_result"
    }
   ],
   "source": [
    "nonzero_coefs = log_reg_clf.coef_[0] > 0\n",
    "pd.DataFrame({\n",
    "    \"feature\": X_train_prepped.columns[nonzero_coefs],\n",
    "    \"value\": log_reg_clf.coef_[0][nonzero_coefs]\n",
    "}).sort_values(\"value\", ascending=False)"
   ],
   "metadata": {
    "collapsed": false,
    "pycharm": {
     "name": "#%%\n"
    }
   }
  },
  {
   "cell_type": "code",
   "execution_count": null,
   "outputs": [],
   "source": [],
   "metadata": {
    "collapsed": false,
    "pycharm": {
     "name": "#%%\n"
    }
   }
  }
 ],
 "metadata": {
  "kernelspec": {
   "display_name": "Python 3",
   "language": "python",
   "name": "python3"
  },
  "language_info": {
   "codemirror_mode": {
    "name": "ipython",
    "version": 2
   },
   "file_extension": ".py",
   "mimetype": "text/x-python",
   "name": "python",
   "nbconvert_exporter": "python",
   "pygments_lexer": "ipython2",
   "version": "2.7.6"
  }
 },
 "nbformat": 4,
 "nbformat_minor": 0
}