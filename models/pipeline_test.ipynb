{
 "cells": [
  {
   "cell_type": "code",
   "execution_count": 1,
   "metadata": {
    "collapsed": true
   },
   "outputs": [],
   "source": [
    "import sys\n",
    "sys.path.append('/Users/samrelins/Documents/LIDA/ace_project/')\n",
    "from src.data_prep import *\n",
    "from src.train_test import *\n",
    "\n",
    "# load in ace dataset with text\n",
    "extra_filepath = '/Users/samrelins/Documents/LIDA/ace_project/data' \\\n",
    "              '/ace_data_extra.csv'\n",
    "ace_dat_extra = pd.read_csv(extra_filepath)\n",
    "ace_dat_extra = (ace_dat_extra\n",
    "                 .pipe(start_pipeline)\n",
    "                 .pipe(clean_data)\n",
    "                 .pipe(fill_nas)\n",
    "                 .pipe(add_features))\n",
    "\n",
    "orig_filepath = '/Users/samrelins/Documents/LIDA/ace_project/data' \\\n",
    "              '/ace_data_orig.csv'\n",
    "ace_dat_orig = pd.read_csv(orig_filepath)\n",
    "ace_dat_orig = (ace_dat_orig\n",
    "                 .pipe(start_pipeline)\n",
    "                 .pipe(clean_data)\n",
    "                 .pipe(fill_nas)\n",
    "                 .pipe(add_features))"
   ]
  },
  {
   "cell_type": "code",
   "execution_count": 2,
   "outputs": [
    {
     "data": {
      "text/plain": "486"
     },
     "execution_count": 2,
     "metadata": {},
     "output_type": "execute_result"
    }
   ],
   "source": [
    "len(ace_dat_orig)"
   ],
   "metadata": {
    "collapsed": false,
    "pycharm": {
     "name": "#%%\n"
    }
   }
  },
  {
   "cell_type": "code",
   "execution_count": 3,
   "outputs": [
    {
     "data": {
      "text/plain": "488"
     },
     "execution_count": 3,
     "metadata": {},
     "output_type": "execute_result"
    }
   ],
   "source": [
    "len(ace_dat_extra)"
   ],
   "metadata": {
    "collapsed": false,
    "pycharm": {
     "name": "#%%\n"
    }
   }
  },
  {
   "cell_type": "code",
   "execution_count": 7,
   "outputs": [
    {
     "name": "stdout",
     "output_type": "stream",
     "text": [
      "46 has no similar examples\n",
      "252 -> [250] : Index(['heart_rate'], dtype='object') 111.0 -> [110.]\n",
      "426 has no similar examples\n",
      "170 -> [169] : Index(['heart_rate'], dtype='object') 119.28971962616822 -> [119.36533958]\n",
      "234 has no similar examples\n",
      "470 has no similar examples\n"
     ]
    }
   ],
   "source": [
    "orig_columns = ace_dat_orig.drop(\"referral_from\", axis=1).columns\n",
    "\n",
    "def find_similar_rows(extra_idx):\n",
    "    similar_rows = []\n",
    "    different_entries = []\n",
    "    for orig_idx in range(len(ace_dat_orig)):\n",
    "        extra_row = ace_dat_extra[orig_columns].iloc[extra_idx,:]\n",
    "        orig_row = ace_dat_orig[orig_columns].iloc[orig_idx,:]\n",
    "        same_entries = extra_row == orig_row\n",
    "        if sum(same_entries) > len(orig_columns) - 2:\n",
    "            row_name = ace_dat_orig.iloc[orig_idx,:].name\n",
    "            similar_rows.append(row_name)\n",
    "            different_entries.append(orig_columns[~same_entries])\n",
    "    return similar_rows, different_entries\n",
    "\n",
    "def find_similar_rows_new(row_iloc, df_from, df_to_check):\n",
    "    common_columns = pd.Index([col for col in df_from.columns\n",
    "                      if col in df_to_check.columns])\n",
    "\n",
    "    similar_row_locs = []\n",
    "    different_entries = []\n",
    "\n",
    "    row_from = df_from[common_columns].iloc[row_iloc,:]\n",
    "    for loop_idx in range(len(df_to_check)):\n",
    "        row_to_check = df_to_check[common_columns].iloc[loop_idx,:]\n",
    "        same_entries = row_from == row_to_check\n",
    "        if sum(same_entries) > len(common_columns) - 2:\n",
    "            similar_row_loc = row_to_check.name\n",
    "            similar_row_locs.append(similar_row_loc)\n",
    "            different_entries.append(common_columns[~same_entries])\n",
    "    return similar_row_locs, different_entries\n",
    "\n",
    "for i in range(len(ace_dat_extra)):\n",
    "    row_i = ace_dat_extra[orig_columns].iloc[i,:]\n",
    "    i_name = row_i.name\n",
    "    same_rows = (ace_dat_orig[orig_columns] == row_i).all(axis=1)\n",
    "    if not sum(same_rows):\n",
    "        similar_rows, different_entries = find_similar_rows(i)\n",
    "        if len(similar_rows):\n",
    "            if different_entries[0] in [\"temp\", \"heart_rate\", \"ox_sat\",\n",
    "                                        \"resp_rate\"]:\n",
    "                num_feature = different_entries[0]\n",
    "                extra_fig = ace_dat_extra.iloc[i,:][num_feature].values[0]\n",
    "                orig_fig = ace_dat_orig.loc[similar_rows,\n",
    "                           :][num_feature].values[0]\n",
    "                if abs(extra_fig - orig_fig) > 0.01:\n",
    "                    print(f\"{i_name} -> {similar_rows} : {num_feature}\"\n",
    "                          + f\" {extra_fig} -> {orig_fig}\")\n",
    "            else:\n",
    "                print(f\"{i_name} -> {similar_rows} : {different_entries}\")\n",
    "        else:\n",
    "            print(f\"{i_name} has no similar examples\")\n",
    "    if sum(same_rows) > 1:\n",
    "        other_rows_iloc = same_rows[same_rows].index\n",
    "        other_rows_name = []\n",
    "        for iloc in other_rows_iloc:\n",
    "            other_rows_name.append(ace_dat_orig.iloc[iloc,:].name)\n",
    "        print(f\"{i_name} = {other_rows_name}\")"
   ],
   "metadata": {
    "collapsed": false,
    "pycharm": {
     "name": "#%%\n"
    }
   }
  },
  {
   "cell_type": "code",
   "execution_count": 38,
   "outputs": [
    {
     "name": "stdout",
     "output_type": "stream",
     "text": [
      "0\n",
      "0\n",
      "0\n",
      "0\n",
      "0\n",
      "0\n",
      "0\n",
      "1\n",
      "23 -> [192] : Index(['temp'], dtype='object') 37 -> 36\n",
      "1\n",
      "30 -> [192] : Index(['temp'], dtype='object') 37 -> 36\n",
      "0\n",
      "0\n",
      "1\n",
      "52 -> [192] : Index(['temp'], dtype='object') 37 -> 36\n",
      "1\n",
      "53 -> [192] : Index(['temp'], dtype='object') 37 -> 36\n",
      "0\n",
      "0\n",
      "0\n",
      "1\n",
      "80 -> [192] : Index(['temp'], dtype='object') 37 -> 36\n",
      "0\n",
      "0\n",
      "0\n",
      "1\n",
      "86 -> [192] : Index(['temp'], dtype='object') 37 -> 36\n",
      "0\n",
      "1\n",
      "90 -> [192] : Index(['temp'], dtype='object') 37 -> 36\n",
      "1\n",
      "91 -> [192] : Index(['temp'], dtype='object') 37 -> 36\n",
      "1\n",
      "94 -> [192] : Index(['temp'], dtype='object') 37 -> 36\n",
      "0\n",
      "2\n",
      "98 -> [192] : Index(['temp'], dtype='object') 38 -> 36\n",
      "1\n",
      "99 -> [192] : Index(['temp'], dtype='object') 37 -> 36\n",
      "1\n",
      "101 -> [192] : Index(['temp'], dtype='object') 37 -> 36\n",
      "1\n",
      "108 -> [192] : Index(['temp'], dtype='object') 37 -> 36\n",
      "1\n",
      "110 -> [192] : Index(['temp'], dtype='object') 37 -> 36\n",
      "0\n",
      "0\n",
      "2\n",
      "115 -> [192] : Index(['temp'], dtype='object') 38 -> 36\n",
      "0\n",
      "0\n",
      "0\n",
      "1\n",
      "130 -> [192] : Index(['temp'], dtype='object') 37 -> 36\n",
      "0\n",
      "1\n",
      "146 -> [192] : Index(['temp'], dtype='object') 37 -> 36\n",
      "1\n",
      "149 -> [192] : Index(['temp'], dtype='object') 37 -> 36\n",
      "0\n",
      "1\n",
      "153 -> [192] : Index(['temp'], dtype='object') 37 -> 36\n",
      "1\n",
      "157 -> [192] : Index(['temp'], dtype='object') 37 -> 36\n",
      "0\n",
      "1\n",
      "164 -> [192] : Index(['temp'], dtype='object') 37 -> 36\n",
      "0\n",
      "0\n",
      "0\n"
     ]
    },
    {
     "ename": "KeyboardInterrupt",
     "evalue": "",
     "output_type": "error",
     "traceback": [
      "\u001B[0;31m---------------------------------------------------------------------------\u001B[0m",
      "\u001B[0;31mKeyboardInterrupt\u001B[0m                         Traceback (most recent call last)",
      "\u001B[0;32m<ipython-input-38-92b3e7afcd39>\u001B[0m in \u001B[0;36m<module>\u001B[0;34m\u001B[0m\n\u001B[1;32m     36\u001B[0m             \u001B[0mprint\u001B[0m\u001B[0;34m(\u001B[0m\u001B[0;34mf\"{i_name} = {other_rows_name}\"\u001B[0m\u001B[0;34m)\u001B[0m\u001B[0;34m\u001B[0m\u001B[0;34m\u001B[0m\u001B[0m\n\u001B[1;32m     37\u001B[0m \u001B[0;34m\u001B[0m\u001B[0m\n\u001B[0;32m---> 38\u001B[0;31m \u001B[0mcheck_for_differences\u001B[0m\u001B[0;34m(\u001B[0m\u001B[0mace_dat_extra\u001B[0m\u001B[0;34m,\u001B[0m \u001B[0mace_dat_orig\u001B[0m\u001B[0;34m)\u001B[0m\u001B[0;34m\u001B[0m\u001B[0;34m\u001B[0m\u001B[0m\n\u001B[0m\u001B[1;32m     39\u001B[0m \u001B[0;34m\u001B[0m\u001B[0m\n",
      "\u001B[0;32m<ipython-input-38-92b3e7afcd39>\u001B[0m in \u001B[0;36mcheck_for_differences\u001B[0;34m(df_from, df_to_check)\u001B[0m\n\u001B[1;32m      7\u001B[0m         \u001B[0msame_rows\u001B[0m \u001B[0;34m=\u001B[0m \u001B[0;34m(\u001B[0m\u001B[0mdf_to_check\u001B[0m\u001B[0;34m[\u001B[0m\u001B[0mcommon_columns\u001B[0m\u001B[0;34m]\u001B[0m \u001B[0;34m==\u001B[0m \u001B[0mrow_i\u001B[0m\u001B[0;34m)\u001B[0m\u001B[0;34m.\u001B[0m\u001B[0mall\u001B[0m\u001B[0;34m(\u001B[0m\u001B[0maxis\u001B[0m\u001B[0;34m=\u001B[0m\u001B[0;36m1\u001B[0m\u001B[0;34m)\u001B[0m\u001B[0;34m\u001B[0m\u001B[0;34m\u001B[0m\u001B[0m\n\u001B[1;32m      8\u001B[0m         \u001B[0;32mif\u001B[0m \u001B[0;32mnot\u001B[0m \u001B[0msum\u001B[0m\u001B[0;34m(\u001B[0m\u001B[0msame_rows\u001B[0m\u001B[0;34m)\u001B[0m\u001B[0;34m:\u001B[0m\u001B[0;34m\u001B[0m\u001B[0;34m\u001B[0m\u001B[0m\n\u001B[0;32m----> 9\u001B[0;31m             similar_rows, different_entries = find_similar_rows_new(i,\n\u001B[0m\u001B[1;32m     10\u001B[0m                                                                     \u001B[0mdf_from\u001B[0m\u001B[0;34m,\u001B[0m\u001B[0;34m\u001B[0m\u001B[0;34m\u001B[0m\u001B[0m\n\u001B[1;32m     11\u001B[0m                                                                     df_to_check)\n",
      "\u001B[0;32m<ipython-input-21-97f438a0dbc3>\u001B[0m in \u001B[0;36mfind_similar_rows_new\u001B[0;34m(row_iloc, df_from, df_to_check)\u001B[0m\n\u001B[1;32m     23\u001B[0m     \u001B[0mrow_from\u001B[0m \u001B[0;34m=\u001B[0m \u001B[0mdf_from\u001B[0m\u001B[0;34m[\u001B[0m\u001B[0mcommon_columns\u001B[0m\u001B[0;34m]\u001B[0m\u001B[0;34m.\u001B[0m\u001B[0miloc\u001B[0m\u001B[0;34m[\u001B[0m\u001B[0mrow_iloc\u001B[0m\u001B[0;34m,\u001B[0m\u001B[0;34m:\u001B[0m\u001B[0;34m]\u001B[0m\u001B[0;34m\u001B[0m\u001B[0;34m\u001B[0m\u001B[0m\n\u001B[1;32m     24\u001B[0m     \u001B[0;32mfor\u001B[0m \u001B[0mloop_idx\u001B[0m \u001B[0;32min\u001B[0m \u001B[0mrange\u001B[0m\u001B[0;34m(\u001B[0m\u001B[0mlen\u001B[0m\u001B[0;34m(\u001B[0m\u001B[0mdf_to_check\u001B[0m\u001B[0;34m)\u001B[0m\u001B[0;34m)\u001B[0m\u001B[0;34m:\u001B[0m\u001B[0;34m\u001B[0m\u001B[0;34m\u001B[0m\u001B[0m\n\u001B[0;32m---> 25\u001B[0;31m         \u001B[0mrow_to_check\u001B[0m \u001B[0;34m=\u001B[0m \u001B[0mdf_to_check\u001B[0m\u001B[0;34m[\u001B[0m\u001B[0mcommon_columns\u001B[0m\u001B[0;34m]\u001B[0m\u001B[0;34m.\u001B[0m\u001B[0miloc\u001B[0m\u001B[0;34m[\u001B[0m\u001B[0mloop_idx\u001B[0m\u001B[0;34m,\u001B[0m\u001B[0;34m:\u001B[0m\u001B[0;34m]\u001B[0m\u001B[0;34m\u001B[0m\u001B[0;34m\u001B[0m\u001B[0m\n\u001B[0m\u001B[1;32m     26\u001B[0m         \u001B[0msame_entries\u001B[0m \u001B[0;34m=\u001B[0m \u001B[0mrow_from\u001B[0m \u001B[0;34m==\u001B[0m \u001B[0mrow_to_check\u001B[0m\u001B[0;34m\u001B[0m\u001B[0;34m\u001B[0m\u001B[0m\n\u001B[1;32m     27\u001B[0m         \u001B[0;32mif\u001B[0m \u001B[0msum\u001B[0m\u001B[0;34m(\u001B[0m\u001B[0msame_entries\u001B[0m\u001B[0;34m)\u001B[0m \u001B[0;34m>\u001B[0m \u001B[0mlen\u001B[0m\u001B[0;34m(\u001B[0m\u001B[0mcommon_columns\u001B[0m\u001B[0;34m)\u001B[0m \u001B[0;34m-\u001B[0m \u001B[0;36m2\u001B[0m\u001B[0;34m:\u001B[0m\u001B[0;34m\u001B[0m\u001B[0;34m\u001B[0m\u001B[0m\n",
      "\u001B[0;32m/opt/anaconda3/envs/ACEenv/lib/python3.9/site-packages/pandas/core/indexing.py\u001B[0m in \u001B[0;36m__getitem__\u001B[0;34m(self, key)\u001B[0m\n\u001B[1;32m    886\u001B[0m                     \u001B[0;31m# AttributeError for IntervalTree get_value\u001B[0m\u001B[0;34m\u001B[0m\u001B[0;34m\u001B[0m\u001B[0;34m\u001B[0m\u001B[0m\n\u001B[1;32m    887\u001B[0m                     \u001B[0;32mreturn\u001B[0m \u001B[0mself\u001B[0m\u001B[0;34m.\u001B[0m\u001B[0mobj\u001B[0m\u001B[0;34m.\u001B[0m\u001B[0m_get_value\u001B[0m\u001B[0;34m(\u001B[0m\u001B[0;34m*\u001B[0m\u001B[0mkey\u001B[0m\u001B[0;34m,\u001B[0m \u001B[0mtakeable\u001B[0m\u001B[0;34m=\u001B[0m\u001B[0mself\u001B[0m\u001B[0;34m.\u001B[0m\u001B[0m_takeable\u001B[0m\u001B[0;34m)\u001B[0m\u001B[0;34m\u001B[0m\u001B[0;34m\u001B[0m\u001B[0m\n\u001B[0;32m--> 888\u001B[0;31m             \u001B[0;32mreturn\u001B[0m \u001B[0mself\u001B[0m\u001B[0;34m.\u001B[0m\u001B[0m_getitem_tuple\u001B[0m\u001B[0;34m(\u001B[0m\u001B[0mkey\u001B[0m\u001B[0;34m)\u001B[0m\u001B[0;34m\u001B[0m\u001B[0;34m\u001B[0m\u001B[0m\n\u001B[0m\u001B[1;32m    889\u001B[0m         \u001B[0;32melse\u001B[0m\u001B[0;34m:\u001B[0m\u001B[0;34m\u001B[0m\u001B[0;34m\u001B[0m\u001B[0m\n\u001B[1;32m    890\u001B[0m             \u001B[0;31m# we by definition only have the 0th axis\u001B[0m\u001B[0;34m\u001B[0m\u001B[0;34m\u001B[0m\u001B[0;34m\u001B[0m\u001B[0m\n",
      "\u001B[0;32m/opt/anaconda3/envs/ACEenv/lib/python3.9/site-packages/pandas/core/indexing.py\u001B[0m in \u001B[0;36m_getitem_tuple\u001B[0;34m(self, tup)\u001B[0m\n\u001B[1;32m   1449\u001B[0m         \u001B[0mself\u001B[0m\u001B[0;34m.\u001B[0m\u001B[0m_has_valid_tuple\u001B[0m\u001B[0;34m(\u001B[0m\u001B[0mtup\u001B[0m\u001B[0;34m)\u001B[0m\u001B[0;34m\u001B[0m\u001B[0;34m\u001B[0m\u001B[0m\n\u001B[1;32m   1450\u001B[0m         \u001B[0;32mwith\u001B[0m \u001B[0msuppress\u001B[0m\u001B[0;34m(\u001B[0m\u001B[0mIndexingError\u001B[0m\u001B[0;34m)\u001B[0m\u001B[0;34m:\u001B[0m\u001B[0;34m\u001B[0m\u001B[0;34m\u001B[0m\u001B[0m\n\u001B[0;32m-> 1451\u001B[0;31m             \u001B[0;32mreturn\u001B[0m \u001B[0mself\u001B[0m\u001B[0;34m.\u001B[0m\u001B[0m_getitem_lowerdim\u001B[0m\u001B[0;34m(\u001B[0m\u001B[0mtup\u001B[0m\u001B[0;34m)\u001B[0m\u001B[0;34m\u001B[0m\u001B[0;34m\u001B[0m\u001B[0m\n\u001B[0m\u001B[1;32m   1452\u001B[0m \u001B[0;34m\u001B[0m\u001B[0m\n\u001B[1;32m   1453\u001B[0m         \u001B[0;32mreturn\u001B[0m \u001B[0mself\u001B[0m\u001B[0;34m.\u001B[0m\u001B[0m_getitem_tuple_same_dim\u001B[0m\u001B[0;34m(\u001B[0m\u001B[0mtup\u001B[0m\u001B[0;34m)\u001B[0m\u001B[0;34m\u001B[0m\u001B[0;34m\u001B[0m\u001B[0m\n",
      "\u001B[0;32m/opt/anaconda3/envs/ACEenv/lib/python3.9/site-packages/pandas/core/indexing.py\u001B[0m in \u001B[0;36m_getitem_lowerdim\u001B[0;34m(self, tup)\u001B[0m\n\u001B[1;32m    804\u001B[0m                 \u001B[0;31m# We don't need to check for tuples here because those are\u001B[0m\u001B[0;34m\u001B[0m\u001B[0;34m\u001B[0m\u001B[0;34m\u001B[0m\u001B[0m\n\u001B[1;32m    805\u001B[0m                 \u001B[0;31m#  caught by the _is_nested_tuple_indexer check above.\u001B[0m\u001B[0;34m\u001B[0m\u001B[0;34m\u001B[0m\u001B[0;34m\u001B[0m\u001B[0m\n\u001B[0;32m--> 806\u001B[0;31m                 \u001B[0msection\u001B[0m \u001B[0;34m=\u001B[0m \u001B[0mself\u001B[0m\u001B[0;34m.\u001B[0m\u001B[0m_getitem_axis\u001B[0m\u001B[0;34m(\u001B[0m\u001B[0mkey\u001B[0m\u001B[0;34m,\u001B[0m \u001B[0maxis\u001B[0m\u001B[0;34m=\u001B[0m\u001B[0mi\u001B[0m\u001B[0;34m)\u001B[0m\u001B[0;34m\u001B[0m\u001B[0;34m\u001B[0m\u001B[0m\n\u001B[0m\u001B[1;32m    807\u001B[0m \u001B[0;34m\u001B[0m\u001B[0m\n\u001B[1;32m    808\u001B[0m                 \u001B[0;31m# We should never have a scalar section here, because\u001B[0m\u001B[0;34m\u001B[0m\u001B[0;34m\u001B[0m\u001B[0;34m\u001B[0m\u001B[0m\n",
      "\u001B[0;32m/opt/anaconda3/envs/ACEenv/lib/python3.9/site-packages/pandas/core/indexing.py\u001B[0m in \u001B[0;36m_getitem_axis\u001B[0;34m(self, key, axis)\u001B[0m\n\u001B[1;32m   1500\u001B[0m             \u001B[0mself\u001B[0m\u001B[0;34m.\u001B[0m\u001B[0m_validate_integer\u001B[0m\u001B[0;34m(\u001B[0m\u001B[0mkey\u001B[0m\u001B[0;34m,\u001B[0m \u001B[0maxis\u001B[0m\u001B[0;34m)\u001B[0m\u001B[0;34m\u001B[0m\u001B[0;34m\u001B[0m\u001B[0m\n\u001B[1;32m   1501\u001B[0m \u001B[0;34m\u001B[0m\u001B[0m\n\u001B[0;32m-> 1502\u001B[0;31m             \u001B[0;32mreturn\u001B[0m \u001B[0mself\u001B[0m\u001B[0;34m.\u001B[0m\u001B[0mobj\u001B[0m\u001B[0;34m.\u001B[0m\u001B[0m_ixs\u001B[0m\u001B[0;34m(\u001B[0m\u001B[0mkey\u001B[0m\u001B[0;34m,\u001B[0m \u001B[0maxis\u001B[0m\u001B[0;34m=\u001B[0m\u001B[0maxis\u001B[0m\u001B[0;34m)\u001B[0m\u001B[0;34m\u001B[0m\u001B[0;34m\u001B[0m\u001B[0m\n\u001B[0m\u001B[1;32m   1503\u001B[0m \u001B[0;34m\u001B[0m\u001B[0m\n\u001B[1;32m   1504\u001B[0m     \u001B[0;32mdef\u001B[0m \u001B[0m_get_slice_axis\u001B[0m\u001B[0;34m(\u001B[0m\u001B[0mself\u001B[0m\u001B[0;34m,\u001B[0m \u001B[0mslice_obj\u001B[0m\u001B[0;34m:\u001B[0m \u001B[0mslice\u001B[0m\u001B[0;34m,\u001B[0m \u001B[0maxis\u001B[0m\u001B[0;34m:\u001B[0m \u001B[0mint\u001B[0m\u001B[0;34m)\u001B[0m\u001B[0;34m:\u001B[0m\u001B[0;34m\u001B[0m\u001B[0;34m\u001B[0m\u001B[0m\n",
      "\u001B[0;32m/opt/anaconda3/envs/ACEenv/lib/python3.9/site-packages/pandas/core/frame.py\u001B[0m in \u001B[0;36m_ixs\u001B[0;34m(self, i, axis)\u001B[0m\n\u001B[1;32m   2945\u001B[0m         \u001B[0;31m# irow\u001B[0m\u001B[0;34m\u001B[0m\u001B[0;34m\u001B[0m\u001B[0;34m\u001B[0m\u001B[0m\n\u001B[1;32m   2946\u001B[0m         \u001B[0;32mif\u001B[0m \u001B[0maxis\u001B[0m \u001B[0;34m==\u001B[0m \u001B[0;36m0\u001B[0m\u001B[0;34m:\u001B[0m\u001B[0;34m\u001B[0m\u001B[0;34m\u001B[0m\u001B[0m\n\u001B[0;32m-> 2947\u001B[0;31m             \u001B[0mnew_values\u001B[0m \u001B[0;34m=\u001B[0m \u001B[0mself\u001B[0m\u001B[0;34m.\u001B[0m\u001B[0m_mgr\u001B[0m\u001B[0;34m.\u001B[0m\u001B[0mfast_xs\u001B[0m\u001B[0;34m(\u001B[0m\u001B[0mi\u001B[0m\u001B[0;34m)\u001B[0m\u001B[0;34m\u001B[0m\u001B[0;34m\u001B[0m\u001B[0m\n\u001B[0m\u001B[1;32m   2948\u001B[0m \u001B[0;34m\u001B[0m\u001B[0m\n\u001B[1;32m   2949\u001B[0m             \u001B[0;31m# if we are a copy, mark as such\u001B[0m\u001B[0;34m\u001B[0m\u001B[0;34m\u001B[0m\u001B[0;34m\u001B[0m\u001B[0m\n",
      "\u001B[0;32m/opt/anaconda3/envs/ACEenv/lib/python3.9/site-packages/pandas/core/internals/managers.py\u001B[0m in \u001B[0;36mfast_xs\u001B[0;34m(self, loc)\u001B[0m\n\u001B[1;32m    953\u001B[0m             \u001B[0;32mreturn\u001B[0m \u001B[0mself\u001B[0m\u001B[0;34m.\u001B[0m\u001B[0mblocks\u001B[0m\u001B[0;34m[\u001B[0m\u001B[0;36m0\u001B[0m\u001B[0;34m]\u001B[0m\u001B[0;34m.\u001B[0m\u001B[0miget\u001B[0m\u001B[0;34m(\u001B[0m\u001B[0;34m(\u001B[0m\u001B[0mslice\u001B[0m\u001B[0;34m(\u001B[0m\u001B[0;32mNone\u001B[0m\u001B[0;34m)\u001B[0m\u001B[0;34m,\u001B[0m \u001B[0mloc\u001B[0m\u001B[0;34m)\u001B[0m\u001B[0;34m)\u001B[0m\u001B[0;34m\u001B[0m\u001B[0;34m\u001B[0m\u001B[0m\n\u001B[1;32m    954\u001B[0m \u001B[0;34m\u001B[0m\u001B[0m\n\u001B[0;32m--> 955\u001B[0;31m         \u001B[0mdtype\u001B[0m \u001B[0;34m=\u001B[0m \u001B[0m_interleaved_dtype\u001B[0m\u001B[0;34m(\u001B[0m\u001B[0mself\u001B[0m\u001B[0;34m.\u001B[0m\u001B[0mblocks\u001B[0m\u001B[0;34m)\u001B[0m\u001B[0;34m\u001B[0m\u001B[0;34m\u001B[0m\u001B[0m\n\u001B[0m\u001B[1;32m    956\u001B[0m \u001B[0;34m\u001B[0m\u001B[0m\n\u001B[1;32m    957\u001B[0m         \u001B[0mn\u001B[0m \u001B[0;34m=\u001B[0m \u001B[0mlen\u001B[0m\u001B[0;34m(\u001B[0m\u001B[0mself\u001B[0m\u001B[0;34m)\u001B[0m\u001B[0;34m\u001B[0m\u001B[0;34m\u001B[0m\u001B[0m\n",
      "\u001B[0;32m/opt/anaconda3/envs/ACEenv/lib/python3.9/site-packages/pandas/core/internals/managers.py\u001B[0m in \u001B[0;36m_interleaved_dtype\u001B[0;34m(blocks)\u001B[0m\n\u001B[1;32m   1901\u001B[0m         \u001B[0;32mreturn\u001B[0m \u001B[0;32mNone\u001B[0m\u001B[0;34m\u001B[0m\u001B[0;34m\u001B[0m\u001B[0m\n\u001B[1;32m   1902\u001B[0m \u001B[0;34m\u001B[0m\u001B[0m\n\u001B[0;32m-> 1903\u001B[0;31m     \u001B[0;32mreturn\u001B[0m \u001B[0mfind_common_type\u001B[0m\u001B[0;34m(\u001B[0m\u001B[0;34m[\u001B[0m\u001B[0mb\u001B[0m\u001B[0;34m.\u001B[0m\u001B[0mdtype\u001B[0m \u001B[0;32mfor\u001B[0m \u001B[0mb\u001B[0m \u001B[0;32min\u001B[0m \u001B[0mblocks\u001B[0m\u001B[0;34m]\u001B[0m\u001B[0;34m)\u001B[0m\u001B[0;34m\u001B[0m\u001B[0;34m\u001B[0m\u001B[0m\n\u001B[0m\u001B[1;32m   1904\u001B[0m \u001B[0;34m\u001B[0m\u001B[0m\n\u001B[1;32m   1905\u001B[0m \u001B[0;34m\u001B[0m\u001B[0m\n",
      "\u001B[0;32m/opt/anaconda3/envs/ACEenv/lib/python3.9/site-packages/pandas/core/dtypes/cast.py\u001B[0m in \u001B[0;36mfind_common_type\u001B[0;34m(types)\u001B[0m\n\u001B[1;32m   1543\u001B[0m \u001B[0;34m\u001B[0m\u001B[0m\n\u001B[1;32m   1544\u001B[0m     \u001B[0;31m# get unique types (dict.fromkeys is used as order-preserving set())\u001B[0m\u001B[0;34m\u001B[0m\u001B[0;34m\u001B[0m\u001B[0;34m\u001B[0m\u001B[0m\n\u001B[0;32m-> 1545\u001B[0;31m     \u001B[0mtypes\u001B[0m \u001B[0;34m=\u001B[0m \u001B[0mlist\u001B[0m\u001B[0;34m(\u001B[0m\u001B[0mdict\u001B[0m\u001B[0;34m.\u001B[0m\u001B[0mfromkeys\u001B[0m\u001B[0;34m(\u001B[0m\u001B[0mtypes\u001B[0m\u001B[0;34m)\u001B[0m\u001B[0;34m.\u001B[0m\u001B[0mkeys\u001B[0m\u001B[0;34m(\u001B[0m\u001B[0;34m)\u001B[0m\u001B[0;34m)\u001B[0m\u001B[0;34m\u001B[0m\u001B[0;34m\u001B[0m\u001B[0m\n\u001B[0m\u001B[1;32m   1546\u001B[0m \u001B[0;34m\u001B[0m\u001B[0m\n\u001B[1;32m   1547\u001B[0m     \u001B[0;32mif\u001B[0m \u001B[0many\u001B[0m\u001B[0;34m(\u001B[0m\u001B[0misinstance\u001B[0m\u001B[0;34m(\u001B[0m\u001B[0mt\u001B[0m\u001B[0;34m,\u001B[0m \u001B[0mExtensionDtype\u001B[0m\u001B[0;34m)\u001B[0m \u001B[0;32mfor\u001B[0m \u001B[0mt\u001B[0m \u001B[0;32min\u001B[0m \u001B[0mtypes\u001B[0m\u001B[0;34m)\u001B[0m\u001B[0;34m:\u001B[0m\u001B[0;34m\u001B[0m\u001B[0;34m\u001B[0m\u001B[0m\n",
      "\u001B[0;32m/opt/anaconda3/envs/ACEenv/lib/python3.9/site-packages/pandas/core/dtypes/dtypes.py\u001B[0m in \u001B[0;36m__hash__\u001B[0;34m(self)\u001B[0m\n\u001B[1;32m    333\u001B[0m                 \u001B[0;32mreturn\u001B[0m \u001B[0;34m-\u001B[0m\u001B[0;36m2\u001B[0m\u001B[0;34m\u001B[0m\u001B[0;34m\u001B[0m\u001B[0m\n\u001B[1;32m    334\u001B[0m         \u001B[0;31m# We *do* want to include the real self.ordered here\u001B[0m\u001B[0;34m\u001B[0m\u001B[0;34m\u001B[0m\u001B[0;34m\u001B[0m\u001B[0m\n\u001B[0;32m--> 335\u001B[0;31m         \u001B[0;32mreturn\u001B[0m \u001B[0mint\u001B[0m\u001B[0;34m(\u001B[0m\u001B[0mself\u001B[0m\u001B[0;34m.\u001B[0m\u001B[0m_hash_categories\u001B[0m\u001B[0;34m(\u001B[0m\u001B[0mself\u001B[0m\u001B[0;34m.\u001B[0m\u001B[0mcategories\u001B[0m\u001B[0;34m,\u001B[0m \u001B[0mself\u001B[0m\u001B[0;34m.\u001B[0m\u001B[0mordered\u001B[0m\u001B[0;34m)\u001B[0m\u001B[0;34m)\u001B[0m\u001B[0;34m\u001B[0m\u001B[0;34m\u001B[0m\u001B[0m\n\u001B[0m\u001B[1;32m    336\u001B[0m \u001B[0;34m\u001B[0m\u001B[0m\n\u001B[1;32m    337\u001B[0m     \u001B[0;32mdef\u001B[0m \u001B[0m__eq__\u001B[0m\u001B[0;34m(\u001B[0m\u001B[0mself\u001B[0m\u001B[0;34m,\u001B[0m \u001B[0mother\u001B[0m\u001B[0;34m:\u001B[0m \u001B[0mAny\u001B[0m\u001B[0;34m)\u001B[0m \u001B[0;34m->\u001B[0m \u001B[0mbool\u001B[0m\u001B[0;34m:\u001B[0m\u001B[0;34m\u001B[0m\u001B[0;34m\u001B[0m\u001B[0m\n",
      "\u001B[0;32m/opt/anaconda3/envs/ACEenv/lib/python3.9/site-packages/pandas/core/dtypes/dtypes.py\u001B[0m in \u001B[0;36m_hash_categories\u001B[0;34m(categories, ordered)\u001B[0m\n\u001B[1;32m    444\u001B[0m         \u001B[0;32melse\u001B[0m\u001B[0;34m:\u001B[0m\u001B[0;34m\u001B[0m\u001B[0;34m\u001B[0m\u001B[0m\n\u001B[1;32m    445\u001B[0m             \u001B[0mcat_array\u001B[0m \u001B[0;34m=\u001B[0m \u001B[0;34m[\u001B[0m\u001B[0mcat_array\u001B[0m\u001B[0;34m]\u001B[0m\u001B[0;34m\u001B[0m\u001B[0;34m\u001B[0m\u001B[0m\n\u001B[0;32m--> 446\u001B[0;31m         \u001B[0mhashed\u001B[0m \u001B[0;34m=\u001B[0m \u001B[0mcombine_hash_arrays\u001B[0m\u001B[0;34m(\u001B[0m\u001B[0miter\u001B[0m\u001B[0;34m(\u001B[0m\u001B[0mcat_array\u001B[0m\u001B[0;34m)\u001B[0m\u001B[0;34m,\u001B[0m \u001B[0mnum_items\u001B[0m\u001B[0;34m=\u001B[0m\u001B[0mlen\u001B[0m\u001B[0;34m(\u001B[0m\u001B[0mcat_array\u001B[0m\u001B[0;34m)\u001B[0m\u001B[0;34m)\u001B[0m\u001B[0;34m\u001B[0m\u001B[0;34m\u001B[0m\u001B[0m\n\u001B[0m\u001B[1;32m    447\u001B[0m         \u001B[0;32mreturn\u001B[0m \u001B[0mnp\u001B[0m\u001B[0;34m.\u001B[0m\u001B[0mbitwise_xor\u001B[0m\u001B[0;34m.\u001B[0m\u001B[0mreduce\u001B[0m\u001B[0;34m(\u001B[0m\u001B[0mhashed\u001B[0m\u001B[0;34m)\u001B[0m\u001B[0;34m\u001B[0m\u001B[0;34m\u001B[0m\u001B[0m\n\u001B[1;32m    448\u001B[0m \u001B[0;34m\u001B[0m\u001B[0m\n",
      "\u001B[0;32m/opt/anaconda3/envs/ACEenv/lib/python3.9/site-packages/pandas/core/util/hashing.py\u001B[0m in \u001B[0;36mcombine_hash_arrays\u001B[0;34m(arrays, num_items)\u001B[0m\n\u001B[1;32m     42\u001B[0m \u001B[0;34m\u001B[0m\u001B[0m\n\u001B[1;32m     43\u001B[0m     \u001B[0mmult\u001B[0m \u001B[0;34m=\u001B[0m \u001B[0mnp\u001B[0m\u001B[0;34m.\u001B[0m\u001B[0muint64\u001B[0m\u001B[0;34m(\u001B[0m\u001B[0;36m1000003\u001B[0m\u001B[0;34m)\u001B[0m\u001B[0;34m\u001B[0m\u001B[0;34m\u001B[0m\u001B[0m\n\u001B[0;32m---> 44\u001B[0;31m     \u001B[0mout\u001B[0m \u001B[0;34m=\u001B[0m \u001B[0mnp\u001B[0m\u001B[0;34m.\u001B[0m\u001B[0mzeros_like\u001B[0m\u001B[0;34m(\u001B[0m\u001B[0mfirst\u001B[0m\u001B[0;34m)\u001B[0m \u001B[0;34m+\u001B[0m \u001B[0mnp\u001B[0m\u001B[0;34m.\u001B[0m\u001B[0muint64\u001B[0m\u001B[0;34m(\u001B[0m\u001B[0;36m0x345678\u001B[0m\u001B[0;34m)\u001B[0m\u001B[0;34m\u001B[0m\u001B[0;34m\u001B[0m\u001B[0m\n\u001B[0m\u001B[1;32m     45\u001B[0m     \u001B[0;32mfor\u001B[0m \u001B[0mi\u001B[0m\u001B[0;34m,\u001B[0m \u001B[0ma\u001B[0m \u001B[0;32min\u001B[0m \u001B[0menumerate\u001B[0m\u001B[0;34m(\u001B[0m\u001B[0marrays\u001B[0m\u001B[0;34m)\u001B[0m\u001B[0;34m:\u001B[0m\u001B[0;34m\u001B[0m\u001B[0;34m\u001B[0m\u001B[0m\n\u001B[1;32m     46\u001B[0m         \u001B[0minverse_i\u001B[0m \u001B[0;34m=\u001B[0m \u001B[0mnum_items\u001B[0m \u001B[0;34m-\u001B[0m \u001B[0mi\u001B[0m\u001B[0;34m\u001B[0m\u001B[0;34m\u001B[0m\u001B[0m\n",
      "\u001B[0;32m<__array_function__ internals>\u001B[0m in \u001B[0;36mzeros_like\u001B[0;34m(*args, **kwargs)\u001B[0m\n",
      "\u001B[0;31mKeyboardInterrupt\u001B[0m: "
     ]
    }
   ],
   "source": [
    "def check_for_differences(df_from, df_to_check):\n",
    "    common_columns = pd.Index([col for col in df_from.columns\n",
    "                      if col in df_to_check.columns])\n",
    "    for loop_iloc in range(len(df_from)):\n",
    "        row_i = df_from[common_columns].iloc[loop_iloc,:]\n",
    "        row_loc = row_i.name\n",
    "        same_rows = (df_to_check[common_columns] == row_i).all(axis=1)\n",
    "        if not sum(same_rows):\n",
    "            similar_rows, different_entries = find_similar_rows_new(i,\n",
    "                                                                    df_from,\n",
    "                                                                    df_to_check)\n",
    "            if len(similar_rows):\n",
    "                similar_row_is_numeric = np.issubdtype(\n",
    "                    df_from[different_entries[0][0]].dtype,\n",
    "                    np.number\n",
    "                )\n",
    "                if similar_row_is_numeric:\n",
    "                    num_feature = different_entries[0]\n",
    "                    df_from_fig = int(row_i[num_feature])\n",
    "                    df_to_check_fig = int(df_to_check\n",
    "                                       .loc[similar_rows,:][num_feature]\n",
    "                                       .values[0][0])\n",
    "                    print(df_from_fig - df_to_check_fig)\n",
    "                    if abs(df_from_fig - df_to_check_fig) > 0.01:\n",
    "                        print(f\"{row_loc} -> {similar_rows} : {num_feature}\"\n",
    "                              + f\" {df_from_fig} -> {df_to_check_fig}\")\n",
    "                else:\n",
    "                    print(f\"{row_loc} -> {similar_rows} : {different_entries}\")\n",
    "            else:\n",
    "                print(f\"{row_loc} has no similar examples\")\n",
    "        if sum(same_rows) > 1:\n",
    "            other_rows_iloc = same_rows[same_rows].index\n",
    "            other_rows_name = []\n",
    "            for iloc in other_rows_iloc:\n",
    "                other_rows_name.append(df_to_check.iloc[iloc,:].name)\n",
    "            print(f\"{i_name} = {other_rows_name}\")\n",
    "\n",
    "check_for_differences(ace_dat_extra, ace_dat_orig)"
   ],
   "metadata": {
    "collapsed": false,
    "pycharm": {
     "name": "#%%\n"
    }
   }
  },
  {
   "cell_type": "code",
   "execution_count": 23,
   "outputs": [
    {
     "ename": "AttributeError",
     "evalue": "'Series' object has no attribute 'isnum'",
     "output_type": "error",
     "traceback": [
      "\u001B[0;31m---------------------------------------------------------------------------\u001B[0m",
      "\u001B[0;31mAttributeError\u001B[0m                            Traceback (most recent call last)",
      "\u001B[0;32m<ipython-input-23-77777952ca24>\u001B[0m in \u001B[0;36m<module>\u001B[0;34m\u001B[0m\n\u001B[0;32m----> 1\u001B[0;31m \u001B[0mace_dat_orig\u001B[0m\u001B[0;34m[\u001B[0m\u001B[0;34m\"heart_rate\"\u001B[0m\u001B[0;34m]\u001B[0m\u001B[0;34m.\u001B[0m\u001B[0misnum\u001B[0m\u001B[0;34m\u001B[0m\u001B[0;34m\u001B[0m\u001B[0m\n\u001B[0m",
      "\u001B[0;32m/opt/anaconda3/envs/ACEenv/lib/python3.9/site-packages/pandas/core/generic.py\u001B[0m in \u001B[0;36m__getattr__\u001B[0;34m(self, name)\u001B[0m\n\u001B[1;32m   5458\u001B[0m             \u001B[0;32mif\u001B[0m \u001B[0mself\u001B[0m\u001B[0;34m.\u001B[0m\u001B[0m_info_axis\u001B[0m\u001B[0;34m.\u001B[0m\u001B[0m_can_hold_identifiers_and_holds_name\u001B[0m\u001B[0;34m(\u001B[0m\u001B[0mname\u001B[0m\u001B[0;34m)\u001B[0m\u001B[0;34m:\u001B[0m\u001B[0;34m\u001B[0m\u001B[0;34m\u001B[0m\u001B[0m\n\u001B[1;32m   5459\u001B[0m                 \u001B[0;32mreturn\u001B[0m \u001B[0mself\u001B[0m\u001B[0;34m[\u001B[0m\u001B[0mname\u001B[0m\u001B[0;34m]\u001B[0m\u001B[0;34m\u001B[0m\u001B[0;34m\u001B[0m\u001B[0m\n\u001B[0;32m-> 5460\u001B[0;31m             \u001B[0;32mreturn\u001B[0m \u001B[0mobject\u001B[0m\u001B[0;34m.\u001B[0m\u001B[0m__getattribute__\u001B[0m\u001B[0;34m(\u001B[0m\u001B[0mself\u001B[0m\u001B[0;34m,\u001B[0m \u001B[0mname\u001B[0m\u001B[0;34m)\u001B[0m\u001B[0;34m\u001B[0m\u001B[0;34m\u001B[0m\u001B[0m\n\u001B[0m\u001B[1;32m   5461\u001B[0m \u001B[0;34m\u001B[0m\u001B[0m\n\u001B[1;32m   5462\u001B[0m     \u001B[0;32mdef\u001B[0m \u001B[0m__setattr__\u001B[0m\u001B[0;34m(\u001B[0m\u001B[0mself\u001B[0m\u001B[0;34m,\u001B[0m \u001B[0mname\u001B[0m\u001B[0;34m:\u001B[0m \u001B[0mstr\u001B[0m\u001B[0;34m,\u001B[0m \u001B[0mvalue\u001B[0m\u001B[0;34m)\u001B[0m \u001B[0;34m->\u001B[0m \u001B[0;32mNone\u001B[0m\u001B[0;34m:\u001B[0m\u001B[0;34m\u001B[0m\u001B[0;34m\u001B[0m\u001B[0m\n",
      "\u001B[0;31mAttributeError\u001B[0m: 'Series' object has no attribute 'isnum'"
     ]
    }
   ],
   "source": [
    "ace_dat_orig[\"heart_rate\"].isnum"
   ],
   "metadata": {
    "collapsed": false,
    "pycharm": {
     "name": "#%%\n"
    }
   }
  },
  {
   "cell_type": "code",
   "execution_count": 27,
   "outputs": [
    {
     "data": {
      "text/plain": "True"
     },
     "execution_count": 27,
     "metadata": {},
     "output_type": "execute_result"
    }
   ],
   "source": [
    "np.issubdtype(ace_dat_orig[\"heart_rate\"].dtype, np.number)"
   ],
   "metadata": {
    "collapsed": false,
    "pycharm": {
     "name": "#%%\n"
    }
   }
  },
  {
   "cell_type": "code",
   "execution_count": 1,
   "outputs": [
    {
     "name": "stdout",
     "output_type": "stream",
     "text": [
      "Required features missing to run <function add_free_text_features at 0x7f9f14c83f70>\n"
     ]
    },
    {
     "name": "stderr",
     "output_type": "stream",
     "text": [
      "[nltk_data] Downloading package wordnet to\n",
      "[nltk_data]     /Users/samrelins/nltk_data...\n",
      "[nltk_data]   Package wordnet is already up-to-date!\n",
      "[nltk_data] Downloading package stopwords to\n",
      "[nltk_data]     /Users/samrelins/nltk_data...\n",
      "[nltk_data]   Package stopwords is already up-to-date!\n"
     ]
    }
   ],
   "source": [
    "from sklearn.linear_model import LogisticRegression\n",
    "import sys\n",
    "sys.path.append('/Users/samrelins/Documents/LIDA/ace_project/')\n",
    "from src.train_test import *\n",
    "\n",
    "data_loc = \"/Users/samrelins/Documents/LIDA/ace_project/data/\"\n",
    "ace_data= pd.read_csv(data_loc + \"ace_data_extra.csv\")\n",
    "text_features = [\"medical_history\", \"examination_summary\", \"recommendation\"]\n",
    "X_train, y_train, X_test, y_test = return_train_test(\n",
    "    ace_data.drop(text_features, axis=1)\n",
    ")"
   ],
   "metadata": {
    "collapsed": false,
    "pycharm": {
     "name": "#%%\n"
    }
   }
  },
  {
   "cell_type": "code",
   "execution_count": 2,
   "outputs": [
    {
     "name": "stdout",
     "output_type": "stream",
     "text": [
      "==================================================\n",
      "Testing LogisticRegression(class_weight='balanced', max_iter=1000, n_jobs=-1,\n",
      "                   random_state=0, solver='saga') classifier with one_hot encoded features.\n",
      "==================================================\n",
      "{'f1': [0.2597402597402597, 0.18461538461538457, 0.28169014084507044, 0.23529411764705885, 0.38095238095238093, 0.2758620689655173, 0.26315789473684215, 0.23728813559322035, 0.2564102564102564, 0.32, 0.2295081967213115, 0.2580645161290322, 0.24137931034482757, 0.3055555555555555, 0.21333333333333335, 0.2702702702702703, 0.19444444444444445, 0.23076923076923075, 0.22535211267605632, 0.2028985507246377, 0.21052631578947367, 0.2191780821917808, 0.28947368421052627, 0.2535211267605634, 0.22580645161290322, 0.16091954022988506, 0.19999999999999998, 0.23076923076923075, 0.2571428571428571, 0.24324324324324326], 'roc_auc': [0.5085470085470085, 0.44139194139194143, 0.5415140415140416, 0.5183150183150182, 0.6697191697191697, 0.5463980463980463, 0.514041514041514, 0.5076312576312576, 0.503052503052503, 0.586080586080586, 0.4966422466422467, 0.5244200244200244, 0.5131257631257631, 0.5692918192918194, 0.45299145299145305, 0.525030525030525, 0.4362026862026862, 0.4697802197802198, 0.47496947496947495, 0.45268620268620263, 0.4853479853479853, 0.463980463980464, 0.5473137973137973, 0.5082417582417582, 0.4911477411477411, 0.35378510378510375, 0.44719169719169716, 0.4697802197802198, 0.5137362637362638, 0.4917582417582417], 'accuracy': [0.47706422018348627, 0.5137614678899083, 0.5321100917431193, 0.6422018348623854, 0.5229357798165137, 0.6146788990825688, 0.48623853211009177, 0.5871559633027523, 0.46788990825688076, 0.5321100917431193, 0.5688073394495413, 0.5779816513761468, 0.5963302752293578, 0.5412844036697247, 0.45871559633027525, 0.5045871559633027, 0.46788990825688076, 0.44954128440366975, 0.4954128440366973, 0.4954128440366973, 0.5871559633027523, 0.47706422018348627, 0.5045871559633027, 0.5137614678899083, 0.5596330275229358, 0.3302752293577982, 0.48623853211009177, 0.44954128440366975, 0.5229357798165137, 0.48623853211009177], 'recall': [0.5555555555555556, 0.3333333333333333, 0.5555555555555556, 0.3333333333333333, 0.8888888888888888, 0.4444444444444444, 0.5555555555555556, 0.3888888888888889, 0.5555555555555556, 0.6666666666666666, 0.3888888888888889, 0.4444444444444444, 0.3888888888888889, 0.6111111111111112, 0.4444444444444444, 0.5555555555555556, 0.3888888888888889, 0.5, 0.4444444444444444, 0.3888888888888889, 0.3333333333333333, 0.4444444444444444, 0.6111111111111112, 0.5, 0.3888888888888889, 0.3888888888888889, 0.3888888888888889, 0.5, 0.5, 0.5], 'precision': [0.1694915254237288, 0.1276595744680851, 0.18867924528301888, 0.18181818181818182, 0.24242424242424243, 0.2, 0.1724137931034483, 0.17073170731707318, 0.16666666666666666, 0.21052631578947367, 0.16279069767441862, 0.18181818181818182, 0.175, 0.2037037037037037, 0.14035087719298245, 0.17857142857142858, 0.12962962962962962, 0.15, 0.1509433962264151, 0.13725490196078433, 0.15384615384615385, 0.14545454545454545, 0.1896551724137931, 0.16981132075471697, 0.1590909090909091, 0.10144927536231885, 0.1346153846153846, 0.15, 0.17307692307692307, 0.16071428571428573], 'true_pos': [10, 6, 10, 6, 16, 8, 10, 7, 10, 12, 7, 8, 7, 11, 8, 10, 7, 9, 8, 7, 6, 8, 11, 9, 7, 7, 7, 9, 9, 9], 'true_neg': [42, 50, 48, 64, 41, 59, 43, 57, 41, 46, 55, 55, 58, 48, 42, 45, 44, 40, 46, 47, 58, 44, 44, 47, 54, 29, 46, 40, 48, 44], 'false_pos': [49, 41, 43, 27, 50, 32, 48, 34, 50, 45, 36, 36, 33, 43, 49, 46, 47, 51, 45, 44, 33, 47, 47, 44, 37, 62, 45, 51, 43, 47], 'false_neg': [8, 12, 8, 12, 2, 10, 8, 11, 8, 6, 11, 10, 11, 7, 10, 8, 11, 9, 10, 11, 12, 10, 7, 9, 11, 11, 11, 9, 9, 9]}\n",
      "{'mean_f1': 0.2452388897475051, 'std_f1': 0.04291576878163247, 'mean_roc_auc': 0.5008038258038258, 'std_roc_auc': 0.05467472294692762, 'mean_accuracy': 0.5149847094801223, 'std_accuracy': 0.0605659017158514, 'mean_recall': 0.47962962962962963, 'std_recall': 0.11607728847566533, 'mean_precision': 0.16593960131334978, 'std_precision': 0.027795755474141228, 'mean_true_pos': 8.633333333333333, 'std_true_pos': 2.089391192561976, 'mean_true_neg': 47.5, 'std_true_neg': 7.209946832906144, 'mean_false_pos': 43.5, 'std_false_pos': 7.209946832906144, 'mean_false_neg': 9.366666666666667, 'std_false_neg': 2.089391192561976}\n",
      "{'f1': [0.0, 0.0, 0.0, 0.0, 0.0, 0.0, 0.0, 0.0, 0.0, 0.0, 0.0, 0.0, 0.0, 0.0, 0.2834645669291339, 0.0, 0.0, 0.0, 0.0, 0.0, 0.0, 0.0, 0.0, 0.0, 0.0, 0.0, 0.0, 0.2834645669291339, 0.0, 0.0], 'roc_auc': [0.5, 0.5, 0.5, 0.5, 0.5, 0.5, 0.5, 0.5, 0.5, 0.5, 0.5, 0.5, 0.5, 0.5, 0.5, 0.5, 0.5, 0.5, 0.5, 0.5, 0.5, 0.5, 0.5, 0.5, 0.5, 0.5, 0.5, 0.5, 0.5, 0.5], 'accuracy': [0.8348623853211009, 0.8348623853211009, 0.8348623853211009, 0.8348623853211009, 0.8348623853211009, 0.8348623853211009, 0.8348623853211009, 0.8348623853211009, 0.8348623853211009, 0.8348623853211009, 0.8348623853211009, 0.8348623853211009, 0.8348623853211009, 0.8348623853211009, 0.1651376146788991, 0.8348623853211009, 0.8348623853211009, 0.8348623853211009, 0.8348623853211009, 0.8348623853211009, 0.8348623853211009, 0.8348623853211009, 0.8348623853211009, 0.8348623853211009, 0.8348623853211009, 0.8348623853211009, 0.8348623853211009, 0.1651376146788991, 0.8348623853211009, 0.8348623853211009], 'recall': [0.0, 0.0, 0.0, 0.0, 0.0, 0.0, 0.0, 0.0, 0.0, 0.0, 0.0, 0.0, 0.0, 0.0, 1.0, 0.0, 0.0, 0.0, 0.0, 0.0, 0.0, 0.0, 0.0, 0.0, 0.0, 0.0, 0.0, 1.0, 0.0, 0.0], 'precision': [0.0, 0.0, 0.0, 0.0, 0.0, 0.0, 0.0, 0.0, 0.0, 0.0, 0.0, 0.0, 0.0, 0.0, 0.1651376146788991, 0.0, 0.0, 0.0, 0.0, 0.0, 0.0, 0.0, 0.0, 0.0, 0.0, 0.0, 0.0, 0.1651376146788991, 0.0, 0.0], 'true_pos': [0, 0, 0, 0, 0, 0, 0, 0, 0, 0, 0, 0, 0, 0, 18, 0, 0, 0, 0, 0, 0, 0, 0, 0, 0, 0, 0, 18, 0, 0], 'true_neg': [91, 91, 91, 91, 91, 91, 91, 91, 91, 91, 91, 91, 91, 91, 0, 91, 91, 91, 91, 91, 91, 91, 91, 91, 91, 91, 91, 0, 91, 91], 'false_pos': [0, 0, 0, 0, 0, 0, 0, 0, 0, 0, 0, 0, 0, 0, 91, 0, 0, 0, 0, 0, 0, 0, 0, 0, 0, 0, 0, 91, 0, 0], 'false_neg': [18, 18, 18, 18, 18, 18, 18, 18, 18, 18, 18, 18, 18, 18, 0, 18, 18, 18, 18, 18, 18, 18, 18, 18, 18, 18, 18, 0, 18, 18]}\n",
      "{'mean_f1': 0.018897637795275594, 'std_f1': 0.07070848604927135, 'mean_roc_auc': 0.5, 'std_roc_auc': 0.0, 'mean_accuracy': 0.7902140672782877, 'std_accuracy': 0.1670587090119252, 'mean_recall': 0.06666666666666667, 'std_recall': 0.24944382578492943, 'mean_precision': 0.011009174311926606, 'std_precision': 0.04119255838650211, 'mean_true_pos': 1.2, 'std_true_pos': 4.489988864128731, 'mean_true_neg': 84.93333333333334, 'std_true_neg': 22.699388146428575, 'mean_false_pos': 6.066666666666666, 'std_false_pos': 22.699388146428575, 'mean_false_neg': 16.8, 'std_false_neg': 4.48998886412873}\n",
      "{'f1': [0.325, 0.2857142857142857, 0.30136986301369867, 0.26666666666666666, 0.3733333333333333, 0.36363636363636365, 0.26865671641791045, 0.27692307692307694, 0.21052631578947367, 0.31884057971014496, 0.2580645161290322, 0.26865671641791045, 0.2647058823529412, 0.23999999999999996, 0.22222222222222224, 0.2962962962962963, 0.27499999999999997, 0.2702702702702703, 0.2903225806451613, 0.273972602739726, 0.24615384615384614, 0.23188405797101447, 0.3384615384615385, 0.2535211267605634, 0.18666666666666665, 0.24324324324324326, 0.19999999999999998, 0.25, 0.26666666666666666, 0.17721518987341772], 'roc_auc': [0.5918803418803419, 0.5573870573870574, 0.5637973137973138, 0.5354090354090354, 0.6526251526251526, 0.6355311355311355, 0.5302197802197802, 0.5412087912087912, 0.44749694749694746, 0.5857753357753358, 0.5244200244200244, 0.5302197802197802, 0.5247252747252747, 0.4862637362637362, 0.45329670329670335, 0.5531135531135531, 0.5253357753357754, 0.525030525030525, 0.5576923076923077, 0.5305250305250305, 0.5079365079365079, 0.4859584859584859, 0.6077533577533578, 0.5082417582417582, 0.41971916971916967, 0.4917582417582417, 0.44719169719169716, 0.5027472527472527, 0.5354090354090354, 0.39774114774114777], 'accuracy': [0.5045871559633027, 0.6330275229357798, 0.5321100917431193, 0.5963302752293578, 0.5688073394495413, 0.6146788990825688, 0.5504587155963303, 0.5688073394495413, 0.44954128440366975, 0.5688073394495413, 0.5779816513761468, 0.5504587155963303, 0.5412844036697247, 0.47706422018348627, 0.42201834862385323, 0.47706422018348627, 0.46788990825688076, 0.5045871559633027, 0.5963302752293578, 0.5137614678899083, 0.5504587155963303, 0.5137614678899083, 0.6055045871559633, 0.5137614678899083, 0.44036697247706424, 0.48623853211009177, 0.48623853211009177, 0.5045871559633027, 0.5963302752293578, 0.4036697247706422], 'recall': [0.7222222222222222, 0.4444444444444444, 0.6111111111111112, 0.4444444444444444, 0.7777777777777778, 0.6666666666666666, 0.5, 0.5, 0.4444444444444444, 0.6111111111111112, 0.4444444444444444, 0.5, 0.5, 0.5, 0.5, 0.6666666666666666, 0.6111111111111112, 0.5555555555555556, 0.5, 0.5555555555555556, 0.4444444444444444, 0.4444444444444444, 0.6111111111111112, 0.5, 0.3888888888888889, 0.5, 0.3888888888888889, 0.5, 0.4444444444444444, 0.3888888888888889], 'precision': [0.20967741935483872, 0.21052631578947367, 0.2, 0.19047619047619047, 0.24561403508771928, 0.25, 0.1836734693877551, 0.19148936170212766, 0.13793103448275862, 0.21568627450980393, 0.18181818181818182, 0.1836734693877551, 0.18, 0.15789473684210525, 0.14285714285714285, 0.19047619047619047, 0.1774193548387097, 0.17857142857142858, 0.20454545454545456, 0.18181818181818182, 0.1702127659574468, 0.1568627450980392, 0.23404255319148937, 0.16981132075471697, 0.12280701754385964, 0.16071428571428573, 0.1346153846153846, 0.16666666666666666, 0.19047619047619047, 0.11475409836065574], 'true_pos': [13, 8, 11, 8, 14, 12, 9, 9, 8, 11, 8, 9, 9, 9, 9, 12, 11, 10, 9, 10, 8, 8, 11, 9, 7, 9, 7, 9, 8, 7], 'true_neg': [42, 61, 47, 57, 48, 55, 51, 53, 41, 51, 55, 51, 50, 43, 37, 40, 40, 45, 56, 46, 52, 48, 55, 47, 41, 44, 46, 46, 57, 37], 'false_pos': [49, 30, 44, 34, 43, 36, 40, 38, 50, 40, 36, 40, 41, 48, 54, 51, 51, 46, 35, 45, 39, 43, 36, 44, 50, 47, 45, 45, 34, 54], 'false_neg': [5, 10, 7, 10, 4, 6, 9, 9, 10, 7, 10, 9, 9, 9, 9, 6, 7, 8, 9, 8, 10, 10, 7, 9, 11, 9, 11, 9, 10, 11]}\n",
      "{'mean_f1': 0.26813302080251566, 'std_f1': 0.0456950807594457, 'mean_roc_auc': 0.5252136752136752, 'std_roc_auc': 0.05720576408597842, 'mean_accuracy': 0.5272171253822631, 'std_accuracy': 0.05854013027474763, 'mean_recall': 0.5222222222222223, 'std_recall': 0.09686442096757052, 'mean_precision': 0.18117037567748512, 'std_precision': 0.03224250162454631, 'mean_true_pos': 9.4, 'std_true_pos': 1.7435595774162693, 'mean_true_neg': 48.06666666666667, 'std_true_neg': 6.276587891167904, 'mean_false_pos': 42.93333333333333, 'std_false_pos': 6.276587891167904, 'mean_false_neg': 8.6, 'std_false_neg': 1.7435595774162693}\n"
     ]
    },
    {
     "name": "stderr",
     "output_type": "stream",
     "text": [
      " 10%|█         | 3/30 [00:08<01:17,  2.85s/it]\n"
     ]
    },
    {
     "ename": "KeyboardInterrupt",
     "evalue": "",
     "output_type": "error",
     "traceback": [
      "\u001B[0;31m---------------------------------------------------------------------------\u001B[0m",
      "\u001B[0;31mKeyboardInterrupt\u001B[0m                         Traceback (most recent call last)",
      "\u001B[0;32m<ipython-input-2-240bd9ad19b4>\u001B[0m in \u001B[0;36m<module>\u001B[0;34m\u001B[0m\n\u001B[0;32m----> 1\u001B[0;31m best_scores, best_params = param_search_classifier(\n\u001B[0m\u001B[1;32m      2\u001B[0m     \u001B[0mX_train\u001B[0m\u001B[0;34m=\u001B[0m\u001B[0mX_train\u001B[0m\u001B[0;34m,\u001B[0m \u001B[0my_train\u001B[0m\u001B[0;34m=\u001B[0m\u001B[0my_train\u001B[0m\u001B[0;34m,\u001B[0m\u001B[0;34m\u001B[0m\u001B[0;34m\u001B[0m\u001B[0m\n\u001B[1;32m      3\u001B[0m     clf=LogisticRegression(random_state=0,\n\u001B[1;32m      4\u001B[0m                            \u001B[0mmax_iter\u001B[0m\u001B[0;34m=\u001B[0m\u001B[0;36m1000\u001B[0m\u001B[0;34m,\u001B[0m\u001B[0;34m\u001B[0m\u001B[0;34m\u001B[0m\u001B[0m\n\u001B[1;32m      5\u001B[0m                            \u001B[0msolver\u001B[0m\u001B[0;34m=\u001B[0m\u001B[0;34m\"saga\"\u001B[0m\u001B[0;34m,\u001B[0m\u001B[0;34m\u001B[0m\u001B[0;34m\u001B[0m\u001B[0m\n",
      "\u001B[0;32m~/Documents/LIDA/ace_project/src/train_test.py\u001B[0m in \u001B[0;36mparam_search_classifier\u001B[0;34m(param_grid, verbose, **kwargs)\u001B[0m\n\u001B[1;32m    281\u001B[0m \u001B[0;34m\u001B[0m\u001B[0m\n\u001B[1;32m    282\u001B[0m     \u001B[0;32mfor\u001B[0m \u001B[0mparams\u001B[0m \u001B[0;32min\u001B[0m \u001B[0mtqdm\u001B[0m\u001B[0;34m(\u001B[0m\u001B[0mparam_grid\u001B[0m\u001B[0;34m,\u001B[0m \u001B[0mdisable\u001B[0m\u001B[0;34m=\u001B[0m\u001B[0;34m(\u001B[0m\u001B[0;32mnot\u001B[0m \u001B[0mverbose\u001B[0m\u001B[0;34m)\u001B[0m\u001B[0;34m)\u001B[0m\u001B[0;34m:\u001B[0m\u001B[0;34m\u001B[0m\u001B[0;34m\u001B[0m\u001B[0m\n\u001B[0;32m--> 283\u001B[0;31m         \u001B[0mcv_scores\u001B[0m \u001B[0;34m=\u001B[0m \u001B[0mcv_score_classifier\u001B[0m\u001B[0;34m(\u001B[0m\u001B[0mparams\u001B[0m\u001B[0;34m=\u001B[0m\u001B[0mparams\u001B[0m\u001B[0;34m,\u001B[0m \u001B[0;34m**\u001B[0m\u001B[0mkwargs\u001B[0m\u001B[0;34m)\u001B[0m\u001B[0;34m\u001B[0m\u001B[0;34m\u001B[0m\u001B[0m\n\u001B[0m\u001B[1;32m    284\u001B[0m         \u001B[0mbetter_than_random\u001B[0m \u001B[0;34m=\u001B[0m \u001B[0mcv_scores\u001B[0m\u001B[0;34m[\u001B[0m\u001B[0;34m\"mean_accuracy\"\u001B[0m\u001B[0;34m]\u001B[0m \u001B[0;34m>\u001B[0m \u001B[0;36m0.5\u001B[0m\u001B[0;34m\u001B[0m\u001B[0;34m\u001B[0m\u001B[0m\n\u001B[1;32m    285\u001B[0m         \u001B[0;32mif\u001B[0m \u001B[0;32mnot\u001B[0m \u001B[0mbest_scores\u001B[0m\u001B[0;34m:\u001B[0m\u001B[0;34m\u001B[0m\u001B[0;34m\u001B[0m\u001B[0m\n",
      "\u001B[0;32m~/Documents/LIDA/ace_project/src/train_test.py\u001B[0m in \u001B[0;36mcv_score_classifier\u001B[0;34m(clf, X_train, y_train, params, cat_encoder, resample, n_random_iterations, scaled, n_splits, weight_y)\u001B[0m\n\u001B[1;32m    210\u001B[0m \u001B[0;34m\u001B[0m\u001B[0m\n\u001B[1;32m    211\u001B[0m             \u001B[0;31m# encode categorical features and scale numeric if required\u001B[0m\u001B[0;34m\u001B[0m\u001B[0;34m\u001B[0m\u001B[0;34m\u001B[0m\u001B[0m\n\u001B[0;32m--> 212\u001B[0;31m             cv_X_train, X_val, = encode_and_scale(\n\u001B[0m\u001B[1;32m    213\u001B[0m                 \u001B[0mcv_X_train\u001B[0m\u001B[0;34m,\u001B[0m \u001B[0mcv_y_train\u001B[0m\u001B[0;34m,\u001B[0m \u001B[0mX_val\u001B[0m\u001B[0;34m,\u001B[0m\u001B[0;34m\u001B[0m\u001B[0;34m\u001B[0m\u001B[0m\n\u001B[1;32m    214\u001B[0m                 \u001B[0mcat_encoder\u001B[0m\u001B[0;34m=\u001B[0m\u001B[0mcat_encoder\u001B[0m\u001B[0;34m,\u001B[0m\u001B[0;34m\u001B[0m\u001B[0;34m\u001B[0m\u001B[0m\n",
      "\u001B[0;32m~/Documents/LIDA/ace_project/src/train_test.py\u001B[0m in \u001B[0;36mencode_and_scale\u001B[0;34m(X_train, y_train, X_test, cat_encoder, scaled)\u001B[0m\n\u001B[1;32m    100\u001B[0m     \u001B[0mencoded_scaled_train_test\u001B[0m \u001B[0;34m=\u001B[0m \u001B[0;34m[\u001B[0m\u001B[0;34m]\u001B[0m\u001B[0;34m\u001B[0m\u001B[0;34m\u001B[0m\u001B[0m\n\u001B[1;32m    101\u001B[0m     \u001B[0;32mfor\u001B[0m \u001B[0mdf\u001B[0m \u001B[0;32min\u001B[0m \u001B[0;34m[\u001B[0m\u001B[0mX_train\u001B[0m\u001B[0;34m,\u001B[0m \u001B[0mX_test\u001B[0m\u001B[0;34m]\u001B[0m\u001B[0;34m:\u001B[0m\u001B[0;34m\u001B[0m\u001B[0;34m\u001B[0m\u001B[0m\n\u001B[0;32m--> 102\u001B[0;31m         enc_cat_data = pd.DataFrame(encoder.transform(df[cat_features]),\n\u001B[0m\u001B[1;32m    103\u001B[0m                                     columns=encoded_feature_names)\n\u001B[1;32m    104\u001B[0m \u001B[0;34m\u001B[0m\u001B[0m\n",
      "\u001B[0;32m/opt/anaconda3/envs/ACEenv/lib/python3.9/site-packages/sklearn/preprocessing/_encoders.py\u001B[0m in \u001B[0;36mtransform\u001B[0;34m(self, X)\u001B[0m\n\u001B[1;32m    426\u001B[0m         \u001B[0mcheck_is_fitted\u001B[0m\u001B[0;34m(\u001B[0m\u001B[0mself\u001B[0m\u001B[0;34m)\u001B[0m\u001B[0;34m\u001B[0m\u001B[0;34m\u001B[0m\u001B[0m\n\u001B[1;32m    427\u001B[0m         \u001B[0;31m# validation of X happens in _check_X called by _transform\u001B[0m\u001B[0;34m\u001B[0m\u001B[0;34m\u001B[0m\u001B[0;34m\u001B[0m\u001B[0m\n\u001B[0;32m--> 428\u001B[0;31m         \u001B[0mX_int\u001B[0m\u001B[0;34m,\u001B[0m \u001B[0mX_mask\u001B[0m \u001B[0;34m=\u001B[0m \u001B[0mself\u001B[0m\u001B[0;34m.\u001B[0m\u001B[0m_transform\u001B[0m\u001B[0;34m(\u001B[0m\u001B[0mX\u001B[0m\u001B[0;34m,\u001B[0m \u001B[0mhandle_unknown\u001B[0m\u001B[0;34m=\u001B[0m\u001B[0mself\u001B[0m\u001B[0;34m.\u001B[0m\u001B[0mhandle_unknown\u001B[0m\u001B[0;34m)\u001B[0m\u001B[0;34m\u001B[0m\u001B[0;34m\u001B[0m\u001B[0m\n\u001B[0m\u001B[1;32m    429\u001B[0m \u001B[0;34m\u001B[0m\u001B[0m\n\u001B[1;32m    430\u001B[0m         \u001B[0mn_samples\u001B[0m\u001B[0;34m,\u001B[0m \u001B[0mn_features\u001B[0m \u001B[0;34m=\u001B[0m \u001B[0mX_int\u001B[0m\u001B[0;34m.\u001B[0m\u001B[0mshape\u001B[0m\u001B[0;34m\u001B[0m\u001B[0;34m\u001B[0m\u001B[0m\n",
      "\u001B[0;32m/opt/anaconda3/envs/ACEenv/lib/python3.9/site-packages/sklearn/preprocessing/_encoders.py\u001B[0m in \u001B[0;36m_transform\u001B[0;34m(self, X, handle_unknown)\u001B[0m\n\u001B[1;32m    115\u001B[0m         \u001B[0;32mfor\u001B[0m \u001B[0mi\u001B[0m \u001B[0;32min\u001B[0m \u001B[0mrange\u001B[0m\u001B[0;34m(\u001B[0m\u001B[0mn_features\u001B[0m\u001B[0;34m)\u001B[0m\u001B[0;34m:\u001B[0m\u001B[0;34m\u001B[0m\u001B[0;34m\u001B[0m\u001B[0m\n\u001B[1;32m    116\u001B[0m             \u001B[0mXi\u001B[0m \u001B[0;34m=\u001B[0m \u001B[0mX_list\u001B[0m\u001B[0;34m[\u001B[0m\u001B[0mi\u001B[0m\u001B[0;34m]\u001B[0m\u001B[0;34m\u001B[0m\u001B[0;34m\u001B[0m\u001B[0m\n\u001B[0;32m--> 117\u001B[0;31m             diff, valid_mask = _encode_check_unknown(Xi, self.categories_[i],\n\u001B[0m\u001B[1;32m    118\u001B[0m                                                      return_mask=True)\n\u001B[1;32m    119\u001B[0m \u001B[0;34m\u001B[0m\u001B[0m\n",
      "\u001B[0;32m/opt/anaconda3/envs/ACEenv/lib/python3.9/site-packages/sklearn/preprocessing/_label.py\u001B[0m in \u001B[0;36m_encode_check_unknown\u001B[0;34m(values, uniques, return_mask)\u001B[0m\n\u001B[1;32m    151\u001B[0m     \u001B[0;32mif\u001B[0m \u001B[0mvalues\u001B[0m\u001B[0;34m.\u001B[0m\u001B[0mdtype\u001B[0m \u001B[0;34m==\u001B[0m \u001B[0mobject\u001B[0m\u001B[0;34m:\u001B[0m\u001B[0;34m\u001B[0m\u001B[0;34m\u001B[0m\u001B[0m\n\u001B[1;32m    152\u001B[0m         \u001B[0muniques_set\u001B[0m \u001B[0;34m=\u001B[0m \u001B[0mset\u001B[0m\u001B[0;34m(\u001B[0m\u001B[0muniques\u001B[0m\u001B[0;34m)\u001B[0m\u001B[0;34m\u001B[0m\u001B[0;34m\u001B[0m\u001B[0m\n\u001B[0;32m--> 153\u001B[0;31m         \u001B[0mdiff\u001B[0m \u001B[0;34m=\u001B[0m \u001B[0mlist\u001B[0m\u001B[0;34m(\u001B[0m\u001B[0mset\u001B[0m\u001B[0;34m(\u001B[0m\u001B[0mvalues\u001B[0m\u001B[0;34m)\u001B[0m \u001B[0;34m-\u001B[0m \u001B[0muniques_set\u001B[0m\u001B[0;34m)\u001B[0m\u001B[0;34m\u001B[0m\u001B[0;34m\u001B[0m\u001B[0m\n\u001B[0m\u001B[1;32m    154\u001B[0m         \u001B[0;32mif\u001B[0m \u001B[0mreturn_mask\u001B[0m\u001B[0;34m:\u001B[0m\u001B[0;34m\u001B[0m\u001B[0;34m\u001B[0m\u001B[0m\n\u001B[1;32m    155\u001B[0m             \u001B[0;32mif\u001B[0m \u001B[0mdiff\u001B[0m\u001B[0;34m:\u001B[0m\u001B[0;34m\u001B[0m\u001B[0;34m\u001B[0m\u001B[0m\n",
      "\u001B[0;31mKeyboardInterrupt\u001B[0m: "
     ]
    }
   ],
   "source": [
    "best_scores, best_params = param_search_classifier(\n",
    "    X_train=X_train, y_train=y_train,\n",
    "    clf=LogisticRegression(random_state=0,\n",
    "                           max_iter=1000,\n",
    "                           solver=\"saga\",\n",
    "                           class_weight=\"balanced\",\n",
    "                           n_jobs=-1),\n",
    "    param_grid={\"penalty\": [\"none\", \"l1\", \"l2\"],\n",
    "                'C': np.logspace(-1, 0.3, 10)},\n",
    "    scaled=True,\n",
    "    n_random_iterations=10,\n",
    "    resample=\"undersample\"\n",
    ")"
   ],
   "metadata": {
    "collapsed": false,
    "pycharm": {
     "name": "#%%\n"
    }
   }
  },
  {
   "cell_type": "code",
   "execution_count": 8,
   "outputs": [
    {
     "data": {
      "text/plain": "{'mean_f1': 0.2639188049306702,\n 'std_f1': 0.0648341137778323,\n 'mean_roc_auc': 0.5388787138787138,\n 'std_roc_auc': 0.0571059327183697,\n 'mean_accuracy': 0.6256880733944955,\n 'std_accuracy': 0.05881108443422933,\n 'mean_recall': 0.4092592592592593,\n 'std_recall': 0.11870644822620258,\n 'mean_precision': 0.19759574896240356,\n 'std_precision': 0.04913439147512597,\n 'mean_true_pos': 7.366666666666666,\n 'std_true_pos': 2.1367160680716464,\n 'mean_true_neg': 60.833333333333336,\n 'std_true_neg': 6.904507384471555,\n 'mean_false_pos': 30.166666666666668,\n 'std_false_pos': 6.904507384471555,\n 'mean_false_neg': 10.633333333333333,\n 'std_false_neg': 2.1367160680716464}"
     },
     "execution_count": 8,
     "metadata": {},
     "output_type": "execute_result"
    }
   ],
   "source": [
    "best_scores"
   ],
   "metadata": {
    "collapsed": false,
    "pycharm": {
     "name": "#%%\n"
    }
   }
  },
  {
   "cell_type": "code",
   "execution_count": 10,
   "outputs": [
    {
     "data": {
      "text/plain": "{'mean_f1': 0.24742650334085026,\n 'std_f1': 0.05274150381565719,\n 'mean_roc_auc': 0.5249999999999999,\n 'std_roc_auc': 0.043742865774235966,\n 'mean_accuracy': 0.6198776758409785,\n 'std_accuracy': 0.043335610125809935,\n 'mean_recall': 0.3833333333333334,\n 'std_recall': 0.10178448950860218,\n 'mean_precision': 0.18443824036791215,\n 'std_precision': 0.03666545932510187,\n 'mean_true_pos': 6.9,\n 'std_true_pos': 1.8321208111548393,\n 'mean_true_neg': 60.666666666666664,\n 'std_true_neg': 5.399588461684423,\n 'mean_false_pos': 30.333333333333332,\n 'std_false_pos': 5.399588461684423,\n 'mean_false_neg': 11.1,\n 'std_false_neg': 1.8321208111548393}"
     },
     "execution_count": 10,
     "metadata": {},
     "output_type": "execute_result"
    }
   ],
   "source": [
    "best_scores"
   ],
   "metadata": {
    "collapsed": false,
    "pycharm": {
     "name": "#%%\n"
    }
   }
  },
  {
   "cell_type": "code",
   "execution_count": 12,
   "outputs": [
    {
     "data": {
      "text/plain": "{'mean_f1': 0.26813302080251566,\n 'std_f1': 0.0456950807594457,\n 'mean_roc_auc': 0.5252136752136752,\n 'std_roc_auc': 0.05720576408597842,\n 'mean_accuracy': 0.5272171253822631,\n 'std_accuracy': 0.05854013027474763,\n 'mean_recall': 0.5222222222222223,\n 'std_recall': 0.09686442096757052,\n 'mean_precision': 0.18117037567748512,\n 'std_precision': 0.03224250162454631,\n 'mean_true_pos': 9.4,\n 'std_true_pos': 1.7435595774162693,\n 'mean_true_neg': 48.06666666666667,\n 'std_true_neg': 6.276587891167904,\n 'mean_false_pos': 42.93333333333333,\n 'std_false_pos': 6.276587891167904,\n 'mean_false_neg': 8.6,\n 'std_false_neg': 1.7435595774162693}"
     },
     "execution_count": 12,
     "metadata": {},
     "output_type": "execute_result"
    }
   ],
   "source": [
    "best_scores"
   ],
   "metadata": {
    "collapsed": false,
    "pycharm": {
     "name": "#%%\n"
    }
   }
  },
  {
   "cell_type": "code",
   "execution_count": 20,
   "outputs": [
    {
     "name": "stdout",
     "output_type": "stream",
     "text": [
      "==================================================\n",
      "Testing LogisticRegression(class_weight='balanced', max_iter=1000, n_jobs=-1,\n",
      "                   random_state=0, solver='saga') classifier with one_hot encoded features.\n",
      "==================================================\n"
     ]
    },
    {
     "name": "stderr",
     "output_type": "stream",
     "text": [
      "100%|██████████| 50/50 [00:10<00:00,  4.58it/s]\n"
     ]
    },
    {
     "data": {
      "text/plain": "{'f1': 0.24360587002096437,\n 'roc_auc': 0.5407000407000407,\n 'accuracy': 0.6299694189602446,\n 'recall': 0.40740740740740744,\n 'precision': 0.17777777777777778,\n 'true_pos': 7.333333333333333,\n 'true_neg': 61.333333333333336,\n 'false_pos': 29.666666666666668,\n 'false_neg': 10.666666666666666}"
     },
     "execution_count": 20,
     "metadata": {},
     "output_type": "execute_result"
    }
   ],
   "source": [
    "extra_data_loc = \"/Users/samrelins/Documents/LIDA/ace_project/data\" \\\n",
    "               \"/ace_data_extra\" \\\n",
    "             \".csv\"\n",
    "ace_data_extra = (pd.read_csv(extra_data_loc)\n",
    "                  .drop([\"medical_history\", \"examination_summary\",\n",
    "                         \"recommendation\"], axis=1))\n",
    "\n",
    "X_train_extra, y_train_extra, X_test_extra, y_test_extra = return_train_test\\\n",
    "    (ace_data_extra)\n",
    "\n",
    "best_extra_scores, best_extra_params = param_search_classifier(\n",
    "    X_train=X_train_extra, y_train=y_train_extra,\n",
    "    clf=LogisticRegression(random_state=0,\n",
    "                           max_iter=1000,\n",
    "                           solver=\"saga\",\n",
    "                           class_weight=\"balanced\",\n",
    "                           n_jobs=-1),\n",
    "    param_grid={\"penalty\": [\"l1\"],\n",
    "                'C': np.linspace(0.01, 1, 50)},\n",
    "    scaled=True,\n",
    ")\n",
    "\n",
    "best_extra_scores"
   ],
   "metadata": {
    "collapsed": false,
    "pycharm": {
     "name": "#%%\n"
    }
   }
  },
  {
   "cell_type": "code",
   "execution_count": 18,
   "outputs": [
    {
     "data": {
      "text/plain": "{'C': 0.19144819761699575, 'penalty': 'l1'}"
     },
     "execution_count": 18,
     "metadata": {},
     "output_type": "execute_result"
    }
   ],
   "source": [
    "best_params"
   ],
   "metadata": {
    "collapsed": false,
    "pycharm": {
     "name": "#%%\n"
    }
   }
  },
  {
   "cell_type": "code",
   "execution_count": 21,
   "outputs": [
    {
     "data": {
      "text/plain": "{'C': 0.8787755102040816, 'penalty': 'l1'}"
     },
     "execution_count": 21,
     "metadata": {},
     "output_type": "execute_result"
    }
   ],
   "source": [
    "best_extra_params"
   ],
   "metadata": {
    "collapsed": false,
    "pycharm": {
     "name": "#%%\n"
    }
   }
  },
  {
   "cell_type": "code",
   "execution_count": 40,
   "outputs": [
    {
     "data": {
      "text/plain": "{'f1': 0.3804347826086957,\n 'roc_auc': 0.6500814000814001,\n 'accuracy': 0.6513761467889908,\n 'recall': 0.6481481481481481,\n 'precision': 0.2692307692307692,\n 'true_pos': 35,\n 'true_neg': 178,\n 'false_pos': 95,\n 'false_neg': 19}"
     },
     "execution_count": 40,
     "metadata": {},
     "output_type": "execute_result"
    }
   ],
   "source": [
    "X_train_prepped, X_test_prepped = encode_and_scale(\n",
    "    X_train=X_train_extra,\n",
    "    y_train=y_train_extra,\n",
    "    X_test=X_test_extra,\n",
    "    cat_encoder=\"one_hot\",\n",
    "    scaled=True\n",
    ")\n",
    "\n",
    "log_reg_clf = LogisticRegression(\n",
    "    random_state=0,\n",
    "    max_iter=1000,\n",
    "    solver=\"saga\",\n",
    "    class_weight=\"balanced\",\n",
    "    n_jobs=-1,\n",
    "    C=0.2,\n",
    "    penalty=\"l1\"\n",
    ")\n",
    "\n",
    "log_reg_clf.fit(X_train_prepped, y_train_extra)\n",
    "\n",
    "score_classifier(log_reg_clf, X_train_prepped, y_train_extra)"
   ],
   "metadata": {
    "collapsed": false,
    "pycharm": {
     "name": "#%%\n"
    }
   }
  },
  {
   "cell_type": "code",
   "execution_count": 44,
   "outputs": [
    {
     "data": {
      "text/plain": "                      feature     value\n6     apls_resp_rate_cat_high  0.334990\n0  referral_profession_doctor  0.324761\n2        referral_date_winter  0.154355\n1                address_bd03  0.148631\n4        activity_level_lower  0.069948\n3   illness_severity_moderate  0.067535\n5              food_allergy_Y  0.034319\n7    apls_heart_rate_cat_high  0.010547",
      "text/html": "<div>\n<style scoped>\n    .dataframe tbody tr th:only-of-type {\n        vertical-align: middle;\n    }\n\n    .dataframe tbody tr th {\n        vertical-align: top;\n    }\n\n    .dataframe thead th {\n        text-align: right;\n    }\n</style>\n<table border=\"1\" class=\"dataframe\">\n  <thead>\n    <tr style=\"text-align: right;\">\n      <th></th>\n      <th>feature</th>\n      <th>value</th>\n    </tr>\n  </thead>\n  <tbody>\n    <tr>\n      <th>6</th>\n      <td>apls_resp_rate_cat_high</td>\n      <td>0.334990</td>\n    </tr>\n    <tr>\n      <th>0</th>\n      <td>referral_profession_doctor</td>\n      <td>0.324761</td>\n    </tr>\n    <tr>\n      <th>2</th>\n      <td>referral_date_winter</td>\n      <td>0.154355</td>\n    </tr>\n    <tr>\n      <th>1</th>\n      <td>address_bd03</td>\n      <td>0.148631</td>\n    </tr>\n    <tr>\n      <th>4</th>\n      <td>activity_level_lower</td>\n      <td>0.069948</td>\n    </tr>\n    <tr>\n      <th>3</th>\n      <td>illness_severity_moderate</td>\n      <td>0.067535</td>\n    </tr>\n    <tr>\n      <th>5</th>\n      <td>food_allergy_Y</td>\n      <td>0.034319</td>\n    </tr>\n    <tr>\n      <th>7</th>\n      <td>apls_heart_rate_cat_high</td>\n      <td>0.010547</td>\n    </tr>\n  </tbody>\n</table>\n</div>"
     },
     "execution_count": 44,
     "metadata": {},
     "output_type": "execute_result"
    }
   ],
   "source": [
    "nonzero_coefs = log_reg_clf.coef_[0] > 0\n",
    "pd.DataFrame({\n",
    "    \"feature\": X_train_prepped.columns[nonzero_coefs],\n",
    "    \"value\": log_reg_clf.coef_[0][nonzero_coefs]\n",
    "}).sort_values(\"value\", ascending=False)"
   ],
   "metadata": {
    "collapsed": false,
    "pycharm": {
     "name": "#%%\n"
    }
   }
  },
  {
   "cell_type": "code",
   "execution_count": null,
   "outputs": [],
   "source": [],
   "metadata": {
    "collapsed": false,
    "pycharm": {
     "name": "#%%\n"
    }
   }
  }
 ],
 "metadata": {
  "kernelspec": {
   "display_name": "Python 3",
   "language": "python",
   "name": "python3"
  },
  "language_info": {
   "codemirror_mode": {
    "name": "ipython",
    "version": 2
   },
   "file_extension": ".py",
   "mimetype": "text/x-python",
   "name": "python",
   "nbconvert_exporter": "python",
   "pygments_lexer": "ipython2",
   "version": "2.7.6"
  }
 },
 "nbformat": 4,
 "nbformat_minor": 0
}