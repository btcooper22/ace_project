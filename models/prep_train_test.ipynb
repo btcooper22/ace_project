{
 "cells": [
  {
   "cell_type": "code",
   "execution_count": 1,
   "metadata": {
    "collapsed": true
   },
   "outputs": [],
   "source": [
    "import pandas as pd\n",
    "import numpy as np\n",
    "from sklearn.model_selection import train_test_split"
   ]
  },
  {
   "cell_type": "code",
   "execution_count": 2,
   "outputs": [],
   "source": [
    "ace_data = pd.read_pickle(\"../data/ace_data_prepped.pkl\")"
   ],
   "metadata": {
    "collapsed": false,
    "pycharm": {
     "name": "#%%\n"
    }
   }
  },
  {
   "cell_type": "code",
   "execution_count": 3,
   "outputs": [
    {
     "name": "stdout",
     "output_type": "stream",
     "text": [
      "<class 'pandas.core.frame.DataFrame'>\n",
      "RangeIndex: 499 entries, 0 to 498\n",
      "Data columns (total 30 columns):\n",
      " #   Column               Non-Null Count  Dtype   \n",
      "---  ------               --------------  -----   \n",
      " 0   id                   499 non-null    int64   \n",
      " 1   hospital_reqd        499 non-null    int64   \n",
      " 2   referral_from        498 non-null    category\n",
      " 3   age                  499 non-null    int64   \n",
      " 4   address              499 non-null    category\n",
      " 5   ethnicity            497 non-null    category\n",
      " 6   gender               499 non-null    category\n",
      " 7   referral_date        499 non-null    category\n",
      " 8   referral_time        499 non-null    category\n",
      " 9   illness_severity     497 non-null    category\n",
      " 10  activity_level       496 non-null    category\n",
      " 11  gut_feeling          494 non-null    category\n",
      " 12  ox_sat               489 non-null    float64 \n",
      " 13  resp_rate            488 non-null    float64 \n",
      " 14  heart_rate           490 non-null    float64 \n",
      " 15  temp                 438 non-null    float64 \n",
      " 16  sepsis               499 non-null    category\n",
      " 17  safeguarding         499 non-null    category\n",
      " 18  food_allergy         499 non-null    category\n",
      " 19  drug_allergy         499 non-null    category\n",
      " 20  other_allergy        499 non-null    category\n",
      " 21  simple_ethnicity     499 non-null    category\n",
      " 22  group_ethnicity      499 non-null    category\n",
      " 23  ox_sat_low           499 non-null    category\n",
      " 24  age_range            499 non-null    category\n",
      " 25  ace_heart_rate_cat   499 non-null    category\n",
      " 26  ace_resp_rate_cat    499 non-null    category\n",
      " 27  meets_ace_criteria   499 non-null    category\n",
      " 28  apls_heart_rate_cat  499 non-null    category\n",
      " 29  apls_resp_rate_cat   499 non-null    category\n",
      "dtypes: category(23), float64(4), int64(3)\n",
      "memory usage: 39.5 KB\n"
     ]
    }
   ],
   "source": [
    "ace_data.info()"
   ],
   "metadata": {
    "collapsed": false,
    "pycharm": {
     "name": "#%%\n"
    }
   }
  },
  {
   "cell_type": "code",
   "execution_count": 4,
   "outputs": [
    {
     "data": {
      "text/plain": "   id  hospital_reqd referral_from  age address  ethnicity gender  \\\n0   1              0          CCDA    8    BD07     Indian      F   \n1   2              0           A&E   11    BD03  Pakistani      F   \n2   3              0          CCDA    3    BD04     Slovak      F   \n3   4              0            GP    3    BD06    British      M   \n4   5              0            GP    3    BD09  Pakistani      M   \n\n  referral_date referral_time illness_severity  ... other_allergy  \\\n0        Winter       Morning         Moderate  ...             N   \n1        Winter       Morning             Mild  ...             N   \n2        Winter     Afternoon             Mild  ...             N   \n3        Winter     Afternoon             Mild  ...             N   \n4        Winter     Afternoon             Mild  ...             N   \n\n  simple_ethnicity  group_ethnicity  ox_sat_low   age_range  \\\n0            other            asian           N     primary   \n1        Pakistani            asian           N     primary   \n2            other         european           N  pre_school   \n3          British         european           N  pre_school   \n4        Pakistani            asian           N  pre_school   \n\n   ace_heart_rate_cat ace_resp_rate_cat meets_ace_criteria  \\\n0              normal            normal                  N   \n1              normal            normal                  Y   \n2              normal            normal                  Y   \n3              normal            normal                  Y   \n4              normal            normal                  Y   \n\n  apls_heart_rate_cat apls_resp_rate_cat  \n0              normal             normal  \n1              normal             normal  \n2              normal             normal  \n3              normal             normal  \n4              normal             normal  \n\n[5 rows x 30 columns]",
      "text/html": "<div>\n<style scoped>\n    .dataframe tbody tr th:only-of-type {\n        vertical-align: middle;\n    }\n\n    .dataframe tbody tr th {\n        vertical-align: top;\n    }\n\n    .dataframe thead th {\n        text-align: right;\n    }\n</style>\n<table border=\"1\" class=\"dataframe\">\n  <thead>\n    <tr style=\"text-align: right;\">\n      <th></th>\n      <th>id</th>\n      <th>hospital_reqd</th>\n      <th>referral_from</th>\n      <th>age</th>\n      <th>address</th>\n      <th>ethnicity</th>\n      <th>gender</th>\n      <th>referral_date</th>\n      <th>referral_time</th>\n      <th>illness_severity</th>\n      <th>...</th>\n      <th>other_allergy</th>\n      <th>simple_ethnicity</th>\n      <th>group_ethnicity</th>\n      <th>ox_sat_low</th>\n      <th>age_range</th>\n      <th>ace_heart_rate_cat</th>\n      <th>ace_resp_rate_cat</th>\n      <th>meets_ace_criteria</th>\n      <th>apls_heart_rate_cat</th>\n      <th>apls_resp_rate_cat</th>\n    </tr>\n  </thead>\n  <tbody>\n    <tr>\n      <th>0</th>\n      <td>1</td>\n      <td>0</td>\n      <td>CCDA</td>\n      <td>8</td>\n      <td>BD07</td>\n      <td>Indian</td>\n      <td>F</td>\n      <td>Winter</td>\n      <td>Morning</td>\n      <td>Moderate</td>\n      <td>...</td>\n      <td>N</td>\n      <td>other</td>\n      <td>asian</td>\n      <td>N</td>\n      <td>primary</td>\n      <td>normal</td>\n      <td>normal</td>\n      <td>N</td>\n      <td>normal</td>\n      <td>normal</td>\n    </tr>\n    <tr>\n      <th>1</th>\n      <td>2</td>\n      <td>0</td>\n      <td>A&amp;E</td>\n      <td>11</td>\n      <td>BD03</td>\n      <td>Pakistani</td>\n      <td>F</td>\n      <td>Winter</td>\n      <td>Morning</td>\n      <td>Mild</td>\n      <td>...</td>\n      <td>N</td>\n      <td>Pakistani</td>\n      <td>asian</td>\n      <td>N</td>\n      <td>primary</td>\n      <td>normal</td>\n      <td>normal</td>\n      <td>Y</td>\n      <td>normal</td>\n      <td>normal</td>\n    </tr>\n    <tr>\n      <th>2</th>\n      <td>3</td>\n      <td>0</td>\n      <td>CCDA</td>\n      <td>3</td>\n      <td>BD04</td>\n      <td>Slovak</td>\n      <td>F</td>\n      <td>Winter</td>\n      <td>Afternoon</td>\n      <td>Mild</td>\n      <td>...</td>\n      <td>N</td>\n      <td>other</td>\n      <td>european</td>\n      <td>N</td>\n      <td>pre_school</td>\n      <td>normal</td>\n      <td>normal</td>\n      <td>Y</td>\n      <td>normal</td>\n      <td>normal</td>\n    </tr>\n    <tr>\n      <th>3</th>\n      <td>4</td>\n      <td>0</td>\n      <td>GP</td>\n      <td>3</td>\n      <td>BD06</td>\n      <td>British</td>\n      <td>M</td>\n      <td>Winter</td>\n      <td>Afternoon</td>\n      <td>Mild</td>\n      <td>...</td>\n      <td>N</td>\n      <td>British</td>\n      <td>european</td>\n      <td>N</td>\n      <td>pre_school</td>\n      <td>normal</td>\n      <td>normal</td>\n      <td>Y</td>\n      <td>normal</td>\n      <td>normal</td>\n    </tr>\n    <tr>\n      <th>4</th>\n      <td>5</td>\n      <td>0</td>\n      <td>GP</td>\n      <td>3</td>\n      <td>BD09</td>\n      <td>Pakistani</td>\n      <td>M</td>\n      <td>Winter</td>\n      <td>Afternoon</td>\n      <td>Mild</td>\n      <td>...</td>\n      <td>N</td>\n      <td>Pakistani</td>\n      <td>asian</td>\n      <td>N</td>\n      <td>pre_school</td>\n      <td>normal</td>\n      <td>normal</td>\n      <td>Y</td>\n      <td>normal</td>\n      <td>normal</td>\n    </tr>\n  </tbody>\n</table>\n<p>5 rows × 30 columns</p>\n</div>"
     },
     "execution_count": 4,
     "metadata": {},
     "output_type": "execute_result"
    }
   ],
   "source": [
    "ace_data.head()"
   ],
   "metadata": {
    "collapsed": false,
    "pycharm": {
     "name": "#%%\n"
    }
   }
  },
  {
   "cell_type": "markdown",
   "source": [
    "### split data into examples with nas and complete examples:"
   ],
   "metadata": {
    "collapsed": false,
    "pycharm": {
     "name": "#%% md\n"
    }
   }
  },
  {
   "cell_type": "code",
   "execution_count": 5,
   "outputs": [],
   "source": [
    "na_examples_mask = ace_data.isna().any(axis=1)\n",
    "na_ace_data = ace_data[na_examples_mask]\n",
    "clean_ace_data = ace_data[~na_examples_mask]"
   ],
   "metadata": {
    "collapsed": false,
    "pycharm": {
     "name": "#%%\n"
    }
   }
  },
  {
   "cell_type": "markdown",
   "source": [
    "### train test split the clean examples:\n",
    "\n",
    "maintain proportion of hospital required examples"
   ],
   "metadata": {
    "collapsed": false,
    "pycharm": {
     "name": "#%% md\n"
    }
   }
  },
  {
   "cell_type": "code",
   "execution_count": 6,
   "outputs": [],
   "source": [
    "X_train, X_test, y_train, y_test = train_test_split(\n",
    "    clean_ace_data.drop(\"hospital_reqd\", axis=1),\n",
    "    clean_ace_data.hospital_reqd,\n",
    "    test_size=0.33,\n",
    "    stratify=clean_ace_data.hospital_reqd,\n",
    "    random_state=1)"
   ],
   "metadata": {
    "collapsed": false,
    "pycharm": {
     "name": "#%%\n"
    }
   }
  },
  {
   "cell_type": "markdown",
   "source": [
    "### explore and fix na data:"
   ],
   "metadata": {
    "collapsed": false,
    "pycharm": {
     "name": "#%% md\n"
    }
   }
  },
  {
   "cell_type": "code",
   "execution_count": 7,
   "outputs": [
    {
     "name": "stdout",
     "output_type": "stream",
     "text": [
      "61 examples are missing 1 features\n",
      "14 require hospital treatment\n",
      "\n",
      "3 examples are missing 2 features\n",
      "0 require hospital treatment\n",
      "\n",
      "2 examples are missing 3 features\n",
      "0 require hospital treatment\n",
      "\n",
      "6 examples are missing 4 features\n",
      "0 require hospital treatment\n",
      "\n",
      "1 examples are missing 7 features\n",
      "0 require hospital treatment\n",
      "\n"
     ]
    }
   ],
   "source": [
    "na_counts = na_ace_data.isna().sum(axis=1)\n",
    "for i in sorted(na_counts.unique()):\n",
    "    print(f\"{sum(na_counts == i)} examples are missing {i} features\")\n",
    "    print(f\"{na_ace_data[na_counts == i].hospital_reqd.sum()} require hospital treatment\\n\")"
   ],
   "metadata": {
    "collapsed": false,
    "pycharm": {
     "name": "#%%\n"
    }
   }
  },
  {
   "cell_type": "markdown",
   "source": [
    "there are 12 examples that have more than one nan value - all of these are children\n",
    "not requiring hospital care - therefore remove\n",
    "\n",
    "other examples with only one na value: na can be inferred from age group mean and added"
   ],
   "metadata": {
    "collapsed": false,
    "pycharm": {
     "name": "#%% md\n"
    }
   }
  },
  {
   "cell_type": "code",
   "execution_count": 8,
   "outputs": [
    {
     "name": "stdout",
     "output_type": "stream",
     "text": [
      "2 examples are missing ethnicity\n",
      "\n",
      "1 examples are missing activity_level\n",
      "\n",
      "3 examples are missing gut_feeling\n",
      "\n",
      "2 examples are missing ox_sat\n",
      "\n",
      "2 examples are missing resp_rate\n",
      "\n",
      "1 examples are missing heart_rate\n",
      "\n",
      "50 examples are missing temp\n",
      "\n"
     ]
    }
   ],
   "source": [
    "na_ace_data = na_ace_data[na_counts == 1]\n",
    "missing_features = na_ace_data.isna().sum(axis=0)\n",
    "\n",
    "for feature in missing_features.index:\n",
    "    if missing_features[feature] > 0:\n",
    "        print(f\"{missing_features[feature]} examples are missing {feature}\\n\")"
   ],
   "metadata": {
    "collapsed": false,
    "pycharm": {
     "name": "#%%\n"
    }
   }
  },
  {
   "cell_type": "markdown",
   "source": [
    "ethnicity na = \"Not Stated\" (one of existing categories - simple and group ethnicity already correctly classified as \"other\")"
   ],
   "metadata": {
    "collapsed": false,
    "pycharm": {
     "name": "#%% md\n"
    }
   }
  },
  {
   "cell_type": "code",
   "execution_count": 9,
   "outputs": [],
   "source": [
    "na_ace_data.loc[na_ace_data.ethnicity.isna(), \"ethnicity\"] = \"Not Stated\""
   ],
   "metadata": {
    "collapsed": false,
    "pycharm": {
     "name": "#%%\n"
    }
   }
  },
  {
   "cell_type": "markdown",
   "source": [
    "activity_level and gut_feeling can be set to overall mode"
   ],
   "metadata": {
    "collapsed": false,
    "pycharm": {
     "name": "#%% md\n"
    }
   }
  },
  {
   "cell_type": "code",
   "execution_count": 10,
   "outputs": [],
   "source": [
    "activity_is_na = na_ace_data.activity_level.isna()\n",
    "na_ace_data.loc[activity_is_na, \"activity_level\"] = ace_data.activity_level.mode()[0]\n",
    "\n",
    "gut_is_na = na_ace_data.gut_feeling.isna()\n",
    "na_ace_data.loc[gut_is_na, \"gut_feeling\"] = ace_data.gut_feeling.mode().values[0]"
   ],
   "metadata": {
    "collapsed": false,
    "pycharm": {
     "name": "#%%\n"
    }
   }
  },
  {
   "cell_type": "markdown",
   "source": [
    "ox_sat and temp can be set to overall mean"
   ],
   "metadata": {
    "collapsed": false,
    "pycharm": {
     "name": "#%% md\n"
    }
   }
  },
  {
   "cell_type": "code",
   "execution_count": 11,
   "outputs": [],
   "source": [
    "ox_is_na = na_ace_data.ox_sat.isna()\n",
    "na_ace_data.loc[ox_is_na, \"ox_sat\"] = ace_data.ox_sat.mean()\n",
    "\n",
    "temp_is_na = na_ace_data.temp.isna()\n",
    "na_ace_data.loc[temp_is_na, \"temp\"] = ace_data.temp.mean()\n"
   ],
   "metadata": {
    "collapsed": false,
    "pycharm": {
     "name": "#%%\n"
    }
   }
  },
  {
   "cell_type": "markdown",
   "source": [
    "heart_rate and resp rate can be set to mean for age_range"
   ],
   "metadata": {
    "collapsed": false,
    "pycharm": {
     "name": "#%% md\n"
    }
   }
  },
  {
   "cell_type": "code",
   "execution_count": 12,
   "outputs": [],
   "source": [
    "hr_is_na = na_ace_data.heart_rate.isna()\n",
    "na_ace_data.loc[hr_is_na, \"heart_rate\"] = na_ace_data[hr_is_na][\"age_range\"].apply(\n",
    "   lambda age_range: ace_data[ace_data.age_range == age_range].heart_rate.mean()\n",
    ").astype(\"float\")\n"
   ],
   "metadata": {
    "collapsed": false,
    "pycharm": {
     "name": "#%%\n"
    }
   }
  },
  {
   "cell_type": "code",
   "execution_count": 13,
   "outputs": [],
   "source": [
    "resp_is_na = na_ace_data.resp_rate.isna()\n",
    "na_ace_data.loc[resp_is_na, \"resp_rate\"] = na_ace_data[resp_is_na][\"age_range\"].apply(\n",
    "   lambda age_range: ace_data[ace_data.age_range == age_range].resp_rate.mean()\n",
    ").astype(\"float\")"
   ],
   "metadata": {
    "collapsed": false,
    "pycharm": {
     "name": "#%%\n"
    }
   }
  },
  {
   "cell_type": "markdown",
   "source": [
    "concat na_examples / labels to X_train / y_train"
   ],
   "metadata": {
    "collapsed": false,
    "pycharm": {
     "name": "#%% md\n"
    }
   }
  },
  {
   "cell_type": "code",
   "execution_count": 14,
   "outputs": [],
   "source": [
    "X_train = pd.concat([X_train, na_ace_data.drop(\"hospital_reqd\", axis=1)])\n",
    "y_train = pd.concat([y_train, na_ace_data.hospital_reqd])"
   ],
   "metadata": {
    "collapsed": false,
    "pycharm": {
     "name": "#%%\n"
    }
   }
  },
  {
   "cell_type": "markdown",
   "source": [
    "oversample X_train using SMOTE to address imbalance in examples requiring hospital treatment"
   ],
   "metadata": {
    "collapsed": false,
    "pycharm": {
     "name": "#%% md\n"
    }
   }
  },
  {
   "cell_type": "code",
   "execution_count": 15,
   "outputs": [],
   "source": [
    "from imblearn.over_sampling import SMOTENC\n",
    "\n",
    "cat_feature_idxs = []\n",
    "for i, col in enumerate(X_train.columns):\n",
    "    if not X_train[col].dtype in [\"int\", \"float\"]:\n",
    "        cat_feature_idxs.append(i)\n",
    "\n",
    "smote = SMOTENC(random_state=1,\n",
    "                categorical_features=cat_feature_idxs)\n",
    "\n",
    "X_train_res, y_train_res = smote.fit_resample(X_train, y_train)"
   ],
   "metadata": {
    "collapsed": false,
    "pycharm": {
     "name": "#%%\n"
    }
   }
  },
  {
   "cell_type": "code",
   "execution_count": 16,
   "outputs": [],
   "source": [
    "X_train.to_pickle(\"../data/X_train.pkl\")\n",
    "y_train.to_pickle(\"../data/y_train.pkl\")\n",
    "X_train_res.to_pickle(\"../data/X_train_res.pkl\")\n",
    "y_train_res.to_pickle(\"../data/y_train_res.pkl\")\n",
    "X_test.to_pickle(\"../data/X_test.pkl\")\n",
    "y_test.to_pickle(\"../data/y_test.pkl\")"
   ],
   "metadata": {
    "collapsed": false,
    "pycharm": {
     "name": "#%%\n"
    }
   }
  },
  {
   "cell_type": "code",
   "execution_count": null,
   "outputs": [],
   "source": [],
   "metadata": {
    "collapsed": false,
    "pycharm": {
     "name": "#%%\n"
    }
   }
  }
 ],
 "metadata": {
  "kernelspec": {
   "display_name": "Python 3",
   "language": "python",
   "name": "python3"
  },
  "language_info": {
   "codemirror_mode": {
    "name": "ipython",
    "version": 2
   },
   "file_extension": ".py",
   "mimetype": "text/x-python",
   "name": "python",
   "nbconvert_exporter": "python",
   "pygments_lexer": "ipython2",
   "version": "2.7.6"
  }
 },
 "nbformat": 4,
 "nbformat_minor": 0
}