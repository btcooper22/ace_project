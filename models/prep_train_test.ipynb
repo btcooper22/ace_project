{
 "cells": [
  {
   "cell_type": "code",
   "execution_count": 1,
   "metadata": {
    "collapsed": true
   },
   "outputs": [],
   "source": [
    "import pandas as pd\n",
    "import numpy as np\n",
    "from sklearn.model_selection import train_test_split"
   ]
  },
  {
   "cell_type": "code",
   "execution_count": 2,
   "outputs": [],
   "source": [
    "ace_data = pd.read_pickle(\"../data/../data/ace_data_extra_feats.pkl\")"
   ],
   "metadata": {
    "collapsed": false,
    "pycharm": {
     "name": "#%%\n"
    }
   }
  },
  {
   "cell_type": "code",
   "execution_count": 3,
   "outputs": [
    {
     "name": "stdout",
     "output_type": "stream",
     "text": [
      "<class 'pandas.core.frame.DataFrame'>\n",
      "RangeIndex: 499 entries, 0 to 498\n",
      "Data columns (total 28 columns):\n",
      " #   Column               Non-Null Count  Dtype   \n",
      "---  ------               --------------  -----   \n",
      " 0   hospital_reqd        499 non-null    int64   \n",
      " 1   referral_from        498 non-null    category\n",
      " 2   age                  499 non-null    int64   \n",
      " 3   address              499 non-null    category\n",
      " 4   gender               499 non-null    category\n",
      " 5   referral_date        499 non-null    category\n",
      " 6   referral_time        499 non-null    category\n",
      " 7   illness_severity     497 non-null    category\n",
      " 8   activity_level       496 non-null    category\n",
      " 9   gut_feeling          494 non-null    category\n",
      " 10  ox_sat               489 non-null    float64 \n",
      " 11  resp_rate            488 non-null    float64 \n",
      " 12  heart_rate           490 non-null    float64 \n",
      " 13  temp                 438 non-null    float64 \n",
      " 14  sepsis               499 non-null    category\n",
      " 15  safeguarding         499 non-null    category\n",
      " 16  food_allergy         499 non-null    category\n",
      " 17  drug_allergy         499 non-null    category\n",
      " 18  other_allergy        499 non-null    category\n",
      " 19  simple_ethnicity     499 non-null    category\n",
      " 20  group_ethnicity      499 non-null    category\n",
      " 21  ox_sat_low           499 non-null    category\n",
      " 22  age_range            499 non-null    category\n",
      " 23  ace_heart_rate_cat   499 non-null    category\n",
      " 24  ace_resp_rate_cat    499 non-null    category\n",
      " 25  meets_ace_criteria   499 non-null    category\n",
      " 26  apls_heart_rate_cat  499 non-null    category\n",
      " 27  apls_resp_rate_cat   499 non-null    category\n",
      "dtypes: category(22), float64(4), int64(2)\n",
      "memory usage: 34.8 KB\n"
     ]
    }
   ],
   "source": [
    "ace_data.info()"
   ],
   "metadata": {
    "collapsed": false,
    "pycharm": {
     "name": "#%%\n"
    }
   }
  },
  {
   "cell_type": "code",
   "execution_count": 4,
   "outputs": [
    {
     "data": {
      "text/plain": "   hospital_reqd referral_from  age address gender referral_date  \\\n0              0          CCDA    8    BD07      F        Winter   \n1              0           A&E   11    BD03      F        Winter   \n2              0          CCDA    3    BD04      F        Winter   \n3              0            GP    3    BD06      M        Winter   \n4              0            GP    3    BD09      M        Winter   \n\n  referral_time illness_severity activity_level  gut_feeling  ox_sat  \\\n0       Morning         Moderate          usual  low concern    97.0   \n1       Morning             Mild          lower  low concern    96.0   \n2     Afternoon             Mild          usual         well    96.0   \n3     Afternoon             Mild          usual  low concern    98.0   \n4     Afternoon             Mild          usual         well    97.0   \n\n   resp_rate  heart_rate  temp      sepsis safeguarding food_allergy  \\\n0       20.0       118.0  36.5  None noted            N            N   \n1       20.0       109.0  37.0  None noted            N            N   \n2       28.0       140.0  37.0  None noted            N            N   \n3       28.0       104.0  36.8  None noted            N            N   \n4        NaN         NaN   NaN  None noted            N            N   \n\n  drug_allergy other_allergy simple_ethnicity group_ethnicity ox_sat_low  \\\n0            N             N            other           asian          N   \n1            N             N        Pakistani           asian          N   \n2            N             N            other        european          N   \n3            N             N          British        european          N   \n4            N             N        Pakistani           asian          N   \n\n    age_range ace_heart_rate_cat ace_resp_rate_cat meets_ace_criteria  \\\n0     primary             normal            normal                  N   \n1     primary             normal            normal                  Y   \n2  pre_school             normal            normal                  Y   \n3  pre_school             normal            normal                  Y   \n4  pre_school             normal            normal                  Y   \n\n  apls_heart_rate_cat apls_resp_rate_cat  \n0              normal             normal  \n1              normal             normal  \n2              normal             normal  \n3              normal             normal  \n4              normal             normal  ",
      "text/html": "<div>\n<style scoped>\n    .dataframe tbody tr th:only-of-type {\n        vertical-align: middle;\n    }\n\n    .dataframe tbody tr th {\n        vertical-align: top;\n    }\n\n    .dataframe thead th {\n        text-align: right;\n    }\n</style>\n<table border=\"1\" class=\"dataframe\">\n  <thead>\n    <tr style=\"text-align: right;\">\n      <th></th>\n      <th>hospital_reqd</th>\n      <th>referral_from</th>\n      <th>age</th>\n      <th>address</th>\n      <th>gender</th>\n      <th>referral_date</th>\n      <th>referral_time</th>\n      <th>illness_severity</th>\n      <th>activity_level</th>\n      <th>gut_feeling</th>\n      <th>ox_sat</th>\n      <th>resp_rate</th>\n      <th>heart_rate</th>\n      <th>temp</th>\n      <th>sepsis</th>\n      <th>safeguarding</th>\n      <th>food_allergy</th>\n      <th>drug_allergy</th>\n      <th>other_allergy</th>\n      <th>simple_ethnicity</th>\n      <th>group_ethnicity</th>\n      <th>ox_sat_low</th>\n      <th>age_range</th>\n      <th>ace_heart_rate_cat</th>\n      <th>ace_resp_rate_cat</th>\n      <th>meets_ace_criteria</th>\n      <th>apls_heart_rate_cat</th>\n      <th>apls_resp_rate_cat</th>\n    </tr>\n  </thead>\n  <tbody>\n    <tr>\n      <th>0</th>\n      <td>0</td>\n      <td>CCDA</td>\n      <td>8</td>\n      <td>BD07</td>\n      <td>F</td>\n      <td>Winter</td>\n      <td>Morning</td>\n      <td>Moderate</td>\n      <td>usual</td>\n      <td>low concern</td>\n      <td>97.0</td>\n      <td>20.0</td>\n      <td>118.0</td>\n      <td>36.5</td>\n      <td>None noted</td>\n      <td>N</td>\n      <td>N</td>\n      <td>N</td>\n      <td>N</td>\n      <td>other</td>\n      <td>asian</td>\n      <td>N</td>\n      <td>primary</td>\n      <td>normal</td>\n      <td>normal</td>\n      <td>N</td>\n      <td>normal</td>\n      <td>normal</td>\n    </tr>\n    <tr>\n      <th>1</th>\n      <td>0</td>\n      <td>A&amp;E</td>\n      <td>11</td>\n      <td>BD03</td>\n      <td>F</td>\n      <td>Winter</td>\n      <td>Morning</td>\n      <td>Mild</td>\n      <td>lower</td>\n      <td>low concern</td>\n      <td>96.0</td>\n      <td>20.0</td>\n      <td>109.0</td>\n      <td>37.0</td>\n      <td>None noted</td>\n      <td>N</td>\n      <td>N</td>\n      <td>N</td>\n      <td>N</td>\n      <td>Pakistani</td>\n      <td>asian</td>\n      <td>N</td>\n      <td>primary</td>\n      <td>normal</td>\n      <td>normal</td>\n      <td>Y</td>\n      <td>normal</td>\n      <td>normal</td>\n    </tr>\n    <tr>\n      <th>2</th>\n      <td>0</td>\n      <td>CCDA</td>\n      <td>3</td>\n      <td>BD04</td>\n      <td>F</td>\n      <td>Winter</td>\n      <td>Afternoon</td>\n      <td>Mild</td>\n      <td>usual</td>\n      <td>well</td>\n      <td>96.0</td>\n      <td>28.0</td>\n      <td>140.0</td>\n      <td>37.0</td>\n      <td>None noted</td>\n      <td>N</td>\n      <td>N</td>\n      <td>N</td>\n      <td>N</td>\n      <td>other</td>\n      <td>european</td>\n      <td>N</td>\n      <td>pre_school</td>\n      <td>normal</td>\n      <td>normal</td>\n      <td>Y</td>\n      <td>normal</td>\n      <td>normal</td>\n    </tr>\n    <tr>\n      <th>3</th>\n      <td>0</td>\n      <td>GP</td>\n      <td>3</td>\n      <td>BD06</td>\n      <td>M</td>\n      <td>Winter</td>\n      <td>Afternoon</td>\n      <td>Mild</td>\n      <td>usual</td>\n      <td>low concern</td>\n      <td>98.0</td>\n      <td>28.0</td>\n      <td>104.0</td>\n      <td>36.8</td>\n      <td>None noted</td>\n      <td>N</td>\n      <td>N</td>\n      <td>N</td>\n      <td>N</td>\n      <td>British</td>\n      <td>european</td>\n      <td>N</td>\n      <td>pre_school</td>\n      <td>normal</td>\n      <td>normal</td>\n      <td>Y</td>\n      <td>normal</td>\n      <td>normal</td>\n    </tr>\n    <tr>\n      <th>4</th>\n      <td>0</td>\n      <td>GP</td>\n      <td>3</td>\n      <td>BD09</td>\n      <td>M</td>\n      <td>Winter</td>\n      <td>Afternoon</td>\n      <td>Mild</td>\n      <td>usual</td>\n      <td>well</td>\n      <td>97.0</td>\n      <td>NaN</td>\n      <td>NaN</td>\n      <td>NaN</td>\n      <td>None noted</td>\n      <td>N</td>\n      <td>N</td>\n      <td>N</td>\n      <td>N</td>\n      <td>Pakistani</td>\n      <td>asian</td>\n      <td>N</td>\n      <td>pre_school</td>\n      <td>normal</td>\n      <td>normal</td>\n      <td>Y</td>\n      <td>normal</td>\n      <td>normal</td>\n    </tr>\n  </tbody>\n</table>\n</div>"
     },
     "execution_count": 4,
     "metadata": {},
     "output_type": "execute_result"
    }
   ],
   "source": [
    "pd.set_option(\"display.max_columns\", None)\n",
    "ace_data.head()"
   ],
   "metadata": {
    "collapsed": false,
    "pycharm": {
     "name": "#%%\n"
    }
   }
  },
  {
   "cell_type": "markdown",
   "source": [
    "## split data into examples with nas and complete examples:"
   ],
   "metadata": {
    "collapsed": false,
    "pycharm": {
     "name": "#%% md\n"
    }
   }
  },
  {
   "cell_type": "code",
   "execution_count": 5,
   "outputs": [],
   "source": [
    "na_examples_mask = ace_data.isna().any(axis=1)\n",
    "na_ace_data = ace_data[na_examples_mask]\n",
    "clean_ace_data = ace_data[~na_examples_mask]"
   ],
   "metadata": {
    "collapsed": false,
    "pycharm": {
     "name": "#%%\n"
    }
   }
  },
  {
   "cell_type": "markdown",
   "source": [
    "## train test split the examples without na values:\n",
    "\n",
    "maintain proportion of hospital required examples"
   ],
   "metadata": {
    "collapsed": false,
    "pycharm": {
     "name": "#%% md\n"
    }
   }
  },
  {
   "cell_type": "code",
   "execution_count": 6,
   "outputs": [],
   "source": [
    "X_train, X_test, y_train, y_test = train_test_split(\n",
    "    clean_ace_data.drop(\"hospital_reqd\", axis=1),\n",
    "    clean_ace_data.hospital_reqd,\n",
    "    test_size=0.33,\n",
    "    stratify=clean_ace_data.hospital_reqd,\n",
    "    random_state=1)"
   ],
   "metadata": {
    "collapsed": false,
    "pycharm": {
     "name": "#%%\n"
    }
   }
  },
  {
   "cell_type": "markdown",
   "source": [
    "## explore and clean the na data:"
   ],
   "metadata": {
    "collapsed": false,
    "pycharm": {
     "name": "#%% md\n"
    }
   }
  },
  {
   "cell_type": "code",
   "execution_count": 7,
   "outputs": [
    {
     "name": "stdout",
     "output_type": "stream",
     "text": [
      "59 examples are missing 1 features\n",
      "14 require hospital treatment\n",
      "\n",
      "3 examples are missing 2 features\n",
      "0 require hospital treatment\n",
      "\n",
      "2 examples are missing 3 features\n",
      "0 require hospital treatment\n",
      "\n",
      "6 examples are missing 4 features\n",
      "0 require hospital treatment\n",
      "\n",
      "1 examples are missing 7 features\n",
      "0 require hospital treatment\n",
      "\n"
     ]
    }
   ],
   "source": [
    "na_counts = na_ace_data.isna().sum(axis=1)\n",
    "for i in sorted(na_counts.unique()):\n",
    "    print(f\"{sum(na_counts == i)} examples are missing {i} features\")\n",
    "    print(f\"{na_ace_data[na_counts == i].hospital_reqd.sum()} require hospital treatment\\n\")"
   ],
   "metadata": {
    "collapsed": false,
    "pycharm": {
     "name": "#%%\n"
    }
   }
  },
  {
   "cell_type": "markdown",
   "source": [
    "there are 12 examples that have more than one nan value - all of these are children\n",
    "not requiring hospital care - therefore remove\n",
    "\n",
    "other examples with only one na value: na can be inferred from category level mean and added"
   ],
   "metadata": {
    "collapsed": false,
    "pycharm": {
     "name": "#%% md\n"
    }
   }
  },
  {
   "cell_type": "code",
   "execution_count": 8,
   "outputs": [
    {
     "name": "stdout",
     "output_type": "stream",
     "text": [
      "1 examples are missing activity_level\n",
      "\n",
      "3 examples are missing gut_feeling\n",
      "\n",
      "2 examples are missing ox_sat\n",
      "\n",
      "2 examples are missing resp_rate\n",
      "\n",
      "1 examples are missing heart_rate\n",
      "\n",
      "50 examples are missing temp\n",
      "\n"
     ]
    }
   ],
   "source": [
    "na_ace_data = na_ace_data[na_counts == 1]\n",
    "missing_features = na_ace_data.isna().sum(axis=0)\n",
    "\n",
    "for feature in missing_features.index:\n",
    "    if missing_features[feature] > 0:\n",
    "        print(f\"{missing_features[feature]} examples are missing {feature}\\n\")"
   ],
   "metadata": {
    "collapsed": false,
    "pycharm": {
     "name": "#%%\n"
    }
   }
  },
  {
   "cell_type": "markdown",
   "source": [
    "activity_level and gut_feeling can be set to overall mode"
   ],
   "metadata": {
    "collapsed": false,
    "pycharm": {
     "name": "#%% md\n"
    }
   }
  },
  {
   "cell_type": "code",
   "execution_count": 9,
   "outputs": [],
   "source": [
    "activity_is_na = na_ace_data.activity_level.isna()\n",
    "na_ace_data.loc[activity_is_na, \"activity_level\"] = ace_data.activity_level.mode()[0]\n",
    "\n",
    "gut_is_na = na_ace_data.gut_feeling.isna()\n",
    "na_ace_data.loc[gut_is_na, \"gut_feeling\"] = ace_data.gut_feeling.mode().values[0]"
   ],
   "metadata": {
    "collapsed": false,
    "pycharm": {
     "name": "#%%\n"
    }
   }
  },
  {
   "cell_type": "markdown",
   "source": [
    "ox_sat and temp can be set to overall mean"
   ],
   "metadata": {
    "collapsed": false,
    "pycharm": {
     "name": "#%% md\n"
    }
   }
  },
  {
   "cell_type": "code",
   "execution_count": 10,
   "outputs": [],
   "source": [
    "ox_is_na = na_ace_data.ox_sat.isna()\n",
    "na_ace_data.loc[ox_is_na, \"ox_sat\"] = ace_data.ox_sat.mean()\n",
    "\n",
    "temp_is_na = na_ace_data.temp.isna()\n",
    "na_ace_data.loc[temp_is_na, \"temp\"] = ace_data.temp.mean()\n"
   ],
   "metadata": {
    "collapsed": false,
    "pycharm": {
     "name": "#%%\n"
    }
   }
  },
  {
   "cell_type": "markdown",
   "source": [
    "heart_rate and resp rate can be set to mean for age_range"
   ],
   "metadata": {
    "collapsed": false,
    "pycharm": {
     "name": "#%% md\n"
    }
   }
  },
  {
   "cell_type": "code",
   "execution_count": 11,
   "outputs": [],
   "source": [
    "hr_is_na = na_ace_data.heart_rate.isna()\n",
    "na_ace_data.loc[hr_is_na, \"heart_rate\"] = na_ace_data[hr_is_na][\"age_range\"].apply(\n",
    "   lambda age_range: ace_data[ace_data.age_range == age_range].heart_rate.mean()\n",
    ").astype(\"float\")\n"
   ],
   "metadata": {
    "collapsed": false,
    "pycharm": {
     "name": "#%%\n"
    }
   }
  },
  {
   "cell_type": "code",
   "execution_count": 12,
   "outputs": [],
   "source": [
    "resp_is_na = na_ace_data.resp_rate.isna()\n",
    "na_ace_data.loc[resp_is_na, \"resp_rate\"] = na_ace_data[resp_is_na][\"age_range\"].apply(\n",
    "   lambda age_range: ace_data[ace_data.age_range == age_range].resp_rate.mean()\n",
    ").astype(\"float\")"
   ],
   "metadata": {
    "collapsed": false,
    "pycharm": {
     "name": "#%%\n"
    }
   }
  },
  {
   "cell_type": "markdown",
   "source": [
    "concat na_examples / labels to X_train / y_train"
   ],
   "metadata": {
    "collapsed": false,
    "pycharm": {
     "name": "#%% md\n"
    }
   }
  },
  {
   "cell_type": "code",
   "execution_count": 13,
   "outputs": [],
   "source": [
    "X_train = (pd.concat([X_train, na_ace_data.drop(\"hospital_reqd\", axis=1)])\n",
    "           .reset_index(drop=True))\n",
    "y_train = (pd.concat([y_train, na_ace_data.hospital_reqd])\n",
    "           .reset_index(drop=True))"
   ],
   "metadata": {
    "collapsed": false,
    "pycharm": {
     "name": "#%%\n"
    }
   }
  },
  {
   "cell_type": "markdown",
   "source": [
    "## Oversampling to address imbalance in positive / negative hospital required\n",
    "\n",
    "oversample X_train using SMOTE from imblearn package"
   ],
   "metadata": {
    "collapsed": false,
    "pycharm": {
     "name": "#%% md\n"
    }
   }
  },
  {
   "cell_type": "code",
   "execution_count": 16,
   "outputs": [],
   "source": [
    "from imblearn.over_sampling import SMOTENC\n",
    "\n",
    "cat_feature_idxs = []\n",
    "for i, col in enumerate(X_train.columns):\n",
    "    if not X_train[col].dtype in [\"int\", \"float\"]:\n",
    "        cat_feature_idxs.append(i)\n",
    "\n",
    "smote = SMOTENC(random_state=1,\n",
    "                categorical_features=cat_feature_idxs)\n",
    "\n",
    "X_train_res, y_train_res = smote.fit_resample(X_train, y_train)"
   ],
   "metadata": {
    "collapsed": false,
    "pycharm": {
     "name": "#%%\n"
    }
   }
  },
  {
   "cell_type": "markdown",
   "source": [
    "## One Hot Encode Features for numeric modelling methods\n",
    "## include scaled versions of data for models that will benefit"
   ],
   "metadata": {
    "collapsed": false
   }
  },
  {
   "cell_type": "code",
   "execution_count": 17,
   "outputs": [],
   "source": [
    "from sklearn.preprocessing import OneHotEncoder, MinMaxScaler\n",
    "\n",
    "cat_features = [feature for feature in X_train.columns\n",
    "                if X_train[feature].dtype.name == \"category\"]\n",
    "oh_enc = OneHotEncoder(sparse=False).fit(X_train[cat_features])\n",
    "\n",
    "num_features = [feature for feature in X_train.columns\n",
    "                if feature not in cat_features]\n",
    "mm_scaler = MinMaxScaler().fit(X_train[num_features])\n",
    "\n",
    "one_hot_feature_names = []\n",
    "for feature, categories in zip(cat_features, oh_enc.categories_):\n",
    "    for category in categories:\n",
    "        name = feature + '_' + category\n",
    "        one_hot_feature_names.append(name)\n",
    "\n",
    "ohe_dfs = []\n",
    "scaled_ohe_dfs = []\n",
    "for df in [X_train, X_train_res, X_test]:\n",
    "    oh_data = pd.DataFrame(oh_enc.transform(df[cat_features]),\n",
    "                           columns=one_hot_feature_names)\n",
    "    num_data = df[num_features].reset_index(drop=True)\n",
    "    scaled_num_data = pd.DataFrame(mm_scaler.transform(num_data),\n",
    "                                   columns=num_features)\n",
    "\n",
    "    df_ohe = (pd.concat([oh_data, num_data], axis=1)\n",
    "              .reset_index(drop=True))\n",
    "    ohe_dfs.append(df_ohe)\n",
    "\n",
    "    df_ohe_scaled = (pd.concat([oh_data, scaled_num_data], axis=1)\n",
    "                     .reset_index(drop=True))\n",
    "    scaled_ohe_dfs.append(df_ohe_scaled)\n",
    "\n",
    "X_train_ohe, X_train_res_ohe, X_test_ohe = ohe_dfs\n",
    "X_train_ohe_scaled, X_train_res_ohe_scaled, X_test_ohe_scaled = scaled_ohe_dfs"
   ],
   "metadata": {
    "collapsed": false,
    "pycharm": {
     "name": "#%%\n"
    }
   }
  },
  {
   "cell_type": "code",
   "execution_count": 18,
   "outputs": [],
   "source": [
    "rnd_idxs = np.random.choice(X_train_res.index, 5)"
   ],
   "metadata": {
    "collapsed": false,
    "pycharm": {
     "name": "#%%\n"
    }
   }
  },
  {
   "cell_type": "code",
   "execution_count": 25,
   "outputs": [
    {
     "data": {
      "text/plain": "    referral_from  age address gender referral_date referral_time  \\\n232           A&E    7    BD15      M        Winter     Afternoon   \n180            GP    5    BD10      M        Autumn       Morning   \n338            GP    2    BD02      M        Autumn     Afternoon   \n205            GP    4    BD09      M        Autumn       Morning   \n181            GP   10    BD07      M        Summer     Afternoon   \n\n    illness_severity activity_level  gut_feeling  ox_sat  resp_rate  \\\n232             Mild          lower         well    99.0       24.0   \n180             Mild          usual         well    97.0       22.0   \n338         Moderate          usual         well    96.0       44.0   \n205             Mild          lower  low concern    95.0       30.0   \n181         Moderate          usual  low concern    98.0       17.0   \n\n     heart_rate       temp      sepsis safeguarding food_allergy drug_allergy  \\\n232        87.0  36.600000  None noted            N            N            N   \n180       118.0  37.300000  None noted            N            N            N   \n338       102.0  36.874429  None noted            Y            N            N   \n205       125.0  36.500000  None noted            N            N            N   \n181        84.0  37.300000  None noted            Y            Y            N   \n\n    other_allergy simple_ethnicity group_ethnicity ox_sat_low   age_range  \\\n232             N          British        european          N     primary   \n180             Y          British        european          N     primary   \n338             N        Pakistani           asian          N  pre_school   \n205             N        Pakistani           asian          N  pre_school   \n181             N        Pakistani           asian          N     primary   \n\n    ace_heart_rate_cat ace_resp_rate_cat meets_ace_criteria  \\\n232             normal            normal                  Y   \n180             normal            normal                  Y   \n338             normal              high                  N   \n205             normal            normal                  Y   \n181             normal               low                  N   \n\n    apls_heart_rate_cat apls_resp_rate_cat  \n232              normal             normal  \n180              normal             normal  \n338              normal               high  \n205              normal             normal  \n181              normal             normal  ",
      "text/html": "<div>\n<style scoped>\n    .dataframe tbody tr th:only-of-type {\n        vertical-align: middle;\n    }\n\n    .dataframe tbody tr th {\n        vertical-align: top;\n    }\n\n    .dataframe thead th {\n        text-align: right;\n    }\n</style>\n<table border=\"1\" class=\"dataframe\">\n  <thead>\n    <tr style=\"text-align: right;\">\n      <th></th>\n      <th>referral_from</th>\n      <th>age</th>\n      <th>address</th>\n      <th>gender</th>\n      <th>referral_date</th>\n      <th>referral_time</th>\n      <th>illness_severity</th>\n      <th>activity_level</th>\n      <th>gut_feeling</th>\n      <th>ox_sat</th>\n      <th>resp_rate</th>\n      <th>heart_rate</th>\n      <th>temp</th>\n      <th>sepsis</th>\n      <th>safeguarding</th>\n      <th>food_allergy</th>\n      <th>drug_allergy</th>\n      <th>other_allergy</th>\n      <th>simple_ethnicity</th>\n      <th>group_ethnicity</th>\n      <th>ox_sat_low</th>\n      <th>age_range</th>\n      <th>ace_heart_rate_cat</th>\n      <th>ace_resp_rate_cat</th>\n      <th>meets_ace_criteria</th>\n      <th>apls_heart_rate_cat</th>\n      <th>apls_resp_rate_cat</th>\n    </tr>\n  </thead>\n  <tbody>\n    <tr>\n      <th>232</th>\n      <td>A&amp;E</td>\n      <td>7</td>\n      <td>BD15</td>\n      <td>M</td>\n      <td>Winter</td>\n      <td>Afternoon</td>\n      <td>Mild</td>\n      <td>lower</td>\n      <td>well</td>\n      <td>99.0</td>\n      <td>24.0</td>\n      <td>87.0</td>\n      <td>36.600000</td>\n      <td>None noted</td>\n      <td>N</td>\n      <td>N</td>\n      <td>N</td>\n      <td>N</td>\n      <td>British</td>\n      <td>european</td>\n      <td>N</td>\n      <td>primary</td>\n      <td>normal</td>\n      <td>normal</td>\n      <td>Y</td>\n      <td>normal</td>\n      <td>normal</td>\n    </tr>\n    <tr>\n      <th>180</th>\n      <td>GP</td>\n      <td>5</td>\n      <td>BD10</td>\n      <td>M</td>\n      <td>Autumn</td>\n      <td>Morning</td>\n      <td>Mild</td>\n      <td>usual</td>\n      <td>well</td>\n      <td>97.0</td>\n      <td>22.0</td>\n      <td>118.0</td>\n      <td>37.300000</td>\n      <td>None noted</td>\n      <td>N</td>\n      <td>N</td>\n      <td>N</td>\n      <td>Y</td>\n      <td>British</td>\n      <td>european</td>\n      <td>N</td>\n      <td>primary</td>\n      <td>normal</td>\n      <td>normal</td>\n      <td>Y</td>\n      <td>normal</td>\n      <td>normal</td>\n    </tr>\n    <tr>\n      <th>338</th>\n      <td>GP</td>\n      <td>2</td>\n      <td>BD02</td>\n      <td>M</td>\n      <td>Autumn</td>\n      <td>Afternoon</td>\n      <td>Moderate</td>\n      <td>usual</td>\n      <td>well</td>\n      <td>96.0</td>\n      <td>44.0</td>\n      <td>102.0</td>\n      <td>36.874429</td>\n      <td>None noted</td>\n      <td>Y</td>\n      <td>N</td>\n      <td>N</td>\n      <td>N</td>\n      <td>Pakistani</td>\n      <td>asian</td>\n      <td>N</td>\n      <td>pre_school</td>\n      <td>normal</td>\n      <td>high</td>\n      <td>N</td>\n      <td>normal</td>\n      <td>high</td>\n    </tr>\n    <tr>\n      <th>205</th>\n      <td>GP</td>\n      <td>4</td>\n      <td>BD09</td>\n      <td>M</td>\n      <td>Autumn</td>\n      <td>Morning</td>\n      <td>Mild</td>\n      <td>lower</td>\n      <td>low concern</td>\n      <td>95.0</td>\n      <td>30.0</td>\n      <td>125.0</td>\n      <td>36.500000</td>\n      <td>None noted</td>\n      <td>N</td>\n      <td>N</td>\n      <td>N</td>\n      <td>N</td>\n      <td>Pakistani</td>\n      <td>asian</td>\n      <td>N</td>\n      <td>pre_school</td>\n      <td>normal</td>\n      <td>normal</td>\n      <td>Y</td>\n      <td>normal</td>\n      <td>normal</td>\n    </tr>\n    <tr>\n      <th>181</th>\n      <td>GP</td>\n      <td>10</td>\n      <td>BD07</td>\n      <td>M</td>\n      <td>Summer</td>\n      <td>Afternoon</td>\n      <td>Moderate</td>\n      <td>usual</td>\n      <td>low concern</td>\n      <td>98.0</td>\n      <td>17.0</td>\n      <td>84.0</td>\n      <td>37.300000</td>\n      <td>None noted</td>\n      <td>Y</td>\n      <td>Y</td>\n      <td>N</td>\n      <td>N</td>\n      <td>Pakistani</td>\n      <td>asian</td>\n      <td>N</td>\n      <td>primary</td>\n      <td>normal</td>\n      <td>low</td>\n      <td>N</td>\n      <td>normal</td>\n      <td>normal</td>\n    </tr>\n  </tbody>\n</table>\n</div>"
     },
     "execution_count": 25,
     "metadata": {},
     "output_type": "execute_result"
    }
   ],
   "source": [
    "X_train_res.loc[rnd_idxs]"
   ],
   "metadata": {
    "collapsed": false,
    "pycharm": {
     "name": "#%%\n"
    }
   }
  },
  {
   "cell_type": "code",
   "execution_count": 28,
   "outputs": [
    {
     "data": {
      "text/plain": "     referral_from_A&E  referral_from_CCDA  referral_from_ED  \\\n232                1.0                 0.0               0.0   \n180                0.0                 0.0               0.0   \n338                0.0                 0.0               0.0   \n205                0.0                 0.0               0.0   \n181                0.0                 0.0               0.0   \n\n     referral_from_GP  address_BD01  address_BD02  address_BD03  address_BD04  \\\n232               0.0           0.0           0.0           0.0           0.0   \n180               1.0           0.0           0.0           0.0           0.0   \n338               1.0           0.0           1.0           0.0           0.0   \n205               1.0           0.0           0.0           0.0           0.0   \n181               1.0           0.0           0.0           0.0           0.0   \n\n     address_BD05  address_BD06  address_BD07  address_BD08  address_BD09  \\\n232           0.0           0.0           0.0           0.0           0.0   \n180           0.0           0.0           0.0           0.0           0.0   \n338           0.0           0.0           0.0           0.0           0.0   \n205           0.0           0.0           0.0           0.0           1.0   \n181           0.0           0.0           1.0           0.0           0.0   \n\n     address_BD10  address_BD11  address_BD12  address_BD13  address_BD14  \\\n232           0.0           0.0           0.0           0.0           0.0   \n180           1.0           0.0           0.0           0.0           0.0   \n338           0.0           0.0           0.0           0.0           0.0   \n205           0.0           0.0           0.0           0.0           0.0   \n181           0.0           0.0           0.0           0.0           0.0   \n\n     address_BD15  address_BD16  address_BD17  address_BD18  address_BD19  \\\n232           1.0           0.0           0.0           0.0           0.0   \n180           0.0           0.0           0.0           0.0           0.0   \n338           0.0           0.0           0.0           0.0           0.0   \n205           0.0           0.0           0.0           0.0           0.0   \n181           0.0           0.0           0.0           0.0           0.0   \n\n     address_LS20  address_LS29  gender_F  gender_M  referral_date_Autumn  \\\n232           0.0           0.0       0.0       1.0                   0.0   \n180           0.0           0.0       0.0       1.0                   1.0   \n338           0.0           0.0       0.0       1.0                   1.0   \n205           0.0           0.0       0.0       1.0                   1.0   \n181           0.0           0.0       0.0       1.0                   0.0   \n\n     referral_date_Spring  referral_date_Summer  referral_date_Winter  \\\n232                   0.0                   0.0                   1.0   \n180                   0.0                   0.0                   0.0   \n338                   0.0                   0.0                   0.0   \n205                   0.0                   0.0                   0.0   \n181                   0.0                   1.0                   0.0   \n\n     referral_time_Afternoon  referral_time_Evening  referral_time_Morning  \\\n232                      1.0                    0.0                    0.0   \n180                      0.0                    0.0                    1.0   \n338                      1.0                    0.0                    0.0   \n205                      0.0                    0.0                    1.0   \n181                      1.0                    0.0                    0.0   \n\n     illness_severity_Mild  illness_severity_Moderate  activity_level_lower  \\\n232                    1.0                        0.0                   1.0   \n180                    1.0                        0.0                   0.0   \n338                    0.0                        1.0                   0.0   \n205                    1.0                        0.0                   1.0   \n181                    0.0                        1.0                   0.0   \n\n     activity_level_usual  gut_feeling_low concern  gut_feeling_unwell  \\\n232                   0.0                      0.0                 0.0   \n180                   1.0                      0.0                 0.0   \n338                   1.0                      0.0                 0.0   \n205                   0.0                      1.0                 0.0   \n181                   1.0                      1.0                 0.0   \n\n     gut_feeling_well  sepsis_Low level  sepsis_None noted  safeguarding_N  \\\n232               1.0               0.0                1.0             1.0   \n180               1.0               0.0                1.0             1.0   \n338               1.0               0.0                1.0             0.0   \n205               0.0               0.0                1.0             1.0   \n181               0.0               0.0                1.0             0.0   \n\n     safeguarding_Y  food_allergy_N  food_allergy_Y  drug_allergy_N  \\\n232             0.0             1.0             0.0             1.0   \n180             0.0             1.0             0.0             1.0   \n338             1.0             1.0             0.0             1.0   \n205             0.0             1.0             0.0             1.0   \n181             1.0             0.0             1.0             1.0   \n\n     drug_allergy_Y  other_allergy_N  other_allergy_Y  \\\n232             0.0              1.0              0.0   \n180             0.0              0.0              1.0   \n338             0.0              1.0              0.0   \n205             0.0              1.0              0.0   \n181             0.0              1.0              0.0   \n\n     simple_ethnicity_British  simple_ethnicity_Pakistani  \\\n232                       1.0                         0.0   \n180                       1.0                         0.0   \n338                       0.0                         1.0   \n205                       0.0                         1.0   \n181                       0.0                         1.0   \n\n     simple_ethnicity_other  group_ethnicity_asian  group_ethnicity_european  \\\n232                     0.0                    0.0                       1.0   \n180                     0.0                    0.0                       1.0   \n338                     0.0                    1.0                       0.0   \n205                     0.0                    1.0                       0.0   \n181                     0.0                    1.0                       0.0   \n\n     group_ethnicity_other  ox_sat_low_N  ox_sat_low_Y  age_range_pre_school  \\\n232                    0.0           1.0           0.0                   0.0   \n180                    0.0           1.0           0.0                   0.0   \n338                    0.0           1.0           0.0                   1.0   \n205                    0.0           1.0           0.0                   1.0   \n181                    0.0           1.0           0.0                   0.0   \n\n     age_range_primary  age_range_secondary  ace_heart_rate_cat_high  \\\n232                1.0                  0.0                      0.0   \n180                1.0                  0.0                      0.0   \n338                0.0                  0.0                      0.0   \n205                0.0                  0.0                      0.0   \n181                1.0                  0.0                      0.0   \n\n     ace_heart_rate_cat_low  ace_heart_rate_cat_normal  \\\n232                     0.0                        1.0   \n180                     0.0                        1.0   \n338                     0.0                        1.0   \n205                     0.0                        1.0   \n181                     0.0                        1.0   \n\n     ace_resp_rate_cat_high  ace_resp_rate_cat_low  ace_resp_rate_cat_normal  \\\n232                     0.0                    0.0                       1.0   \n180                     0.0                    0.0                       1.0   \n338                     1.0                    0.0                       0.0   \n205                     0.0                    0.0                       1.0   \n181                     0.0                    1.0                       0.0   \n\n     meets_ace_criteria_N  meets_ace_criteria_Y  apls_heart_rate_cat_high  \\\n232                   0.0                   1.0                       0.0   \n180                   0.0                   1.0                       0.0   \n338                   1.0                   0.0                       0.0   \n205                   0.0                   1.0                       0.0   \n181                   1.0                   0.0                       0.0   \n\n     apls_heart_rate_cat_low  apls_heart_rate_cat_normal  \\\n232                      0.0                         1.0   \n180                      0.0                         1.0   \n338                      0.0                         1.0   \n205                      0.0                         1.0   \n181                      0.0                         1.0   \n\n     apls_resp_rate_cat_high  apls_resp_rate_cat_low  \\\n232                      0.0                     0.0   \n180                      0.0                     0.0   \n338                      1.0                     0.0   \n205                      0.0                     0.0   \n181                      0.0                     0.0   \n\n     apls_resp_rate_cat_normal       age   ox_sat  resp_rate  heart_rate  \\\n232                        1.0  0.428571  0.28125   0.294118    0.157407   \n180                        1.0  0.285714  0.21875   0.235294    0.444444   \n338                        0.0  0.071429  0.18750   0.882353    0.296296   \n205                        1.0  0.214286  0.15625   0.470588    0.509259   \n181                        1.0  0.642857  0.25000   0.088235    0.129630   \n\n         temp  \n232  0.351351  \n180  0.540541  \n338  0.425521  \n205  0.324324  \n181  0.540541  ",
      "text/html": "<div>\n<style scoped>\n    .dataframe tbody tr th:only-of-type {\n        vertical-align: middle;\n    }\n\n    .dataframe tbody tr th {\n        vertical-align: top;\n    }\n\n    .dataframe thead th {\n        text-align: right;\n    }\n</style>\n<table border=\"1\" class=\"dataframe\">\n  <thead>\n    <tr style=\"text-align: right;\">\n      <th></th>\n      <th>referral_from_A&amp;E</th>\n      <th>referral_from_CCDA</th>\n      <th>referral_from_ED</th>\n      <th>referral_from_GP</th>\n      <th>address_BD01</th>\n      <th>address_BD02</th>\n      <th>address_BD03</th>\n      <th>address_BD04</th>\n      <th>address_BD05</th>\n      <th>address_BD06</th>\n      <th>address_BD07</th>\n      <th>address_BD08</th>\n      <th>address_BD09</th>\n      <th>address_BD10</th>\n      <th>address_BD11</th>\n      <th>address_BD12</th>\n      <th>address_BD13</th>\n      <th>address_BD14</th>\n      <th>address_BD15</th>\n      <th>address_BD16</th>\n      <th>address_BD17</th>\n      <th>address_BD18</th>\n      <th>address_BD19</th>\n      <th>address_LS20</th>\n      <th>address_LS29</th>\n      <th>gender_F</th>\n      <th>gender_M</th>\n      <th>referral_date_Autumn</th>\n      <th>referral_date_Spring</th>\n      <th>referral_date_Summer</th>\n      <th>referral_date_Winter</th>\n      <th>referral_time_Afternoon</th>\n      <th>referral_time_Evening</th>\n      <th>referral_time_Morning</th>\n      <th>illness_severity_Mild</th>\n      <th>illness_severity_Moderate</th>\n      <th>activity_level_lower</th>\n      <th>activity_level_usual</th>\n      <th>gut_feeling_low concern</th>\n      <th>gut_feeling_unwell</th>\n      <th>gut_feeling_well</th>\n      <th>sepsis_Low level</th>\n      <th>sepsis_None noted</th>\n      <th>safeguarding_N</th>\n      <th>safeguarding_Y</th>\n      <th>food_allergy_N</th>\n      <th>food_allergy_Y</th>\n      <th>drug_allergy_N</th>\n      <th>drug_allergy_Y</th>\n      <th>other_allergy_N</th>\n      <th>other_allergy_Y</th>\n      <th>simple_ethnicity_British</th>\n      <th>simple_ethnicity_Pakistani</th>\n      <th>simple_ethnicity_other</th>\n      <th>group_ethnicity_asian</th>\n      <th>group_ethnicity_european</th>\n      <th>group_ethnicity_other</th>\n      <th>ox_sat_low_N</th>\n      <th>ox_sat_low_Y</th>\n      <th>age_range_pre_school</th>\n      <th>age_range_primary</th>\n      <th>age_range_secondary</th>\n      <th>ace_heart_rate_cat_high</th>\n      <th>ace_heart_rate_cat_low</th>\n      <th>ace_heart_rate_cat_normal</th>\n      <th>ace_resp_rate_cat_high</th>\n      <th>ace_resp_rate_cat_low</th>\n      <th>ace_resp_rate_cat_normal</th>\n      <th>meets_ace_criteria_N</th>\n      <th>meets_ace_criteria_Y</th>\n      <th>apls_heart_rate_cat_high</th>\n      <th>apls_heart_rate_cat_low</th>\n      <th>apls_heart_rate_cat_normal</th>\n      <th>apls_resp_rate_cat_high</th>\n      <th>apls_resp_rate_cat_low</th>\n      <th>apls_resp_rate_cat_normal</th>\n      <th>age</th>\n      <th>ox_sat</th>\n      <th>resp_rate</th>\n      <th>heart_rate</th>\n      <th>temp</th>\n    </tr>\n  </thead>\n  <tbody>\n    <tr>\n      <th>232</th>\n      <td>1.0</td>\n      <td>0.0</td>\n      <td>0.0</td>\n      <td>0.0</td>\n      <td>0.0</td>\n      <td>0.0</td>\n      <td>0.0</td>\n      <td>0.0</td>\n      <td>0.0</td>\n      <td>0.0</td>\n      <td>0.0</td>\n      <td>0.0</td>\n      <td>0.0</td>\n      <td>0.0</td>\n      <td>0.0</td>\n      <td>0.0</td>\n      <td>0.0</td>\n      <td>0.0</td>\n      <td>1.0</td>\n      <td>0.0</td>\n      <td>0.0</td>\n      <td>0.0</td>\n      <td>0.0</td>\n      <td>0.0</td>\n      <td>0.0</td>\n      <td>0.0</td>\n      <td>1.0</td>\n      <td>0.0</td>\n      <td>0.0</td>\n      <td>0.0</td>\n      <td>1.0</td>\n      <td>1.0</td>\n      <td>0.0</td>\n      <td>0.0</td>\n      <td>1.0</td>\n      <td>0.0</td>\n      <td>1.0</td>\n      <td>0.0</td>\n      <td>0.0</td>\n      <td>0.0</td>\n      <td>1.0</td>\n      <td>0.0</td>\n      <td>1.0</td>\n      <td>1.0</td>\n      <td>0.0</td>\n      <td>1.0</td>\n      <td>0.0</td>\n      <td>1.0</td>\n      <td>0.0</td>\n      <td>1.0</td>\n      <td>0.0</td>\n      <td>1.0</td>\n      <td>0.0</td>\n      <td>0.0</td>\n      <td>0.0</td>\n      <td>1.0</td>\n      <td>0.0</td>\n      <td>1.0</td>\n      <td>0.0</td>\n      <td>0.0</td>\n      <td>1.0</td>\n      <td>0.0</td>\n      <td>0.0</td>\n      <td>0.0</td>\n      <td>1.0</td>\n      <td>0.0</td>\n      <td>0.0</td>\n      <td>1.0</td>\n      <td>0.0</td>\n      <td>1.0</td>\n      <td>0.0</td>\n      <td>0.0</td>\n      <td>1.0</td>\n      <td>0.0</td>\n      <td>0.0</td>\n      <td>1.0</td>\n      <td>0.428571</td>\n      <td>0.28125</td>\n      <td>0.294118</td>\n      <td>0.157407</td>\n      <td>0.351351</td>\n    </tr>\n    <tr>\n      <th>180</th>\n      <td>0.0</td>\n      <td>0.0</td>\n      <td>0.0</td>\n      <td>1.0</td>\n      <td>0.0</td>\n      <td>0.0</td>\n      <td>0.0</td>\n      <td>0.0</td>\n      <td>0.0</td>\n      <td>0.0</td>\n      <td>0.0</td>\n      <td>0.0</td>\n      <td>0.0</td>\n      <td>1.0</td>\n      <td>0.0</td>\n      <td>0.0</td>\n      <td>0.0</td>\n      <td>0.0</td>\n      <td>0.0</td>\n      <td>0.0</td>\n      <td>0.0</td>\n      <td>0.0</td>\n      <td>0.0</td>\n      <td>0.0</td>\n      <td>0.0</td>\n      <td>0.0</td>\n      <td>1.0</td>\n      <td>1.0</td>\n      <td>0.0</td>\n      <td>0.0</td>\n      <td>0.0</td>\n      <td>0.0</td>\n      <td>0.0</td>\n      <td>1.0</td>\n      <td>1.0</td>\n      <td>0.0</td>\n      <td>0.0</td>\n      <td>1.0</td>\n      <td>0.0</td>\n      <td>0.0</td>\n      <td>1.0</td>\n      <td>0.0</td>\n      <td>1.0</td>\n      <td>1.0</td>\n      <td>0.0</td>\n      <td>1.0</td>\n      <td>0.0</td>\n      <td>1.0</td>\n      <td>0.0</td>\n      <td>0.0</td>\n      <td>1.0</td>\n      <td>1.0</td>\n      <td>0.0</td>\n      <td>0.0</td>\n      <td>0.0</td>\n      <td>1.0</td>\n      <td>0.0</td>\n      <td>1.0</td>\n      <td>0.0</td>\n      <td>0.0</td>\n      <td>1.0</td>\n      <td>0.0</td>\n      <td>0.0</td>\n      <td>0.0</td>\n      <td>1.0</td>\n      <td>0.0</td>\n      <td>0.0</td>\n      <td>1.0</td>\n      <td>0.0</td>\n      <td>1.0</td>\n      <td>0.0</td>\n      <td>0.0</td>\n      <td>1.0</td>\n      <td>0.0</td>\n      <td>0.0</td>\n      <td>1.0</td>\n      <td>0.285714</td>\n      <td>0.21875</td>\n      <td>0.235294</td>\n      <td>0.444444</td>\n      <td>0.540541</td>\n    </tr>\n    <tr>\n      <th>338</th>\n      <td>0.0</td>\n      <td>0.0</td>\n      <td>0.0</td>\n      <td>1.0</td>\n      <td>0.0</td>\n      <td>1.0</td>\n      <td>0.0</td>\n      <td>0.0</td>\n      <td>0.0</td>\n      <td>0.0</td>\n      <td>0.0</td>\n      <td>0.0</td>\n      <td>0.0</td>\n      <td>0.0</td>\n      <td>0.0</td>\n      <td>0.0</td>\n      <td>0.0</td>\n      <td>0.0</td>\n      <td>0.0</td>\n      <td>0.0</td>\n      <td>0.0</td>\n      <td>0.0</td>\n      <td>0.0</td>\n      <td>0.0</td>\n      <td>0.0</td>\n      <td>0.0</td>\n      <td>1.0</td>\n      <td>1.0</td>\n      <td>0.0</td>\n      <td>0.0</td>\n      <td>0.0</td>\n      <td>1.0</td>\n      <td>0.0</td>\n      <td>0.0</td>\n      <td>0.0</td>\n      <td>1.0</td>\n      <td>0.0</td>\n      <td>1.0</td>\n      <td>0.0</td>\n      <td>0.0</td>\n      <td>1.0</td>\n      <td>0.0</td>\n      <td>1.0</td>\n      <td>0.0</td>\n      <td>1.0</td>\n      <td>1.0</td>\n      <td>0.0</td>\n      <td>1.0</td>\n      <td>0.0</td>\n      <td>1.0</td>\n      <td>0.0</td>\n      <td>0.0</td>\n      <td>1.0</td>\n      <td>0.0</td>\n      <td>1.0</td>\n      <td>0.0</td>\n      <td>0.0</td>\n      <td>1.0</td>\n      <td>0.0</td>\n      <td>1.0</td>\n      <td>0.0</td>\n      <td>0.0</td>\n      <td>0.0</td>\n      <td>0.0</td>\n      <td>1.0</td>\n      <td>1.0</td>\n      <td>0.0</td>\n      <td>0.0</td>\n      <td>1.0</td>\n      <td>0.0</td>\n      <td>0.0</td>\n      <td>0.0</td>\n      <td>1.0</td>\n      <td>1.0</td>\n      <td>0.0</td>\n      <td>0.0</td>\n      <td>0.071429</td>\n      <td>0.18750</td>\n      <td>0.882353</td>\n      <td>0.296296</td>\n      <td>0.425521</td>\n    </tr>\n    <tr>\n      <th>205</th>\n      <td>0.0</td>\n      <td>0.0</td>\n      <td>0.0</td>\n      <td>1.0</td>\n      <td>0.0</td>\n      <td>0.0</td>\n      <td>0.0</td>\n      <td>0.0</td>\n      <td>0.0</td>\n      <td>0.0</td>\n      <td>0.0</td>\n      <td>0.0</td>\n      <td>1.0</td>\n      <td>0.0</td>\n      <td>0.0</td>\n      <td>0.0</td>\n      <td>0.0</td>\n      <td>0.0</td>\n      <td>0.0</td>\n      <td>0.0</td>\n      <td>0.0</td>\n      <td>0.0</td>\n      <td>0.0</td>\n      <td>0.0</td>\n      <td>0.0</td>\n      <td>0.0</td>\n      <td>1.0</td>\n      <td>1.0</td>\n      <td>0.0</td>\n      <td>0.0</td>\n      <td>0.0</td>\n      <td>0.0</td>\n      <td>0.0</td>\n      <td>1.0</td>\n      <td>1.0</td>\n      <td>0.0</td>\n      <td>1.0</td>\n      <td>0.0</td>\n      <td>1.0</td>\n      <td>0.0</td>\n      <td>0.0</td>\n      <td>0.0</td>\n      <td>1.0</td>\n      <td>1.0</td>\n      <td>0.0</td>\n      <td>1.0</td>\n      <td>0.0</td>\n      <td>1.0</td>\n      <td>0.0</td>\n      <td>1.0</td>\n      <td>0.0</td>\n      <td>0.0</td>\n      <td>1.0</td>\n      <td>0.0</td>\n      <td>1.0</td>\n      <td>0.0</td>\n      <td>0.0</td>\n      <td>1.0</td>\n      <td>0.0</td>\n      <td>1.0</td>\n      <td>0.0</td>\n      <td>0.0</td>\n      <td>0.0</td>\n      <td>0.0</td>\n      <td>1.0</td>\n      <td>0.0</td>\n      <td>0.0</td>\n      <td>1.0</td>\n      <td>0.0</td>\n      <td>1.0</td>\n      <td>0.0</td>\n      <td>0.0</td>\n      <td>1.0</td>\n      <td>0.0</td>\n      <td>0.0</td>\n      <td>1.0</td>\n      <td>0.214286</td>\n      <td>0.15625</td>\n      <td>0.470588</td>\n      <td>0.509259</td>\n      <td>0.324324</td>\n    </tr>\n    <tr>\n      <th>181</th>\n      <td>0.0</td>\n      <td>0.0</td>\n      <td>0.0</td>\n      <td>1.0</td>\n      <td>0.0</td>\n      <td>0.0</td>\n      <td>0.0</td>\n      <td>0.0</td>\n      <td>0.0</td>\n      <td>0.0</td>\n      <td>1.0</td>\n      <td>0.0</td>\n      <td>0.0</td>\n      <td>0.0</td>\n      <td>0.0</td>\n      <td>0.0</td>\n      <td>0.0</td>\n      <td>0.0</td>\n      <td>0.0</td>\n      <td>0.0</td>\n      <td>0.0</td>\n      <td>0.0</td>\n      <td>0.0</td>\n      <td>0.0</td>\n      <td>0.0</td>\n      <td>0.0</td>\n      <td>1.0</td>\n      <td>0.0</td>\n      <td>0.0</td>\n      <td>1.0</td>\n      <td>0.0</td>\n      <td>1.0</td>\n      <td>0.0</td>\n      <td>0.0</td>\n      <td>0.0</td>\n      <td>1.0</td>\n      <td>0.0</td>\n      <td>1.0</td>\n      <td>1.0</td>\n      <td>0.0</td>\n      <td>0.0</td>\n      <td>0.0</td>\n      <td>1.0</td>\n      <td>0.0</td>\n      <td>1.0</td>\n      <td>0.0</td>\n      <td>1.0</td>\n      <td>1.0</td>\n      <td>0.0</td>\n      <td>1.0</td>\n      <td>0.0</td>\n      <td>0.0</td>\n      <td>1.0</td>\n      <td>0.0</td>\n      <td>1.0</td>\n      <td>0.0</td>\n      <td>0.0</td>\n      <td>1.0</td>\n      <td>0.0</td>\n      <td>0.0</td>\n      <td>1.0</td>\n      <td>0.0</td>\n      <td>0.0</td>\n      <td>0.0</td>\n      <td>1.0</td>\n      <td>0.0</td>\n      <td>1.0</td>\n      <td>0.0</td>\n      <td>1.0</td>\n      <td>0.0</td>\n      <td>0.0</td>\n      <td>0.0</td>\n      <td>1.0</td>\n      <td>0.0</td>\n      <td>0.0</td>\n      <td>1.0</td>\n      <td>0.642857</td>\n      <td>0.25000</td>\n      <td>0.088235</td>\n      <td>0.129630</td>\n      <td>0.540541</td>\n    </tr>\n  </tbody>\n</table>\n</div>"
     },
     "execution_count": 28,
     "metadata": {},
     "output_type": "execute_result"
    }
   ],
   "source": [
    "X_train_res_ohe_scaled.loc[rnd_idxs]"
   ],
   "metadata": {
    "collapsed": false,
    "pycharm": {
     "name": "#%%\n"
    }
   }
  },
  {
   "cell_type": "markdown",
   "source": [
    "## Target encode categorical features"
   ],
   "metadata": {
    "collapsed": false,
    "pycharm": {
     "name": "#%% md\n"
    }
   }
  },
  {
   "cell_type": "code",
   "execution_count": 30,
   "outputs": [
    {
     "name": "stderr",
     "output_type": "stream",
     "text": [
      "/home/samface/anaconda3/envs/ace_env/lib/python3.8/site-packages/category_encoders/utils.py:21: FutureWarning: is_categorical is deprecated and will be removed in a future version.  Use is_categorical_dtype instead\n",
      "  elif pd.api.types.is_categorical(cols):\n"
     ]
    }
   ],
   "source": [
    "from category_encoders.leave_one_out import LeaveOneOutEncoder\n",
    "\n",
    "target_enc = LeaveOneOutEncoder(cols=cat_features).fit(X_train, y_train)\n",
    "\n",
    "target_encd_dfs = []\n",
    "scaled_target_encd_dfs = []\n",
    "for df in [X_train, X_train_res, X_test]:\n",
    "    target_encd_df = target_enc.transform(df).reset_index(drop=True)\n",
    "    target_encd_dfs.append(target_encd_df)\n",
    "\n",
    "    num_data = df[num_features].reset_index(drop=True)\n",
    "    scaled_num_data = pd.DataFrame(mm_scaler.transform(num_data),\n",
    "                                   columns=num_features)\n",
    "    scaled_target_encd_df = pd.concat(\n",
    "        [target_encd_df[cat_features], scaled_num_data],\n",
    "        axis=1\n",
    "    )\n",
    "    scaled_target_encd_dfs.append(scaled_target_encd_df)\n",
    "\n",
    "X_train_target, X_train_res_target, X_test_target = target_encd_dfs\n",
    "(X_train_target_scaled,\n",
    " X_train_res_target_scaled,\n",
    " X_test_target_scaled) = scaled_target_encd_dfs"
   ],
   "metadata": {
    "collapsed": false,
    "pycharm": {
     "name": "#%%\n"
    }
   }
  },
  {
   "cell_type": "code",
   "execution_count": 43,
   "outputs": [],
   "source": [
    "rnd_idxs = np.random.choice(X_train_res.index, 5)"
   ],
   "metadata": {
    "collapsed": false,
    "pycharm": {
     "name": "#%%\n"
    }
   }
  },
  {
   "cell_type": "code",
   "execution_count": 44,
   "outputs": [
    {
     "data": {
      "text/plain": "    referral_from  age address gender referral_date referral_time  \\\n403           A&E    2    BD09      M        Winter       Morning   \n518            GP    2    BD09      F        Winter       Morning   \n321            GP    2    BD09      M        Spring       Evening   \n279           A&E   13    BD08      M        Winter     Afternoon   \n484           A&E    3    BD09      M        Spring       Morning   \n\n    illness_severity activity_level  gut_feeling     ox_sat  resp_rate  \\\n403             Mild          usual  low concern  97.000000  28.804678   \n518             Mild          usual         well  96.411354  30.411354   \n321         Moderate          usual         well  97.000000  32.000000   \n279             Mild          usual  low concern  96.000000  20.000000   \n484             Mild          usual  low concern  96.020722  26.937834   \n\n     heart_rate       temp      sepsis safeguarding food_allergy drug_allergy  \\\n403  102.396492  36.884643  None noted            N            N            N   \n518  132.468126  36.948346  None noted            N            N            N   \n321  100.000000  36.874429  None noted            N            N            N   \n279   96.000000  36.800000  None noted            N            N            N   \n484   98.165776  36.606217  None noted            N            N            N   \n\n    other_allergy simple_ethnicity group_ethnicity ox_sat_low   age_range  \\\n403             N        Pakistani           asian          N     primary   \n518             N        Pakistani           asian          N  pre_school   \n321             N        Pakistani           asian          N  pre_school   \n279             N          British        european          N   secondary   \n484             N        Pakistani           asian          N     primary   \n\n    ace_heart_rate_cat ace_resp_rate_cat meets_ace_criteria  \\\n403             normal            normal                  N   \n518             normal              high                  N   \n321             normal              high                  N   \n279             normal            normal                  Y   \n484             normal              high                  N   \n\n    apls_heart_rate_cat apls_resp_rate_cat  \n403              normal             normal  \n518              normal               high  \n321              normal               high  \n279              normal             normal  \n484              normal             normal  ",
      "text/html": "<div>\n<style scoped>\n    .dataframe tbody tr th:only-of-type {\n        vertical-align: middle;\n    }\n\n    .dataframe tbody tr th {\n        vertical-align: top;\n    }\n\n    .dataframe thead th {\n        text-align: right;\n    }\n</style>\n<table border=\"1\" class=\"dataframe\">\n  <thead>\n    <tr style=\"text-align: right;\">\n      <th></th>\n      <th>referral_from</th>\n      <th>age</th>\n      <th>address</th>\n      <th>gender</th>\n      <th>referral_date</th>\n      <th>referral_time</th>\n      <th>illness_severity</th>\n      <th>activity_level</th>\n      <th>gut_feeling</th>\n      <th>ox_sat</th>\n      <th>resp_rate</th>\n      <th>heart_rate</th>\n      <th>temp</th>\n      <th>sepsis</th>\n      <th>safeguarding</th>\n      <th>food_allergy</th>\n      <th>drug_allergy</th>\n      <th>other_allergy</th>\n      <th>simple_ethnicity</th>\n      <th>group_ethnicity</th>\n      <th>ox_sat_low</th>\n      <th>age_range</th>\n      <th>ace_heart_rate_cat</th>\n      <th>ace_resp_rate_cat</th>\n      <th>meets_ace_criteria</th>\n      <th>apls_heart_rate_cat</th>\n      <th>apls_resp_rate_cat</th>\n    </tr>\n  </thead>\n  <tbody>\n    <tr>\n      <th>403</th>\n      <td>A&amp;E</td>\n      <td>2</td>\n      <td>BD09</td>\n      <td>M</td>\n      <td>Winter</td>\n      <td>Morning</td>\n      <td>Mild</td>\n      <td>usual</td>\n      <td>low concern</td>\n      <td>97.000000</td>\n      <td>28.804678</td>\n      <td>102.396492</td>\n      <td>36.884643</td>\n      <td>None noted</td>\n      <td>N</td>\n      <td>N</td>\n      <td>N</td>\n      <td>N</td>\n      <td>Pakistani</td>\n      <td>asian</td>\n      <td>N</td>\n      <td>primary</td>\n      <td>normal</td>\n      <td>normal</td>\n      <td>N</td>\n      <td>normal</td>\n      <td>normal</td>\n    </tr>\n    <tr>\n      <th>518</th>\n      <td>GP</td>\n      <td>2</td>\n      <td>BD09</td>\n      <td>F</td>\n      <td>Winter</td>\n      <td>Morning</td>\n      <td>Mild</td>\n      <td>usual</td>\n      <td>well</td>\n      <td>96.411354</td>\n      <td>30.411354</td>\n      <td>132.468126</td>\n      <td>36.948346</td>\n      <td>None noted</td>\n      <td>N</td>\n      <td>N</td>\n      <td>N</td>\n      <td>N</td>\n      <td>Pakistani</td>\n      <td>asian</td>\n      <td>N</td>\n      <td>pre_school</td>\n      <td>normal</td>\n      <td>high</td>\n      <td>N</td>\n      <td>normal</td>\n      <td>high</td>\n    </tr>\n    <tr>\n      <th>321</th>\n      <td>GP</td>\n      <td>2</td>\n      <td>BD09</td>\n      <td>M</td>\n      <td>Spring</td>\n      <td>Evening</td>\n      <td>Moderate</td>\n      <td>usual</td>\n      <td>well</td>\n      <td>97.000000</td>\n      <td>32.000000</td>\n      <td>100.000000</td>\n      <td>36.874429</td>\n      <td>None noted</td>\n      <td>N</td>\n      <td>N</td>\n      <td>N</td>\n      <td>N</td>\n      <td>Pakistani</td>\n      <td>asian</td>\n      <td>N</td>\n      <td>pre_school</td>\n      <td>normal</td>\n      <td>high</td>\n      <td>N</td>\n      <td>normal</td>\n      <td>high</td>\n    </tr>\n    <tr>\n      <th>279</th>\n      <td>A&amp;E</td>\n      <td>13</td>\n      <td>BD08</td>\n      <td>M</td>\n      <td>Winter</td>\n      <td>Afternoon</td>\n      <td>Mild</td>\n      <td>usual</td>\n      <td>low concern</td>\n      <td>96.000000</td>\n      <td>20.000000</td>\n      <td>96.000000</td>\n      <td>36.800000</td>\n      <td>None noted</td>\n      <td>N</td>\n      <td>N</td>\n      <td>N</td>\n      <td>N</td>\n      <td>British</td>\n      <td>european</td>\n      <td>N</td>\n      <td>secondary</td>\n      <td>normal</td>\n      <td>normal</td>\n      <td>Y</td>\n      <td>normal</td>\n      <td>normal</td>\n    </tr>\n    <tr>\n      <th>484</th>\n      <td>A&amp;E</td>\n      <td>3</td>\n      <td>BD09</td>\n      <td>M</td>\n      <td>Spring</td>\n      <td>Morning</td>\n      <td>Mild</td>\n      <td>usual</td>\n      <td>low concern</td>\n      <td>96.020722</td>\n      <td>26.937834</td>\n      <td>98.165776</td>\n      <td>36.606217</td>\n      <td>None noted</td>\n      <td>N</td>\n      <td>N</td>\n      <td>N</td>\n      <td>N</td>\n      <td>Pakistani</td>\n      <td>asian</td>\n      <td>N</td>\n      <td>primary</td>\n      <td>normal</td>\n      <td>high</td>\n      <td>N</td>\n      <td>normal</td>\n      <td>normal</td>\n    </tr>\n  </tbody>\n</table>\n</div>"
     },
     "execution_count": 44,
     "metadata": {},
     "output_type": "execute_result"
    }
   ],
   "source": [
    "X_train_res.loc[rnd_idxs]"
   ],
   "metadata": {
    "collapsed": false,
    "pycharm": {
     "name": "#%%\n"
    }
   }
  },
  {
   "cell_type": "code",
   "execution_count": 45,
   "outputs": [
    {
     "data": {
      "text/plain": "     referral_from  age   address    gender  referral_date  referral_time  \\\n403       0.179104    2  0.195652  0.174528       0.181818       0.170984   \n518       0.199029    2  0.195652  0.165414       0.181818       0.170984   \n321       0.199029    2  0.195652  0.174528       0.147541       0.307692   \n279       0.179104   13  0.068966  0.174528       0.181818       0.158273   \n484       0.179104    3  0.195652  0.174528       0.147541       0.170984   \n\n     illness_severity  activity_level  gut_feeling     ox_sat  resp_rate  \\\n403          0.151724         0.16087     0.162437  97.000000  28.804678   \n518          0.151724         0.16087     0.172414  96.411354  30.411354   \n321          0.272727         0.16087     0.172414  97.000000  32.000000   \n279          0.151724         0.16087     0.162437  96.000000  20.000000   \n484          0.151724         0.16087     0.162437  96.020722  26.937834   \n\n     heart_rate       temp    sepsis  safeguarding  food_allergy  \\\n403  102.396492  36.884643  0.164087      0.176667      0.166124   \n518  132.468126  36.948346  0.164087      0.176667      0.166124   \n321  100.000000  36.874429  0.164087      0.176667      0.166124   \n279   96.000000  36.800000  0.164087      0.176667      0.166124   \n484   98.165776  36.606217  0.164087      0.176667      0.166124   \n\n     drug_allergy  other_allergy  simple_ethnicity  group_ethnicity  \\\n403      0.179811       0.171429          0.173653         0.177419   \n518      0.179811       0.171429          0.173653         0.177419   \n321      0.179811       0.171429          0.173653         0.177419   \n279      0.179811       0.171429          0.181034         0.186047   \n484      0.179811       0.171429          0.173653         0.177419   \n\n     ox_sat_low  age_range  ace_heart_rate_cat  ace_resp_rate_cat  \\\n403    0.172515   0.160839            0.169173           0.150259   \n518    0.172515   0.172043            0.169173           0.203540   \n321    0.172515   0.172043            0.169173           0.203540   \n279    0.172515   0.250000            0.169173           0.150259   \n484    0.172515   0.160839            0.169173           0.203540   \n\n     meets_ace_criteria  apls_heart_rate_cat  apls_resp_rate_cat  \n403            0.202830             0.159468            0.148289  \n518            0.202830             0.159468            0.256410  \n321            0.202830             0.159468            0.256410  \n279            0.120301             0.159468            0.148289  \n484            0.202830             0.159468            0.148289  ",
      "text/html": "<div>\n<style scoped>\n    .dataframe tbody tr th:only-of-type {\n        vertical-align: middle;\n    }\n\n    .dataframe tbody tr th {\n        vertical-align: top;\n    }\n\n    .dataframe thead th {\n        text-align: right;\n    }\n</style>\n<table border=\"1\" class=\"dataframe\">\n  <thead>\n    <tr style=\"text-align: right;\">\n      <th></th>\n      <th>referral_from</th>\n      <th>age</th>\n      <th>address</th>\n      <th>gender</th>\n      <th>referral_date</th>\n      <th>referral_time</th>\n      <th>illness_severity</th>\n      <th>activity_level</th>\n      <th>gut_feeling</th>\n      <th>ox_sat</th>\n      <th>resp_rate</th>\n      <th>heart_rate</th>\n      <th>temp</th>\n      <th>sepsis</th>\n      <th>safeguarding</th>\n      <th>food_allergy</th>\n      <th>drug_allergy</th>\n      <th>other_allergy</th>\n      <th>simple_ethnicity</th>\n      <th>group_ethnicity</th>\n      <th>ox_sat_low</th>\n      <th>age_range</th>\n      <th>ace_heart_rate_cat</th>\n      <th>ace_resp_rate_cat</th>\n      <th>meets_ace_criteria</th>\n      <th>apls_heart_rate_cat</th>\n      <th>apls_resp_rate_cat</th>\n    </tr>\n  </thead>\n  <tbody>\n    <tr>\n      <th>403</th>\n      <td>0.179104</td>\n      <td>2</td>\n      <td>0.195652</td>\n      <td>0.174528</td>\n      <td>0.181818</td>\n      <td>0.170984</td>\n      <td>0.151724</td>\n      <td>0.16087</td>\n      <td>0.162437</td>\n      <td>97.000000</td>\n      <td>28.804678</td>\n      <td>102.396492</td>\n      <td>36.884643</td>\n      <td>0.164087</td>\n      <td>0.176667</td>\n      <td>0.166124</td>\n      <td>0.179811</td>\n      <td>0.171429</td>\n      <td>0.173653</td>\n      <td>0.177419</td>\n      <td>0.172515</td>\n      <td>0.160839</td>\n      <td>0.169173</td>\n      <td>0.150259</td>\n      <td>0.202830</td>\n      <td>0.159468</td>\n      <td>0.148289</td>\n    </tr>\n    <tr>\n      <th>518</th>\n      <td>0.199029</td>\n      <td>2</td>\n      <td>0.195652</td>\n      <td>0.165414</td>\n      <td>0.181818</td>\n      <td>0.170984</td>\n      <td>0.151724</td>\n      <td>0.16087</td>\n      <td>0.172414</td>\n      <td>96.411354</td>\n      <td>30.411354</td>\n      <td>132.468126</td>\n      <td>36.948346</td>\n      <td>0.164087</td>\n      <td>0.176667</td>\n      <td>0.166124</td>\n      <td>0.179811</td>\n      <td>0.171429</td>\n      <td>0.173653</td>\n      <td>0.177419</td>\n      <td>0.172515</td>\n      <td>0.172043</td>\n      <td>0.169173</td>\n      <td>0.203540</td>\n      <td>0.202830</td>\n      <td>0.159468</td>\n      <td>0.256410</td>\n    </tr>\n    <tr>\n      <th>321</th>\n      <td>0.199029</td>\n      <td>2</td>\n      <td>0.195652</td>\n      <td>0.174528</td>\n      <td>0.147541</td>\n      <td>0.307692</td>\n      <td>0.272727</td>\n      <td>0.16087</td>\n      <td>0.172414</td>\n      <td>97.000000</td>\n      <td>32.000000</td>\n      <td>100.000000</td>\n      <td>36.874429</td>\n      <td>0.164087</td>\n      <td>0.176667</td>\n      <td>0.166124</td>\n      <td>0.179811</td>\n      <td>0.171429</td>\n      <td>0.173653</td>\n      <td>0.177419</td>\n      <td>0.172515</td>\n      <td>0.172043</td>\n      <td>0.169173</td>\n      <td>0.203540</td>\n      <td>0.202830</td>\n      <td>0.159468</td>\n      <td>0.256410</td>\n    </tr>\n    <tr>\n      <th>279</th>\n      <td>0.179104</td>\n      <td>13</td>\n      <td>0.068966</td>\n      <td>0.174528</td>\n      <td>0.181818</td>\n      <td>0.158273</td>\n      <td>0.151724</td>\n      <td>0.16087</td>\n      <td>0.162437</td>\n      <td>96.000000</td>\n      <td>20.000000</td>\n      <td>96.000000</td>\n      <td>36.800000</td>\n      <td>0.164087</td>\n      <td>0.176667</td>\n      <td>0.166124</td>\n      <td>0.179811</td>\n      <td>0.171429</td>\n      <td>0.181034</td>\n      <td>0.186047</td>\n      <td>0.172515</td>\n      <td>0.250000</td>\n      <td>0.169173</td>\n      <td>0.150259</td>\n      <td>0.120301</td>\n      <td>0.159468</td>\n      <td>0.148289</td>\n    </tr>\n    <tr>\n      <th>484</th>\n      <td>0.179104</td>\n      <td>3</td>\n      <td>0.195652</td>\n      <td>0.174528</td>\n      <td>0.147541</td>\n      <td>0.170984</td>\n      <td>0.151724</td>\n      <td>0.16087</td>\n      <td>0.162437</td>\n      <td>96.020722</td>\n      <td>26.937834</td>\n      <td>98.165776</td>\n      <td>36.606217</td>\n      <td>0.164087</td>\n      <td>0.176667</td>\n      <td>0.166124</td>\n      <td>0.179811</td>\n      <td>0.171429</td>\n      <td>0.173653</td>\n      <td>0.177419</td>\n      <td>0.172515</td>\n      <td>0.160839</td>\n      <td>0.169173</td>\n      <td>0.203540</td>\n      <td>0.202830</td>\n      <td>0.159468</td>\n      <td>0.148289</td>\n    </tr>\n  </tbody>\n</table>\n</div>"
     },
     "execution_count": 45,
     "metadata": {},
     "output_type": "execute_result"
    }
   ],
   "source": [
    "X_train_res_target.loc[rnd_idxs]"
   ],
   "metadata": {
    "collapsed": false,
    "pycharm": {
     "name": "#%%\n"
    }
   }
  },
  {
   "cell_type": "code",
   "execution_count": 47,
   "outputs": [
    {
     "data": {
      "text/plain": "0.14754098360655737"
     },
     "execution_count": 47,
     "metadata": {},
     "output_type": "execute_result"
    }
   ],
   "source": [
    "def targety(feature, value):\n",
    "    return y_train[X_train[feature] == value].mean()\n",
    "\n",
    "targety(\"referral_date\", \"Spring\")"
   ],
   "metadata": {
    "collapsed": false,
    "pycharm": {
     "name": "#%%\n"
    }
   }
  },
  {
   "cell_type": "code",
   "execution_count": 58,
   "outputs": [],
   "source": [
    "train_test_data_dir = \"../data/train_test_data/\"\n",
    "\n",
    "dfs_dict = {\n",
    "    \"X_train\": X_train,\n",
    "    \"y_train\": y_train,\n",
    "    \"X_train_res\": X_train_res,\n",
    "    \"y_train_res\": y_train_res,\n",
    "    \"X_test\": X_test,\n",
    "    \"y_test\": y_test,\n",
    "    \"X_train_ohe\": X_train_ohe,\n",
    "    \"X_test_ohe\": X_test_ohe,\n",
    "    \"X_train_target\": X_train_target,\n",
    "    \"X_test_target\": X_test_target,\n",
    "    \"X_train_ohe_scaled\": X_train_ohe_scaled,\n",
    "    \"X_test_ohe_scaled\": X_test_ohe_scaled,\n",
    "    \"X_train_target_scaled\": X_train_target_scaled,\n",
    "    \"X_test_target_scaled\": X_test_target_scaled,\n",
    "    \"X_train_res_ohe\": X_train_res_ohe,\n",
    "    \"X_train_res_target\": X_train_res_target,\n",
    "    \"X_train_res_ohe_scaled\": X_train_res_ohe_scaled,\n",
    "    \"X_train_res_target_scaled\": X_train_res_target_scaled,\n",
    "}\n",
    "\n",
    "for name, df in dfs_dict.items():\n",
    "    df.to_pickle(train_test_data_dir + name + \".pkl\")"
   ],
   "metadata": {
    "collapsed": false,
    "pycharm": {
     "name": "#%%\n"
    }
   }
  },
  {
   "cell_type": "code",
   "execution_count": null,
   "outputs": [],
   "source": [],
   "metadata": {
    "collapsed": false,
    "pycharm": {
     "name": "#%%\n"
    }
   }
  }
 ],
 "metadata": {
  "kernelspec": {
   "display_name": "Python 3",
   "language": "python",
   "name": "python3"
  },
  "language_info": {
   "codemirror_mode": {
    "name": "ipython",
    "version": 2
   },
   "file_extension": ".py",
   "mimetype": "text/x-python",
   "name": "python",
   "nbconvert_exporter": "python",
   "pygments_lexer": "ipython2",
   "version": "2.7.6"
  }
 },
 "nbformat": 4,
 "nbformat_minor": 0
}