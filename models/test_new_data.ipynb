{
 "cells": [
  {
   "cell_type": "code",
   "execution_count": 1,
   "metadata": {
    "collapsed": true
   },
   "outputs": [
    {
     "name": "stderr",
     "output_type": "stream",
     "text": [
      "[nltk_data] Downloading package wordnet to\n",
      "[nltk_data]     /Users/samrelins/nltk_data...\n",
      "[nltk_data]   Package wordnet is already up-to-date!\n",
      "[nltk_data] Downloading package stopwords to\n",
      "[nltk_data]     /Users/samrelins/nltk_data...\n",
      "[nltk_data]   Package stopwords is already up-to-date!\n"
     ]
    }
   ],
   "source": [
    "import sys\n",
    "sys.path.append('/Users/samrelins/Documents/LIDA/ace_project/')\n",
    "from src.train_test import *"
   ]
  },
  {
   "cell_type": "code",
   "execution_count": 2,
   "outputs": [],
   "source": [
    "data_dir = \"/Users/samrelins/Documents/LIDA/ace_project/data/\"\n",
    "\n",
    "orig_filename = \"ace_data_orig.csv\"\n",
    "ace_dat_orig = pd.read_csv(data_dir + orig_filename)\n",
    "\n",
    "extra_filename = \"ace_data_extra.csv\"\n",
    "ace_dat_extra = pd.read_csv(data_dir + extra_filename)"
   ],
   "metadata": {
    "collapsed": false,
    "pycharm": {
     "name": "#%%\n"
    }
   }
  },
  {
   "cell_type": "code",
   "execution_count": 3,
   "outputs": [],
   "source": [
    "from sklearn.linear_model import LogisticRegression\n",
    "\n",
    "def return_log_reg_clf_results(df):\n",
    "    X_train, y_train, X_test, y_test = return_train_test(df)\n",
    "\n",
    "    best_scores, best_params = param_search_classifier(\n",
    "        X_train=X_train, y_train=y_train,\n",
    "        clf=LogisticRegression(random_state=0,\n",
    "                               max_iter=1000,\n",
    "                               solver=\"saga\",\n",
    "                               class_weight=\"balanced\",\n",
    "                               n_jobs=-1),\n",
    "        param_grid={\"penalty\": [\"none\", \"l1\", \"l2\"],\n",
    "                    'C': np.logspace(-4, 4, 40)},\n",
    "        scaled=True,\n",
    "    )\n",
    "\n",
    "    cv_scores = pd.DataFrame(best_scores, index=[\"\"]).T\n",
    "\n",
    "    X_train_prepped, X_test_prepped = encode_and_scale(\n",
    "        X_train=X_train,\n",
    "        y_train=y_train,\n",
    "        X_test=X_test,\n",
    "        cat_encoder=\"one_hot\",\n",
    "        scaled=True\n",
    "    )\n",
    "\n",
    "    log_reg_clf = LogisticRegression(\n",
    "        random_state=0,\n",
    "        max_iter=1000,\n",
    "        solver=\"saga\",\n",
    "        class_weight=\"balanced\",\n",
    "        n_jobs=-1,\n",
    "        **best_params\n",
    "    )\n",
    "\n",
    "    log_reg_clf.fit(X_train_prepped, y_train)\n",
    "\n",
    "    test_scores = pd.DataFrame(\n",
    "        score_classifier(log_reg_clf, X_test_prepped, y_test),\n",
    "        index=[\"\"]).T\n",
    "\n",
    "    param_names = X_train_prepped.columns\n",
    "    coefs = log_reg_clf.coef_[0]\n",
    "    nonzero_coefs = coefs > 0\n",
    "\n",
    "    model_coeffs = pd.DataFrame({\n",
    "        \"Feature\": param_names[nonzero_coefs],\n",
    "        \"Coefficient Value\": coefs[nonzero_coefs]\n",
    "    }).sort_values(\"Coefficient Value\", ascending=False)\n",
    "    return cv_scores, test_scores, model_coeffs\n"
   ],
   "metadata": {
    "collapsed": false,
    "pycharm": {
     "name": "#%%\n"
    }
   }
  },
  {
   "cell_type": "code",
   "execution_count": 4,
   "outputs": [
    {
     "name": "stdout",
     "output_type": "stream",
     "text": [
      "Warning: ['medical_history', 'examination_summary', 'recommendation'] missing - skipping\n",
      "==================================================\n",
      "Testing LogisticRegression(class_weight='balanced', max_iter=1000, n_jobs=-1,\n",
      "                   random_state=0, solver='saga') classifier with one_hot encoded features.\n",
      "==================================================\n"
     ]
    },
    {
     "name": "stderr",
     "output_type": "stream",
     "text": [
      "100%|██████████| 120/120 [00:43<00:00,  2.77it/s]\n"
     ]
    },
    {
     "data": {
      "text/plain": "(                    \n f1          0.292178\n roc_auc     0.561783\n accuracy    0.640135\n recall      0.444444\n precision   0.218089\n true_pos    8.000000\n true_neg   61.333333\n false_pos  29.000000\n false_neg  10.000000,\n                     \n f1          0.348837\n roc_auc     0.613599\n accuracy    0.652174\n recall      0.555556\n precision   0.254237\n true_pos   15.000000\n true_neg   90.000000\n false_pos  44.000000\n false_neg  12.000000,\n                       Feature  Coefficient Value\n 2                address_bd02           1.312936\n 14         gut_feeling_unwell           1.166088\n 28                  resp_rate           1.011765\n 25   apls_heart_rate_cat_high           0.972487\n 20        age_range_secondary           0.912898\n 8                address_bd19           0.884143\n 3                address_bd03           0.770143\n 1            referral_from_gp           0.724753\n 24    apls_resp_rate_cat_high           0.705556\n 12      referral_time_evening           0.659623\n 29                 heart_rate           0.649676\n 17            other_allergy_y           0.646559\n 7                address_bd13           0.532326\n 13  illness_severity_moderate           0.531409\n 30                       temp           0.482730\n 22     ace_heart_rate_cat_low           0.457886\n 11       referral_date_winter           0.402347\n 27                        age           0.308580\n 23  ace_heart_rate_cat_normal           0.289668\n 0            referral_from_ed           0.281383\n 6                address_bd09           0.273211\n 16             food_allergy_y           0.253984\n 26       meets_ace_criteria_y           0.202695\n 4                address_bd04           0.129297\n 15          sepsis_none noted           0.121784\n 10       referral_date_summer           0.117906\n 21     ace_resp_rate_cat_high           0.091442\n 5                address_bd07           0.072400\n 9                    gender_m           0.049764\n 19      group_ethnicity_other           0.004026\n 18     simple_ethnicity_other           0.004026)"
     },
     "execution_count": 4,
     "metadata": {},
     "output_type": "execute_result"
    }
   ],
   "source": [
    "return_log_reg_clf_results(ace_dat_orig)"
   ],
   "metadata": {
    "collapsed": false,
    "pycharm": {
     "name": "#%%\n"
    }
   }
  },
  {
   "cell_type": "code",
   "execution_count": 6,
   "outputs": [
    {
     "name": "stdout",
     "output_type": "stream",
     "text": [
      "Warning: ['medical_history', 'examination_summary', 'recommendation'] missing - skipping\n",
      "==================================================\n",
      "Testing LogisticRegression(class_weight='balanced', max_iter=1000, n_jobs=-1,\n",
      "                   random_state=0, solver='saga') classifier with one_hot encoded features.\n",
      "==================================================\n"
     ]
    },
    {
     "name": "stderr",
     "output_type": "stream",
     "text": [
      "100%|██████████| 120/120 [00:47<00:00,  2.54it/s]\n"
     ]
    },
    {
     "data": {
      "text/plain": "(                    \n f1          0.287737\n roc_auc     0.559524\n accuracy    0.599388\n recall      0.500000\n precision   0.202963\n true_pos    9.000000\n true_neg   56.333333\n false_pos  34.666667\n false_neg   9.000000,\n                     \n f1          0.243902\n roc_auc     0.518519\n accuracy    0.617284\n recall      0.370370\n precision   0.181818\n true_pos   10.000000\n true_neg   90.000000\n false_pos  45.000000\n false_neg  17.000000,\n                          Feature  Coefficient Value\n 0               referral_from_gp           0.064592\n 1     referral_profession_doctor           0.062497\n 25       apls_resp_rate_cat_high           0.054424\n 13          referral_date_winter           0.048370\n 15     illness_severity_moderate           0.044401\n 18                food_allergy_y           0.036662\n 4                   address_bd03           0.036616\n 26      apls_heart_rate_cat_high           0.035777\n 16       gut_feeling_low concern           0.034121\n 22        ace_resp_rate_cat_high           0.030409\n 21           age_range_secondary           0.029284\n 14         referral_time_evening           0.025306\n 3                   address_bd02           0.020684\n 17            gut_feeling_unwell           0.018484\n 19               other_allergy_y           0.018311\n 24     ace_heart_rate_cat_normal           0.018148\n 20          age_range_pre_school           0.017706\n 12          referral_date_summer           0.017664\n 11                      gender_m           0.016885\n 27                           age           0.015029\n 28                     resp_rate           0.014873\n 30                          temp           0.014783\n 29                    heart_rate           0.012837\n 6                   address_bd05           0.011025\n 10                  address_bd19           0.008801\n 9                   address_bd13           0.007898\n 7                   address_bd06           0.005815\n 5                   address_bd04           0.004230\n 8                   address_bd07           0.002377\n 23        ace_heart_rate_cat_low           0.000943\n 2   referral_profession_registar           0.000186)"
     },
     "execution_count": 6,
     "metadata": {},
     "output_type": "execute_result"
    }
   ],
   "source": [
    "referral_from_dict =  {\"GP\": \"GP\",\n",
    "                       \"A&E\": \"ED\",\n",
    "                       \"GP ANP\": \"GP\",\n",
    "                       \"CCDA\": \"CCDA\",\n",
    "                       \"ED Paed ANP\": \"ED\",\n",
    "                       \"CCDA ANP\": \"ANP\",\n",
    "                       \"GP - Advanced Pharmacist\": \"GP\",\n",
    "                       \"None\": \"None\"}\n",
    "\n",
    "ace_dat_extra[\"referral_from\"] = ace_dat_extra.referral_from.apply(\n",
    "    lambda x: referral_from_dict[x]\n",
    ")\n",
    "\n",
    "text_features = [\"medical_history\", \"examination_summary\", \"recommendation\"]\n",
    "return_log_reg_clf_results(ace_dat_extra.drop(text_features, axis=1))"
   ],
   "metadata": {
    "collapsed": false,
    "pycharm": {
     "name": "#%%\n"
    }
   }
  },
  {
   "cell_type": "code",
   "execution_count": 7,
   "outputs": [
    {
     "name": "stdout",
     "output_type": "stream",
     "text": [
      "Warning: ['medical_history', 'examination_summary', 'recommendation'] missing - skipping\n",
      "==================================================\n",
      "Testing LogisticRegression(class_weight='balanced', max_iter=1000, n_jobs=-1,\n",
      "                   random_state=0, solver='saga') classifier with one_hot encoded features.\n",
      "==================================================\n"
     ]
    },
    {
     "name": "stderr",
     "output_type": "stream",
     "text": [
      "100%|██████████| 120/120 [00:43<00:00,  2.74it/s]\n"
     ]
    },
    {
     "data": {
      "text/plain": "(                    \n f1          0.292178\n roc_auc     0.561783\n accuracy    0.640135\n recall      0.444444\n precision   0.218089\n true_pos    8.000000\n true_neg   61.333333\n false_pos  29.000000\n false_neg  10.000000,\n                     \n f1          0.348837\n roc_auc     0.613599\n accuracy    0.652174\n recall      0.555556\n precision   0.254237\n true_pos   15.000000\n true_neg   90.000000\n false_pos  44.000000\n false_neg  12.000000,\n                       Feature  Coefficient Value\n 2                address_bd02           1.312936\n 14         gut_feeling_unwell           1.166088\n 28                  resp_rate           1.011765\n 25   apls_heart_rate_cat_high           0.972487\n 20        age_range_secondary           0.912898\n 8                address_bd19           0.884143\n 3                address_bd03           0.770143\n 1            referral_from_gp           0.724753\n 24    apls_resp_rate_cat_high           0.705556\n 12      referral_time_evening           0.659623\n 29                 heart_rate           0.649676\n 17            other_allergy_y           0.646559\n 7                address_bd13           0.532326\n 13  illness_severity_moderate           0.531409\n 30                       temp           0.482730\n 22     ace_heart_rate_cat_low           0.457886\n 11       referral_date_winter           0.402347\n 27                        age           0.308580\n 23  ace_heart_rate_cat_normal           0.289668\n 0            referral_from_ed           0.281383\n 6                address_bd09           0.273211\n 16             food_allergy_y           0.253984\n 26       meets_ace_criteria_y           0.202695\n 4                address_bd04           0.129297\n 15          sepsis_none noted           0.121784\n 10       referral_date_summer           0.117906\n 21     ace_resp_rate_cat_high           0.091442\n 5                address_bd07           0.072400\n 9                    gender_m           0.049764\n 19      group_ethnicity_other           0.004026\n 18     simple_ethnicity_other           0.004026)"
     },
     "execution_count": 7,
     "metadata": {},
     "output_type": "execute_result"
    }
   ],
   "source": [
    "return_log_reg_clf_results(ace_dat_orig)"
   ],
   "metadata": {
    "collapsed": false,
    "pycharm": {
     "name": "#%%\n"
    }
   }
  },
  {
   "cell_type": "code",
   "execution_count": 8,
   "outputs": [
    {
     "name": "stdout",
     "output_type": "stream",
     "text": [
      "==================================================\n",
      "Testing LogisticRegression(class_weight='balanced', max_iter=1000, n_jobs=-1,\n",
      "                   random_state=0, solver='saga') classifier with one_hot encoded features.\n",
      "==================================================\n"
     ]
    },
    {
     "name": "stderr",
     "output_type": "stream",
     "text": [
      "100%|██████████| 120/120 [00:54<00:00,  2.20it/s]\n"
     ]
    },
    {
     "data": {
      "text/plain": "(                    \n f1          0.360848\n roc_auc     0.625051\n accuracy    0.683939\n recall      0.537037\n precision   0.272700\n true_pos    9.666667\n true_neg   64.666667\n false_pos  26.000000\n false_neg   8.333333,\n                      \n f1           0.277778\n roc_auc      0.555556\n accuracy     0.679012\n recall       0.370370\n precision    0.222222\n true_pos    10.000000\n true_neg   100.000000\n false_pos   35.000000\n false_neg   17.000000,\n                        Feature  Coefficient Value\n 30        summary_salbutamol_y           0.102189\n 29               hist_asthma_y           0.069196\n 0             referral_from_gp           0.062577\n 28          hist_know_asthma_y           0.061330\n 1   referral_profession_doctor           0.061136\n 31     recommend_prednisolon_y           0.055370\n 24     apls_resp_rate_cat_high           0.049177\n 12        referral_date_winter           0.048720\n 14   illness_severity_moderate           0.044314\n 26               hist_montel_y           0.041624\n 17              food_allergy_y           0.035731\n 25    apls_heart_rate_cat_high           0.033725\n 15     gut_feeling_low concern           0.032499\n 3                 address_bd03           0.031567\n 21      ace_resp_rate_cat_high           0.029989\n 20         age_range_secondary           0.028438\n 27         hist_wheez_episod_y           0.026922\n 2                 address_bd02           0.024288\n 13       referral_time_evening           0.024108\n 19        age_range_pre_school           0.020616\n 32          recommend_spacer_y           0.018938\n 23   ace_heart_rate_cat_normal           0.018530\n 16          gut_feeling_unwell           0.018119\n 11        referral_date_summer           0.017132\n 34                   resp_rate           0.017005\n 18             other_allergy_y           0.015560\n 36                        temp           0.014654\n 35                  heart_rate           0.013042\n 33                         age           0.012826\n 5                 address_bd05           0.011531\n 10                    gender_m           0.011301\n 8                 address_bd13           0.008667\n 9                 address_bd19           0.008487\n 7                 address_bd07           0.006081\n 6                 address_bd06           0.005143\n 4                 address_bd04           0.003746\n 22      ace_heart_rate_cat_low           0.001425)"
     },
     "execution_count": 8,
     "metadata": {},
     "output_type": "execute_result"
    }
   ],
   "source": [
    "return_log_reg_clf_results(ace_dat_extra)"
   ],
   "metadata": {
    "collapsed": false,
    "pycharm": {
     "name": "#%%\n"
    }
   }
  },
  {
   "cell_type": "code",
   "execution_count": 6,
   "outputs": [
    {
     "name": "stdout",
     "output_type": "stream",
     "text": [
      "Warning: ['medical_history', 'examination_summary', 'recommendation'] missing - skipping\n",
      "==================================================\n",
      "Testing LogisticRegression(class_weight='balanced', max_iter=1000, n_jobs=-1,\n",
      "                   random_state=0, solver='saga') classifier with one_hot encoded features.\n",
      "==================================================\n"
     ]
    },
    {
     "name": "stderr",
     "output_type": "stream",
     "text": [
      "100%|██████████| 120/120 [00:34<00:00,  3.51it/s]\n"
     ]
    },
    {
     "data": {
      "text/plain": "(                    \n f1          0.321696\n roc_auc     0.587831\n accuracy    0.596982\n recall      0.574074\n precision   0.224927\n true_pos   10.333333\n true_neg   54.333333\n false_pos  36.000000\n false_neg   7.666667,\n                     \n f1          0.278481\n roc_auc     0.550719\n accuracy    0.645963\n recall      0.407407\n precision   0.211538\n true_pos   11.000000\n true_neg   93.000000\n false_pos  41.000000\n false_neg  16.000000,\n                       Feature  Coefficient Value\n 0            referral_from_gp           0.108796\n 17    apls_resp_rate_cat_high           0.073532\n 5   illness_severity_moderate           0.071592\n 3        referral_date_winter           0.071014\n 8              food_allergy_y           0.053468\n 18   apls_heart_rate_cat_high           0.049079\n 4       referral_time_evening           0.042193\n 13        age_range_secondary           0.041912\n 16  ace_heart_rate_cat_normal           0.041049\n 6     gut_feeling_low concern           0.037606\n 14     ace_resp_rate_cat_high           0.036321\n 12       age_range_pre_school           0.034147\n 9             other_allergy_y           0.028960\n 7          gut_feeling_unwell           0.028224\n 20                  resp_rate           0.026004\n 2        referral_date_summer           0.025736\n 19                        age           0.020417\n 21                 heart_rate           0.017095\n 22                       temp           0.015987\n 1                    gender_m           0.013913\n 15     ace_heart_rate_cat_low           0.002299\n 10     simple_ethnicity_other           0.000001\n 11      group_ethnicity_other           0.000001)"
     },
     "execution_count": 6,
     "metadata": {},
     "output_type": "execute_result"
    }
   ],
   "source": [
    "drop_features = [\"address\", \"safeguarding\"]\n",
    "\n",
    "return_log_reg_clf_results(ace_dat_orig.drop(crap_features, axis=1))"
   ],
   "metadata": {
    "collapsed": false,
    "pycharm": {
     "name": "#%%\n"
    }
   }
  },
  {
   "cell_type": "code",
   "execution_count": 7,
   "outputs": [
    {
     "name": "stdout",
     "output_type": "stream",
     "text": [
      "==================================================\n",
      "Testing LogisticRegression(class_weight='balanced', max_iter=1000, n_jobs=-1,\n",
      "                   random_state=0, solver='saga') classifier with one_hot encoded features.\n",
      "==================================================\n"
     ]
    },
    {
     "name": "stderr",
     "output_type": "stream",
     "text": [
      "100%|██████████| 120/120 [00:44<00:00,  2.71it/s]\n"
     ]
    },
    {
     "data": {
      "text/plain": "(                    \n f1          0.353092\n roc_auc     0.625661\n accuracy    0.685015\n recall      0.537037\n precision   0.266642\n true_pos    9.666667\n true_neg   65.000000\n false_pos  26.000000\n false_neg   8.333333,\n                      \n f1           0.277778\n roc_auc      0.555556\n accuracy     0.679012\n recall       0.370370\n precision    0.222222\n true_pos    10.000000\n true_neg   100.000000\n false_pos   35.000000\n false_neg   17.000000,\n                                    Feature  Coefficient Value\n 28                    summary_salbutamol_y           0.221507\n 27                           hist_asthma_y           0.137300\n 26                      hist_know_asthma_y           0.123395\n 29                 recommend_prednisolon_y           0.111481\n 4               referral_profession_doctor           0.108163\n 8                     referral_date_winter           0.105501\n 22                 apls_resp_rate_cat_high           0.104213\n 1                         referral_from_gp           0.092193\n 10               illness_severity_moderate           0.087882\n 24                           hist_montel_y           0.085112\n 23                apls_heart_rate_cat_high           0.074015\n 13                          food_allergy_y           0.070504\n 18                     age_range_secondary           0.070351\n 25                     hist_wheez_episod_y           0.068227\n 9                    referral_time_evening           0.057641\n 12                      gut_feeling_unwell           0.046220\n 11                 gut_feeling_low concern           0.046034\n 19                  ace_resp_rate_cat_high           0.045964\n 17                    age_range_pre_school           0.041653\n 21               ace_heart_rate_cat_normal           0.036392\n 7                     referral_date_summer           0.035357\n 30                      recommend_spacer_y           0.035045\n 32                               resp_rate           0.034782\n 31                                     age           0.033527\n 6                                 gender_m           0.033319\n 34                                    temp           0.031592\n 14                         other_allergy_y           0.031539\n 2   referral_from_gp - advanced pharmacist           0.028200\n 33                              heart_rate           0.027321\n 5             referral_profession_registar           0.011770\n 0                         referral_from_ed           0.006148\n 20                  ace_heart_rate_cat_low           0.005942\n 3                     referral_from_gp anp           0.003804\n 16                   group_ethnicity_other           0.000006\n 15                  simple_ethnicity_other           0.000006)"
     },
     "execution_count": 7,
     "metadata": {},
     "output_type": "execute_result"
    }
   ],
   "source": [
    "return_log_reg_clf_results(ace_dat_extra.drop(crap_features, axis=1))\n"
   ],
   "metadata": {
    "collapsed": false,
    "pycharm": {
     "name": "#%%\n"
    }
   }
  }
 ],
 "metadata": {
  "kernelspec": {
   "display_name": "Python 3",
   "language": "python",
   "name": "python3"
  },
  "language_info": {
   "codemirror_mode": {
    "name": "ipython",
    "version": 2
   },
   "file_extension": ".py",
   "mimetype": "text/x-python",
   "name": "python",
   "nbconvert_exporter": "python",
   "pygments_lexer": "ipython2",
   "version": "2.7.6"
  }
 },
 "nbformat": 4,
 "nbformat_minor": 0
}