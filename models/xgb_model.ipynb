{
 "cells": [
  {
   "cell_type": "code",
   "execution_count": 67,
   "metadata": {
    "collapsed": true
   },
   "outputs": [],
   "source": [
    "import pandas as pd\n",
    "import numpy as np\n",
    "from sklearn.model_selection import GridSearchCV\n",
    "from sklearn.metrics import (precision_score,\n",
    "                             recall_score,\n",
    "                             accuracy_score,\n",
    "                             f1_score,\n",
    "                             confusion_matrix,\n",
    "                             plot_confusion_matrix)\n",
    "from xgboost import XGBClassifier\n",
    "\n"
   ]
  },
  {
   "cell_type": "code",
   "execution_count": 24,
   "outputs": [],
   "source": [
    "X_train_res = pd.read_pickle(\"../data/X_train_res.pkl\")\n",
    "y_train_res = pd.read_pickle(\"../data/y_train_res.pkl\")\n",
    "\n",
    "X_train = pd.read_pickle(\"../data/X_train.pkl\")\n",
    "y_train = pd.read_pickle(\"../data/y_train.pkl\")\n",
    "\n",
    "X_test = pd.read_pickle(\"../data/X_test.pkl\")\n",
    "y_test = pd.read_pickle(\"../data/y_test.pkl\")"
   ],
   "metadata": {
    "collapsed": false,
    "pycharm": {
     "name": "#%%\n"
    }
   }
  },
  {
   "cell_type": "code",
   "execution_count": 29,
   "outputs": [],
   "source": [
    "for feature in X_train.columns:\n",
    "    if X_train[feature].dtype not in [\"int\", \"float\"]:\n",
    "        for df in [X_train, X_train_res, X_test]:\n",
    "            df[feature] = df[feature].cat.codes"
   ],
   "metadata": {
    "collapsed": false,
    "pycharm": {
     "name": "#%%\n"
    }
   }
  },
  {
   "cell_type": "markdown",
   "source": [
    "## priority = overall accuracy"
   ],
   "metadata": {
    "collapsed": false,
    "pycharm": {
     "name": "#%% md\n"
    }
   }
  },
  {
   "cell_type": "code",
   "execution_count": 58,
   "outputs": [],
   "source": [
    "param_grid_res = {\n",
    "\"n_estimators\"      : [10, 30 , 100, 300, 1000, 1300, 3000],\n",
    " \"max_depth\"        : [2,3,10, 13, 20, 23],\n",
    " \"learning_rate\"    : [ 0.1, 0.03, 0.01, 0.003],\n",
    " \"reg_lambda\"       : [10,50,100],\n",
    " \"gamma\"            : [0.25,1.0,10]\n",
    "             }\n",
    "\n",
    "param_grid_norm = param_grid_res\n",
    "param_grid_norm[\"scale_pos_weight\"] = [4.86]\n",
    "\n",
    "# define evaluation procedure\n",
    "norm_search = GridSearchCV(estimator=xgbmodel,\n",
    "                           param_grid=param_grid_norm,\n",
    "                           n_jobs=-1,\n",
    "                           scoring='roc_auc').fit(X_train,y_train)\n",
    "\n",
    "res_search = GridSearchCV(estimator=xgbmodel,\n",
    "                          param_grid=param_grid_res,\n",
    "                          n_jobs=-1,\n",
    "                          scoring='roc_auc').fit(X_train_res,y_train_res)\n"
   ],
   "metadata": {
    "collapsed": false,
    "pycharm": {
     "name": "#%%\n"
    }
   }
  },
  {
   "cell_type": "code",
   "execution_count": 72,
   "outputs": [
    {
     "data": {
      "text/plain": "{'gamma': 0.25,\n 'learning_rate': 0.01,\n 'max_depth': 2,\n 'n_estimators': 10,\n 'reg_lambda': 50,\n 'scale_pos_weight': 4.86}"
     },
     "execution_count": 72,
     "metadata": {},
     "output_type": "execute_result"
    }
   ],
   "source": [
    "norm_search.best_params_"
   ],
   "metadata": {
    "collapsed": false,
    "pycharm": {
     "name": "#%%\n"
    }
   }
  },
  {
   "cell_type": "code",
   "execution_count": 71,
   "outputs": [
    {
     "data": {
      "text/plain": "{'gamma': 0.25,\n 'learning_rate': 0.01,\n 'max_depth': 10,\n 'n_estimators': 3000,\n 'reg_lambda': 10,\n 'scale_pos_weight': 4.86}"
     },
     "execution_count": 71,
     "metadata": {},
     "output_type": "execute_result"
    }
   ],
   "source": [
    "res_search.best_params_"
   ],
   "metadata": {
    "collapsed": false,
    "pycharm": {
     "name": "#%%\n"
    }
   }
  },
  {
   "cell_type": "code",
   "execution_count": 69,
   "outputs": [
    {
     "name": "stdout",
     "output_type": "stream",
     "text": [
      "Accuracy Train:  0.682, Accuracy Test: 0.631\n",
      "Recall Train:  0.678, Recall Test: 0.522\n",
      "Precision Train:  0.226, Precision Test: 0.226\n",
      "[[77 41]\n",
      " [11 12]]\n"
     ]
    },
    {
     "data": {
      "text/plain": "<sklearn.metrics._plot.confusion_matrix.ConfusionMatrixDisplay at 0x7fdee16f1130>"
     },
     "execution_count": 69,
     "metadata": {},
     "output_type": "execute_result"
    },
    {
     "data": {
      "text/plain": "<Figure size 432x288 with 2 Axes>",
      "image/png": "[encoded data removed]"
     },
     "metadata": {
      "needs_background": "light"
     },
     "output_type": "display_data"
    }
   ],
   "source": [
    "n_train_pred = (norm_search.predict(X_train)).reshape(-1,1)\n",
    "n_test_pred = (norm_search.predict(X_test)).reshape(-1,1)\n",
    "accuracy_train = accuracy_score(n_train_pred,y_train)\n",
    "accuracy_test = accuracy_score(n_test_pred,y_test)\n",
    "recall_train = recall_score(y_train,n_train_pred)\n",
    "recall_test = recall_score(y_test,n_test_pred)\n",
    "precision_train = precision_score(y_test,n_test_pred)\n",
    "precision_test = precision_score(y_test,n_test_pred)\n",
    "print('Accuracy Train:  %.3f, Accuracy Test: %.3f' %  (accuracy_train,accuracy_test))\n",
    "print('Recall Train:  %.3f, Recall Test: %.3f' %  (recall_train,recall_test))\n",
    "print('Precision Train:  %.3f, Precision Test: %.3f' %  (precision_train,precision_test))\n",
    "print(confusion_matrix(y_test,n_test_pred))\n",
    "\n",
    "plot_confusion_matrix(norm_search,X_test,y_test,display_labels=['Community','Hospital'])"
   ],
   "metadata": {
    "collapsed": false,
    "pycharm": {
     "name": "#%%\n"
    }
   }
  },
  {
   "cell_type": "code",
   "execution_count": 70,
   "outputs": [
    {
     "name": "stdout",
     "output_type": "stream",
     "text": [
      "Accuracy Train:  1.000, Accuracy Test: 0.730\n",
      "Recall Train:  1.000, Recall Test: 0.348\n",
      "Precision Train:  0.258, Precision Test: 0.258\n",
      "[[95 23]\n",
      " [15  8]]\n"
     ]
    },
    {
     "data": {
      "text/plain": "<sklearn.metrics._plot.confusion_matrix.ConfusionMatrixDisplay at 0x7fdee0683730>"
     },
     "execution_count": 70,
     "metadata": {},
     "output_type": "execute_result"
    },
    {
     "data": {
      "text/plain": "<Figure size 432x288 with 2 Axes>",
      "image/png": "[encoded data removed]"
     },
     "metadata": {
      "needs_background": "light"
     },
     "output_type": "display_data"
    }
   ],
   "source": [
    "r_train_pred = (res_search.predict(X_train_res)).reshape(-1,1)\n",
    "r_test_pred = (res_search.predict(X_test)).reshape(-1,1)\n",
    "accuracy_train = accuracy_score(r_train_pred,y_train_res)\n",
    "accuracy_test = accuracy_score(r_test_pred,y_test)\n",
    "recall_train = recall_score(y_train_res, r_train_pred)\n",
    "recall_test = recall_score(y_test, r_test_pred)\n",
    "precision_train = precision_score(y_test, r_test_pred)\n",
    "precision_test = precision_score(y_test, r_test_pred)\n",
    "print('Accuracy Train:  %.3f, Accuracy Test: %.3f' %  (accuracy_train,accuracy_test))\n",
    "print('Recall Train:  %.3f, Recall Test: %.3f' %  (recall_train,recall_test))\n",
    "print('Precision Train:  %.3f, Precision Test: %.3f' %  (precision_train,precision_test))\n",
    "print(confusion_matrix(y_test,r_test_pred))\n",
    "\n",
    "plot_confusion_matrix(res_search, X_test, y_test, display_labels=['Community','Hospital'])"
   ],
   "metadata": {
    "collapsed": false,
    "pycharm": {
     "name": "#%%\n"
    }
   }
  },
  {
   "cell_type": "markdown",
   "source": [
    "## priority = recall"
   ],
   "metadata": {
    "collapsed": false,
    "pycharm": {
     "name": "#%% md\n"
    }
   }
  },
  {
   "cell_type": "code",
   "execution_count": 74,
   "outputs": [],
   "source": [
    "param_grid_res = {\n",
    "\"n_estimators\"      : [10, 30 , 100, 300, 1000, 1300, 3000],\n",
    " \"max_depth\"        : [2,3,10, 13, 20, 23],\n",
    " \"learning_rate\"    : [ 0.1, 0.03, 0.01, 0.003],\n",
    " \"reg_lambda\"       : [10,50,100],\n",
    " \"gamma\"            : [0.25,1.0,10]\n",
    "             }\n",
    "\n",
    "param_grid_norm = param_grid_res\n",
    "param_grid_norm[\"scale_pos_weight\"] = [4.86]\n",
    "\n",
    "# define evaluation procedure\n",
    "norm_search = GridSearchCV(estimator=xgbmodel,\n",
    "                           param_grid=param_grid_norm,\n",
    "                           n_jobs=-1,\n",
    "                           scoring='recall').fit(X_train,y_train)\n",
    "\n",
    "res_search = GridSearchCV(estimator=xgbmodel,\n",
    "                          param_grid=param_grid_res,\n",
    "                          n_jobs=-1,\n",
    "                          scoring='recall').fit(X_train_res,y_train_res)\n"
   ],
   "metadata": {
    "collapsed": false,
    "pycharm": {
     "name": "#%%\n"
    }
   }
  },
  {
   "cell_type": "code",
   "execution_count": 75,
   "outputs": [
    {
     "data": {
      "text/plain": "{'gamma': 0.25,\n 'learning_rate': 0.03,\n 'max_depth': 2,\n 'n_estimators': 10,\n 'reg_lambda': 50,\n 'scale_pos_weight': 4.86}"
     },
     "execution_count": 75,
     "metadata": {},
     "output_type": "execute_result"
    }
   ],
   "source": [
    "norm_search.best_params_"
   ],
   "metadata": {
    "collapsed": false,
    "pycharm": {
     "name": "#%%\n"
    }
   }
  },
  {
   "cell_type": "code",
   "execution_count": 76,
   "outputs": [
    {
     "data": {
      "text/plain": "{'gamma': 0.25,\n 'learning_rate': 0.1,\n 'max_depth': 2,\n 'n_estimators': 30,\n 'reg_lambda': 100,\n 'scale_pos_weight': 4.86}"
     },
     "execution_count": 76,
     "metadata": {},
     "output_type": "execute_result"
    }
   ],
   "source": [
    "res_search.best_params_"
   ],
   "metadata": {
    "collapsed": false,
    "pycharm": {
     "name": "#%%\n"
    }
   }
  },
  {
   "cell_type": "code",
   "execution_count": 77,
   "outputs": [
    {
     "name": "stdout",
     "output_type": "stream",
     "text": [
      "Accuracy Train:  0.682, Accuracy Test: 0.631\n",
      "Recall Train:  0.678, Recall Test: 0.522\n",
      "Precision Train:  0.226, Precision Test: 0.226\n",
      "[[77 41]\n",
      " [11 12]]\n"
     ]
    },
    {
     "data": {
      "text/plain": "<sklearn.metrics._plot.confusion_matrix.ConfusionMatrixDisplay at 0x7fded4e0b0a0>"
     },
     "execution_count": 77,
     "metadata": {},
     "output_type": "execute_result"
    },
    {
     "data": {
      "text/plain": "<Figure size 432x288 with 2 Axes>",
      "image/png": "[encoded data removed]"
     },
     "metadata": {
      "needs_background": "light"
     },
     "output_type": "display_data"
    }
   ],
   "source": [
    "n_train_pred = (norm_search.predict(X_train)).reshape(-1,1)\n",
    "n_test_pred = (norm_search.predict(X_test)).reshape(-1,1)\n",
    "accuracy_train = accuracy_score(n_train_pred,y_train)\n",
    "accuracy_test = accuracy_score(n_test_pred,y_test)\n",
    "recall_train = recall_score(y_train,n_train_pred)\n",
    "recall_test = recall_score(y_test,n_test_pred)\n",
    "precision_train = precision_score(y_test,n_test_pred)\n",
    "precision_test = precision_score(y_test,n_test_pred)\n",
    "print('Accuracy Train:  %.3f, Accuracy Test: %.3f' %  (accuracy_train,accuracy_test))\n",
    "print('Recall Train:  %.3f, Recall Test: %.3f' %  (recall_train,recall_test))\n",
    "print('Precision Train:  %.3f, Precision Test: %.3f' %  (precision_train,precision_test))\n",
    "print(confusion_matrix(y_test,n_test_pred))\n",
    "\n",
    "plot_confusion_matrix(norm_search,X_test,y_test,display_labels=['Community','Hospital'])"
   ],
   "metadata": {
    "collapsed": false,
    "pycharm": {
     "name": "#%%\n"
    }
   }
  },
  {
   "cell_type": "code",
   "execution_count": 78,
   "outputs": [
    {
     "name": "stdout",
     "output_type": "stream",
     "text": [
      "Accuracy Train:  0.643, Accuracy Test: 0.404\n",
      "Recall Train:  0.983, Recall Test: 0.826\n",
      "Precision Train:  0.192, Precision Test: 0.192\n",
      "[[38 80]\n",
      " [ 4 19]]\n"
     ]
    },
    {
     "data": {
      "text/plain": "<sklearn.metrics._plot.confusion_matrix.ConfusionMatrixDisplay at 0x7fded6f88700>"
     },
     "execution_count": 78,
     "metadata": {},
     "output_type": "execute_result"
    },
    {
     "data": {
      "text/plain": "<Figure size 432x288 with 2 Axes>",
      "image/png": "[encoded data removed]"
     },
     "metadata": {
      "needs_background": "light"
     },
     "output_type": "display_data"
    }
   ],
   "source": [
    "r_train_pred = (res_search.predict(X_train_res)).reshape(-1,1)\n",
    "r_test_pred = (res_search.predict(X_test)).reshape(-1,1)\n",
    "accuracy_train = accuracy_score(r_train_pred,y_train_res)\n",
    "accuracy_test = accuracy_score(r_test_pred,y_test)\n",
    "recall_train = recall_score(y_train_res, r_train_pred)\n",
    "recall_test = recall_score(y_test, r_test_pred)\n",
    "precision_train = precision_score(y_test, r_test_pred)\n",
    "precision_test = precision_score(y_test, r_test_pred)\n",
    "print('Accuracy Train:  %.3f, Accuracy Test: %.3f' %  (accuracy_train,accuracy_test))\n",
    "print('Recall Train:  %.3f, Recall Test: %.3f' %  (recall_train,recall_test))\n",
    "print('Precision Train:  %.3f, Precision Test: %.3f' %  (precision_train,precision_test))\n",
    "print(confusion_matrix(y_test,r_test_pred))\n",
    "\n",
    "plot_confusion_matrix(res_search, X_test, y_test, display_labels=['Community','Hospital'])"
   ],
   "metadata": {
    "collapsed": false,
    "pycharm": {
     "name": "#%%\n"
    }
   }
  },
  {
   "cell_type": "code",
   "execution_count": null,
   "outputs": [],
   "source": [],
   "metadata": {
    "collapsed": false,
    "pycharm": {
     "name": "#%%\n"
    }
   }
  }
 ],
 "metadata": {
  "kernelspec": {
   "display_name": "Python 3",
   "language": "python",
   "name": "python3"
  },
  "language_info": {
   "codemirror_mode": {
    "name": "ipython",
    "version": 2
   },
   "file_extension": ".py",
   "mimetype": "text/x-python",
   "name": "python",
   "nbconvert_exporter": "python",
   "pygments_lexer": "ipython2",
   "version": "2.7.6"
  }
 },
 "nbformat": 4,
 "nbformat_minor": 0
}