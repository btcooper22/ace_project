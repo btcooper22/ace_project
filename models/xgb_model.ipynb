{
 "cells": [
  {
   "cell_type": "code",
   "execution_count": 4,
   "metadata": {
    "collapsed": true
   },
   "outputs": [],
   "source": [
    "import pandas as pd\n",
    "import numpy as np\n",
    "from sklearn.model_selection import GridSearchCV\n",
    "from sklearn.metrics import (precision_score,\n",
    "                             recall_score,\n",
    "                             accuracy_score,\n",
    "                             f1_score,\n",
    "                             confusion_matrix,\n",
    "                             plot_confusion_matrix)\n",
    "from xgboost import XGBClassifier\n",
    "\n"
   ]
  },
  {
   "cell_type": "code",
   "execution_count": 22,
   "metadata": {
    "pycharm": {
     "name": "#%%\n"
    }
   },
   "outputs": [],
   "source": [
    "def test_xgb_model(param_grid, X_train, y_train, X_test, y_test):\n",
    "    \"\"\"\n",
    "    Test different preparations of train / test data with different grid search\n",
    "    parameters\n",
    "\n",
    "    Parameters\n",
    "    ----------\n",
    "        param_grid: dict\n",
    "            param_grid input to sklearn GridSearchCV\n",
    "        X_train: pd.DataFrame\n",
    "            X / predictive features of training data\n",
    "        y_train: pd.DataFrame\n",
    "            y / target feature of training data\n",
    "        X_test: pd.DataFrame\n",
    "            X / predictive features of test data\n",
    "        y_test: pd.DataFrame\n",
    "            y / target feature of test data\n",
    "\n",
    "    Returns\n",
    "    _______\n",
    "        (best_params_, results)\n",
    "        best_params: dict\n",
    "            parameters of best model from grid search\n",
    "        results: dict\n",
    "            train / test results from best model, including:\n",
    "            accuracy, precision, recall, true & false positives and negatives\n",
    "\n",
    "    \"\"\"\n",
    "    xgbmodel = XGBClassifier()\n",
    "    model_search = GridSearchCV(estimator=xgbmodel,\n",
    "                                param_grid=param_grid,\n",
    "                                n_jobs=-2,\n",
    "                                scoring='roc_auc')\n",
    "    model_search.fit(X_train,y_train)\n",
    "\n",
    "    train_pred = (model_search.predict(X_train)).reshape(-1,1)\n",
    "    test_pred = (model_search.predict(X_test)).reshape(-1,1)\n",
    "\n",
    "    train_accuracy = accuracy_score(train_pred, y_train)\n",
    "    test_accuracy = accuracy_score(test_pred, y_test)\n",
    "\n",
    "    train_recall = recall_score(y_train, train_pred)\n",
    "    test_recall = recall_score(y_test, test_pred)\n",
    "\n",
    "    train_precision = precision_score(y_test, test_pred)\n",
    "    test_precision = precision_score(y_test, test_pred)\n",
    "\n",
    "    test_conf_matrix = confusion_matrix(y_test, test_pred)\n",
    "\n",
    "    results = {\n",
    "        \"Train Accuracy\": train_accuracy,\n",
    "        \"Test Accuracy\": test_accuracy,\n",
    "        \"Train Precision\": train_precision,\n",
    "        \"Train Recall\": train_recall,\n",
    "        \"Test Precision\": test_precision,\n",
    "        \"Test Recall\": test_recall,\n",
    "        \"Test True -\": test_conf_matrix[0][0],\n",
    "        \"Test False -\": test_conf_matrix[1][0],\n",
    "        \"Test True +\": test_conf_matrix[1][1],\n",
    "        \"Test False +\": test_conf_matrix[0][1],\n",
    "    }\n",
    "\n",
    "    return model_search.best_params_, results"
   ]
  },
  {
   "cell_type": "code",
   "execution_count": 19,
   "outputs": [],
   "source": [
    "# test with plain X_train i.e. not resampled or one hot / target encoded\n",
    "\n",
    "data_dir = \"../data/train_test_data/\"\n",
    "plain_X_train = pd.read_pickle(data_dir + \"X_train.pkl\")\n",
    "y_train = pd.read_pickle(data_dir + \"y_train.pkl\")\n",
    "\n",
    "plain_X_test = pd.read_pickle(data_dir + \"X_test.pkl\")\n",
    "y_test = pd.read_pickle(data_dir + \"y_test.pkl\")\n",
    "\n",
    "for feature in plain_X_train.columns:\n",
    "    if plain_X_train[feature].dtype.name == \"category\":\n",
    "        for df in [plain_X_train, plain_X_test]:\n",
    "            df[feature] = df[feature].cat.codes\n",
    "\n",
    "# requires scale_pos_weight i.e. ratio of negative / positive examples\n",
    "plain_param_grid = {\n",
    "    \"scale_pos_weight\": [4.85],\n",
    "    \"n_estimators\": [10, 30, 100, 300, 1000, 1300, 3000],\n",
    "    \"max_depth\": [2, 3, 10, 13, 20, 23],\n",
    "    \"learning_rate\": [ 0.1, 0.03, 0.01, 0.003],\n",
    "    \"reg_lambda\": [10, 50, 100],\n",
    "    \"gamma\": [0.25, 1.0, 10]\n",
    "}\n",
    "\n",
    "plain_best_params, plain_results = test_xgb_model(plain_param_grid,\n",
    "                                                  plain_X_train, y_train,\n",
    "                                                  plain_X_test, y_test)"
   ],
   "metadata": {
    "collapsed": false,
    "pycharm": {
     "name": "#%%\n"
    }
   }
  },
  {
   "cell_type": "code",
   "execution_count": 20,
   "outputs": [
    {
     "data": {
      "text/plain": "{'gamma': 1.0,\n 'learning_rate': 0.01,\n 'max_depth': 3,\n 'n_estimators': 3000,\n 'reg_lambda': 10,\n 'scale_pos_weight': 4.85}"
     },
     "execution_count": 20,
     "metadata": {},
     "output_type": "execute_result"
    }
   ],
   "source": [
    "plain_best_params"
   ],
   "metadata": {
    "collapsed": false,
    "pycharm": {
     "name": "#%%\n"
    }
   }
  },
  {
   "cell_type": "code",
   "execution_count": 21,
   "outputs": [
    {
     "data": {
      "text/plain": "{'Train Accuracy': 0.9449275362318841,\n 'Test Accuracy': 0.704225352112676,\n 'Train Precision': 0.14814814814814814,\n 'Train Recall': 1.0,\n 'Test Precision': 0.14814814814814814,\n 'Test Recall': 0.17391304347826086,\n 'Test True -': 96,\n 'Test False -': 19,\n 'Test True +': 4,\n 'Test False +': 23}"
     },
     "execution_count": 21,
     "metadata": {},
     "output_type": "execute_result"
    }
   ],
   "source": [
    "plain_results"
   ],
   "metadata": {
    "collapsed": false,
    "pycharm": {
     "name": "#%%\n"
    }
   }
  },
  {
   "cell_type": "code",
   "execution_count": null,
   "outputs": [],
   "source": [
    "###  CORRECTION FOR ERRORS ABOVE - DELETE AFTER ###\n",
    "y_train = pd.read_pickle(data_dir + \"y_train.pkl\")\n",
    "y_test = pd.read_pickle(data_dir + \"y_test.pkl\")"
   ],
   "metadata": {
    "collapsed": false,
    "pycharm": {
     "name": "#%%\n"
    }
   }
  },
  {
   "cell_type": "code",
   "execution_count": null,
   "outputs": [],
   "source": [
    "# test with ohe data (not resampled)\n",
    "\n",
    "X_train_ohe = pd.read_pickle(data_dir + \"X_train_ohe.pkl\")\n",
    "X_test_ohe = pd.read_pickle(data_dir + \"X_test_ohe.pkl\")\n",
    "\n",
    "ohe_best_params, ohe_results = test_xgb_model(plain_param_grid,\n",
    "                                              X_train_ohe, y_train,\n",
    "                                              X_test_ohe, y_test)"
   ],
   "metadata": {
    "collapsed": false,
    "pycharm": {
     "name": "#%%\n"
    }
   }
  },
  {
   "cell_type": "code",
   "execution_count": null,
   "outputs": [],
   "source": [
    "ohe_best_params"
   ],
   "metadata": {
    "collapsed": false,
    "pycharm": {
     "name": "#%%\n"
    }
   }
  },
  {
   "cell_type": "code",
   "execution_count": 15,
   "metadata": {
    "pycharm": {
     "name": "#%%\n"
    }
   },
   "outputs": [
    {
     "name": "stdout",
     "output_type": "stream",
     "text": [
      "Accuracy Train:  0.901, Accuracy Test: 0.739\n",
      "Recall Train:  1.000, Recall Test: 0.304\n",
      "Precision Train:  0.250, Precision Test: 0.250\n",
      "[[98 21]\n",
      " [16  7]]\n"
     ]
    },
    {
     "data": {
      "text/plain": "<sklearn.metrics._plot.confusion_matrix.ConfusionMatrixDisplay at 0x7fcad8295580>"
     },
     "execution_count": 15,
     "metadata": {},
     "output_type": "execute_result"
    },
    {
     "data": {
      "text/plain": "<Figure size 432x288 with 2 Axes>",
      "image/png": "[encoded data removed]"
     },
     "metadata": {
      "needs_background": "light"
     },
     "output_type": "display_data"
    }
   ],
   "source": [
    "ohe_results"
   ]
  },
  {
   "cell_type": "code",
   "execution_count": null,
   "outputs": [],
   "source": [
    "# test with target encoded data (not resampled)\n",
    "\n",
    "X_train_target = pd.read_pickle(data_dir + \"X_train_target.pkl\")\n",
    "X_test_target = pd.read_pickle(data_dir + \"X_test_target.pkl\")\n",
    "\n",
    "ohe_best_params, ohe_results = test_xgb_model(plain_param_grid,\n",
    "                                              X_train_target, y_train,\n",
    "                                              X_test_target, y_test)"
   ],
   "metadata": {
    "collapsed": false,
    "pycharm": {
     "name": "#%%\n"
    }
   }
  },
  {
   "cell_type": "code",
   "execution_count": null,
   "outputs": [],
   "source": [],
   "metadata": {
    "collapsed": false,
    "pycharm": {
     "name": "#%%\n"
    }
   }
  }
 ],
 "metadata": {
  "kernelspec": {
   "display_name": "Python 3",
   "language": "python",
   "name": "python3"
  },
  "language_info": {
   "codemirror_mode": {
    "name": "ipython",
    "version": 3
   },
   "file_extension": ".py",
   "mimetype": "text/x-python",
   "name": "python",
   "nbconvert_exporter": "python",
   "pygments_lexer": "ipython3",
   "version": "3.7.6"
  }
 },
 "nbformat": 4,
 "nbformat_minor": 1
}