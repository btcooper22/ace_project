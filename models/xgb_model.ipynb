{
 "cells": [
  {
   "cell_type": "code",
   "execution_count": 1,
   "metadata": {
    "collapsed": true
   },
   "outputs": [],
   "source": [
    "import pandas as pd\n",
    "from sklearn.model_selection import GridSearchCV\n",
    "from sklearn.metrics import (precision_score,\n",
    "                             recall_score,\n",
    "                             accuracy_score,\n",
    "                             confusion_matrix)\n",
    "from xgboost import XGBClassifier\n"
   ]
  },
  {
   "cell_type": "code",
   "execution_count": 2,
   "metadata": {
    "pycharm": {
     "name": "#%%\n"
    }
   },
   "outputs": [],
   "source": [
    "def test_xgb_model(param_grid, X_train, y_train, X_test, y_test):\n",
    "    \"\"\"\n",
    "    Test different preparations of train / test data with different grid search\n",
    "    parameters\n",
    "\n",
    "    Parameters\n",
    "    ----------\n",
    "        param_grid: dict\n",
    "            param_grid input to sklearn GridSearchCV\n",
    "        X_train: pd.DataFrame\n",
    "            X / predictive features of training data\n",
    "        y_train: pd.DataFrame\n",
    "            y / target feature of training data\n",
    "        X_test: pd.DataFrame\n",
    "            X / predictive features of test data\n",
    "        y_test: pd.DataFrame\n",
    "            y / target feature of test data\n",
    "\n",
    "    Returns\n",
    "    _______\n",
    "        (best_params_, results)\n",
    "        best_params: dict\n",
    "            parameters of best model from grid search\n",
    "        results: dict\n",
    "            train / test results from best model, including:\n",
    "            accuracy, precision, recall, true & false positives and negatives\n",
    "\n",
    "    \"\"\"\n",
    "    xgbmodel = XGBClassifier()\n",
    "    model_search = GridSearchCV(estimator=xgbmodel,\n",
    "                                param_grid=param_grid,\n",
    "                                n_jobs=-2,\n",
    "                                scoring='roc_auc')\n",
    "    model_search.fit(X_train,y_train)\n",
    "\n",
    "    train_pred = (model_search.predict(X_train)).reshape(-1,1)\n",
    "    test_pred = (model_search.predict(X_test)).reshape(-1,1)\n",
    "\n",
    "    train_accuracy = accuracy_score(train_pred, y_train)\n",
    "    test_accuracy = accuracy_score(test_pred, y_test)\n",
    "\n",
    "    train_recall = recall_score(y_train, train_pred)\n",
    "    test_recall = recall_score(y_test, test_pred)\n",
    "\n",
    "    train_precision = precision_score(y_train, train_pred)\n",
    "    test_precision = precision_score(y_test, test_pred)\n",
    "\n",
    "    test_conf_matrix = confusion_matrix(y_test, test_pred)\n",
    "\n",
    "    results = {\n",
    "        \"Train Accuracy\": train_accuracy,\n",
    "        \"Test Accuracy\": test_accuracy,\n",
    "        \"Train Precision\": train_precision,\n",
    "        \"Train Recall\": train_recall,\n",
    "        \"Test Precision\": test_precision,\n",
    "        \"Test Recall\": test_recall,\n",
    "        \"Test True -\": test_conf_matrix[0][0],\n",
    "        \"Test False -\": test_conf_matrix[1][0],\n",
    "        \"Test True +\": test_conf_matrix[1][1],\n",
    "        \"Test False +\": test_conf_matrix[0][1],\n",
    "    }\n",
    "\n",
    "    return model_search.best_params_, results"
   ]
  },
  {
   "cell_type": "markdown",
   "source": [
    "## Plain train / test:"
   ],
   "metadata": {
    "collapsed": false,
    "pycharm": {
     "name": "#%% md\n",
     "is_executing": true
    }
   }
  },
  {
   "cell_type": "code",
   "execution_count": 3,
   "outputs": [],
   "source": [
    "# test with plain X_train i.e. not resampled or one hot / target encoded\n",
    "\n",
    "data_dir = \"../data/train_test_data/\"\n",
    "plain_X_train = pd.read_pickle(data_dir + \"X_train.pkl\")\n",
    "y_train = pd.read_pickle(data_dir + \"y_train.pkl\")\n",
    "\n",
    "plain_X_test = pd.read_pickle(data_dir + \"X_test.pkl\")\n",
    "y_test = pd.read_pickle(data_dir + \"y_test.pkl\")\n",
    "\n",
    "for feature in plain_X_train.columns:\n",
    "    if plain_X_train[feature].dtype.name == \"category\":\n",
    "        for df in [plain_X_train, plain_X_test]:\n",
    "            df[feature] = df[feature].cat.codes\n",
    "\n",
    "# requires scale_pos_weight i.e. ratio of negative / positive examples\n",
    "plain_param_grid = {\n",
    "    \"scale_pos_weight\": [4.85],\n",
    "    \"n_estimators\": [10, 30, 100, 300, 1000, 1300, 3000],\n",
    "    \"max_depth\": [2, 3, 10, 13, 20, 23],\n",
    "    \"learning_rate\": [ 0.1, 0.03, 0.01, 0.003],\n",
    "    \"reg_lambda\": [10, 50, 100],\n",
    "    \"gamma\": [0.25, 1.0, 10]\n",
    "}\n",
    "\n",
    "plain_best_params, plain_results = test_xgb_model(plain_param_grid,\n",
    "                                                  plain_X_train, y_train,\n",
    "                                                  plain_X_test, y_test)"
   ],
   "metadata": {
    "collapsed": false,
    "pycharm": {
     "name": "#%%\n"
    }
   }
  },
  {
   "cell_type": "code",
   "execution_count": 4,
   "outputs": [
    {
     "data": {
      "text/plain": "{'gamma': 1.0,\n 'learning_rate': 0.01,\n 'max_depth': 3,\n 'n_estimators': 3000,\n 'reg_lambda': 10,\n 'scale_pos_weight': 4.85}"
     },
     "execution_count": 4,
     "metadata": {},
     "output_type": "execute_result"
    }
   ],
   "source": [
    "plain_best_params"
   ],
   "metadata": {
    "collapsed": false,
    "pycharm": {
     "name": "#%%\n"
    }
   }
  },
  {
   "cell_type": "code",
   "execution_count": 5,
   "outputs": [
    {
     "data": {
      "text/plain": "{'Train Accuracy': 0.9449275362318841,\n 'Test Accuracy': 0.704225352112676,\n 'Train Precision': 0.7564102564102564,\n 'Train Recall': 1.0,\n 'Test Precision': 0.14814814814814814,\n 'Test Recall': 0.17391304347826086,\n 'Test True -': 96,\n 'Test False -': 19,\n 'Test True +': 4,\n 'Test False +': 23}"
     },
     "execution_count": 5,
     "metadata": {},
     "output_type": "execute_result"
    }
   ],
   "source": [
    "plain_results"
   ],
   "metadata": {
    "collapsed": false,
    "pycharm": {
     "name": "#%%\n"
    }
   }
  },
  {
   "cell_type": "markdown",
   "source": [
    "## One Hot Encoded train / test:"
   ],
   "metadata": {
    "collapsed": false
   }
  },
  {
   "cell_type": "code",
   "execution_count": 6,
   "outputs": [],
   "source": [
    "# test with ohe data (not resampled)\n",
    "\n",
    "X_train_ohe = pd.read_pickle(data_dir + \"X_train_ohe.pkl\")\n",
    "X_test_ohe = pd.read_pickle(data_dir + \"X_test_ohe.pkl\")\n",
    "\n",
    "ohe_best_params, ohe_results = test_xgb_model(plain_param_grid,\n",
    "                                              X_train_ohe, y_train,\n",
    "                                              X_test_ohe, y_test)"
   ],
   "metadata": {
    "collapsed": false,
    "pycharm": {
     "name": "#%%\n"
    }
   }
  },
  {
   "cell_type": "code",
   "execution_count": 7,
   "outputs": [
    {
     "data": {
      "text/plain": "{'gamma': 1.0,\n 'learning_rate': 0.03,\n 'max_depth': 3,\n 'n_estimators': 100,\n 'reg_lambda': 100,\n 'scale_pos_weight': 4.85}"
     },
     "execution_count": 7,
     "metadata": {},
     "output_type": "execute_result"
    }
   ],
   "source": [
    "ohe_best_params"
   ],
   "metadata": {
    "collapsed": false,
    "pycharm": {
     "name": "#%%\n"
    }
   }
  },
  {
   "cell_type": "code",
   "execution_count": 8,
   "metadata": {
    "pycharm": {
     "name": "#%%\n"
    }
   },
   "outputs": [
    {
     "name": "stdout",
     "output_type": "stream",
     "text": [
      "CPU times: user 5 µs, sys: 0 ns, total: 5 µs\n",
      "Wall time: 10 µs\n"
     ]
    },
    {
     "data": {
      "text/plain": "{'Train Accuracy': 0.7594202898550725,\n 'Test Accuracy': 0.676056338028169,\n 'Train Precision': 0.39473684210526316,\n 'Train Recall': 0.7627118644067796,\n 'Test Precision': 0.23255813953488372,\n 'Test Recall': 0.43478260869565216,\n 'Test True -': 86,\n 'Test False -': 13,\n 'Test True +': 10,\n 'Test False +': 33}"
     },
     "execution_count": 8,
     "metadata": {},
     "output_type": "execute_result"
    }
   ],
   "source": [
    "%%time\n",
    "ohe_results"
   ]
  },
  {
   "cell_type": "markdown",
   "source": [
    "## Target Encoded train / test:"
   ],
   "metadata": {
    "collapsed": false,
    "pycharm": {
     "name": "#%% md\n"
    }
   }
  },
  {
   "cell_type": "code",
   "execution_count": 9,
   "outputs": [
    {
     "name": "stdout",
     "output_type": "stream",
     "text": [
      "CPU times: user 34.7 s, sys: 962 ms, total: 35.7 s\n",
      "Wall time: 18min 17s\n"
     ]
    }
   ],
   "source": [
    "%%time\n",
    "\n",
    "# test with target encoded data (not resampled)\n",
    "\n",
    "\n",
    "X_train_target = pd.read_pickle(data_dir + \"X_train_target.pkl\")\n",
    "X_test_target = pd.read_pickle(data_dir + \"X_test_target.pkl\")\n",
    "\n",
    "target_best_params, target_results = test_xgb_model(plain_param_grid,\n",
    "                                              X_train_target, y_train,\n",
    "                                              X_test_target, y_test)"
   ],
   "metadata": {
    "collapsed": false,
    "pycharm": {
     "name": "#%%\n"
    }
   }
  },
  {
   "cell_type": "code",
   "execution_count": 10,
   "outputs": [
    {
     "data": {
      "text/plain": "{'gamma': 1.0,\n 'learning_rate': 0.003,\n 'max_depth': 3,\n 'n_estimators': 3000,\n 'reg_lambda': 100,\n 'scale_pos_weight': 4.85}"
     },
     "execution_count": 10,
     "metadata": {},
     "output_type": "execute_result"
    }
   ],
   "source": [
    "target_best_params"
   ],
   "metadata": {
    "collapsed": false,
    "pycharm": {
     "name": "#%%\n"
    }
   }
  },
  {
   "cell_type": "code",
   "execution_count": 11,
   "outputs": [
    {
     "data": {
      "text/plain": "{'Train Accuracy': 0.8115942028985508,\n 'Test Accuracy': 0.6901408450704225,\n 'Train Precision': 0.47115384615384615,\n 'Train Recall': 0.8305084745762712,\n 'Test Precision': 0.23076923076923078,\n 'Test Recall': 0.391304347826087,\n 'Test True -': 89,\n 'Test False -': 14,\n 'Test True +': 9,\n 'Test False +': 30}"
     },
     "execution_count": 11,
     "metadata": {},
     "output_type": "execute_result"
    }
   ],
   "source": [
    "target_results"
   ],
   "metadata": {
    "collapsed": false,
    "pycharm": {
     "name": "#%%\n"
    }
   }
  },
  {
   "cell_type": "markdown",
   "source": [
    "## Resampled train / test:"
   ],
   "metadata": {
    "collapsed": false
   }
  },
  {
   "cell_type": "code",
   "execution_count": 12,
   "outputs": [
    {
     "name": "stdout",
     "output_type": "stream",
     "text": [
      "CPU times: user 52.5 s, sys: 933 ms, total: 53.4 s\n",
      "Wall time: 28min 24s\n"
     ]
    }
   ],
   "source": [
    "%%time\n",
    "\n",
    "X_train_res = pd.read_pickle(data_dir + \"X_train_res.pkl\")\n",
    "y_train_res = pd.read_pickle(data_dir + \"y_train_res.pkl\")\n",
    "\n",
    "for feature in X_train_res.columns:\n",
    "    if X_train_res[feature].dtype.name == \"category\":\n",
    "        X_train_res[feature] = X_train_res[feature].cat.codes\n",
    "\n",
    "res_param_grid = {\n",
    "    \"n_estimators\": [10, 30, 100, 300, 1000, 1300, 3000],\n",
    "    \"max_depth\": [2, 3, 10, 13, 20, 23],\n",
    "    \"learning_rate\": [ 0.1, 0.03, 0.01, 0.003],\n",
    "    \"reg_lambda\": [10, 50, 100],\n",
    "    \"gamma\": [0.25, 1.0, 10]\n",
    "}\n",
    "\n",
    "res_best_params, res_results = test_xgb_model(res_param_grid,\n",
    "                                              X_train_res, y_train_res,\n",
    "                                              plain_X_test, y_test)"
   ],
   "metadata": {
    "collapsed": false,
    "pycharm": {
     "name": "#%%\n"
    }
   }
  },
  {
   "cell_type": "code",
   "execution_count": 13,
   "outputs": [
    {
     "data": {
      "text/plain": "{'gamma': 0.25,\n 'learning_rate': 0.1,\n 'max_depth': 10,\n 'n_estimators': 1000,\n 'reg_lambda': 10}"
     },
     "execution_count": 13,
     "metadata": {},
     "output_type": "execute_result"
    }
   ],
   "source": [
    "res_best_params"
   ],
   "metadata": {
    "collapsed": false,
    "pycharm": {
     "name": "#%%\n"
    }
   }
  },
  {
   "cell_type": "code",
   "execution_count": 14,
   "outputs": [
    {
     "data": {
      "text/plain": "{'Train Accuracy': 0.9947552447552448,\n 'Test Accuracy': 0.795774647887324,\n 'Train Precision': 1.0,\n 'Train Recall': 0.9895104895104895,\n 'Test Precision': 0.125,\n 'Test Recall': 0.043478260869565216,\n 'Test True -': 112,\n 'Test False -': 22,\n 'Test True +': 1,\n 'Test False +': 7}"
     },
     "execution_count": 14,
     "metadata": {},
     "output_type": "execute_result"
    }
   ],
   "source": [
    "res_results"
   ],
   "metadata": {
    "collapsed": false,
    "pycharm": {
     "name": "#%%\n"
    }
   }
  },
  {
   "cell_type": "markdown",
   "source": [
    "## Resampled One Hot Encoded train / test:"
   ],
   "metadata": {
    "collapsed": false
   }
  },
  {
   "cell_type": "code",
   "execution_count": 15,
   "outputs": [
    {
     "name": "stdout",
     "output_type": "stream",
     "text": [
      "CPU times: user 28.9 s, sys: 1.42 s, total: 30.3 s\n",
      "Wall time: 57min 51s\n"
     ]
    }
   ],
   "source": [
    "%%time\n",
    "\n",
    "\n",
    "X_train_res_ohe = pd.read_pickle(data_dir + \"X_train_res_ohe.pkl\")\n",
    "\n",
    "res_ohe_best_params, res_ohe_results = test_xgb_model(res_param_grid,\n",
    "                                                      X_train_res_ohe,\n",
    "                                                      y_train_res,\n",
    "                                                      X_test_ohe,\n",
    "                                                      y_test)"
   ],
   "metadata": {
    "collapsed": false,
    "pycharm": {
     "name": "#%%\n"
    }
   }
  },
  {
   "cell_type": "code",
   "execution_count": 16,
   "outputs": [
    {
     "data": {
      "text/plain": "{'gamma': 0.25,\n 'learning_rate': 0.1,\n 'max_depth': 10,\n 'n_estimators': 300,\n 'reg_lambda': 10}"
     },
     "execution_count": 16,
     "metadata": {},
     "output_type": "execute_result"
    }
   ],
   "source": [
    "res_ohe_best_params"
   ],
   "metadata": {
    "collapsed": false,
    "pycharm": {
     "name": "#%%\n"
    }
   }
  },
  {
   "cell_type": "code",
   "execution_count": 17,
   "outputs": [
    {
     "data": {
      "text/plain": "{'Train Accuracy': 0.9947552447552448,\n 'Test Accuracy': 0.8028169014084507,\n 'Train Precision': 1.0,\n 'Train Recall': 0.9895104895104895,\n 'Test Precision': 0.14285714285714285,\n 'Test Recall': 0.043478260869565216,\n 'Test True -': 113,\n 'Test False -': 22,\n 'Test True +': 1,\n 'Test False +': 6}"
     },
     "execution_count": 17,
     "metadata": {},
     "output_type": "execute_result"
    }
   ],
   "source": [
    "res_ohe_results"
   ],
   "metadata": {
    "collapsed": false,
    "pycharm": {
     "name": "#%%\n"
    }
   }
  },
  {
   "cell_type": "markdown",
   "source": [
    "## Resampled Target Encoded train / test:"
   ],
   "metadata": {
    "collapsed": false
   }
  },
  {
   "cell_type": "code",
   "execution_count": 18,
   "outputs": [
    {
     "name": "stdout",
     "output_type": "stream",
     "text": [
      "CPU times: user 24.4 s, sys: 856 ms, total: 25.3 s\n",
      "Wall time: 24min 24s\n"
     ]
    }
   ],
   "source": [
    "%%time\n",
    "\n",
    "# test with target encoded data (not resampled)\n",
    "\n",
    "\n",
    "X_train_res_target = pd.read_pickle(data_dir + \"X_train_res_target.pkl\")\n",
    "\n",
    "res_target_best_params, res_target_results = test_xgb_model(res_param_grid,\n",
    "                                                            X_train_res_target,\n",
    "                                                            y_train_res,\n",
    "                                                            X_test_target,\n",
    "                                                            y_test)"
   ],
   "metadata": {
    "collapsed": false,
    "pycharm": {
     "name": "#%%\n"
    }
   }
  },
  {
   "cell_type": "code",
   "execution_count": 19,
   "outputs": [
    {
     "data": {
      "text/plain": "{'gamma': 0.25,\n 'learning_rate': 0.1,\n 'max_depth': 3,\n 'n_estimators': 300,\n 'reg_lambda': 10}"
     },
     "execution_count": 19,
     "metadata": {},
     "output_type": "execute_result"
    }
   ],
   "source": [
    "res_target_best_params"
   ],
   "metadata": {
    "collapsed": false,
    "pycharm": {
     "name": "#%%\n"
    }
   }
  },
  {
   "cell_type": "code",
   "execution_count": 20,
   "outputs": [
    {
     "data": {
      "text/plain": "{'Train Accuracy': 0.965034965034965,\n 'Test Accuracy': 0.7887323943661971,\n 'Train Precision': 0.975,\n 'Train Recall': 0.9545454545454546,\n 'Test Precision': 0.23076923076923078,\n 'Test Recall': 0.13043478260869565,\n 'Test True -': 109,\n 'Test False -': 20,\n 'Test True +': 3,\n 'Test False +': 10}"
     },
     "execution_count": 20,
     "metadata": {},
     "output_type": "execute_result"
    }
   ],
   "source": [
    "res_target_results"
   ],
   "metadata": {
    "collapsed": false,
    "pycharm": {
     "name": "#%%\n"
    }
   }
  },
  {
   "cell_type": "code",
   "execution_count": null,
   "outputs": [],
   "source": [
    "all_results = [\n",
    "    plain_results,\n",
    "    ohe_results,\n",
    "    target_results,\n",
    "    res_results,\n",
    "    res_ohe_results,\n",
    "    res_target_results,\n",
    "]\n",
    "\n",
    "results_index = [\n",
    "    \"No Manipulation\",\n",
    "    \"One Hot Encoded Categories\",\n",
    "    \"Feature Encoded Categories\",\n",
    "    \"SMOTE Resampled\",\n",
    "    \"SMOTE & One Hot Encoded\",\n",
    "    \"SMOTE & Feature Encoded\",\n",
    "]\n",
    "\n",
    "all_results = pd.DataFrame(all_results,\n",
    "                           index=results_index)\n",
    "all_results.to_csv(\"../data/XGB_Results\")"
   ],
   "metadata": {
    "collapsed": false,
    "pycharm": {
     "name": "#%%\n"
    }
   }
  },
  {
   "cell_type": "code",
   "execution_count": null,
   "outputs": [],
   "source": [
    "all_results"
   ],
   "metadata": {
    "collapsed": false,
    "pycharm": {
     "name": "#%%\n"
    }
   }
  }
 ],
 "metadata": {
  "kernelspec": {
   "display_name": "Python 3",
   "language": "python",
   "name": "python3"
  },
  "language_info": {
   "codemirror_mode": {
    "name": "ipython",
    "version": 3
   },
   "file_extension": ".py",
   "mimetype": "text/x-python",
   "name": "python",
   "nbconvert_exporter": "python",
   "pygments_lexer": "ipython3",
   "version": "3.7.6"
  }
 },
 "nbformat": 4,
 "nbformat_minor": 1
}