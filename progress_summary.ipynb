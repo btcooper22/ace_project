{
 "cells": [
  {
   "cell_type": "markdown",
   "metadata": {
    "collapsed": true,
    "pycharm": {
     "name": "#%% md\n"
    }
   },
   "source": [
    "### Data Analysis\n",
    "\n",
    "Very few positive examples. V high variance of hospitalisation rate between different features. Transpires data only features patients that were accepted by the ace service - i.e. true / false negatives - no data on patients ACE thought werent suitable for service.\n",
    "\n",
    "### Data Prep\n",
    "\n",
    "Generic pandas pipeline to clean / fill nas and add engineered features:\n",
    "\n",
    "Clean data - set \"None\"s to nan and then convert numeric features to float\n",
    "and categoric features to category\n",
    "\n",
    "fill NA - majority missing only one feature that can easily\n",
    " be inferred from other examples.\n",
    "\n",
    "add engineered features - Used ACE referral criteria & peads guides to\n",
    " create low / high / normal ranges for heart / resp rates based on age.\n",
    " Grouped ethnicity according to most common groupings. No dramatic findings\n",
    " from these in data analysis.\n",
    "\n",
    "training prep pipeline:\n",
    "\n",
    "\n",
    "\n",
    "encoding -\n",
    "\n",
    "oversampling -\n",
    "\n",
    "### Modeling\n",
    "\n",
    "Unsuprisingly poor performance given variance in dataset and missing signal\n",
    "from true / false positives:\n",
    "\n",
    "f1 generally around 25% / roc auc barely above .5 - very few models that are\n",
    "both accurate and have decent precision or recall. Nothing that could be\n",
    "vaguely considered useable as predictor.\n",
    "\n",
    "Best performance generally seen from one hot encoded data with basic\n",
    "balancing techniques used for the model i.e. weighting positive examples."
   ]
  }
 ],
 "metadata": {
  "kernelspec": {
   "display_name": "Python 3",
   "language": "python",
   "name": "python3"
  },
  "language_info": {
   "codemirror_mode": {
    "name": "ipython",
    "version": 2
   },
   "file_extension": ".py",
   "mimetype": "text/x-python",
   "name": "python",
   "nbconvert_exporter": "python",
   "pygments_lexer": "ipython2",
   "version": "2.7.6"
  }
 },
 "nbformat": 4,
 "nbformat_minor": 0
}